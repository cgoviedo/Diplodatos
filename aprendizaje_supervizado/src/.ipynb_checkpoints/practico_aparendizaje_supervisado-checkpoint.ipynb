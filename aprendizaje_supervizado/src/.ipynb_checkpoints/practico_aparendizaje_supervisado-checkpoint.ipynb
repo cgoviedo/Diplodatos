{
 "cells": [
  {
   "cell_type": "markdown",
   "metadata": {},
   "source": [
    "# Diplodatos Kaggle Competition"
   ]
  },
  {
   "cell_type": "markdown",
   "metadata": {},
   "source": [
    "We present this peace of code to create the baseline for the competition, and as an example of how to deal with these kind of problems. The main goals are that you:\n",
    "\n",
    "1. Explore the data and learn from it\n",
    "1. Try different models and see which one fits the best the given data\n",
    "1. Get a higher score than the given one in the current baseline example\n",
    "1. Try to get the highest score in the class :)"
   ]
  },
  {
   "cell_type": "code",
   "execution_count": 154,
   "metadata": {},
   "outputs": [],
   "source": [
    "# Import the required packages\n",
    "import os\n",
    "\n",
    "import numpy as np\n",
    "import pandas as pd\n",
    "import matplotlib.pyplot as plt"
   ]
  },
  {
   "cell_type": "markdown",
   "metadata": {},
   "source": [
    "## Read Data"
   ]
  },
  {
   "cell_type": "code",
   "execution_count": 155,
   "metadata": {},
   "outputs": [],
   "source": [
    "train_df = pd.read_csv(\"../data/travel_insurance_prediction_train.csv\")\n",
    "test_df = pd.read_csv(\"../data/travel_insurance_prediction_test.csv\")"
   ]
  },
  {
   "cell_type": "markdown",
   "metadata": {},
   "source": [
    "## Setting Seed Value"
   ]
  },
  {
   "cell_type": "code",
   "execution_count": 156,
   "metadata": {},
   "outputs": [],
   "source": [
    "seed_val = 42"
   ]
  },
  {
   "cell_type": "markdown",
   "metadata": {},
   "source": [
    "## Explore the Data\n",
    "\n",
    "Is your task to explore the data, do analysis over it and get insights, then use those insights to better pick a model."
   ]
  },
  {
   "cell_type": "code",
   "execution_count": 157,
   "metadata": {},
   "outputs": [
    {
     "data": {
      "text/html": [
       "<div>\n",
       "<style scoped>\n",
       "    .dataframe tbody tr th:only-of-type {\n",
       "        vertical-align: middle;\n",
       "    }\n",
       "\n",
       "    .dataframe tbody tr th {\n",
       "        vertical-align: top;\n",
       "    }\n",
       "\n",
       "    .dataframe thead th {\n",
       "        text-align: right;\n",
       "    }\n",
       "</style>\n",
       "<table border=\"1\" class=\"dataframe\">\n",
       "  <thead>\n",
       "    <tr style=\"text-align: right;\">\n",
       "      <th></th>\n",
       "      <th>Customer</th>\n",
       "      <th>Age</th>\n",
       "      <th>Employment Type</th>\n",
       "      <th>GraduateOrNot</th>\n",
       "      <th>AnnualIncome</th>\n",
       "      <th>FamilyMembers</th>\n",
       "      <th>ChronicDiseases</th>\n",
       "      <th>FrequentFlyer</th>\n",
       "      <th>EverTravelledAbroad</th>\n",
       "      <th>TravelInsurance</th>\n",
       "    </tr>\n",
       "  </thead>\n",
       "  <tbody>\n",
       "    <tr>\n",
       "      <th>0</th>\n",
       "      <td>1</td>\n",
       "      <td>33</td>\n",
       "      <td>Private Sector/Self Employed</td>\n",
       "      <td>Yes</td>\n",
       "      <td>550000</td>\n",
       "      <td>6</td>\n",
       "      <td>0</td>\n",
       "      <td>No</td>\n",
       "      <td>No</td>\n",
       "      <td>1</td>\n",
       "    </tr>\n",
       "    <tr>\n",
       "      <th>1</th>\n",
       "      <td>2</td>\n",
       "      <td>28</td>\n",
       "      <td>Private Sector/Self Employed</td>\n",
       "      <td>Yes</td>\n",
       "      <td>800000</td>\n",
       "      <td>7</td>\n",
       "      <td>0</td>\n",
       "      <td>Yes</td>\n",
       "      <td>No</td>\n",
       "      <td>0</td>\n",
       "    </tr>\n",
       "    <tr>\n",
       "      <th>2</th>\n",
       "      <td>3</td>\n",
       "      <td>31</td>\n",
       "      <td>Private Sector/Self Employed</td>\n",
       "      <td>Yes</td>\n",
       "      <td>1250000</td>\n",
       "      <td>4</td>\n",
       "      <td>0</td>\n",
       "      <td>No</td>\n",
       "      <td>No</td>\n",
       "      <td>0</td>\n",
       "    </tr>\n",
       "    <tr>\n",
       "      <th>3</th>\n",
       "      <td>4</td>\n",
       "      <td>31</td>\n",
       "      <td>Government Sector</td>\n",
       "      <td>No</td>\n",
       "      <td>300000</td>\n",
       "      <td>7</td>\n",
       "      <td>0</td>\n",
       "      <td>No</td>\n",
       "      <td>No</td>\n",
       "      <td>0</td>\n",
       "    </tr>\n",
       "    <tr>\n",
       "      <th>4</th>\n",
       "      <td>5</td>\n",
       "      <td>28</td>\n",
       "      <td>Private Sector/Self Employed</td>\n",
       "      <td>Yes</td>\n",
       "      <td>1250000</td>\n",
       "      <td>3</td>\n",
       "      <td>0</td>\n",
       "      <td>No</td>\n",
       "      <td>No</td>\n",
       "      <td>0</td>\n",
       "    </tr>\n",
       "  </tbody>\n",
       "</table>\n",
       "</div>"
      ],
      "text/plain": [
       "   Customer  Age               Employment Type GraduateOrNot  AnnualIncome  \\\n",
       "0         1   33  Private Sector/Self Employed           Yes        550000   \n",
       "1         2   28  Private Sector/Self Employed           Yes        800000   \n",
       "2         3   31  Private Sector/Self Employed           Yes       1250000   \n",
       "3         4   31             Government Sector            No        300000   \n",
       "4         5   28  Private Sector/Self Employed           Yes       1250000   \n",
       "\n",
       "   FamilyMembers  ChronicDiseases FrequentFlyer EverTravelledAbroad  \\\n",
       "0              6                0            No                  No   \n",
       "1              7                0           Yes                  No   \n",
       "2              4                0            No                  No   \n",
       "3              7                0            No                  No   \n",
       "4              3                0            No                  No   \n",
       "\n",
       "   TravelInsurance  \n",
       "0                1  \n",
       "1                0  \n",
       "2                0  \n",
       "3                0  \n",
       "4                0  "
      ]
     },
     "execution_count": 157,
     "metadata": {},
     "output_type": "execute_result"
    }
   ],
   "source": [
    "train_df.head()"
   ]
  },
  {
   "cell_type": "code",
   "execution_count": 158,
   "metadata": {},
   "outputs": [
    {
     "data": {
      "text/html": [
       "<div>\n",
       "<style scoped>\n",
       "    .dataframe tbody tr th:only-of-type {\n",
       "        vertical-align: middle;\n",
       "    }\n",
       "\n",
       "    .dataframe tbody tr th {\n",
       "        vertical-align: top;\n",
       "    }\n",
       "\n",
       "    .dataframe thead th {\n",
       "        text-align: right;\n",
       "    }\n",
       "</style>\n",
       "<table border=\"1\" class=\"dataframe\">\n",
       "  <thead>\n",
       "    <tr style=\"text-align: right;\">\n",
       "      <th></th>\n",
       "      <th>Customer</th>\n",
       "      <th>Age</th>\n",
       "      <th>Employment Type</th>\n",
       "      <th>GraduateOrNot</th>\n",
       "      <th>AnnualIncome</th>\n",
       "      <th>FamilyMembers</th>\n",
       "      <th>ChronicDiseases</th>\n",
       "      <th>FrequentFlyer</th>\n",
       "      <th>EverTravelledAbroad</th>\n",
       "    </tr>\n",
       "  </thead>\n",
       "  <tbody>\n",
       "    <tr>\n",
       "      <th>0</th>\n",
       "      <td>1491</td>\n",
       "      <td>29</td>\n",
       "      <td>Private Sector/Self Employed</td>\n",
       "      <td>Yes</td>\n",
       "      <td>1100000</td>\n",
       "      <td>4</td>\n",
       "      <td>0</td>\n",
       "      <td>No</td>\n",
       "      <td>No</td>\n",
       "    </tr>\n",
       "    <tr>\n",
       "      <th>1</th>\n",
       "      <td>1492</td>\n",
       "      <td>28</td>\n",
       "      <td>Private Sector/Self Employed</td>\n",
       "      <td>Yes</td>\n",
       "      <td>750000</td>\n",
       "      <td>5</td>\n",
       "      <td>1</td>\n",
       "      <td>Yes</td>\n",
       "      <td>No</td>\n",
       "    </tr>\n",
       "    <tr>\n",
       "      <th>2</th>\n",
       "      <td>1493</td>\n",
       "      <td>31</td>\n",
       "      <td>Government Sector</td>\n",
       "      <td>Yes</td>\n",
       "      <td>1500000</td>\n",
       "      <td>4</td>\n",
       "      <td>0</td>\n",
       "      <td>Yes</td>\n",
       "      <td>Yes</td>\n",
       "    </tr>\n",
       "    <tr>\n",
       "      <th>3</th>\n",
       "      <td>1494</td>\n",
       "      <td>28</td>\n",
       "      <td>Private Sector/Self Employed</td>\n",
       "      <td>Yes</td>\n",
       "      <td>1400000</td>\n",
       "      <td>3</td>\n",
       "      <td>0</td>\n",
       "      <td>No</td>\n",
       "      <td>Yes</td>\n",
       "    </tr>\n",
       "    <tr>\n",
       "      <th>4</th>\n",
       "      <td>1495</td>\n",
       "      <td>33</td>\n",
       "      <td>Private Sector/Self Employed</td>\n",
       "      <td>Yes</td>\n",
       "      <td>1500000</td>\n",
       "      <td>4</td>\n",
       "      <td>0</td>\n",
       "      <td>Yes</td>\n",
       "      <td>Yes</td>\n",
       "    </tr>\n",
       "  </tbody>\n",
       "</table>\n",
       "</div>"
      ],
      "text/plain": [
       "   Customer  Age               Employment Type GraduateOrNot  AnnualIncome  \\\n",
       "0      1491   29  Private Sector/Self Employed           Yes       1100000   \n",
       "1      1492   28  Private Sector/Self Employed           Yes        750000   \n",
       "2      1493   31             Government Sector           Yes       1500000   \n",
       "3      1494   28  Private Sector/Self Employed           Yes       1400000   \n",
       "4      1495   33  Private Sector/Self Employed           Yes       1500000   \n",
       "\n",
       "   FamilyMembers  ChronicDiseases FrequentFlyer EverTravelledAbroad  \n",
       "0              4                0            No                  No  \n",
       "1              5                1           Yes                  No  \n",
       "2              4                0           Yes                 Yes  \n",
       "3              3                0            No                 Yes  \n",
       "4              4                0           Yes                 Yes  "
      ]
     },
     "execution_count": 158,
     "metadata": {},
     "output_type": "execute_result"
    }
   ],
   "source": [
    "test_df.head()"
   ]
  },
  {
   "cell_type": "markdown",
   "metadata": {},
   "source": [
    "**TravelInsurance** is the column that we should predict. That column is not present in the test set."
   ]
  },
  {
   "cell_type": "code",
   "execution_count": 159,
   "metadata": {},
   "outputs": [
    {
     "name": "stdout",
     "output_type": "stream",
     "text": [
      "<class 'pandas.core.frame.DataFrame'>\n",
      "RangeIndex: 1490 entries, 0 to 1489\n",
      "Data columns (total 10 columns):\n",
      " #   Column               Non-Null Count  Dtype \n",
      "---  ------               --------------  ----- \n",
      " 0   Customer             1490 non-null   int64 \n",
      " 1   Age                  1490 non-null   int64 \n",
      " 2   Employment Type      1490 non-null   object\n",
      " 3   GraduateOrNot        1490 non-null   object\n",
      " 4   AnnualIncome         1490 non-null   int64 \n",
      " 5   FamilyMembers        1490 non-null   int64 \n",
      " 6   ChronicDiseases      1490 non-null   int64 \n",
      " 7   FrequentFlyer        1490 non-null   object\n",
      " 8   EverTravelledAbroad  1490 non-null   object\n",
      " 9   TravelInsurance      1490 non-null   int64 \n",
      "dtypes: int64(6), object(4)\n",
      "memory usage: 116.5+ KB\n"
     ]
    }
   ],
   "source": [
    "train_df.info()"
   ]
  },
  {
   "cell_type": "code",
   "execution_count": 160,
   "metadata": {},
   "outputs": [
    {
     "name": "stdout",
     "output_type": "stream",
     "text": [
      "<class 'pandas.core.frame.DataFrame'>\n",
      "RangeIndex: 497 entries, 0 to 496\n",
      "Data columns (total 9 columns):\n",
      " #   Column               Non-Null Count  Dtype \n",
      "---  ------               --------------  ----- \n",
      " 0   Customer             497 non-null    int64 \n",
      " 1   Age                  497 non-null    int64 \n",
      " 2   Employment Type      497 non-null    object\n",
      " 3   GraduateOrNot        497 non-null    object\n",
      " 4   AnnualIncome         497 non-null    int64 \n",
      " 5   FamilyMembers        497 non-null    int64 \n",
      " 6   ChronicDiseases      497 non-null    int64 \n",
      " 7   FrequentFlyer        497 non-null    object\n",
      " 8   EverTravelledAbroad  497 non-null    object\n",
      "dtypes: int64(5), object(4)\n",
      "memory usage: 35.1+ KB\n"
     ]
    }
   ],
   "source": [
    "test_df.info()"
   ]
  },
  {
   "cell_type": "code",
   "execution_count": 161,
   "metadata": {},
   "outputs": [
    {
     "data": {
      "text/html": [
       "<div>\n",
       "<style scoped>\n",
       "    .dataframe tbody tr th:only-of-type {\n",
       "        vertical-align: middle;\n",
       "    }\n",
       "\n",
       "    .dataframe tbody tr th {\n",
       "        vertical-align: top;\n",
       "    }\n",
       "\n",
       "    .dataframe thead th {\n",
       "        text-align: right;\n",
       "    }\n",
       "</style>\n",
       "<table border=\"1\" class=\"dataframe\">\n",
       "  <thead>\n",
       "    <tr style=\"text-align: right;\">\n",
       "      <th></th>\n",
       "      <th>Customer</th>\n",
       "      <th>Age</th>\n",
       "      <th>AnnualIncome</th>\n",
       "      <th>FamilyMembers</th>\n",
       "      <th>ChronicDiseases</th>\n",
       "      <th>TravelInsurance</th>\n",
       "    </tr>\n",
       "  </thead>\n",
       "  <tbody>\n",
       "    <tr>\n",
       "      <th>count</th>\n",
       "      <td>1490.000000</td>\n",
       "      <td>1490.000000</td>\n",
       "      <td>1.490000e+03</td>\n",
       "      <td>1490.000000</td>\n",
       "      <td>1490.000000</td>\n",
       "      <td>1490.000000</td>\n",
       "    </tr>\n",
       "    <tr>\n",
       "      <th>mean</th>\n",
       "      <td>745.500000</td>\n",
       "      <td>29.667114</td>\n",
       "      <td>9.278188e+05</td>\n",
       "      <td>4.777181</td>\n",
       "      <td>0.275839</td>\n",
       "      <td>0.357047</td>\n",
       "    </tr>\n",
       "    <tr>\n",
       "      <th>std</th>\n",
       "      <td>430.270264</td>\n",
       "      <td>2.880994</td>\n",
       "      <td>3.811715e+05</td>\n",
       "      <td>1.640248</td>\n",
       "      <td>0.447086</td>\n",
       "      <td>0.479290</td>\n",
       "    </tr>\n",
       "    <tr>\n",
       "      <th>min</th>\n",
       "      <td>1.000000</td>\n",
       "      <td>25.000000</td>\n",
       "      <td>3.000000e+05</td>\n",
       "      <td>2.000000</td>\n",
       "      <td>0.000000</td>\n",
       "      <td>0.000000</td>\n",
       "    </tr>\n",
       "    <tr>\n",
       "      <th>25%</th>\n",
       "      <td>373.250000</td>\n",
       "      <td>28.000000</td>\n",
       "      <td>6.000000e+05</td>\n",
       "      <td>4.000000</td>\n",
       "      <td>0.000000</td>\n",
       "      <td>0.000000</td>\n",
       "    </tr>\n",
       "    <tr>\n",
       "      <th>50%</th>\n",
       "      <td>745.500000</td>\n",
       "      <td>29.000000</td>\n",
       "      <td>9.000000e+05</td>\n",
       "      <td>5.000000</td>\n",
       "      <td>0.000000</td>\n",
       "      <td>0.000000</td>\n",
       "    </tr>\n",
       "    <tr>\n",
       "      <th>75%</th>\n",
       "      <td>1117.750000</td>\n",
       "      <td>32.000000</td>\n",
       "      <td>1.250000e+06</td>\n",
       "      <td>6.000000</td>\n",
       "      <td>1.000000</td>\n",
       "      <td>1.000000</td>\n",
       "    </tr>\n",
       "    <tr>\n",
       "      <th>max</th>\n",
       "      <td>1490.000000</td>\n",
       "      <td>35.000000</td>\n",
       "      <td>1.800000e+06</td>\n",
       "      <td>9.000000</td>\n",
       "      <td>1.000000</td>\n",
       "      <td>1.000000</td>\n",
       "    </tr>\n",
       "  </tbody>\n",
       "</table>\n",
       "</div>"
      ],
      "text/plain": [
       "          Customer          Age  AnnualIncome  FamilyMembers  ChronicDiseases  \\\n",
       "count  1490.000000  1490.000000  1.490000e+03    1490.000000      1490.000000   \n",
       "mean    745.500000    29.667114  9.278188e+05       4.777181         0.275839   \n",
       "std     430.270264     2.880994  3.811715e+05       1.640248         0.447086   \n",
       "min       1.000000    25.000000  3.000000e+05       2.000000         0.000000   \n",
       "25%     373.250000    28.000000  6.000000e+05       4.000000         0.000000   \n",
       "50%     745.500000    29.000000  9.000000e+05       5.000000         0.000000   \n",
       "75%    1117.750000    32.000000  1.250000e+06       6.000000         1.000000   \n",
       "max    1490.000000    35.000000  1.800000e+06       9.000000         1.000000   \n",
       "\n",
       "       TravelInsurance  \n",
       "count      1490.000000  \n",
       "mean          0.357047  \n",
       "std           0.479290  \n",
       "min           0.000000  \n",
       "25%           0.000000  \n",
       "50%           0.000000  \n",
       "75%           1.000000  \n",
       "max           1.000000  "
      ]
     },
     "execution_count": 161,
     "metadata": {},
     "output_type": "execute_result"
    }
   ],
   "source": [
    "train_df.describe()"
   ]
  },
  {
   "cell_type": "code",
   "execution_count": 162,
   "metadata": {},
   "outputs": [
    {
     "data": {
      "text/html": [
       "<div>\n",
       "<style scoped>\n",
       "    .dataframe tbody tr th:only-of-type {\n",
       "        vertical-align: middle;\n",
       "    }\n",
       "\n",
       "    .dataframe tbody tr th {\n",
       "        vertical-align: top;\n",
       "    }\n",
       "\n",
       "    .dataframe thead th {\n",
       "        text-align: right;\n",
       "    }\n",
       "</style>\n",
       "<table border=\"1\" class=\"dataframe\">\n",
       "  <thead>\n",
       "    <tr style=\"text-align: right;\">\n",
       "      <th></th>\n",
       "      <th>Customer</th>\n",
       "      <th>Age</th>\n",
       "      <th>AnnualIncome</th>\n",
       "      <th>FamilyMembers</th>\n",
       "      <th>ChronicDiseases</th>\n",
       "    </tr>\n",
       "  </thead>\n",
       "  <tbody>\n",
       "    <tr>\n",
       "      <th>count</th>\n",
       "      <td>497.000000</td>\n",
       "      <td>497.000000</td>\n",
       "      <td>4.970000e+02</td>\n",
       "      <td>497.00000</td>\n",
       "      <td>497.000000</td>\n",
       "    </tr>\n",
       "    <tr>\n",
       "      <th>mean</th>\n",
       "      <td>1739.000000</td>\n",
       "      <td>29.599598</td>\n",
       "      <td>9.475855e+05</td>\n",
       "      <td>4.68008</td>\n",
       "      <td>0.283702</td>\n",
       "    </tr>\n",
       "    <tr>\n",
       "      <th>std</th>\n",
       "      <td>143.615807</td>\n",
       "      <td>3.010506</td>\n",
       "      <td>3.635818e+05</td>\n",
       "      <td>1.51347</td>\n",
       "      <td>0.451248</td>\n",
       "    </tr>\n",
       "    <tr>\n",
       "      <th>min</th>\n",
       "      <td>1491.000000</td>\n",
       "      <td>25.000000</td>\n",
       "      <td>3.000000e+05</td>\n",
       "      <td>2.00000</td>\n",
       "      <td>0.000000</td>\n",
       "    </tr>\n",
       "    <tr>\n",
       "      <th>25%</th>\n",
       "      <td>1615.000000</td>\n",
       "      <td>28.000000</td>\n",
       "      <td>6.500000e+05</td>\n",
       "      <td>4.00000</td>\n",
       "      <td>0.000000</td>\n",
       "    </tr>\n",
       "    <tr>\n",
       "      <th>50%</th>\n",
       "      <td>1739.000000</td>\n",
       "      <td>29.000000</td>\n",
       "      <td>9.500000e+05</td>\n",
       "      <td>4.00000</td>\n",
       "      <td>0.000000</td>\n",
       "    </tr>\n",
       "    <tr>\n",
       "      <th>75%</th>\n",
       "      <td>1863.000000</td>\n",
       "      <td>32.000000</td>\n",
       "      <td>1.250000e+06</td>\n",
       "      <td>6.00000</td>\n",
       "      <td>1.000000</td>\n",
       "    </tr>\n",
       "    <tr>\n",
       "      <th>max</th>\n",
       "      <td>1987.000000</td>\n",
       "      <td>35.000000</td>\n",
       "      <td>1.750000e+06</td>\n",
       "      <td>9.00000</td>\n",
       "      <td>1.000000</td>\n",
       "    </tr>\n",
       "  </tbody>\n",
       "</table>\n",
       "</div>"
      ],
      "text/plain": [
       "          Customer         Age  AnnualIncome  FamilyMembers  ChronicDiseases\n",
       "count   497.000000  497.000000  4.970000e+02      497.00000       497.000000\n",
       "mean   1739.000000   29.599598  9.475855e+05        4.68008         0.283702\n",
       "std     143.615807    3.010506  3.635818e+05        1.51347         0.451248\n",
       "min    1491.000000   25.000000  3.000000e+05        2.00000         0.000000\n",
       "25%    1615.000000   28.000000  6.500000e+05        4.00000         0.000000\n",
       "50%    1739.000000   29.000000  9.500000e+05        4.00000         0.000000\n",
       "75%    1863.000000   32.000000  1.250000e+06        6.00000         1.000000\n",
       "max    1987.000000   35.000000  1.750000e+06        9.00000         1.000000"
      ]
     },
     "execution_count": 162,
     "metadata": {},
     "output_type": "execute_result"
    }
   ],
   "source": [
    "test_df.describe()"
   ]
  },
  {
   "cell_type": "markdown",
   "metadata": {},
   "source": [
    "## Baseline\n",
    "\n",
    "In this section we present a baseline based on a decision tree classifier.\n",
    "\n",
    "Many of the attributes are binary, there are a couple of numeric attributes, we might be able to one-hot (e.g. family members), or event discretize (age and anual income), this will come more clearly after the EDA."
   ]
  },
  {
   "cell_type": "code",
   "execution_count": 163,
   "metadata": {},
   "outputs": [],
   "source": [
    "from sklearn.compose import make_column_transformer\n",
    "from sklearn.metrics import classification_report\n",
    "from sklearn.model_selection import GridSearchCV\n",
    "from sklearn.preprocessing import KBinsDiscretizer, OneHotEncoder\n",
    "from sklearn.tree import DecisionTreeClassifier"
   ]
  },
  {
   "cell_type": "markdown",
   "metadata": {},
   "source": [
    "### Transform the columns into features\n",
    "\n",
    "First we need to transform the columns into features. The type of features we use will have a direct impact on the final result. In this example we decided to discretize some numeric features and make a one hot encoding of others. The number of bins, what we use as a one hot encoding, etc, is all up to you to try it out."
   ]
  },
  {
   "cell_type": "code",
   "execution_count": 164,
   "metadata": {},
   "outputs": [],
   "source": [
    "transformer = make_column_transformer(\n",
    "    (KBinsDiscretizer(n_bins=5, encode=\"ordinal\", strategy=\"quantile\"), [\"Age\", \"AnnualIncome\"]),\n",
    "    (OneHotEncoder(categories=\"auto\", dtype=\"int\", handle_unknown=\"ignore\"),\n",
    "     [\"Employment Type\", \"GraduateOrNot\", \"FamilyMembers\", \"FrequentFlyer\", \"EverTravelledAbroad\"]),\n",
    "    remainder=\"passthrough\")"
   ]
  },
  {
   "cell_type": "markdown",
   "metadata": {},
   "source": [
    "We transform the train and test data. In order to avoid overfitting is better to remove the `Customer` column and we don't want the `TravelInsurance` column as part of the attributes either."
   ]
  },
  {
   "cell_type": "code",
   "execution_count": 165,
   "metadata": {},
   "outputs": [],
   "source": [
    "# The data for training the model\n",
    "X_train = transformer.fit_transform(train_df.drop(columns=[\"Customer\", \"TravelInsurance\"]))\n",
    "y_train = train_df[\"TravelInsurance\"].values\n",
    "\n",
    "# The test data is only for generating the submission\n",
    "X_test = transformer.transform(test_df.drop(columns=[\"Customer\"]))"
   ]
  },
  {
   "cell_type": "markdown",
   "metadata": {},
   "source": [
    "### Grid Search\n",
    "\n",
    "We do a Grid Search for the Decision Tree (this can be replaced by a randomized search if the model is too complex)."
   ]
  },
  {
   "cell_type": "code",
   "execution_count": 166,
   "metadata": {},
   "outputs": [],
   "source": [
    "search_params = {\n",
    "    'criterion': ['gini', 'entropy'],\n",
    "    'min_samples_leaf': [1, 2, 5],\n",
    "    'max_depth': [3, 6, 10]\n",
    "}\n",
    "tree = DecisionTreeClassifier(random_state=seed_val)\n",
    "tree_clf = GridSearchCV(tree, search_params, cv=5, scoring='f1', n_jobs=-1)\n",
    "tree_clf.fit(X_train, y_train)\n",
    "\n",
    "best_tree_clf = tree_clf.best_estimator_"
   ]
  },
  {
   "cell_type": "code",
   "execution_count": 167,
   "metadata": {},
   "outputs": [
    {
     "data": {
      "text/plain": [
       "DecisionTreeClassifier(criterion='entropy', max_depth=10, min_samples_leaf=5,\n",
       "                       random_state=42)"
      ]
     },
     "execution_count": 167,
     "metadata": {},
     "output_type": "execute_result"
    }
   ],
   "source": [
    "best_tree_clf"
   ]
  },
  {
   "cell_type": "markdown",
   "metadata": {},
   "source": [
    "### Check Results\n",
    "\n",
    "We can print the results of the best estimator found on the whole training set (we could also set apart a validation set if we find it useful)."
   ]
  },
  {
   "cell_type": "code",
   "execution_count": 168,
   "metadata": {},
   "outputs": [
    {
     "name": "stdout",
     "output_type": "stream",
     "text": [
      "              precision    recall  f1-score   support\n",
      "\n",
      "           0       0.83      0.94      0.88       958\n",
      "           1       0.86      0.66      0.75       532\n",
      "\n",
      "    accuracy                           0.84      1490\n",
      "   macro avg       0.85      0.80      0.82      1490\n",
      "weighted avg       0.84      0.84      0.84      1490\n",
      "\n"
     ]
    }
   ],
   "source": [
    "print(classification_report(y_train, best_tree_clf.predict(X_train)))"
   ]
  },
  {
   "cell_type": "markdown",
   "metadata": {},
   "source": [
    "## Generate the output\n",
    "\n",
    "The last thing we do is generating a file that should be *submitted* on kaggle"
   ]
  },
  {
   "cell_type": "code",
   "execution_count": 169,
   "metadata": {},
   "outputs": [],
   "source": [
    "test_id = test_df[\"Customer\"]\n",
    "test_pred = best_tree_clf.predict(X_test)\n",
    "\n",
    "submission = pd.DataFrame(list(zip(test_id, test_pred)), columns=[\"Customer\", \"TravelInsurance\"])\n",
    "submission.to_csv(\"../data/travel_insurance_submission.csv\", header=True, index=False)"
   ]
  },
  {
   "cell_type": "markdown",
   "metadata": {},
   "source": [
    "# Pruebas\n",
    "\n",
    "- https://www.kaggle.com/para24/comparing-performance-of-13-classifiers-f1-score\n"
   ]
  },
  {
   "cell_type": "code",
   "execution_count": 170,
   "metadata": {},
   "outputs": [],
   "source": [
    "from sklearn import metrics\n",
    "\n",
    "train_df = pd.read_csv(\"../data/travel_insurance_prediction_train.csv\")\n",
    "\n",
    "test_df = pd.read_csv(\"../data/travel_insurance_prediction_test.csv\")\n",
    "\n",
    "\n",
    "primary_eval_metric = metrics.f1_score\n",
    "\n",
    "confusion_lbs = ['No TravelInsurance', 'TravelInsurance']"
   ]
  },
  {
   "cell_type": "code",
   "execution_count": 171,
   "metadata": {},
   "outputs": [],
   "source": [
    "def get_metrics(true_values, pred_values):\n",
    "    \n",
    "    result = {\n",
    "        'precision_score' : precision_score(true_values, pred_values) ,\n",
    "        'recall_score': recall_score(true_values, pred_values),\n",
    "        'f1_score' : f1_score(true_values, pred_values),\n",
    "        'accuracy_score': accuracy_score(true_values, pred_values)\n",
    "    }\n",
    "    \n",
    "    return result\n",
    "\n",
    "def plot_metrics(model, X_train, y_train, y_train_pred):\n",
    "    result = get_metrics(y_train, y_train_pred)\n",
    "    print(result)\n",
    "    \n",
    "    plot_confusion_matrix(model, X_train, y_train)  \n",
    "    "
   ]
  },
  {
   "cell_type": "code",
   "execution_count": 172,
   "metadata": {},
   "outputs": [
    {
     "name": "stdout",
     "output_type": "stream",
     "text": [
      "{'precision_score': 0.863080684596577, 'recall_score': 0.6635338345864662, 'f1_score': 0.7502656748140277, 'accuracy_score': 0.8422818791946308}\n"
     ]
    },
    {
     "data": {
      "image/png": "[encoded data removed]",
      "text/plain": [
       "<Figure size 432x288 with 2 Axes>"
      ]
     },
     "metadata": {
      "needs_background": "light"
     },
     "output_type": "display_data"
    }
   ],
   "source": [
    "from sklearn.metrics import precision_score\n",
    "from sklearn.metrics import recall_score\n",
    "from sklearn.metrics import f1_score\n",
    "from sklearn.metrics import accuracy_score\n",
    "\n",
    "from sklearn.metrics import plot_confusion_matrix\n",
    "\n",
    "y_train_pred = best_tree_clf.predict(X_train)\n",
    "\n",
    "plot_metrics(best_tree_clf, X_train, y_train,y_train_pred )"
   ]
  },
  {
   "cell_type": "code",
   "execution_count": 173,
   "metadata": {},
   "outputs": [],
   "source": [
    "def summarize_categoricals(df, show_levels=False):\n",
    "    \"\"\"\n",
    "        Display uniqueness in each column\n",
    "    \"\"\"\n",
    "    data = [[df[c].unique(), len(df[c].unique()), df[c].isnull().sum()] for c in df.columns]\n",
    "    df_temp = pd.DataFrame(data, index=df.columns,\n",
    "                           columns=['Levels', 'No. of Levels',\n",
    "                                    'No. of Missing Values'])\n",
    "    return df_temp.iloc[:, 0 if show_levels else 1:]\n",
    "\n",
    "\n",
    "def return_categoricals(df, threshold=5):\n",
    "    \"\"\"\n",
    "        Returns a list of columns that have less than or equal to\n",
    "        `threshold` number of unique categorical levels\n",
    "    \"\"\"\n",
    "    return list(filter(lambda c: c if len(df[c].unique()) <= threshold else None,\n",
    "                       df.columns))\n",
    "\n",
    "\n",
    "def to_categorical(columns, df):\n",
    "    \"\"\"\n",
    "        Converts the columns passed in `columns` to categorical datatype\n",
    "    \"\"\"\n",
    "    for col in columns:\n",
    "        df[col] = df[col].astype('category')\n",
    "    return df"
   ]
  },
  {
   "cell_type": "code",
   "execution_count": 174,
   "metadata": {},
   "outputs": [
    {
     "data": {
      "text/html": [
       "<div>\n",
       "<style scoped>\n",
       "    .dataframe tbody tr th:only-of-type {\n",
       "        vertical-align: middle;\n",
       "    }\n",
       "\n",
       "    .dataframe tbody tr th {\n",
       "        vertical-align: top;\n",
       "    }\n",
       "\n",
       "    .dataframe thead th {\n",
       "        text-align: right;\n",
       "    }\n",
       "</style>\n",
       "<table border=\"1\" class=\"dataframe\">\n",
       "  <thead>\n",
       "    <tr style=\"text-align: right;\">\n",
       "      <th></th>\n",
       "      <th>Levels</th>\n",
       "      <th>No. of Levels</th>\n",
       "      <th>No. of Missing Values</th>\n",
       "    </tr>\n",
       "  </thead>\n",
       "  <tbody>\n",
       "    <tr>\n",
       "      <th>Customer</th>\n",
       "      <td>[1, 2, 3, 4, 5, 6, 7, 8, 9, 10, 11, 12, 13, 14...</td>\n",
       "      <td>1490</td>\n",
       "      <td>0</td>\n",
       "    </tr>\n",
       "    <tr>\n",
       "      <th>Age</th>\n",
       "      <td>[33, 28, 31, 25, 26, 35, 27, 34, 32, 29, 30]</td>\n",
       "      <td>11</td>\n",
       "      <td>0</td>\n",
       "    </tr>\n",
       "    <tr>\n",
       "      <th>Employment Type</th>\n",
       "      <td>[Private Sector/Self Employed, Government Sector]</td>\n",
       "      <td>2</td>\n",
       "      <td>0</td>\n",
       "    </tr>\n",
       "    <tr>\n",
       "      <th>GraduateOrNot</th>\n",
       "      <td>[Yes, No]</td>\n",
       "      <td>2</td>\n",
       "      <td>0</td>\n",
       "    </tr>\n",
       "    <tr>\n",
       "      <th>AnnualIncome</th>\n",
       "      <td>[550000, 800000, 1250000, 300000, 1350000, 400...</td>\n",
       "      <td>30</td>\n",
       "      <td>0</td>\n",
       "    </tr>\n",
       "    <tr>\n",
       "      <th>FamilyMembers</th>\n",
       "      <td>[6, 7, 4, 3, 5, 2, 8, 9]</td>\n",
       "      <td>8</td>\n",
       "      <td>0</td>\n",
       "    </tr>\n",
       "    <tr>\n",
       "      <th>ChronicDiseases</th>\n",
       "      <td>[0, 1]</td>\n",
       "      <td>2</td>\n",
       "      <td>0</td>\n",
       "    </tr>\n",
       "    <tr>\n",
       "      <th>FrequentFlyer</th>\n",
       "      <td>[No, Yes]</td>\n",
       "      <td>2</td>\n",
       "      <td>0</td>\n",
       "    </tr>\n",
       "    <tr>\n",
       "      <th>EverTravelledAbroad</th>\n",
       "      <td>[No, Yes]</td>\n",
       "      <td>2</td>\n",
       "      <td>0</td>\n",
       "    </tr>\n",
       "    <tr>\n",
       "      <th>TravelInsurance</th>\n",
       "      <td>[1, 0]</td>\n",
       "      <td>2</td>\n",
       "      <td>0</td>\n",
       "    </tr>\n",
       "  </tbody>\n",
       "</table>\n",
       "</div>"
      ],
      "text/plain": [
       "                                                                Levels  \\\n",
       "Customer             [1, 2, 3, 4, 5, 6, 7, 8, 9, 10, 11, 12, 13, 14...   \n",
       "Age                       [33, 28, 31, 25, 26, 35, 27, 34, 32, 29, 30]   \n",
       "Employment Type      [Private Sector/Self Employed, Government Sector]   \n",
       "GraduateOrNot                                                [Yes, No]   \n",
       "AnnualIncome         [550000, 800000, 1250000, 300000, 1350000, 400...   \n",
       "FamilyMembers                                 [6, 7, 4, 3, 5, 2, 8, 9]   \n",
       "ChronicDiseases                                                 [0, 1]   \n",
       "FrequentFlyer                                                [No, Yes]   \n",
       "EverTravelledAbroad                                          [No, Yes]   \n",
       "TravelInsurance                                                 [1, 0]   \n",
       "\n",
       "                     No. of Levels  No. of Missing Values  \n",
       "Customer                      1490                      0  \n",
       "Age                             11                      0  \n",
       "Employment Type                  2                      0  \n",
       "GraduateOrNot                    2                      0  \n",
       "AnnualIncome                    30                      0  \n",
       "FamilyMembers                    8                      0  \n",
       "ChronicDiseases                  2                      0  \n",
       "FrequentFlyer                    2                      0  \n",
       "EverTravelledAbroad              2                      0  \n",
       "TravelInsurance                  2                      0  "
      ]
     },
     "execution_count": 174,
     "metadata": {},
     "output_type": "execute_result"
    }
   ],
   "source": [
    "summarize_categoricals(train_df, show_levels=True)"
   ]
  },
  {
   "cell_type": "code",
   "execution_count": 175,
   "metadata": {},
   "outputs": [
    {
     "data": {
      "text/html": [
       "<div>\n",
       "<style scoped>\n",
       "    .dataframe tbody tr th:only-of-type {\n",
       "        vertical-align: middle;\n",
       "    }\n",
       "\n",
       "    .dataframe tbody tr th {\n",
       "        vertical-align: top;\n",
       "    }\n",
       "\n",
       "    .dataframe thead th {\n",
       "        text-align: right;\n",
       "    }\n",
       "</style>\n",
       "<table border=\"1\" class=\"dataframe\">\n",
       "  <thead>\n",
       "    <tr style=\"text-align: right;\">\n",
       "      <th></th>\n",
       "      <th>count</th>\n",
       "      <th>mean</th>\n",
       "      <th>std</th>\n",
       "      <th>min</th>\n",
       "      <th>25%</th>\n",
       "      <th>50%</th>\n",
       "      <th>75%</th>\n",
       "      <th>max</th>\n",
       "    </tr>\n",
       "  </thead>\n",
       "  <tbody>\n",
       "    <tr>\n",
       "      <th>Customer</th>\n",
       "      <td>1490.0</td>\n",
       "      <td>745.500000</td>\n",
       "      <td>430.270264</td>\n",
       "      <td>1.0</td>\n",
       "      <td>373.25</td>\n",
       "      <td>745.5</td>\n",
       "      <td>1117.75</td>\n",
       "      <td>1490.0</td>\n",
       "    </tr>\n",
       "    <tr>\n",
       "      <th>Age</th>\n",
       "      <td>1490.0</td>\n",
       "      <td>29.667114</td>\n",
       "      <td>2.880994</td>\n",
       "      <td>25.0</td>\n",
       "      <td>28.00</td>\n",
       "      <td>29.0</td>\n",
       "      <td>32.00</td>\n",
       "      <td>35.0</td>\n",
       "    </tr>\n",
       "    <tr>\n",
       "      <th>AnnualIncome</th>\n",
       "      <td>1490.0</td>\n",
       "      <td>927818.791946</td>\n",
       "      <td>381171.545186</td>\n",
       "      <td>300000.0</td>\n",
       "      <td>600000.00</td>\n",
       "      <td>900000.0</td>\n",
       "      <td>1250000.00</td>\n",
       "      <td>1800000.0</td>\n",
       "    </tr>\n",
       "    <tr>\n",
       "      <th>FamilyMembers</th>\n",
       "      <td>1490.0</td>\n",
       "      <td>4.777181</td>\n",
       "      <td>1.640248</td>\n",
       "      <td>2.0</td>\n",
       "      <td>4.00</td>\n",
       "      <td>5.0</td>\n",
       "      <td>6.00</td>\n",
       "      <td>9.0</td>\n",
       "    </tr>\n",
       "    <tr>\n",
       "      <th>ChronicDiseases</th>\n",
       "      <td>1490.0</td>\n",
       "      <td>0.275839</td>\n",
       "      <td>0.447086</td>\n",
       "      <td>0.0</td>\n",
       "      <td>0.00</td>\n",
       "      <td>0.0</td>\n",
       "      <td>1.00</td>\n",
       "      <td>1.0</td>\n",
       "    </tr>\n",
       "    <tr>\n",
       "      <th>TravelInsurance</th>\n",
       "      <td>1490.0</td>\n",
       "      <td>0.357047</td>\n",
       "      <td>0.479290</td>\n",
       "      <td>0.0</td>\n",
       "      <td>0.00</td>\n",
       "      <td>0.0</td>\n",
       "      <td>1.00</td>\n",
       "      <td>1.0</td>\n",
       "    </tr>\n",
       "  </tbody>\n",
       "</table>\n",
       "</div>"
      ],
      "text/plain": [
       "                  count           mean            std       min        25%  \\\n",
       "Customer         1490.0     745.500000     430.270264       1.0     373.25   \n",
       "Age              1490.0      29.667114       2.880994      25.0      28.00   \n",
       "AnnualIncome     1490.0  927818.791946  381171.545186  300000.0  600000.00   \n",
       "FamilyMembers    1490.0       4.777181       1.640248       2.0       4.00   \n",
       "ChronicDiseases  1490.0       0.275839       0.447086       0.0       0.00   \n",
       "TravelInsurance  1490.0       0.357047       0.479290       0.0       0.00   \n",
       "\n",
       "                      50%         75%        max  \n",
       "Customer            745.5     1117.75     1490.0  \n",
       "Age                  29.0       32.00       35.0  \n",
       "AnnualIncome     900000.0  1250000.00  1800000.0  \n",
       "FamilyMembers         5.0        6.00        9.0  \n",
       "ChronicDiseases       0.0        1.00        1.0  \n",
       "TravelInsurance       0.0        1.00        1.0  "
      ]
     },
     "execution_count": 175,
     "metadata": {},
     "output_type": "execute_result"
    }
   ],
   "source": [
    "train_df.describe().T"
   ]
  },
  {
   "cell_type": "code",
   "execution_count": 176,
   "metadata": {},
   "outputs": [
    {
     "name": "stdout",
     "output_type": "stream",
     "text": [
      "<class 'pandas.core.frame.DataFrame'>\n",
      "RangeIndex: 1490 entries, 0 to 1489\n",
      "Data columns (total 10 columns):\n",
      " #   Column               Non-Null Count  Dtype   \n",
      "---  ------               --------------  -----   \n",
      " 0   Customer             1490 non-null   int64   \n",
      " 1   Age                  1490 non-null   int64   \n",
      " 2   Employment Type      1490 non-null   category\n",
      " 3   GraduateOrNot        1490 non-null   category\n",
      " 4   AnnualIncome         1490 non-null   int64   \n",
      " 5   FamilyMembers        1490 non-null   int64   \n",
      " 6   ChronicDiseases      1490 non-null   category\n",
      " 7   FrequentFlyer        1490 non-null   category\n",
      " 8   EverTravelledAbroad  1490 non-null   category\n",
      " 9   TravelInsurance      1490 non-null   category\n",
      "dtypes: category(6), int64(4)\n",
      "memory usage: 56.0 KB\n"
     ]
    }
   ],
   "source": [
    "to_cast = return_categoricals(train_df, threshold=5)\n",
    "train_df_cast = to_categorical(to_cast, train_df)\n",
    "train_df_cast.info()"
   ]
  },
  {
   "cell_type": "code",
   "execution_count": 177,
   "metadata": {},
   "outputs": [],
   "source": [
    "train_df_cast = train_df_cast.drop(columns=[\"Customer\"])\n"
   ]
  },
  {
   "cell_type": "code",
   "execution_count": 178,
   "metadata": {},
   "outputs": [
    {
     "name": "stdout",
     "output_type": "stream",
     "text": [
      "<class 'pandas.core.frame.DataFrame'>\n",
      "RangeIndex: 497 entries, 0 to 496\n",
      "Data columns (total 9 columns):\n",
      " #   Column               Non-Null Count  Dtype   \n",
      "---  ------               --------------  -----   \n",
      " 0   Customer             497 non-null    int64   \n",
      " 1   Age                  497 non-null    int64   \n",
      " 2   Employment Type      497 non-null    category\n",
      " 3   GraduateOrNot        497 non-null    category\n",
      " 4   AnnualIncome         497 non-null    int64   \n",
      " 5   FamilyMembers        497 non-null    int64   \n",
      " 6   ChronicDiseases      497 non-null    category\n",
      " 7   FrequentFlyer        497 non-null    category\n",
      " 8   EverTravelledAbroad  497 non-null    category\n",
      "dtypes: category(5), int64(4)\n",
      "memory usage: 18.6 KB\n"
     ]
    }
   ],
   "source": [
    "to_cast_test = return_categoricals(test_df, threshold=5)\n",
    "test_df_cast = to_categorical(to_cast_test, test_df)\n",
    "test_df_cast.info()"
   ]
  },
  {
   "cell_type": "code",
   "execution_count": 179,
   "metadata": {},
   "outputs": [],
   "source": [
    "test_df_cast = test_df_cast.drop(columns=[\"Customer\"])"
   ]
  },
  {
   "cell_type": "markdown",
   "metadata": {},
   "source": [
    "## Correlación entre variables cuantitativas (descretas - continuas)"
   ]
  },
  {
   "cell_type": "code",
   "execution_count": 180,
   "metadata": {},
   "outputs": [
    {
     "data": {
      "image/png": "[encoded data removed]",
      "text/plain": [
       "<Figure size 720x576 with 2 Axes>"
      ]
     },
     "metadata": {
      "needs_background": "light"
     },
     "output_type": "display_data"
    }
   ],
   "source": [
    "import seaborn as sns\n",
    "\n",
    "fig, ax = plt.subplots(figsize=(10, 8))\n",
    "sns.heatmap(data=train_df_cast.astype({'TravelInsurance': 'int64'}).corr(),\n",
    "            annot=True, cmap='coolwarm', cbar_kws={'aspect': 50},\n",
    "            square=True, ax=ax)\n",
    "plt.xticks(rotation=30, ha='right');\n",
    "plt.tight_layout()"
   ]
  },
  {
   "cell_type": "markdown",
   "metadata": {},
   "source": [
    "**AnnualIncome** es la variable continua que más correlacionada esta con TraverlInsurance"
   ]
  },
  {
   "cell_type": "code",
   "execution_count": 181,
   "metadata": {},
   "outputs": [],
   "source": [
    "selected_numerical_columns = ['AnnualIncome']\n",
    "\n",
    "#selected_numerical_columns = list(train_df_cast.select_dtypes(exclude='category').columns)\n"
   ]
  },
  {
   "cell_type": "markdown",
   "metadata": {},
   "source": [
    "## Correlación entre variables categoricas (descretas - continuas)"
   ]
  },
  {
   "cell_type": "code",
   "execution_count": 182,
   "metadata": {},
   "outputs": [],
   "source": [
    "def cramers_corrected_stat(contingency_table):\n",
    "    \"\"\"\n",
    "        Computes corrected Cramer's V statistic for categorial-categorial association\n",
    "    \"\"\"\n",
    "    \n",
    "    try:\n",
    "        chi2 = chi2_contingency(contingency_table)[0]\n",
    "    except ValueError:\n",
    "        return np.NaN\n",
    "    \n",
    "    n = contingency_table.sum().sum()\n",
    "    phi2 = chi2/n\n",
    "    \n",
    "    r, k = contingency_table.shape\n",
    "    r_corrected = r - (((r-1)**2)/(n-1))\n",
    "    k_corrected = k - (((k-1)**2)/(n-1))\n",
    "    phi2_corrected = max(0, phi2 - ((k-1)*(r-1))/(n-1))\n",
    "    \n",
    "    return (phi2_corrected / min( (k_corrected-1), (r_corrected-1)))**0.5"
   ]
  },
  {
   "cell_type": "code",
   "execution_count": 183,
   "metadata": {},
   "outputs": [],
   "source": [
    "def categorical_corr_matrix(df):\n",
    "    \"\"\"\n",
    "        Computes corrected Cramer's V statistic between all the\n",
    "        categorical variables in the dataframe\n",
    "    \"\"\"\n",
    "    df = df.select_dtypes(include='category')\n",
    "    cols = df.columns\n",
    "    n = len(cols)\n",
    "    corr_matrix = pd.DataFrame(np.zeros(shape=(n, n)), index=cols, columns=cols)\n",
    "    \n",
    "    excluded_cols = list()\n",
    "    \n",
    "    for col1 in cols:\n",
    "        for col2 in cols:\n",
    "            if col1 == col2:\n",
    "                corr_matrix.loc[col1, col2] = 1\n",
    "                break\n",
    "            df_crosstab = pd.crosstab(df[col1], df[col2], dropna=False)\n",
    "            corr_matrix.loc[col1, col2] = cramers_corrected_stat(df_crosstab)\n",
    "                \n",
    "    # Flip and add to get full correlation matrix\n",
    "    corr_matrix += np.tril(corr_matrix, k=-1).T\n",
    "    return corr_matrix"
   ]
  },
  {
   "cell_type": "code",
   "execution_count": 184,
   "metadata": {},
   "outputs": [
    {
     "data": {
      "image/png": "[encoded data removed]",
      "text/plain": [
       "<Figure size 720x360 with 2 Axes>"
      ]
     },
     "metadata": {
      "needs_background": "light"
     },
     "output_type": "display_data"
    }
   ],
   "source": [
    "from scipy.stats import chi2_contingency\n",
    "\n",
    "fig, ax = plt.subplots(figsize=(10, 5))\n",
    "sns.heatmap(categorical_corr_matrix(train_df_cast), annot=True, cmap='coolwarm', \n",
    "            cbar_kws={'aspect': 50}, square=True, ax=ax)\n",
    "plt.xticks(rotation=30, ha='right');\n",
    "plt.tight_layout()"
   ]
  },
  {
   "cell_type": "markdown",
   "metadata": {},
   "source": [
    "**EverTravelledAbroad, FrequentFlyer y Employment Type** son las variables categóricas más correlacionadas con TraverlInsurance"
   ]
  },
  {
   "cell_type": "code",
   "execution_count": 185,
   "metadata": {},
   "outputs": [],
   "source": [
    "selected_categorical_columns = ['EverTravelledAbroad', 'FrequentFlyer' , 'Employment Type']\n",
    "\n",
    "#selected_categorical_columns = list(train_df_cast.select_dtypes(include='category').columns)"
   ]
  },
  {
   "cell_type": "markdown",
   "metadata": {},
   "source": [
    "## Distribución de frecuencia de variables categóricas"
   ]
  },
  {
   "cell_type": "code",
   "execution_count": 186,
   "metadata": {},
   "outputs": [
    {
     "data": {
      "image/png": "[encoded data removed]",
      "text/plain": [
       "<Figure size 720x360 with 6 Axes>"
      ]
     },
     "metadata": {
      "needs_background": "light"
     },
     "output_type": "display_data"
    }
   ],
   "source": [
    "import pandas as pd\n",
    "\n",
    "fig, axs = plt.subplots(nrows=2, ncols=3, figsize=(10, 5))\n",
    "titles = list(train_df_cast.select_dtypes(include='category'))\n",
    "\n",
    "ax_title_pairs = zip(axs.flat, titles)\n",
    "\n",
    "for ax, title in ax_title_pairs:\n",
    "    sns.countplot(x=title, data=train_df_cast, palette='Pastel2', ax=ax)\n",
    "    ax.set_title(title)\n",
    "    ax.set_xlabel('')\n",
    "\n",
    "plt.tight_layout()"
   ]
  },
  {
   "cell_type": "markdown",
   "metadata": {},
   "source": [
    "Se puede observar que el data set esta desbalanceado"
   ]
  },
  {
   "cell_type": "markdown",
   "metadata": {},
   "source": [
    "## Distribución de frecuencia de variables continuas"
   ]
  },
  {
   "cell_type": "code",
   "execution_count": 187,
   "metadata": {},
   "outputs": [
    {
     "name": "stdout",
     "output_type": "stream",
     "text": [
      "['Age', 'AnnualIncome', 'FamilyMembers']\n",
      "x\n",
      "x\n"
     ]
    },
    {
     "name": "stderr",
     "output_type": "stream",
     "text": [
      "/Users/coviedo/opt/anaconda3/envs/diplodatos-ayvd/lib/python3.6/site-packages/seaborn/distributions.py:2551: FutureWarning: `distplot` is a deprecated function and will be removed in a future version. Please adapt your code to use either `displot` (a figure-level function with similar flexibility) or `histplot` (an axes-level function for histograms).\n",
      "  warnings.warn(msg, FutureWarning)\n",
      "/Users/coviedo/opt/anaconda3/envs/diplodatos-ayvd/lib/python3.6/site-packages/seaborn/distributions.py:2551: FutureWarning: `distplot` is a deprecated function and will be removed in a future version. Please adapt your code to use either `displot` (a figure-level function with similar flexibility) or `histplot` (an axes-level function for histograms).\n",
      "  warnings.warn(msg, FutureWarning)\n",
      "/Users/coviedo/opt/anaconda3/envs/diplodatos-ayvd/lib/python3.6/site-packages/seaborn/distributions.py:2551: FutureWarning: `distplot` is a deprecated function and will be removed in a future version. Please adapt your code to use either `displot` (a figure-level function with similar flexibility) or `histplot` (an axes-level function for histograms).\n",
      "  warnings.warn(msg, FutureWarning)\n",
      "/Users/coviedo/opt/anaconda3/envs/diplodatos-ayvd/lib/python3.6/site-packages/seaborn/distributions.py:2551: FutureWarning: `distplot` is a deprecated function and will be removed in a future version. Please adapt your code to use either `displot` (a figure-level function with similar flexibility) or `histplot` (an axes-level function for histograms).\n",
      "  warnings.warn(msg, FutureWarning)\n"
     ]
    },
    {
     "name": "stdout",
     "output_type": "stream",
     "text": [
      "x\n"
     ]
    },
    {
     "name": "stderr",
     "output_type": "stream",
     "text": [
      "/Users/coviedo/opt/anaconda3/envs/diplodatos-ayvd/lib/python3.6/site-packages/seaborn/distributions.py:2551: FutureWarning: `distplot` is a deprecated function and will be removed in a future version. Please adapt your code to use either `displot` (a figure-level function with similar flexibility) or `histplot` (an axes-level function for histograms).\n",
      "  warnings.warn(msg, FutureWarning)\n",
      "/Users/coviedo/opt/anaconda3/envs/diplodatos-ayvd/lib/python3.6/site-packages/seaborn/distributions.py:2551: FutureWarning: `distplot` is a deprecated function and will be removed in a future version. Please adapt your code to use either `displot` (a figure-level function with similar flexibility) or `histplot` (an axes-level function for histograms).\n",
      "  warnings.warn(msg, FutureWarning)\n"
     ]
    },
    {
     "data": {
      "image/png": "[encoded data removed]",
      "text/plain": [
       "<Figure size 1080x576 with 4 Axes>"
      ]
     },
     "metadata": {
      "needs_background": "light"
     },
     "output_type": "display_data"
    }
   ],
   "source": [
    "df_grouped = train_df_cast.groupby(by='TravelInsurance')\n",
    "fig, axs = plt.subplots(nrows=2, ncols=3, figsize=(15, 8))\n",
    "titles = list(train_df_cast.select_dtypes(exclude='category'))\n",
    "\n",
    "print (titles)\n",
    "\n",
    "ax_title_pairs = zip(axs.flat, titles)\n",
    "\n",
    "for ax, title in ax_title_pairs:\n",
    "    print (\"x\")\n",
    "    sns.distplot(df_grouped.get_group(0)[title], bins=10, ax=ax, label='No')\n",
    "    sns.distplot(df_grouped.get_group(1)[title], bins=10, ax=ax, label='Yes')\n",
    "    ax.legend(title='TravelInsurance')\n",
    "\n",
    "axs.flat[-1].remove()\n",
    "axs.flat[-2].remove()\n",
    "fig.tight_layout()"
   ]
  },
  {
   "cell_type": "markdown",
   "metadata": {},
   "source": [
    "Conteo de TravelInsurance  en base a  EverTravelledAbroad, FrequentFlyer y Employment Type"
   ]
  },
  {
   "cell_type": "code",
   "execution_count": 188,
   "metadata": {},
   "outputs": [],
   "source": [
    "def modified_countplot(**kargs):\n",
    "    \"\"\"\n",
    "        Assumes that columns to be plotted are in of pandas dtype='CategoricalDtype'\n",
    "    \"\"\"\n",
    "    facet_gen = kargs['facet_generator']    ## Facet generator over facet data\n",
    "    curr_facet, facet_data = None, None\n",
    "    \n",
    "    while True:\n",
    "        ## Keep yielding until non-empty dataframe is found\n",
    "        curr_facet = next(facet_gen)            ## Yielding facet genenrator\n",
    "        df_rows = curr_facet[1].shape[0]\n",
    "        \n",
    "        ## Skip the current facet if its corresponding dataframe empty\n",
    "        if df_rows:\n",
    "            facet_data = curr_facet[1]\n",
    "            break\n",
    "    \n",
    "    x_hue = (kargs.get('x'), kargs.get('hue'))\n",
    "    cols = [col for col in x_hue if col]\n",
    "    col_categories = [facet_data[col].dtype.categories if col else None for col in x_hue]\n",
    "    \n",
    "    palette = kargs['palette'] if 'palette' in kargs.keys() else 'Pastel2'\n",
    "    sns.countplot(x=cols[0], hue=x_hue[1], \n",
    "                  order=col_categories[0], hue_order=col_categories[1],\n",
    "                  data=facet_data.loc[:, cols], palette=palette)"
   ]
  },
  {
   "cell_type": "code",
   "execution_count": 189,
   "metadata": {},
   "outputs": [
    {
     "data": {
      "text/html": [
       "<div>\n",
       "<style scoped>\n",
       "    .dataframe tbody tr th:only-of-type {\n",
       "        vertical-align: middle;\n",
       "    }\n",
       "\n",
       "    .dataframe tbody tr th {\n",
       "        vertical-align: top;\n",
       "    }\n",
       "\n",
       "    .dataframe thead tr th {\n",
       "        text-align: left;\n",
       "    }\n",
       "\n",
       "    .dataframe thead tr:last-of-type th {\n",
       "        text-align: right;\n",
       "    }\n",
       "</style>\n",
       "<table border=\"1\" class=\"dataframe\">\n",
       "  <thead>\n",
       "    <tr>\n",
       "      <th>EverTravelledAbroad</th>\n",
       "      <th colspan=\"4\" halign=\"left\">No</th>\n",
       "      <th colspan=\"4\" halign=\"left\">Yes</th>\n",
       "    </tr>\n",
       "    <tr>\n",
       "      <th>FrequentFlyer</th>\n",
       "      <th colspan=\"2\" halign=\"left\">No</th>\n",
       "      <th colspan=\"2\" halign=\"left\">Yes</th>\n",
       "      <th colspan=\"2\" halign=\"left\">No</th>\n",
       "      <th colspan=\"2\" halign=\"left\">Yes</th>\n",
       "    </tr>\n",
       "    <tr>\n",
       "      <th>Employment Type</th>\n",
       "      <th>Government Sector</th>\n",
       "      <th>Private Sector/Self Employed</th>\n",
       "      <th>Government Sector</th>\n",
       "      <th>Private Sector/Self Employed</th>\n",
       "      <th>Government Sector</th>\n",
       "      <th>Private Sector/Self Employed</th>\n",
       "      <th>Government Sector</th>\n",
       "      <th>Private Sector/Self Employed</th>\n",
       "    </tr>\n",
       "    <tr>\n",
       "      <th>TravelInsurance</th>\n",
       "      <th></th>\n",
       "      <th></th>\n",
       "      <th></th>\n",
       "      <th></th>\n",
       "      <th></th>\n",
       "      <th></th>\n",
       "      <th></th>\n",
       "      <th></th>\n",
       "    </tr>\n",
       "  </thead>\n",
       "  <tbody>\n",
       "    <tr>\n",
       "      <th>0</th>\n",
       "      <td>292</td>\n",
       "      <td>484</td>\n",
       "      <td>26</td>\n",
       "      <td>94</td>\n",
       "      <td>11</td>\n",
       "      <td>36</td>\n",
       "      <td>4</td>\n",
       "      <td>11</td>\n",
       "    </tr>\n",
       "    <tr>\n",
       "      <th>1</th>\n",
       "      <td>68</td>\n",
       "      <td>170</td>\n",
       "      <td>12</td>\n",
       "      <td>56</td>\n",
       "      <td>7</td>\n",
       "      <td>105</td>\n",
       "      <td>13</td>\n",
       "      <td>101</td>\n",
       "    </tr>\n",
       "  </tbody>\n",
       "</table>\n",
       "</div>"
      ],
      "text/plain": [
       "EverTravelledAbroad                No                               \\\n",
       "FrequentFlyer                      No                                \n",
       "Employment Type     Government Sector Private Sector/Self Employed   \n",
       "TravelInsurance                                                      \n",
       "0                                 292                          484   \n",
       "1                                  68                          170   \n",
       "\n",
       "EverTravelledAbroad                                                 \\\n",
       "FrequentFlyer                     Yes                                \n",
       "Employment Type     Government Sector Private Sector/Self Employed   \n",
       "TravelInsurance                                                      \n",
       "0                                  26                           94   \n",
       "1                                  12                           56   \n",
       "\n",
       "EverTravelledAbroad               Yes                               \\\n",
       "FrequentFlyer                      No                                \n",
       "Employment Type     Government Sector Private Sector/Self Employed   \n",
       "TravelInsurance                                                      \n",
       "0                                  11                           36   \n",
       "1                                   7                          105   \n",
       "\n",
       "EverTravelledAbroad                                                 \n",
       "FrequentFlyer                     Yes                               \n",
       "Employment Type     Government Sector Private Sector/Self Employed  \n",
       "TravelInsurance                                                     \n",
       "0                                   4                           11  \n",
       "1                                  13                          101  "
      ]
     },
     "metadata": {},
     "output_type": "display_data"
    },
    {
     "data": {
      "image/png": "[encoded data removed]",
      "text/plain": [
       "<Figure size 518.75x432 with 4 Axes>"
      ]
     },
     "metadata": {
      "needs_background": "light"
     },
     "output_type": "display_data"
    }
   ],
   "source": [
    "display(pd.crosstab(train_df_cast['TravelInsurance'], [train_df_cast['EverTravelledAbroad'],\n",
    "                                        train_df_cast['FrequentFlyer'],\n",
    "                                        train_df_cast['Employment Type']],\n",
    "                    dropna=False))\n",
    "\n",
    "facet = sns.FacetGrid(train_df_cast, row='EverTravelledAbroad', col='Employment Type', sharex=False,\n",
    "                      sharey=False, margin_titles=True)\n",
    "facet.map(modified_countplot, x='FrequentFlyer', hue='TravelInsurance',\n",
    "          palette='Pastel2', facet_generator=facet.facet_data())\n",
    "facet.set_xlabels('FrequentFlyer')\n",
    "facet.set_ylabels('Count')\n",
    "facet.add_legend(title='TravelInsurance');"
   ]
  },
  {
   "cell_type": "markdown",
   "metadata": {},
   "source": [
    "Escalamos y hacemos enconding de las features"
   ]
  },
  {
   "cell_type": "code",
   "execution_count": 190,
   "metadata": {},
   "outputs": [],
   "source": [
    "from sklearn.pipeline import Pipeline \n",
    "from sklearn.preprocessing import OneHotEncoder, StandardScaler, LabelEncoder\n",
    "from sklearn.compose import ColumnTransformer\n",
    "\n",
    "numeric_transformer = Pipeline(steps=[\n",
    "    ('scaler', StandardScaler())])\n",
    "\n",
    "categorical_transformer = Pipeline(steps=[\n",
    "    ('onehot', OneHotEncoder(drop=None, dtype=np.int))])\n"
   ]
  },
  {
   "cell_type": "code",
   "execution_count": 191,
   "metadata": {},
   "outputs": [],
   "source": [
    "#categorical_columns = list(train_df_cast.select_dtypes(include='category').columns)[0:-1]\n",
    "#numeric_columns = list(train_df_cast.select_dtypes(exclude='category').columns)\n",
    "\n",
    "\n",
    "categorical_columns = selected_categorical_columns\n",
    "numeric_columns = selected_numerical_columns"
   ]
  },
  {
   "cell_type": "code",
   "execution_count": 192,
   "metadata": {},
   "outputs": [
    {
     "data": {
      "text/plain": [
       "['EverTravelledAbroad', 'FrequentFlyer', 'Employment Type']"
      ]
     },
     "execution_count": 192,
     "metadata": {},
     "output_type": "execute_result"
    }
   ],
   "source": [
    "categorical_columns"
   ]
  },
  {
   "cell_type": "code",
   "execution_count": 193,
   "metadata": {},
   "outputs": [
    {
     "data": {
      "text/plain": [
       "['AnnualIncome']"
      ]
     },
     "execution_count": 193,
     "metadata": {},
     "output_type": "execute_result"
    }
   ],
   "source": [
    "numeric_columns"
   ]
  },
  {
   "cell_type": "code",
   "execution_count": 194,
   "metadata": {},
   "outputs": [],
   "source": [
    "from sklearn.model_selection import train_test_split\n",
    "x_train_df_cast_split, x_test_df_cast_split, y_train, y_test = train_test_split(train_df_cast.drop(columns = ['TravelInsurance']), train_df_cast['TravelInsurance'], test_size=0.25, random_state=seed_val,\n",
    "                               shuffle=True, stratify=train_df_cast['TravelInsurance'])"
   ]
  },
  {
   "cell_type": "code",
   "execution_count": 195,
   "metadata": {},
   "outputs": [],
   "source": [
    "## Column Transformer\n",
    "preprocessor = ColumnTransformer(\n",
    "    transformers=[\n",
    "        ('num', numeric_transformer, numeric_columns),\n",
    "        ('cat', categorical_transformer, categorical_columns)],\n",
    "    remainder='passthrough')"
   ]
  },
  {
   "cell_type": "code",
   "execution_count": 196,
   "metadata": {},
   "outputs": [
    {
     "data": {
      "text/plain": [
       "['AnnualIncome',\n",
       " 'EverTravelledAbroad_No',\n",
       " 'EverTravelledAbroad_Yes',\n",
       " 'FrequentFlyer_No',\n",
       " 'FrequentFlyer_Yes',\n",
       " 'Employment Type_Government Sector',\n",
       " 'Employment Type_Private Sector/Self Employed']"
      ]
     },
     "execution_count": 196,
     "metadata": {},
     "output_type": "execute_result"
    }
   ],
   "source": [
    "train_df_cast_t = preprocessor.fit_transform(x_train_df_cast_split[categorical_columns + numeric_columns ])\n",
    "\n",
    "test_df_cast_t = preprocessor.transform(x_test_df_cast_split[categorical_columns + numeric_columns ])\n",
    "\n",
    "\n",
    "\n",
    "\n",
    "feature_names = list(preprocessor.named_transformers_['cat'].named_steps['onehot'] \\\n",
    "                            .get_feature_names(input_features=categorical_columns))\n",
    "feature_names = numeric_columns + feature_names\n",
    "\n",
    "\n",
    "feature_names"
   ]
  },
  {
   "cell_type": "markdown",
   "metadata": {},
   "source": [
    "Funciones varias"
   ]
  },
  {
   "cell_type": "code",
   "execution_count": 197,
   "metadata": {},
   "outputs": [],
   "source": [
    "import timeit\n",
    "import pickle\n",
    "import sys\n",
    "from sklearn.metrics import confusion_matrix, classification_report, roc_auc_score, \\\n",
    "                            precision_recall_curve, roc_curve, accuracy_score\n",
    "from sklearn.exceptions import NotFittedError"
   ]
  },
  {
   "cell_type": "code",
   "execution_count": 198,
   "metadata": {},
   "outputs": [],
   "source": [
    "def confusion_plot(matrix, labels=None):\n",
    "    \"\"\" Display binary confusion matrix as a Seaborn heatmap \"\"\"\n",
    "    \n",
    "    labels = labels if labels else ['Negative (0)', 'Positive (1)']\n",
    "    \n",
    "    fig, ax = plt.subplots(nrows=1, ncols=1)\n",
    "    sns.heatmap(data=matrix, cmap='Blues', annot=True, fmt='d',\n",
    "                xticklabels=labels, yticklabels=labels, ax=ax)\n",
    "    ax.set_xlabel('PREDICTED')\n",
    "    ax.set_ylabel('ACTUAL')\n",
    "    ax.set_title('Confusion Matrix')\n",
    "    plt.close()\n",
    "    \n",
    "    return fig"
   ]
  },
  {
   "cell_type": "code",
   "execution_count": 199,
   "metadata": {},
   "outputs": [],
   "source": [
    "def roc_plot(y_true, y_probs, label, compare=False, ax=None):\n",
    "    \"\"\" Plot Receiver Operating Characteristic (ROC) curve \n",
    "        Set `compare=True` to use this function to compare classifiers. \"\"\"\n",
    "    \n",
    "    fpr, tpr, thresh = roc_curve(y_true, y_probs, drop_intermediate=False)\n",
    "    auc = round(roc_auc_score(y_true, y_probs), 2)\n",
    "    \n",
    "    fig, axis = (None, ax) if ax else plt.subplots(nrows=1, ncols=1)\n",
    "    label = ' '.join([label, f'({auc})']) if compare else None\n",
    "    sns.lineplot(x=fpr, y=tpr, ax=axis,\n",
    "                 estimator=None, label=label)\n",
    "    \n",
    "    if compare:\n",
    "        axis.legend(title='Classifier (AUC)', loc='lower right')\n",
    "    else:\n",
    "        axis.text(0.72, 0.05, f'AUC = { auc }', fontsize=12,\n",
    "                  bbox=dict(facecolor='green', alpha=0.4, pad=5))\n",
    "            \n",
    "        # Plot No-Info classifier\n",
    "        axis.fill_between(fpr, fpr, tpr, alpha=0.3, edgecolor='g',\n",
    "                          linestyle='--', linewidth=2)\n",
    "        \n",
    "    axis.set_xlim(0, 1)\n",
    "    axis.set_ylim(0, 1)\n",
    "    axis.set_title('ROC Curve')\n",
    "    axis.set_xlabel('False Positive Rate [FPR]\\n(1 - Specificity)')\n",
    "    axis.set_ylabel('True Positive Rate [TPR]\\n(Sensitivity or Recall)')\n",
    "    \n",
    "    plt.close()\n",
    "    \n",
    "    return axis if ax else fig"
   ]
  },
  {
   "cell_type": "code",
   "execution_count": 200,
   "metadata": {},
   "outputs": [],
   "source": [
    "def precision_recall_plot(y_true, y_probs, label, compare=False, ax=None):\n",
    "    \"\"\" Plot Precision-Recall curve.\n",
    "        Set `compare=True` to use this function to compare classifiers. \"\"\"\n",
    "    \n",
    "    p, r, thresh = precision_recall_curve(y_true, y_probs)\n",
    "    p, r, thresh = list(p), list(r), list(thresh)\n",
    "    p.pop()\n",
    "    r.pop()\n",
    "    \n",
    "    fig, axis = (None, ax) if ax else plt.subplots(nrows=1, ncols=1)\n",
    "    \n",
    "    if compare:\n",
    "        sns.lineplot(r, p, estimator=None,\n",
    "                     ax=axis, label=label)\n",
    "        axis.set_xlabel('Recall')\n",
    "        axis.set_ylabel('Precision')\n",
    "        axis.legend(loc='lower left')\n",
    "    else:\n",
    "        sns.lineplot(thresh, p, estimator=None,\n",
    "                     label='Precision', ax=axis)\n",
    "        axis.set_xlabel('Threshold')\n",
    "        axis.set_ylabel('Precision')\n",
    "        axis.legend(loc='lower left')\n",
    "\n",
    "        axis_twin = axis.twinx()\n",
    "        sns.lineplot(thresh, r, estimator=None,\n",
    "                     color='limegreen', label='Recall', ax=axis_twin)\n",
    "        axis_twin.set_ylabel('Recall')\n",
    "        axis_twin.set_ylim(0, 1)\n",
    "        axis_twin.legend(bbox_to_anchor=(0.24, 0.18))\n",
    "    \n",
    "    axis.set_xlim(0, 1)\n",
    "    axis.set_ylim(0, 1)\n",
    "    axis.set_title('Precision Vs Recall')\n",
    "    \n",
    "    plt.close()\n",
    "    \n",
    "    return axis if ax else fig"
   ]
  },
  {
   "cell_type": "code",
   "execution_count": 201,
   "metadata": {},
   "outputs": [],
   "source": [
    "def feature_importance_plot(importances, feature_labels, ax=None):\n",
    "    fig, axis = (None, ax) if ax else plt.subplots(nrows=1, ncols=1, figsize=(5, 10))\n",
    "    sns.barplot(x=importances, y=feature_labels, ax=axis)\n",
    "    axis.set_title('Feature Importance Measures')\n",
    "    \n",
    "    plt.close()\n",
    "    \n",
    "    return axis if ax else fig"
   ]
  },
  {
   "cell_type": "code",
   "execution_count": 202,
   "metadata": {},
   "outputs": [],
   "source": [
    "def train_clf(clf, x_train, y_train, sample_weight=None, refit=False):\n",
    "    train_time = 0\n",
    "    \n",
    "    try:\n",
    "        if refit:\n",
    "            raise NotFittedError\n",
    "        y_pred_train = clf.predict(x_train)\n",
    "        \n",
    "        # For neural nets\n",
    "        y_pred_train = np.where(y_pred_train.flatten() > 0.5, 1, 0)\n",
    "        \n",
    "    except NotFittedError:\n",
    "        start = timeit.default_timer()\n",
    "        \n",
    "        if sample_weight is not None:\n",
    "            clf.fit(x_train, y_train, sample_weight=sample_weight)\n",
    "        else:\n",
    "            clf.fit(x_train, y_train)\n",
    "        \n",
    "        end = timeit.default_timer()\n",
    "        train_time = end - start\n",
    "        \n",
    "        y_pred_train = clf.predict(x_train)\n",
    "    \n",
    "    train_acc = accuracy_score(y_train, y_pred_train)\n",
    "    return clf, y_pred_train, train_acc, train_time"
   ]
  },
  {
   "cell_type": "code",
   "execution_count": 203,
   "metadata": {},
   "outputs": [],
   "source": [
    "def model_memory_size(clf):\n",
    "    return sys.getsizeof(pickle.dumps(clf))"
   ]
  },
  {
   "cell_type": "code",
   "execution_count": 204,
   "metadata": {},
   "outputs": [],
   "source": [
    "def report(clf, x_train, y_train, x_test, y_test, display_scores=[],\n",
    "           sample_weight=None, refit=False, importance_plot=False,\n",
    "           confusion_labels=None, feature_labels=None, neural_net=False,\n",
    "           verbose=True):\n",
    "    \"\"\" Trains the passed classifier if not already trained and reports\n",
    "        various metrics of the trained classifier \"\"\"\n",
    "    \n",
    "    dump = dict()\n",
    "    \n",
    "    ## Train if not already trained\n",
    "    clf, train_predictions, \\\n",
    "    train_acc, train_time = train_clf(clf, x_train, y_train,\n",
    "                                      sample_weight=sample_weight,\n",
    "                                      refit=refit)\n",
    "    ## Testing\n",
    "    start = timeit.default_timer()\n",
    "    test_predictions = clf.predict(x_test)\n",
    "    end = timeit.default_timer()\n",
    "    test_time = end - start\n",
    "    \n",
    "    # For neural nets\n",
    "    if neural_net:\n",
    "        y_probs = np.copy(test_predictions)\n",
    "        test_predictions = np.where(test_predictions.flatten() > 0.5, 1, 0)\n",
    "    else:\n",
    "        y_probs = clf.predict_proba(x_test)[:, 1]\n",
    "    \n",
    "    test_acc = accuracy_score(y_test, test_predictions)\n",
    "    roc_auc = roc_auc_score(y_test, y_probs)\n",
    "        \n",
    "    ## Additional scores\n",
    "    scores_dict = dict()\n",
    "    for func in display_scores:\n",
    "        scores_dict[func.__name__] = [func(y_train, train_predictions),\n",
    "                                      func(y_test, test_predictions)]\n",
    "        \n",
    "    ## Model Memory\n",
    "    model_mem = None\n",
    "    if not neural_net:\n",
    "        model_mem = round(model_memory_size(clf) / 1024, 2)\n",
    "    \n",
    "    print(clf)\n",
    "    print(\"\\n=============================> TRAIN-TEST DETAILS <======================================\")\n",
    "    \n",
    "    ## Metrics\n",
    "    print(f\"Train Size: {x_train.shape[0]} samples\")\n",
    "    print(f\" Test Size: {x_test.shape[0]} samples\")\n",
    "    print(\"---------------------------------------------\")\n",
    "    print(f\"Training Time: {round(train_time, 3)} seconds\")\n",
    "    print(f\" Testing Time: {round(test_time, 3)} seconds\")\n",
    "    print(\"---------------------------------------------\")\n",
    "    print(\"Train Accuracy: \", train_acc)\n",
    "    print(\" Test Accuracy: \", test_acc)\n",
    "    print(\"---------------------------------------------\")\n",
    "    \n",
    "    if display_scores:\n",
    "        for k, v in scores_dict.items():\n",
    "            score_name = ' '.join(map(lambda x: x.title(), k.split('_')))\n",
    "            print(f'Train {score_name}: ', v[0])\n",
    "            print(f' Test {score_name}: ', v[1])\n",
    "            print()\n",
    "        print(\"---------------------------------------------\")\n",
    "    \n",
    "    print(\" Area Under ROC (test): \", roc_auc)\n",
    "    print(\"---------------------------------------------\")\n",
    "    print(f\"Model Memory Size: {model_mem} kB\")\n",
    "    print(\"\\n=============================> CLASSIFICATION REPORT <===================================\")\n",
    "    \n",
    "    ## Classification Report\n",
    "    clf_rep = classification_report(y_test, test_predictions, output_dict=True)\n",
    "    \n",
    "    print(classification_report(y_test, test_predictions,\n",
    "                                target_names=confusion_labels))\n",
    "    \n",
    "    \n",
    "    if verbose:\n",
    "        print(\"\\n================================> CONFUSION MATRIX <=====================================\")\n",
    "    \n",
    "        ## Confusion Matrix HeatMap\n",
    "        display(confusion_plot(confusion_matrix(y_test, test_predictions),\n",
    "                               labels=confusion_labels))\n",
    "        print(\"\\n=======================================> PLOTS <=========================================\")\n",
    "\n",
    "\n",
    "        ## Variable importance plot\n",
    "        fig, axes = plt.subplots(nrows=2, ncols=2, figsize=(14, 10))\n",
    "        roc_axes = axes[0, 0]\n",
    "        pr_axes = axes[0, 1]\n",
    "        importances = None\n",
    "\n",
    "        if importance_plot:\n",
    "            if not feature_labels:\n",
    "                raise RuntimeError(\"'feature_labels' argument not passed \"\n",
    "                                   \"when 'importance_plot' is True\")\n",
    "\n",
    "            try:\n",
    "                importances = pd.Series(clf.feature_importances_,\n",
    "                                        index=feature_labels) \\\n",
    "                                .sort_values(ascending=False)\n",
    "            except AttributeError:\n",
    "                try:\n",
    "                    importances = pd.Series(clf.coef_.ravel(),\n",
    "                                            index=feature_labels) \\\n",
    "                                    .sort_values(ascending=False)\n",
    "                except AttributeError:\n",
    "                    pass\n",
    "\n",
    "            if importances is not None:\n",
    "                # Modifying grid\n",
    "                grid_spec = axes[0, 0].get_gridspec()\n",
    "                for ax in axes[:, 0]:\n",
    "                    ax.remove()   # remove first column axes\n",
    "                large_axs = fig.add_subplot(grid_spec[0:, 0])\n",
    "\n",
    "                # Plot importance curve\n",
    "                feature_importance_plot(importances=importances.values,\n",
    "                                        feature_labels=importances.index,\n",
    "                                        ax=large_axs)\n",
    "                large_axs.axvline(x=0)\n",
    "\n",
    "                # Axis for ROC and PR curve\n",
    "                roc_axes = axes[0, 1]\n",
    "                pr_axes = axes[1, 1]\n",
    "            else:\n",
    "                # remove second row axes\n",
    "                for ax in axes[1, :]:\n",
    "                    ax.remove()\n",
    "        else:\n",
    "            # remove second row axes\n",
    "            for ax in axes[1, :]:\n",
    "                ax.remove()\n",
    "\n",
    "\n",
    "        ## ROC and Precision-Recall curves\n",
    "        clf_name = clf.__class__.__name__\n",
    "        roc_plot(y_test, y_probs, clf_name, ax=roc_axes)\n",
    "        precision_recall_plot(y_test, y_probs, clf_name, ax=pr_axes)\n",
    "\n",
    "        fig.subplots_adjust(wspace=5)\n",
    "        fig.tight_layout()\n",
    "        display(fig)\n",
    "    \n",
    "    ## Dump to report_dict\n",
    "    dump = dict(clf=clf, accuracy=[train_acc, test_acc], **scores_dict,\n",
    "                train_time=train_time, train_predictions=train_predictions,\n",
    "                test_time=test_time, test_predictions=test_predictions,\n",
    "                test_probs=y_probs, report=clf_rep, roc_auc=roc_auc,\n",
    "                model_memory=model_mem)\n",
    "    \n",
    "    return clf, dump"
   ]
  },
  {
   "cell_type": "code",
   "execution_count": 205,
   "metadata": {},
   "outputs": [],
   "source": [
    "def compare_models(y_test=None, clf_reports=[], labels=[], score='accuracy'):\n",
    "    \"\"\" Compare evaluation metrics for the True Positive class [1] of \n",
    "        binary classifiers passed in the argument and plot ROC and PR curves.\n",
    "        \n",
    "        Arguments:\n",
    "        ---------\n",
    "        y_test: to plot ROC and Precision-Recall curves\n",
    "         score: is the name corresponding to the sklearn metrics\n",
    "        \n",
    "        Returns:\n",
    "        -------\n",
    "        compare_table: pandas DataFrame containing evaluated metrics\n",
    "                  fig: `matplotlib` figure object with ROC and PR curves \"\"\"\n",
    "\n",
    "    \n",
    "    ## Classifier Labels\n",
    "    default_names = [rep['clf'].__class__.__name__ for rep in clf_reports]\n",
    "    clf_names =  labels if len(labels) == len(clf_reports) else default_names\n",
    "    \n",
    "    \n",
    "    ## Compare Table\n",
    "    table = dict()\n",
    "    index = ['Train ' + score, 'Test ' + score, 'Overfitting', 'Accuracy', 'ROC Area',\n",
    "             'Precision', 'Recall', 'F1-score', 'Support']\n",
    "    for i in range(len(clf_reports)):\n",
    "        scores = [round(i, 3) for i in clf_reports[i][score]]\n",
    "        \n",
    "        roc_auc = clf_reports[i]['roc_auc']\n",
    "        test_acc = clf_reports[i]['accuracy'][1]\n",
    "        \n",
    "        # Get metrics of True Positive class from sklearn classification_report\n",
    "        true_positive_metrics = list(clf_reports[i]['report'][\"1\"].values())\n",
    "        \n",
    "        table[clf_names[i]] = scores + [scores[1] < scores[0], test_acc, roc_auc] + \\\n",
    "                              true_positive_metrics\n",
    "    \n",
    "    table = pd.DataFrame(data=table, index=index)\n",
    "    \n",
    "    \n",
    "    ## Compare Plots\n",
    "    fig, axes = plt.subplots(nrows=1, ncols=2, figsize=(15, 5))\n",
    "    \n",
    "    # ROC and Precision-Recall\n",
    "    for i in range(len(clf_reports)):\n",
    "        clf_probs = clf_reports[i]['test_probs']\n",
    "        roc_plot(y_test, clf_probs, label=clf_names[i],\n",
    "                 compare=True, ax=axes[0])\n",
    "        precision_recall_plot(y_test, clf_probs, label=clf_names[i],\n",
    "                              compare=True, ax=axes[1])\n",
    "    # Plot No-Info classifier\n",
    "    axes[0].plot([0,1], [0,1], linestyle='--', color='green')\n",
    "        \n",
    "    fig.tight_layout()\n",
    "    plt.close()\n",
    "    \n",
    "    return table.T, fig"
   ]
  },
  {
   "cell_type": "markdown",
   "metadata": {},
   "source": [
    "## Logistic Regression"
   ]
  },
  {
   "cell_type": "code",
   "execution_count": 224,
   "metadata": {},
   "outputs": [
    {
     "data": {
      "text/plain": [
       "GridSearchCV(cv=5, estimator=LogisticRegression(), n_jobs=-1,\n",
       "             param_grid={'class_weight': ['balanced'], 'penalty': ['l2'],\n",
       "                         'solver': ['liblinear', 'newton-cg', 'lbfgs', 'sag'],\n",
       "                         'tol': [0.0001, 0.001, 0.0001, 0.1]},\n",
       "             scoring='f1')"
      ]
     },
     "execution_count": 224,
     "metadata": {},
     "output_type": "execute_result"
    }
   ],
   "source": [
    "from sklearn.linear_model import LogisticRegression\n",
    "\n",
    "search_params1 = {\n",
    "    'tol': [ 0.01 , 0.001 , 0.0001 , 0.1],\n",
    "    'penalty': ['l2' , 'l1'],\n",
    "    'solver': ['liblinear' , 'saga' ],\n",
    "    'class_weight' : ['balanced']\n",
    "}\n",
    "\n",
    "\n",
    "search_params = {\n",
    "    'tol': [ 0.0001 , 0.001 , 0.0001 , 0.1],\n",
    "    'penalty': ['l2'],\n",
    "    'solver': ['liblinear' , 'newton-cg', 'lbfgs', 'sag' ],\n",
    "    'class_weight' : ['balanced']\n",
    "}\n",
    "\n",
    "\n",
    "\n",
    "lgr = LogisticRegression()\n",
    "\n",
    "lgr_cv = GridSearchCV(estimator =  LogisticRegression(), param_grid = search_params, cv=5, scoring='f1', n_jobs=-1 , verbose = 0 , refit = True  )\n",
    "\n",
    "lgr_cv.fit(train_df_cast_t, y_train)\n"
   ]
  },
  {
   "cell_type": "code",
   "execution_count": 225,
   "metadata": {},
   "outputs": [
    {
     "data": {
      "text/plain": [
       "LogisticRegression(class_weight='balanced', solver='sag', tol=0.1)"
      ]
     },
     "execution_count": 225,
     "metadata": {},
     "output_type": "execute_result"
    }
   ],
   "source": [
    "lgr_cv.best_estimator_"
   ]
  },
  {
   "cell_type": "code",
   "execution_count": 226,
   "metadata": {},
   "outputs": [
    {
     "name": "stdout",
     "output_type": "stream",
     "text": [
      "LogisticRegressionCV(class_weight='balanced', cv=5, max_iter=500, n_jobs=-1,\n",
      "                     random_state=42, scoring='f1', solver='sag', tol=0.1)\n",
      "\n",
      "=============================> TRAIN-TEST DETAILS <======================================\n",
      "Train Size: 1117 samples\n",
      " Test Size: 373 samples\n",
      "---------------------------------------------\n",
      "Training Time: 0.109 seconds\n",
      " Testing Time: 0.0 seconds\n",
      "---------------------------------------------\n",
      "Train Accuracy:  0.7466427931960609\n",
      " Test Accuracy:  0.7211796246648794\n",
      "---------------------------------------------\n",
      "Train F1 Score:  0.6041958041958041\n",
      " Test F1 Score:  0.5517241379310345\n",
      "\n",
      "---------------------------------------------\n",
      " Area Under ROC (test):  0.7197525062656641\n",
      "---------------------------------------------\n",
      "Model Memory Size: 5.19 kB\n",
      "\n",
      "=============================> CLASSIFICATION REPORT <===================================\n",
      "                    precision    recall  f1-score   support\n",
      "\n",
      "No TravelInsurance       0.75      0.85      0.80       240\n",
      "   TravelInsurance       0.65      0.48      0.55       133\n",
      "\n",
      "          accuracy                           0.72       373\n",
      "         macro avg       0.70      0.67      0.67       373\n",
      "      weighted avg       0.71      0.72      0.71       373\n",
      "\n",
      "\n",
      "================================> CONFUSION MATRIX <=====================================\n"
     ]
    },
    {
     "data": {
      "image/png": "[encoded data removed]",
      "text/plain": [
       "<Figure size 432x288 with 2 Axes>"
      ]
     },
     "metadata": {},
     "output_type": "display_data"
    },
    {
     "name": "stdout",
     "output_type": "stream",
     "text": [
      "\n",
      "=======================================> PLOTS <=========================================\n"
     ]
    },
    {
     "name": "stderr",
     "output_type": "stream",
     "text": [
      "/Users/coviedo/opt/anaconda3/envs/diplodatos-ayvd/lib/python3.6/site-packages/seaborn/_decorators.py:43: FutureWarning: Pass the following variables as keyword args: x, y. From version 0.12, the only valid positional argument will be `data`, and passing other arguments without an explicit keyword will result in an error or misinterpretation.\n",
      "  FutureWarning\n",
      "/Users/coviedo/opt/anaconda3/envs/diplodatos-ayvd/lib/python3.6/site-packages/seaborn/_decorators.py:43: FutureWarning: Pass the following variables as keyword args: x, y. From version 0.12, the only valid positional argument will be `data`, and passing other arguments without an explicit keyword will result in an error or misinterpretation.\n",
      "  FutureWarning\n"
     ]
    },
    {
     "data": {
      "image/png": "[encoded data removed]",
      "text/plain": [
       "<Figure size 1008x720 with 4 Axes>"
      ]
     },
     "metadata": {},
     "output_type": "display_data"
    }
   ],
   "source": [
    "from sklearn.linear_model import LogisticRegressionCV\n",
    "\n",
    "\n",
    "#logit_cv = LogisticRegressionCV(class_weight='balanced', cv=5,\n",
    "#                                max_iter=500, penalty='l2',\n",
    "#                                scoring='f1', solver='liblinear',\n",
    "#                               n_jobs=-1, random_state=seed_val,\n",
    "#                                refit=True, verbose=0)\n",
    "\n",
    "\n",
    "#logit_cv = LogisticRegressionCV(class_weight='balanced', cv=5,\n",
    "#                                max_iter=500, penalty='l1',\n",
    "#                                scoring='f1', solver='saga',\n",
    "#                                n_jobs=-1, random_state=seed_val,\n",
    "#                                refit=True, tol=0.1, verbose=0)\n",
    "\n",
    "\n",
    "logit_cv = LogisticRegressionCV(class_weight='balanced', cv=5,\n",
    "                                max_iter=500, penalty='l2',\n",
    "                                scoring='f1', solver='sag',\n",
    "                                n_jobs=-1, random_state=seed_val,\n",
    "                                refit=True, tol=0.1, verbose=0)\n",
    "\n",
    "\n",
    "\n",
    "\n",
    "logit_cv, logit_report = report(logit_cv, train_df_cast_t, y_train,\n",
    "                                test_df_cast_t, y_test,\n",
    "                                display_scores=[primary_eval_metric],\n",
    "                                importance_plot=True,\n",
    "                                feature_labels=feature_names,\n",
    "                                confusion_labels=confusion_lbs)"
   ]
  },
  {
   "cell_type": "markdown",
   "metadata": {},
   "source": [
    "## Decission Tree"
   ]
  },
  {
   "cell_type": "code",
   "execution_count": 216,
   "metadata": {},
   "outputs": [
    {
     "data": {
      "text/plain": [
       "DecisionTreeClassifier(criterion='entropy', max_depth=10, random_state=42)"
      ]
     },
     "execution_count": 216,
     "metadata": {},
     "output_type": "execute_result"
    }
   ],
   "source": [
    "search_params = {\n",
    "    'criterion': ['gini', 'entropy'],\n",
    "    'min_samples_leaf': [1, 2, 5],\n",
    "    'max_depth': [6, 3, 10]\n",
    "}\n",
    "\n",
    "\n",
    "\n",
    "tree_cv = GridSearchCV(estimator =  DecisionTreeClassifier(random_state=seed_val), param_grid = search_params, cv=5, scoring='f1', n_jobs=-1 , verbose = 0 , refit = True  )\n",
    "\n",
    "tree_cv.fit(train_df_cast_t, y_train)\n",
    "\n",
    "tree_cv.best_estimator_"
   ]
  },
  {
   "cell_type": "code",
   "execution_count": 232,
   "metadata": {},
   "outputs": [
    {
     "data": {
      "text/plain": [
       "DecisionTreeClassifier(criterion='entropy', max_depth=10, min_samples_leaf=5,\n",
       "                       random_state=42)"
      ]
     },
     "execution_count": 232,
     "metadata": {},
     "output_type": "execute_result"
    }
   ],
   "source": [
    "best_tree_clf"
   ]
  },
  {
   "cell_type": "code",
   "execution_count": 233,
   "metadata": {},
   "outputs": [
    {
     "name": "stdout",
     "output_type": "stream",
     "text": [
      "DecisionTreeClassifier(max_depth=10, min_samples_leaf=5, random_state=42)\n",
      "\n",
      "=============================> TRAIN-TEST DETAILS <======================================\n",
      "Train Size: 1117 samples\n",
      " Test Size: 373 samples\n",
      "---------------------------------------------\n",
      "Training Time: 0.002 seconds\n",
      " Testing Time: 0.0 seconds\n",
      "---------------------------------------------\n",
      "Train Accuracy:  0.7976723366159355\n",
      " Test Accuracy:  0.7640750670241286\n",
      "---------------------------------------------\n",
      "Train F1 Score:  0.630718954248366\n",
      " Test F1 Score:  0.5599999999999999\n",
      "\n",
      "---------------------------------------------\n",
      " Area Under ROC (test):  0.7132988721804512\n",
      "---------------------------------------------\n",
      "Model Memory Size: 7.3 kB\n",
      "\n",
      "=============================> CLASSIFICATION REPORT <===================================\n",
      "                    precision    recall  f1-score   support\n",
      "\n",
      "No TravelInsurance       0.75      0.95      0.84       240\n",
      "   TravelInsurance       0.84      0.42      0.56       133\n",
      "\n",
      "          accuracy                           0.76       373\n",
      "         macro avg       0.79      0.69      0.70       373\n",
      "      weighted avg       0.78      0.76      0.74       373\n",
      "\n",
      "\n",
      "================================> CONFUSION MATRIX <=====================================\n"
     ]
    },
    {
     "data": {
      "image/png": "[encoded data removed]",
      "text/plain": [
       "<Figure size 432x288 with 2 Axes>"
      ]
     },
     "metadata": {},
     "output_type": "display_data"
    },
    {
     "name": "stdout",
     "output_type": "stream",
     "text": [
      "\n",
      "=======================================> PLOTS <=========================================\n"
     ]
    },
    {
     "name": "stderr",
     "output_type": "stream",
     "text": [
      "/Users/coviedo/opt/anaconda3/envs/diplodatos-ayvd/lib/python3.6/site-packages/seaborn/_decorators.py:43: FutureWarning: Pass the following variables as keyword args: x, y. From version 0.12, the only valid positional argument will be `data`, and passing other arguments without an explicit keyword will result in an error or misinterpretation.\n",
      "  FutureWarning\n",
      "/Users/coviedo/opt/anaconda3/envs/diplodatos-ayvd/lib/python3.6/site-packages/seaborn/_decorators.py:43: FutureWarning: Pass the following variables as keyword args: x, y. From version 0.12, the only valid positional argument will be `data`, and passing other arguments without an explicit keyword will result in an error or misinterpretation.\n",
      "  FutureWarning\n"
     ]
    },
    {
     "data": {
      "image/png": "[encoded data removed]",
      "text/plain": [
       "<Figure size 1008x720 with 4 Axes>"
      ]
     },
     "metadata": {},
     "output_type": "display_data"
    }
   ],
   "source": [
    "decision_tree = DecisionTreeClassifier(max_depth=10,\n",
    "                                       random_state=seed_val, min_samples_leaf=5)\n",
    "\n",
    "decision_tree, decision_tree_report = report(decision_tree,train_df_cast_t, y_train,\n",
    "                                        test_df_cast_t, y_test,\n",
    "                                        display_scores=[primary_eval_metric],\n",
    "                                        importance_plot=True,\n",
    "                                        feature_labels=feature_names,\n",
    "                                        confusion_labels=confusion_lbs)\n",
    "\n"
   ]
  },
  {
   "cell_type": "markdown",
   "metadata": {},
   "source": [
    "## K-Nearest Neighbors"
   ]
  },
  {
   "cell_type": "code",
   "execution_count": null,
   "metadata": {},
   "outputs": [],
   "source": [
    "from sklearn.neighbors import KNeighborsClassifier\n",
    "\n",
    "search_params_knn = {\n",
    "    'n_neighbors': [3,4,5],\n",
    "    'p': [ 2, 3, 4],\n",
    "    'weights': ['distance']\n",
    "}\n",
    "\n",
    "\n",
    "\n",
    "tree_cv = GridSearchCV(estimator =  DecisionTreeClassifier(random_state=seed_val), param_grid = search_params, cv=5, scoring='f1', n_jobs=-1 , verbose = 0 , refit = True  )\n",
    "\n",
    "tree_cv.fit(train_df_cast_t, y_train)\n",
    "\n",
    "tree_cv.best_estimator_"
   ]
  },
  {
   "cell_type": "code",
   "execution_count": 234,
   "metadata": {},
   "outputs": [],
   "source": [
    "#report_list = [nb_report, logit_report, knn_report, decision_tree_report,               \n",
    "#               bagging_clf_report, random_forest_report, adaboot_report,\n",
    "#               xgb_report, lgbm_report, catboost_report, nn_report,\n",
    "#               linear_svc_report, rbf_svc_report]\n",
    "\n",
    "report_list = [logit_report, decision_tree_report]\n",
    "\n",
    "\n",
    "\n",
    "clf_labels = [rep['clf'].__class__.__name__ for rep in report_list]"
   ]
  },
  {
   "cell_type": "code",
   "execution_count": 235,
   "metadata": {},
   "outputs": [
    {
     "name": "stderr",
     "output_type": "stream",
     "text": [
      "/Users/coviedo/opt/anaconda3/envs/diplodatos-ayvd/lib/python3.6/site-packages/seaborn/_decorators.py:43: FutureWarning: Pass the following variables as keyword args: x, y. From version 0.12, the only valid positional argument will be `data`, and passing other arguments without an explicit keyword will result in an error or misinterpretation.\n",
      "  FutureWarning\n",
      "/Users/coviedo/opt/anaconda3/envs/diplodatos-ayvd/lib/python3.6/site-packages/seaborn/_decorators.py:43: FutureWarning: Pass the following variables as keyword args: x, y. From version 0.12, the only valid positional argument will be `data`, and passing other arguments without an explicit keyword will result in an error or misinterpretation.\n",
      "  FutureWarning\n"
     ]
    }
   ],
   "source": [
    "compare_table, compare_plot = compare_models(y_test, clf_reports=report_list,\n",
    "                                             labels=clf_labels,\n",
    "                                             score=primary_eval_metric.__name__)"
   ]
  },
  {
   "cell_type": "code",
   "execution_count": 236,
   "metadata": {},
   "outputs": [
    {
     "data": {
      "text/html": [
       "<div>\n",
       "<style scoped>\n",
       "    .dataframe tbody tr th:only-of-type {\n",
       "        vertical-align: middle;\n",
       "    }\n",
       "\n",
       "    .dataframe tbody tr th {\n",
       "        vertical-align: top;\n",
       "    }\n",
       "\n",
       "    .dataframe thead th {\n",
       "        text-align: right;\n",
       "    }\n",
       "</style>\n",
       "<table border=\"1\" class=\"dataframe\">\n",
       "  <thead>\n",
       "    <tr style=\"text-align: right;\">\n",
       "      <th></th>\n",
       "      <th>Train f1_score</th>\n",
       "      <th>Test f1_score</th>\n",
       "      <th>Overfitting</th>\n",
       "      <th>Accuracy</th>\n",
       "      <th>ROC Area</th>\n",
       "      <th>Precision</th>\n",
       "      <th>Recall</th>\n",
       "      <th>F1-score</th>\n",
       "      <th>Support</th>\n",
       "    </tr>\n",
       "  </thead>\n",
       "  <tbody>\n",
       "    <tr>\n",
       "      <th>DecisionTreeClassifier</th>\n",
       "      <td>0.631</td>\n",
       "      <td>0.56</td>\n",
       "      <td>True</td>\n",
       "      <td>0.764075</td>\n",
       "      <td>0.713299</td>\n",
       "      <td>0.835821</td>\n",
       "      <td>0.421053</td>\n",
       "      <td>0.56</td>\n",
       "      <td>133</td>\n",
       "    </tr>\n",
       "    <tr>\n",
       "      <th>LogisticRegressionCV</th>\n",
       "      <td>0.604</td>\n",
       "      <td>0.552</td>\n",
       "      <td>True</td>\n",
       "      <td>0.72118</td>\n",
       "      <td>0.719753</td>\n",
       "      <td>0.646465</td>\n",
       "      <td>0.481203</td>\n",
       "      <td>0.551724</td>\n",
       "      <td>133</td>\n",
       "    </tr>\n",
       "  </tbody>\n",
       "</table>\n",
       "</div>"
      ],
      "text/plain": [
       "                       Train f1_score Test f1_score Overfitting  Accuracy  \\\n",
       "DecisionTreeClassifier          0.631          0.56        True  0.764075   \n",
       "LogisticRegressionCV            0.604         0.552        True   0.72118   \n",
       "\n",
       "                        ROC Area Precision    Recall  F1-score Support  \n",
       "DecisionTreeClassifier  0.713299  0.835821  0.421053      0.56     133  \n",
       "LogisticRegressionCV    0.719753  0.646465  0.481203  0.551724     133  "
      ]
     },
     "execution_count": 236,
     "metadata": {},
     "output_type": "execute_result"
    }
   ],
   "source": [
    "compare_table.sort_values(by=['Overfitting', 'F1-score'], ascending=[True, False])"
   ]
  }
 ],
 "metadata": {
  "kernelspec": {
   "display_name": "Python 3",
   "language": "python",
   "name": "python3"
  },
  "language_info": {
   "codemirror_mode": {
    "name": "ipython",
    "version": 3
   },
   "file_extension": ".py",
   "mimetype": "text/x-python",
   "name": "python",
   "nbconvert_exporter": "python",
   "pygments_lexer": "ipython3",
   "version": "3.6.13"
  }
 },
 "nbformat": 4,
 "nbformat_minor": 4
}
