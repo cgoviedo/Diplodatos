{
 "cells": [
  {
   "cell_type": "markdown",
   "metadata": {},
   "source": [
    "# Diplodatos Kaggle Competition"
   ]
  },
  {
   "cell_type": "markdown",
   "metadata": {},
   "source": [
    "We present this peace of code to create the baseline for the competition, and as an example of how to deal with these kind of problems. The main goals are that you:\n",
    "\n",
    "1. Explore the data and learn from it\n",
    "1. Try different models and see which one fits the best the given data\n",
    "1. Get a higher score than the given one in the current baseline example\n",
    "1. Try to get the highest score in the class :)"
   ]
  },
  {
   "cell_type": "code",
   "execution_count": 69,
   "metadata": {},
   "outputs": [],
   "source": [
    "# Import the required packages\n",
    "import os\n",
    "\n",
    "import numpy as np\n",
    "import pandas as pd\n",
    "import matplotlib.pyplot as plt\n",
    "import lib"
   ]
  },
  {
   "cell_type": "markdown",
   "metadata": {},
   "source": [
    "## Read Data"
   ]
  },
  {
   "cell_type": "code",
   "execution_count": 70,
   "metadata": {},
   "outputs": [],
   "source": [
    "train_df = pd.read_csv(\"../data/travel_insurance_prediction_train.csv\")\n",
    "test_df = pd.read_csv(\"../data/travel_insurance_prediction_test.csv\")"
   ]
  },
  {
   "cell_type": "markdown",
   "metadata": {},
   "source": [
    "## Explore the Data\n",
    "\n",
    "Is your task to explore the data, do analysis over it and get insights, then use those insights to better pick a model."
   ]
  },
  {
   "cell_type": "code",
   "execution_count": 71,
   "metadata": {},
   "outputs": [
    {
     "data": {
      "text/html": [
       "<div>\n",
       "<style scoped>\n",
       "    .dataframe tbody tr th:only-of-type {\n",
       "        vertical-align: middle;\n",
       "    }\n",
       "\n",
       "    .dataframe tbody tr th {\n",
       "        vertical-align: top;\n",
       "    }\n",
       "\n",
       "    .dataframe thead th {\n",
       "        text-align: right;\n",
       "    }\n",
       "</style>\n",
       "<table border=\"1\" class=\"dataframe\">\n",
       "  <thead>\n",
       "    <tr style=\"text-align: right;\">\n",
       "      <th></th>\n",
       "      <th>Customer</th>\n",
       "      <th>Age</th>\n",
       "      <th>Employment Type</th>\n",
       "      <th>GraduateOrNot</th>\n",
       "      <th>AnnualIncome</th>\n",
       "      <th>FamilyMembers</th>\n",
       "      <th>ChronicDiseases</th>\n",
       "      <th>FrequentFlyer</th>\n",
       "      <th>EverTravelledAbroad</th>\n",
       "      <th>TravelInsurance</th>\n",
       "    </tr>\n",
       "  </thead>\n",
       "  <tbody>\n",
       "    <tr>\n",
       "      <th>0</th>\n",
       "      <td>1</td>\n",
       "      <td>33</td>\n",
       "      <td>Private Sector/Self Employed</td>\n",
       "      <td>Yes</td>\n",
       "      <td>550000</td>\n",
       "      <td>6</td>\n",
       "      <td>0</td>\n",
       "      <td>No</td>\n",
       "      <td>No</td>\n",
       "      <td>1</td>\n",
       "    </tr>\n",
       "    <tr>\n",
       "      <th>1</th>\n",
       "      <td>2</td>\n",
       "      <td>28</td>\n",
       "      <td>Private Sector/Self Employed</td>\n",
       "      <td>Yes</td>\n",
       "      <td>800000</td>\n",
       "      <td>7</td>\n",
       "      <td>0</td>\n",
       "      <td>Yes</td>\n",
       "      <td>No</td>\n",
       "      <td>0</td>\n",
       "    </tr>\n",
       "    <tr>\n",
       "      <th>2</th>\n",
       "      <td>3</td>\n",
       "      <td>31</td>\n",
       "      <td>Private Sector/Self Employed</td>\n",
       "      <td>Yes</td>\n",
       "      <td>1250000</td>\n",
       "      <td>4</td>\n",
       "      <td>0</td>\n",
       "      <td>No</td>\n",
       "      <td>No</td>\n",
       "      <td>0</td>\n",
       "    </tr>\n",
       "    <tr>\n",
       "      <th>3</th>\n",
       "      <td>4</td>\n",
       "      <td>31</td>\n",
       "      <td>Government Sector</td>\n",
       "      <td>No</td>\n",
       "      <td>300000</td>\n",
       "      <td>7</td>\n",
       "      <td>0</td>\n",
       "      <td>No</td>\n",
       "      <td>No</td>\n",
       "      <td>0</td>\n",
       "    </tr>\n",
       "    <tr>\n",
       "      <th>4</th>\n",
       "      <td>5</td>\n",
       "      <td>28</td>\n",
       "      <td>Private Sector/Self Employed</td>\n",
       "      <td>Yes</td>\n",
       "      <td>1250000</td>\n",
       "      <td>3</td>\n",
       "      <td>0</td>\n",
       "      <td>No</td>\n",
       "      <td>No</td>\n",
       "      <td>0</td>\n",
       "    </tr>\n",
       "  </tbody>\n",
       "</table>\n",
       "</div>"
      ],
      "text/plain": [
       "   Customer  Age               Employment Type GraduateOrNot  AnnualIncome  \\\n",
       "0         1   33  Private Sector/Self Employed           Yes        550000   \n",
       "1         2   28  Private Sector/Self Employed           Yes        800000   \n",
       "2         3   31  Private Sector/Self Employed           Yes       1250000   \n",
       "3         4   31             Government Sector            No        300000   \n",
       "4         5   28  Private Sector/Self Employed           Yes       1250000   \n",
       "\n",
       "   FamilyMembers  ChronicDiseases FrequentFlyer EverTravelledAbroad  \\\n",
       "0              6                0            No                  No   \n",
       "1              7                0           Yes                  No   \n",
       "2              4                0            No                  No   \n",
       "3              7                0            No                  No   \n",
       "4              3                0            No                  No   \n",
       "\n",
       "   TravelInsurance  \n",
       "0                1  \n",
       "1                0  \n",
       "2                0  \n",
       "3                0  \n",
       "4                0  "
      ]
     },
     "execution_count": 71,
     "metadata": {},
     "output_type": "execute_result"
    }
   ],
   "source": [
    "train_df.head()"
   ]
  },
  {
   "cell_type": "code",
   "execution_count": 72,
   "metadata": {},
   "outputs": [
    {
     "data": {
      "text/html": [
       "<div>\n",
       "<style scoped>\n",
       "    .dataframe tbody tr th:only-of-type {\n",
       "        vertical-align: middle;\n",
       "    }\n",
       "\n",
       "    .dataframe tbody tr th {\n",
       "        vertical-align: top;\n",
       "    }\n",
       "\n",
       "    .dataframe thead th {\n",
       "        text-align: right;\n",
       "    }\n",
       "</style>\n",
       "<table border=\"1\" class=\"dataframe\">\n",
       "  <thead>\n",
       "    <tr style=\"text-align: right;\">\n",
       "      <th></th>\n",
       "      <th>Customer</th>\n",
       "      <th>Age</th>\n",
       "      <th>Employment Type</th>\n",
       "      <th>GraduateOrNot</th>\n",
       "      <th>AnnualIncome</th>\n",
       "      <th>FamilyMembers</th>\n",
       "      <th>ChronicDiseases</th>\n",
       "      <th>FrequentFlyer</th>\n",
       "      <th>EverTravelledAbroad</th>\n",
       "    </tr>\n",
       "  </thead>\n",
       "  <tbody>\n",
       "    <tr>\n",
       "      <th>0</th>\n",
       "      <td>1491</td>\n",
       "      <td>26</td>\n",
       "      <td>Private Sector/Self Employed</td>\n",
       "      <td>Yes</td>\n",
       "      <td>1400000</td>\n",
       "      <td>7</td>\n",
       "      <td>1</td>\n",
       "      <td>Yes</td>\n",
       "      <td>Yes</td>\n",
       "    </tr>\n",
       "    <tr>\n",
       "      <th>1</th>\n",
       "      <td>1492</td>\n",
       "      <td>28</td>\n",
       "      <td>Private Sector/Self Employed</td>\n",
       "      <td>Yes</td>\n",
       "      <td>750000</td>\n",
       "      <td>5</td>\n",
       "      <td>1</td>\n",
       "      <td>Yes</td>\n",
       "      <td>No</td>\n",
       "    </tr>\n",
       "    <tr>\n",
       "      <th>2</th>\n",
       "      <td>1493</td>\n",
       "      <td>31</td>\n",
       "      <td>Government Sector</td>\n",
       "      <td>Yes</td>\n",
       "      <td>1500000</td>\n",
       "      <td>4</td>\n",
       "      <td>0</td>\n",
       "      <td>Yes</td>\n",
       "      <td>Yes</td>\n",
       "    </tr>\n",
       "    <tr>\n",
       "      <th>3</th>\n",
       "      <td>1494</td>\n",
       "      <td>28</td>\n",
       "      <td>Private Sector/Self Employed</td>\n",
       "      <td>Yes</td>\n",
       "      <td>1400000</td>\n",
       "      <td>3</td>\n",
       "      <td>0</td>\n",
       "      <td>No</td>\n",
       "      <td>Yes</td>\n",
       "    </tr>\n",
       "    <tr>\n",
       "      <th>4</th>\n",
       "      <td>1495</td>\n",
       "      <td>33</td>\n",
       "      <td>Private Sector/Self Employed</td>\n",
       "      <td>Yes</td>\n",
       "      <td>1500000</td>\n",
       "      <td>4</td>\n",
       "      <td>0</td>\n",
       "      <td>Yes</td>\n",
       "      <td>Yes</td>\n",
       "    </tr>\n",
       "  </tbody>\n",
       "</table>\n",
       "</div>"
      ],
      "text/plain": [
       "   Customer  Age               Employment Type GraduateOrNot  AnnualIncome  \\\n",
       "0      1491   26  Private Sector/Self Employed           Yes       1400000   \n",
       "1      1492   28  Private Sector/Self Employed           Yes        750000   \n",
       "2      1493   31             Government Sector           Yes       1500000   \n",
       "3      1494   28  Private Sector/Self Employed           Yes       1400000   \n",
       "4      1495   33  Private Sector/Self Employed           Yes       1500000   \n",
       "\n",
       "   FamilyMembers  ChronicDiseases FrequentFlyer EverTravelledAbroad  \n",
       "0              7                1           Yes                 Yes  \n",
       "1              5                1           Yes                  No  \n",
       "2              4                0           Yes                 Yes  \n",
       "3              3                0            No                 Yes  \n",
       "4              4                0           Yes                 Yes  "
      ]
     },
     "execution_count": 72,
     "metadata": {},
     "output_type": "execute_result"
    }
   ],
   "source": [
    "test_df.head()"
   ]
  },
  {
   "cell_type": "markdown",
   "metadata": {},
   "source": [
    "**TravelInsurance** is the column that we should predict. That column is not present in the test set."
   ]
  },
  {
   "cell_type": "code",
   "execution_count": 73,
   "metadata": {},
   "outputs": [
    {
     "name": "stdout",
     "output_type": "stream",
     "text": [
      "<class 'pandas.core.frame.DataFrame'>\n",
      "RangeIndex: 1490 entries, 0 to 1489\n",
      "Data columns (total 10 columns):\n",
      " #   Column               Non-Null Count  Dtype \n",
      "---  ------               --------------  ----- \n",
      " 0   Customer             1490 non-null   int64 \n",
      " 1   Age                  1490 non-null   int64 \n",
      " 2   Employment Type      1490 non-null   object\n",
      " 3   GraduateOrNot        1490 non-null   object\n",
      " 4   AnnualIncome         1490 non-null   int64 \n",
      " 5   FamilyMembers        1490 non-null   int64 \n",
      " 6   ChronicDiseases      1490 non-null   int64 \n",
      " 7   FrequentFlyer        1490 non-null   object\n",
      " 8   EverTravelledAbroad  1490 non-null   object\n",
      " 9   TravelInsurance      1490 non-null   int64 \n",
      "dtypes: int64(6), object(4)\n",
      "memory usage: 116.5+ KB\n"
     ]
    }
   ],
   "source": [
    "train_df.info()"
   ]
  },
  {
   "cell_type": "code",
   "execution_count": 74,
   "metadata": {},
   "outputs": [
    {
     "name": "stdout",
     "output_type": "stream",
     "text": [
      "<class 'pandas.core.frame.DataFrame'>\n",
      "RangeIndex: 497 entries, 0 to 496\n",
      "Data columns (total 9 columns):\n",
      " #   Column               Non-Null Count  Dtype \n",
      "---  ------               --------------  ----- \n",
      " 0   Customer             497 non-null    int64 \n",
      " 1   Age                  497 non-null    int64 \n",
      " 2   Employment Type      497 non-null    object\n",
      " 3   GraduateOrNot        497 non-null    object\n",
      " 4   AnnualIncome         497 non-null    int64 \n",
      " 5   FamilyMembers        497 non-null    int64 \n",
      " 6   ChronicDiseases      497 non-null    int64 \n",
      " 7   FrequentFlyer        497 non-null    object\n",
      " 8   EverTravelledAbroad  497 non-null    object\n",
      "dtypes: int64(5), object(4)\n",
      "memory usage: 35.1+ KB\n"
     ]
    }
   ],
   "source": [
    "test_df.info()"
   ]
  },
  {
   "cell_type": "code",
   "execution_count": 75,
   "metadata": {},
   "outputs": [
    {
     "data": {
      "text/html": [
       "<div>\n",
       "<style scoped>\n",
       "    .dataframe tbody tr th:only-of-type {\n",
       "        vertical-align: middle;\n",
       "    }\n",
       "\n",
       "    .dataframe tbody tr th {\n",
       "        vertical-align: top;\n",
       "    }\n",
       "\n",
       "    .dataframe thead th {\n",
       "        text-align: right;\n",
       "    }\n",
       "</style>\n",
       "<table border=\"1\" class=\"dataframe\">\n",
       "  <thead>\n",
       "    <tr style=\"text-align: right;\">\n",
       "      <th></th>\n",
       "      <th>Customer</th>\n",
       "      <th>Age</th>\n",
       "      <th>AnnualIncome</th>\n",
       "      <th>FamilyMembers</th>\n",
       "      <th>ChronicDiseases</th>\n",
       "      <th>TravelInsurance</th>\n",
       "    </tr>\n",
       "  </thead>\n",
       "  <tbody>\n",
       "    <tr>\n",
       "      <th>count</th>\n",
       "      <td>1490.000000</td>\n",
       "      <td>1490.000000</td>\n",
       "      <td>1.490000e+03</td>\n",
       "      <td>1490.000000</td>\n",
       "      <td>1490.000000</td>\n",
       "      <td>1490.000000</td>\n",
       "    </tr>\n",
       "    <tr>\n",
       "      <th>mean</th>\n",
       "      <td>745.500000</td>\n",
       "      <td>29.667114</td>\n",
       "      <td>9.278188e+05</td>\n",
       "      <td>4.777181</td>\n",
       "      <td>0.275839</td>\n",
       "      <td>0.357047</td>\n",
       "    </tr>\n",
       "    <tr>\n",
       "      <th>std</th>\n",
       "      <td>430.270264</td>\n",
       "      <td>2.880994</td>\n",
       "      <td>3.811715e+05</td>\n",
       "      <td>1.640248</td>\n",
       "      <td>0.447086</td>\n",
       "      <td>0.479290</td>\n",
       "    </tr>\n",
       "    <tr>\n",
       "      <th>min</th>\n",
       "      <td>1.000000</td>\n",
       "      <td>25.000000</td>\n",
       "      <td>3.000000e+05</td>\n",
       "      <td>2.000000</td>\n",
       "      <td>0.000000</td>\n",
       "      <td>0.000000</td>\n",
       "    </tr>\n",
       "    <tr>\n",
       "      <th>25%</th>\n",
       "      <td>373.250000</td>\n",
       "      <td>28.000000</td>\n",
       "      <td>6.000000e+05</td>\n",
       "      <td>4.000000</td>\n",
       "      <td>0.000000</td>\n",
       "      <td>0.000000</td>\n",
       "    </tr>\n",
       "    <tr>\n",
       "      <th>50%</th>\n",
       "      <td>745.500000</td>\n",
       "      <td>29.000000</td>\n",
       "      <td>9.000000e+05</td>\n",
       "      <td>5.000000</td>\n",
       "      <td>0.000000</td>\n",
       "      <td>0.000000</td>\n",
       "    </tr>\n",
       "    <tr>\n",
       "      <th>75%</th>\n",
       "      <td>1117.750000</td>\n",
       "      <td>32.000000</td>\n",
       "      <td>1.250000e+06</td>\n",
       "      <td>6.000000</td>\n",
       "      <td>1.000000</td>\n",
       "      <td>1.000000</td>\n",
       "    </tr>\n",
       "    <tr>\n",
       "      <th>max</th>\n",
       "      <td>1490.000000</td>\n",
       "      <td>35.000000</td>\n",
       "      <td>1.800000e+06</td>\n",
       "      <td>9.000000</td>\n",
       "      <td>1.000000</td>\n",
       "      <td>1.000000</td>\n",
       "    </tr>\n",
       "  </tbody>\n",
       "</table>\n",
       "</div>"
      ],
      "text/plain": [
       "          Customer          Age  AnnualIncome  FamilyMembers  ChronicDiseases  \\\n",
       "count  1490.000000  1490.000000  1.490000e+03    1490.000000      1490.000000   \n",
       "mean    745.500000    29.667114  9.278188e+05       4.777181         0.275839   \n",
       "std     430.270264     2.880994  3.811715e+05       1.640248         0.447086   \n",
       "min       1.000000    25.000000  3.000000e+05       2.000000         0.000000   \n",
       "25%     373.250000    28.000000  6.000000e+05       4.000000         0.000000   \n",
       "50%     745.500000    29.000000  9.000000e+05       5.000000         0.000000   \n",
       "75%    1117.750000    32.000000  1.250000e+06       6.000000         1.000000   \n",
       "max    1490.000000    35.000000  1.800000e+06       9.000000         1.000000   \n",
       "\n",
       "       TravelInsurance  \n",
       "count      1490.000000  \n",
       "mean          0.357047  \n",
       "std           0.479290  \n",
       "min           0.000000  \n",
       "25%           0.000000  \n",
       "50%           0.000000  \n",
       "75%           1.000000  \n",
       "max           1.000000  "
      ]
     },
     "execution_count": 75,
     "metadata": {},
     "output_type": "execute_result"
    }
   ],
   "source": [
    "train_df.describe()"
   ]
  },
  {
   "cell_type": "code",
   "execution_count": 76,
   "metadata": {},
   "outputs": [
    {
     "data": {
      "text/html": [
       "<div>\n",
       "<style scoped>\n",
       "    .dataframe tbody tr th:only-of-type {\n",
       "        vertical-align: middle;\n",
       "    }\n",
       "\n",
       "    .dataframe tbody tr th {\n",
       "        vertical-align: top;\n",
       "    }\n",
       "\n",
       "    .dataframe thead th {\n",
       "        text-align: right;\n",
       "    }\n",
       "</style>\n",
       "<table border=\"1\" class=\"dataframe\">\n",
       "  <thead>\n",
       "    <tr style=\"text-align: right;\">\n",
       "      <th></th>\n",
       "      <th>Age</th>\n",
       "      <th>Employment Type</th>\n",
       "      <th>GraduateOrNot</th>\n",
       "      <th>AnnualIncome</th>\n",
       "      <th>FamilyMembers</th>\n",
       "      <th>ChronicDiseases</th>\n",
       "      <th>FrequentFlyer</th>\n",
       "      <th>EverTravelledAbroad</th>\n",
       "      <th>sum</th>\n",
       "      <th>count</th>\n",
       "    </tr>\n",
       "  </thead>\n",
       "  <tbody>\n",
       "    <tr>\n",
       "      <th>0</th>\n",
       "      <td>25</td>\n",
       "      <td>Government Sector</td>\n",
       "      <td>Yes</td>\n",
       "      <td>750000</td>\n",
       "      <td>2</td>\n",
       "      <td>0</td>\n",
       "      <td>Yes</td>\n",
       "      <td>No</td>\n",
       "      <td>0</td>\n",
       "      <td>1</td>\n",
       "    </tr>\n",
       "    <tr>\n",
       "      <th>1</th>\n",
       "      <td>25</td>\n",
       "      <td>Government Sector</td>\n",
       "      <td>Yes</td>\n",
       "      <td>750000</td>\n",
       "      <td>3</td>\n",
       "      <td>0</td>\n",
       "      <td>No</td>\n",
       "      <td>No</td>\n",
       "      <td>0</td>\n",
       "      <td>1</td>\n",
       "    </tr>\n",
       "    <tr>\n",
       "      <th>2</th>\n",
       "      <td>25</td>\n",
       "      <td>Government Sector</td>\n",
       "      <td>Yes</td>\n",
       "      <td>750000</td>\n",
       "      <td>3</td>\n",
       "      <td>0</td>\n",
       "      <td>No</td>\n",
       "      <td>Yes</td>\n",
       "      <td>1</td>\n",
       "      <td>1</td>\n",
       "    </tr>\n",
       "    <tr>\n",
       "      <th>3</th>\n",
       "      <td>25</td>\n",
       "      <td>Government Sector</td>\n",
       "      <td>Yes</td>\n",
       "      <td>750000</td>\n",
       "      <td>3</td>\n",
       "      <td>1</td>\n",
       "      <td>No</td>\n",
       "      <td>No</td>\n",
       "      <td>0</td>\n",
       "      <td>1</td>\n",
       "    </tr>\n",
       "    <tr>\n",
       "      <th>4</th>\n",
       "      <td>25</td>\n",
       "      <td>Government Sector</td>\n",
       "      <td>Yes</td>\n",
       "      <td>750000</td>\n",
       "      <td>4</td>\n",
       "      <td>0</td>\n",
       "      <td>No</td>\n",
       "      <td>No</td>\n",
       "      <td>1</td>\n",
       "      <td>1</td>\n",
       "    </tr>\n",
       "    <tr>\n",
       "      <th>...</th>\n",
       "      <td>...</td>\n",
       "      <td>...</td>\n",
       "      <td>...</td>\n",
       "      <td>...</td>\n",
       "      <td>...</td>\n",
       "      <td>...</td>\n",
       "      <td>...</td>\n",
       "      <td>...</td>\n",
       "      <td>...</td>\n",
       "      <td>...</td>\n",
       "    </tr>\n",
       "    <tr>\n",
       "      <th>923</th>\n",
       "      <td>35</td>\n",
       "      <td>Private Sector/Self Employed</td>\n",
       "      <td>No</td>\n",
       "      <td>950000</td>\n",
       "      <td>2</td>\n",
       "      <td>1</td>\n",
       "      <td>No</td>\n",
       "      <td>No</td>\n",
       "      <td>0</td>\n",
       "      <td>1</td>\n",
       "    </tr>\n",
       "    <tr>\n",
       "      <th>924</th>\n",
       "      <td>35</td>\n",
       "      <td>Private Sector/Self Employed</td>\n",
       "      <td>No</td>\n",
       "      <td>950000</td>\n",
       "      <td>3</td>\n",
       "      <td>0</td>\n",
       "      <td>No</td>\n",
       "      <td>No</td>\n",
       "      <td>0</td>\n",
       "      <td>1</td>\n",
       "    </tr>\n",
       "    <tr>\n",
       "      <th>925</th>\n",
       "      <td>35</td>\n",
       "      <td>Private Sector/Self Employed</td>\n",
       "      <td>No</td>\n",
       "      <td>950000</td>\n",
       "      <td>6</td>\n",
       "      <td>0</td>\n",
       "      <td>No</td>\n",
       "      <td>Yes</td>\n",
       "      <td>0</td>\n",
       "      <td>1</td>\n",
       "    </tr>\n",
       "    <tr>\n",
       "      <th>926</th>\n",
       "      <td>35</td>\n",
       "      <td>Private Sector/Self Employed</td>\n",
       "      <td>No</td>\n",
       "      <td>950000</td>\n",
       "      <td>6</td>\n",
       "      <td>0</td>\n",
       "      <td>Yes</td>\n",
       "      <td>No</td>\n",
       "      <td>1</td>\n",
       "      <td>1</td>\n",
       "    </tr>\n",
       "    <tr>\n",
       "      <th>927</th>\n",
       "      <td>35</td>\n",
       "      <td>Private Sector/Self Employed</td>\n",
       "      <td>No</td>\n",
       "      <td>950000</td>\n",
       "      <td>9</td>\n",
       "      <td>0</td>\n",
       "      <td>No</td>\n",
       "      <td>No</td>\n",
       "      <td>1</td>\n",
       "      <td>1</td>\n",
       "    </tr>\n",
       "  </tbody>\n",
       "</table>\n",
       "<p>928 rows × 10 columns</p>\n",
       "</div>"
      ],
      "text/plain": [
       "     Age               Employment Type GraduateOrNot  AnnualIncome  \\\n",
       "0     25             Government Sector           Yes        750000   \n",
       "1     25             Government Sector           Yes        750000   \n",
       "2     25             Government Sector           Yes        750000   \n",
       "3     25             Government Sector           Yes        750000   \n",
       "4     25             Government Sector           Yes        750000   \n",
       "..   ...                           ...           ...           ...   \n",
       "923   35  Private Sector/Self Employed            No        950000   \n",
       "924   35  Private Sector/Self Employed            No        950000   \n",
       "925   35  Private Sector/Self Employed            No        950000   \n",
       "926   35  Private Sector/Self Employed            No        950000   \n",
       "927   35  Private Sector/Self Employed            No        950000   \n",
       "\n",
       "     FamilyMembers  ChronicDiseases FrequentFlyer EverTravelledAbroad  sum  \\\n",
       "0                2                0           Yes                  No    0   \n",
       "1                3                0            No                  No    0   \n",
       "2                3                0            No                 Yes    1   \n",
       "3                3                1            No                  No    0   \n",
       "4                4                0            No                  No    1   \n",
       "..             ...              ...           ...                 ...  ...   \n",
       "923              2                1            No                  No    0   \n",
       "924              3                0            No                  No    0   \n",
       "925              6                0            No                 Yes    0   \n",
       "926              6                0           Yes                  No    1   \n",
       "927              9                0            No                  No    1   \n",
       "\n",
       "     count  \n",
       "0        1  \n",
       "1        1  \n",
       "2        1  \n",
       "3        1  \n",
       "4        1  \n",
       "..     ...  \n",
       "923      1  \n",
       "924      1  \n",
       "925      1  \n",
       "926      1  \n",
       "927      1  \n",
       "\n",
       "[928 rows x 10 columns]"
      ]
     },
     "execution_count": 76,
     "metadata": {},
     "output_type": "execute_result"
    }
   ],
   "source": [
    "\n",
    "train_df.columns\n",
    "#filtered_df_unique = filtered_df.drop_duplicates(subset = ['Age' , 'Employment Type' , 'GraduateOrNot'  , 'AnnualIncome' ,  'FamilyMembers' , 'ChronicDiseases' , 'FrequentFlyer', 'EverTravelledAbroad', 'TravelInsurance'])\n",
    "result = train_df.groupby(['Age' , 'Employment Type' , 'GraduateOrNot'  , 'AnnualIncome' ,  'FamilyMembers' , 'ChronicDiseases' , 'FrequentFlyer', 'EverTravelledAbroad']).agg({'TravelInsurance': ['sum','count']})\n",
    "\n",
    "\n",
    "#result.columns = result.columns.get_level_values(0)\n",
    "#result = result.reset_index()\n",
    "result = result.droplevel(axis=1, level=0).reset_index()\n",
    "result"
   ]
  },
  {
   "cell_type": "code",
   "execution_count": 77,
   "metadata": {},
   "outputs": [
    {
     "data": {
      "text/html": [
       "<div>\n",
       "<style scoped>\n",
       "    .dataframe tbody tr th:only-of-type {\n",
       "        vertical-align: middle;\n",
       "    }\n",
       "\n",
       "    .dataframe tbody tr th {\n",
       "        vertical-align: top;\n",
       "    }\n",
       "\n",
       "    .dataframe thead th {\n",
       "        text-align: right;\n",
       "    }\n",
       "</style>\n",
       "<table border=\"1\" class=\"dataframe\">\n",
       "  <thead>\n",
       "    <tr style=\"text-align: right;\">\n",
       "      <th></th>\n",
       "      <th>Age</th>\n",
       "      <th>Employment Type</th>\n",
       "      <th>GraduateOrNot</th>\n",
       "      <th>AnnualIncome</th>\n",
       "      <th>FamilyMembers</th>\n",
       "      <th>ChronicDiseases</th>\n",
       "      <th>FrequentFlyer</th>\n",
       "      <th>EverTravelledAbroad</th>\n",
       "      <th>sum</th>\n",
       "      <th>count</th>\n",
       "    </tr>\n",
       "  </thead>\n",
       "  <tbody>\n",
       "    <tr>\n",
       "      <th>10</th>\n",
       "      <td>25</td>\n",
       "      <td>Private Sector/Self Employed</td>\n",
       "      <td>No</td>\n",
       "      <td>600000</td>\n",
       "      <td>4</td>\n",
       "      <td>0</td>\n",
       "      <td>Yes</td>\n",
       "      <td>No</td>\n",
       "      <td>0</td>\n",
       "      <td>2</td>\n",
       "    </tr>\n",
       "    <tr>\n",
       "      <th>14</th>\n",
       "      <td>25</td>\n",
       "      <td>Private Sector/Self Employed</td>\n",
       "      <td>No</td>\n",
       "      <td>1150000</td>\n",
       "      <td>3</td>\n",
       "      <td>0</td>\n",
       "      <td>No</td>\n",
       "      <td>No</td>\n",
       "      <td>0</td>\n",
       "      <td>2</td>\n",
       "    </tr>\n",
       "    <tr>\n",
       "      <th>15</th>\n",
       "      <td>25</td>\n",
       "      <td>Private Sector/Self Employed</td>\n",
       "      <td>No</td>\n",
       "      <td>1150000</td>\n",
       "      <td>3</td>\n",
       "      <td>0</td>\n",
       "      <td>Yes</td>\n",
       "      <td>No</td>\n",
       "      <td>0</td>\n",
       "      <td>2</td>\n",
       "    </tr>\n",
       "    <tr>\n",
       "      <th>18</th>\n",
       "      <td>25</td>\n",
       "      <td>Private Sector/Self Employed</td>\n",
       "      <td>No</td>\n",
       "      <td>1150000</td>\n",
       "      <td>4</td>\n",
       "      <td>0</td>\n",
       "      <td>No</td>\n",
       "      <td>No</td>\n",
       "      <td>1</td>\n",
       "      <td>3</td>\n",
       "    </tr>\n",
       "    <tr>\n",
       "      <th>21</th>\n",
       "      <td>25</td>\n",
       "      <td>Private Sector/Self Employed</td>\n",
       "      <td>No</td>\n",
       "      <td>1150000</td>\n",
       "      <td>5</td>\n",
       "      <td>1</td>\n",
       "      <td>No</td>\n",
       "      <td>No</td>\n",
       "      <td>0</td>\n",
       "      <td>3</td>\n",
       "    </tr>\n",
       "    <tr>\n",
       "      <th>...</th>\n",
       "      <td>...</td>\n",
       "      <td>...</td>\n",
       "      <td>...</td>\n",
       "      <td>...</td>\n",
       "      <td>...</td>\n",
       "      <td>...</td>\n",
       "      <td>...</td>\n",
       "      <td>...</td>\n",
       "      <td>...</td>\n",
       "      <td>...</td>\n",
       "    </tr>\n",
       "    <tr>\n",
       "      <th>902</th>\n",
       "      <td>35</td>\n",
       "      <td>Government Sector</td>\n",
       "      <td>Yes</td>\n",
       "      <td>1100000</td>\n",
       "      <td>3</td>\n",
       "      <td>0</td>\n",
       "      <td>No</td>\n",
       "      <td>No</td>\n",
       "      <td>1</td>\n",
       "      <td>2</td>\n",
       "    </tr>\n",
       "    <tr>\n",
       "      <th>912</th>\n",
       "      <td>35</td>\n",
       "      <td>Private Sector/Self Employed</td>\n",
       "      <td>No</td>\n",
       "      <td>800000</td>\n",
       "      <td>4</td>\n",
       "      <td>0</td>\n",
       "      <td>No</td>\n",
       "      <td>No</td>\n",
       "      <td>1</td>\n",
       "      <td>6</td>\n",
       "    </tr>\n",
       "    <tr>\n",
       "      <th>914</th>\n",
       "      <td>35</td>\n",
       "      <td>Private Sector/Self Employed</td>\n",
       "      <td>No</td>\n",
       "      <td>800000</td>\n",
       "      <td>5</td>\n",
       "      <td>0</td>\n",
       "      <td>No</td>\n",
       "      <td>No</td>\n",
       "      <td>0</td>\n",
       "      <td>4</td>\n",
       "    </tr>\n",
       "    <tr>\n",
       "      <th>917</th>\n",
       "      <td>35</td>\n",
       "      <td>Private Sector/Self Employed</td>\n",
       "      <td>No</td>\n",
       "      <td>800000</td>\n",
       "      <td>6</td>\n",
       "      <td>0</td>\n",
       "      <td>Yes</td>\n",
       "      <td>No</td>\n",
       "      <td>2</td>\n",
       "      <td>2</td>\n",
       "    </tr>\n",
       "    <tr>\n",
       "      <th>921</th>\n",
       "      <td>35</td>\n",
       "      <td>Private Sector/Self Employed</td>\n",
       "      <td>No</td>\n",
       "      <td>800000</td>\n",
       "      <td>7</td>\n",
       "      <td>1</td>\n",
       "      <td>No</td>\n",
       "      <td>No</td>\n",
       "      <td>2</td>\n",
       "      <td>2</td>\n",
       "    </tr>\n",
       "  </tbody>\n",
       "</table>\n",
       "<p>301 rows × 10 columns</p>\n",
       "</div>"
      ],
      "text/plain": [
       "     Age               Employment Type GraduateOrNot  AnnualIncome  \\\n",
       "10    25  Private Sector/Self Employed            No        600000   \n",
       "14    25  Private Sector/Self Employed            No       1150000   \n",
       "15    25  Private Sector/Self Employed            No       1150000   \n",
       "18    25  Private Sector/Self Employed            No       1150000   \n",
       "21    25  Private Sector/Self Employed            No       1150000   \n",
       "..   ...                           ...           ...           ...   \n",
       "902   35             Government Sector           Yes       1100000   \n",
       "912   35  Private Sector/Self Employed            No        800000   \n",
       "914   35  Private Sector/Self Employed            No        800000   \n",
       "917   35  Private Sector/Self Employed            No        800000   \n",
       "921   35  Private Sector/Self Employed            No        800000   \n",
       "\n",
       "     FamilyMembers  ChronicDiseases FrequentFlyer EverTravelledAbroad  sum  \\\n",
       "10               4                0           Yes                  No    0   \n",
       "14               3                0            No                  No    0   \n",
       "15               3                0           Yes                  No    0   \n",
       "18               4                0            No                  No    1   \n",
       "21               5                1            No                  No    0   \n",
       "..             ...              ...           ...                 ...  ...   \n",
       "902              3                0            No                  No    1   \n",
       "912              4                0            No                  No    1   \n",
       "914              5                0            No                  No    0   \n",
       "917              6                0           Yes                  No    2   \n",
       "921              7                1            No                  No    2   \n",
       "\n",
       "     count  \n",
       "10       2  \n",
       "14       2  \n",
       "15       2  \n",
       "18       3  \n",
       "21       3  \n",
       "..     ...  \n",
       "902      2  \n",
       "912      6  \n",
       "914      4  \n",
       "917      2  \n",
       "921      2  \n",
       "\n",
       "[301 rows x 10 columns]"
      ]
     },
     "execution_count": 77,
     "metadata": {},
     "output_type": "execute_result"
    }
   ],
   "source": [
    "count_distinct_one = result[result[\"count\"] > 1]\n",
    "count_distinct_one"
   ]
  },
  {
   "cell_type": "code",
   "execution_count": 78,
   "metadata": {},
   "outputs": [],
   "source": [
    "count_inconsistence = count_distinct_one[ (count_distinct_one[\"sum\"] != 0 ) & ((count_distinct_one[\"sum\"] != count_distinct_one[\"count\"])) ]"
   ]
  },
  {
   "cell_type": "code",
   "execution_count": 79,
   "metadata": {},
   "outputs": [
    {
     "data": {
      "text/html": [
       "<div>\n",
       "<style scoped>\n",
       "    .dataframe tbody tr th:only-of-type {\n",
       "        vertical-align: middle;\n",
       "    }\n",
       "\n",
       "    .dataframe tbody tr th {\n",
       "        vertical-align: top;\n",
       "    }\n",
       "\n",
       "    .dataframe thead th {\n",
       "        text-align: right;\n",
       "    }\n",
       "</style>\n",
       "<table border=\"1\" class=\"dataframe\">\n",
       "  <thead>\n",
       "    <tr style=\"text-align: right;\">\n",
       "      <th></th>\n",
       "      <th>Customer</th>\n",
       "      <th>Age</th>\n",
       "      <th>AnnualIncome</th>\n",
       "      <th>FamilyMembers</th>\n",
       "      <th>ChronicDiseases</th>\n",
       "    </tr>\n",
       "  </thead>\n",
       "  <tbody>\n",
       "    <tr>\n",
       "      <th>count</th>\n",
       "      <td>497.000000</td>\n",
       "      <td>497.000000</td>\n",
       "      <td>4.970000e+02</td>\n",
       "      <td>497.000000</td>\n",
       "      <td>497.000000</td>\n",
       "    </tr>\n",
       "    <tr>\n",
       "      <th>mean</th>\n",
       "      <td>1739.000000</td>\n",
       "      <td>29.593561</td>\n",
       "      <td>9.481891e+05</td>\n",
       "      <td>4.686117</td>\n",
       "      <td>0.285714</td>\n",
       "    </tr>\n",
       "    <tr>\n",
       "      <th>std</th>\n",
       "      <td>143.615807</td>\n",
       "      <td>3.014715</td>\n",
       "      <td>3.640841e+05</td>\n",
       "      <td>1.516731</td>\n",
       "      <td>0.452209</td>\n",
       "    </tr>\n",
       "    <tr>\n",
       "      <th>min</th>\n",
       "      <td>1491.000000</td>\n",
       "      <td>25.000000</td>\n",
       "      <td>3.000000e+05</td>\n",
       "      <td>2.000000</td>\n",
       "      <td>0.000000</td>\n",
       "    </tr>\n",
       "    <tr>\n",
       "      <th>25%</th>\n",
       "      <td>1615.000000</td>\n",
       "      <td>28.000000</td>\n",
       "      <td>6.500000e+05</td>\n",
       "      <td>4.000000</td>\n",
       "      <td>0.000000</td>\n",
       "    </tr>\n",
       "    <tr>\n",
       "      <th>50%</th>\n",
       "      <td>1739.000000</td>\n",
       "      <td>29.000000</td>\n",
       "      <td>9.500000e+05</td>\n",
       "      <td>4.000000</td>\n",
       "      <td>0.000000</td>\n",
       "    </tr>\n",
       "    <tr>\n",
       "      <th>75%</th>\n",
       "      <td>1863.000000</td>\n",
       "      <td>32.000000</td>\n",
       "      <td>1.250000e+06</td>\n",
       "      <td>6.000000</td>\n",
       "      <td>1.000000</td>\n",
       "    </tr>\n",
       "    <tr>\n",
       "      <th>max</th>\n",
       "      <td>1987.000000</td>\n",
       "      <td>35.000000</td>\n",
       "      <td>1.750000e+06</td>\n",
       "      <td>9.000000</td>\n",
       "      <td>1.000000</td>\n",
       "    </tr>\n",
       "  </tbody>\n",
       "</table>\n",
       "</div>"
      ],
      "text/plain": [
       "          Customer         Age  AnnualIncome  FamilyMembers  ChronicDiseases\n",
       "count   497.000000  497.000000  4.970000e+02     497.000000       497.000000\n",
       "mean   1739.000000   29.593561  9.481891e+05       4.686117         0.285714\n",
       "std     143.615807    3.014715  3.640841e+05       1.516731         0.452209\n",
       "min    1491.000000   25.000000  3.000000e+05       2.000000         0.000000\n",
       "25%    1615.000000   28.000000  6.500000e+05       4.000000         0.000000\n",
       "50%    1739.000000   29.000000  9.500000e+05       4.000000         0.000000\n",
       "75%    1863.000000   32.000000  1.250000e+06       6.000000         1.000000\n",
       "max    1987.000000   35.000000  1.750000e+06       9.000000         1.000000"
      ]
     },
     "execution_count": 79,
     "metadata": {},
     "output_type": "execute_result"
    }
   ],
   "source": [
    "test_df.describe()"
   ]
  },
  {
   "cell_type": "markdown",
   "metadata": {},
   "source": [
    "## Baseline\n",
    "\n",
    "In this section we present a baseline based on a decision tree classifier.\n",
    "\n",
    "Many of the attributes are binary, there are a couple of numeric attributes, we might be able to one-hot (e.g. family members), or event discretize (age and anual income), this will come more clearly after the EDA."
   ]
  },
  {
   "cell_type": "code",
   "execution_count": 80,
   "metadata": {},
   "outputs": [],
   "source": [
    "from sklearn.compose import make_column_transformer\n",
    "from sklearn.metrics import classification_report\n",
    "from sklearn.model_selection import GridSearchCV\n",
    "from sklearn.preprocessing import KBinsDiscretizer, OneHotEncoder\n",
    "from sklearn.tree import DecisionTreeClassifier"
   ]
  },
  {
   "cell_type": "markdown",
   "metadata": {},
   "source": [
    "### Transform the columns into features\n",
    "\n",
    "First we need to transform the columns into features. The type of features we use will have a direct impact on the final result. In this example we decided to discretize some numeric features and make a one hot encoding of others. The number of bins, what we use as a one hot encoding, etc, is all up to you to try it out."
   ]
  },
  {
   "cell_type": "code",
   "execution_count": 81,
   "metadata": {},
   "outputs": [],
   "source": [
    "transformer = make_column_transformer(\n",
    "    (KBinsDiscretizer(n_bins=5, encode=\"ordinal\", strategy=\"quantile\"), [\"Age\", \"AnnualIncome\"]),\n",
    "    (OneHotEncoder(categories=\"auto\", dtype=\"int\", handle_unknown=\"ignore\"),\n",
    "     [\"Employment Type\", \"GraduateOrNot\", \"FamilyMembers\", \"FrequentFlyer\", \"EverTravelledAbroad\"]),\n",
    "    remainder=\"passthrough\")"
   ]
  },
  {
   "cell_type": "markdown",
   "metadata": {},
   "source": [
    "We transform the train and test data. In order to avoid overfitting is better to remove the `Customer` column and we don't want the `TravelInsurance` column as part of the attributes either."
   ]
  },
  {
   "cell_type": "code",
   "execution_count": 82,
   "metadata": {},
   "outputs": [],
   "source": [
    "# The data for training the model\n",
    "X_train = transformer.fit_transform(train_df.drop(columns=[\"Customer\", \"TravelInsurance\"]))\n",
    "y_train = train_df[\"TravelInsurance\"].values\n",
    "\n",
    "# The test data is only for generating the submission\n",
    "X_test = transformer.transform(test_df.drop(columns=[\"Customer\"]))\n"
   ]
  },
  {
   "cell_type": "markdown",
   "metadata": {},
   "source": [
    "### Grid Search\n",
    "\n",
    "We do a Grid Search for the Decision Tree (this can be replaced by a randomized search if the model is too complex)."
   ]
  },
  {
   "cell_type": "code",
   "execution_count": 83,
   "metadata": {},
   "outputs": [],
   "source": [
    "search_params = {\n",
    "    'criterion': ['gini', 'entropy'],\n",
    "    'min_samples_leaf': [1, 2, 5],\n",
    "    'max_depth': [3, 6, 10]\n",
    "}\n",
    "tree = DecisionTreeClassifier(random_state=42)\n",
    "tree_clf = GridSearchCV(tree, search_params, cv=5, scoring='f1', n_jobs=-1)\n",
    "tree_clf.fit(X_train, y_train)\n",
    "\n",
    "best_tree_clf = tree_clf.best_estimator_"
   ]
  },
  {
   "cell_type": "markdown",
   "metadata": {},
   "source": [
    "### Check Results\n",
    "\n",
    "We can print the results of the best estimator found on the whole training set (we could also set apart a validation set if we find it useful)."
   ]
  },
  {
   "cell_type": "code",
   "execution_count": 84,
   "metadata": {},
   "outputs": [
    {
     "name": "stdout",
     "output_type": "stream",
     "text": [
      "              precision    recall  f1-score   support\n",
      "\n",
      "           0       0.83      0.94      0.88       958\n",
      "           1       0.86      0.66      0.75       532\n",
      "\n",
      "    accuracy                           0.84      1490\n",
      "   macro avg       0.85      0.80      0.82      1490\n",
      "weighted avg       0.84      0.84      0.84      1490\n",
      "\n"
     ]
    }
   ],
   "source": [
    "print(classification_report(y_train, best_tree_clf.predict(X_train)))"
   ]
  },
  {
   "cell_type": "markdown",
   "metadata": {},
   "source": [
    "## Generate the output\n",
    "\n",
    "The last thing we do is generating a file that should be *submitted* on kaggle"
   ]
  },
  {
   "cell_type": "code",
   "execution_count": 85,
   "metadata": {},
   "outputs": [],
   "source": [
    "test_id = test_df[\"Customer\"]\n",
    "test_pred = best_tree_clf.predict(X_test)\n",
    "\n",
    "submission = pd.DataFrame(list(zip(test_id, test_pred)), columns=[\"Customer\", \"TravelInsurance\"])\n",
    "submission.to_csv(\"../data/travel_insurance_submission.csv\", header=True, index=False)"
   ]
  },
  {
   "cell_type": "markdown",
   "metadata": {},
   "source": [
    "# Desarrollo"
   ]
  },
  {
   "cell_type": "markdown",
   "metadata": {},
   "source": [
    "## Funciones para descrbir el DF"
   ]
  },
  {
   "cell_type": "markdown",
   "metadata": {},
   "source": [
    "## Descripción de DF de entrenamiento"
   ]
  },
  {
   "cell_type": "code",
   "execution_count": 86,
   "metadata": {},
   "outputs": [
    {
     "data": {
      "text/html": [
       "<div>\n",
       "<style scoped>\n",
       "    .dataframe tbody tr th:only-of-type {\n",
       "        vertical-align: middle;\n",
       "    }\n",
       "\n",
       "    .dataframe tbody tr th {\n",
       "        vertical-align: top;\n",
       "    }\n",
       "\n",
       "    .dataframe thead th {\n",
       "        text-align: right;\n",
       "    }\n",
       "</style>\n",
       "<table border=\"1\" class=\"dataframe\">\n",
       "  <thead>\n",
       "    <tr style=\"text-align: right;\">\n",
       "      <th></th>\n",
       "      <th>Levels</th>\n",
       "      <th>No. of Levels</th>\n",
       "      <th>No. of Missing Values</th>\n",
       "    </tr>\n",
       "  </thead>\n",
       "  <tbody>\n",
       "    <tr>\n",
       "      <th>Customer</th>\n",
       "      <td>[1, 2, 3, 4, 5, 6, 7, 8, 9, 10, 11, 12, 13, 14...</td>\n",
       "      <td>1490</td>\n",
       "      <td>0</td>\n",
       "    </tr>\n",
       "    <tr>\n",
       "      <th>Age</th>\n",
       "      <td>[33, 28, 31, 25, 26, 35, 27, 34, 32, 29, 30]</td>\n",
       "      <td>11</td>\n",
       "      <td>0</td>\n",
       "    </tr>\n",
       "    <tr>\n",
       "      <th>Employment Type</th>\n",
       "      <td>[Private Sector/Self Employed, Government Sector]</td>\n",
       "      <td>2</td>\n",
       "      <td>0</td>\n",
       "    </tr>\n",
       "    <tr>\n",
       "      <th>GraduateOrNot</th>\n",
       "      <td>[Yes, No]</td>\n",
       "      <td>2</td>\n",
       "      <td>0</td>\n",
       "    </tr>\n",
       "    <tr>\n",
       "      <th>AnnualIncome</th>\n",
       "      <td>[550000, 800000, 1250000, 300000, 1350000, 400...</td>\n",
       "      <td>30</td>\n",
       "      <td>0</td>\n",
       "    </tr>\n",
       "    <tr>\n",
       "      <th>FamilyMembers</th>\n",
       "      <td>[6, 7, 4, 3, 5, 2, 8, 9]</td>\n",
       "      <td>8</td>\n",
       "      <td>0</td>\n",
       "    </tr>\n",
       "    <tr>\n",
       "      <th>ChronicDiseases</th>\n",
       "      <td>[0, 1]</td>\n",
       "      <td>2</td>\n",
       "      <td>0</td>\n",
       "    </tr>\n",
       "    <tr>\n",
       "      <th>FrequentFlyer</th>\n",
       "      <td>[No, Yes]</td>\n",
       "      <td>2</td>\n",
       "      <td>0</td>\n",
       "    </tr>\n",
       "    <tr>\n",
       "      <th>EverTravelledAbroad</th>\n",
       "      <td>[No, Yes]</td>\n",
       "      <td>2</td>\n",
       "      <td>0</td>\n",
       "    </tr>\n",
       "    <tr>\n",
       "      <th>TravelInsurance</th>\n",
       "      <td>[1, 0]</td>\n",
       "      <td>2</td>\n",
       "      <td>0</td>\n",
       "    </tr>\n",
       "  </tbody>\n",
       "</table>\n",
       "</div>"
      ],
      "text/plain": [
       "                                                                Levels  \\\n",
       "Customer             [1, 2, 3, 4, 5, 6, 7, 8, 9, 10, 11, 12, 13, 14...   \n",
       "Age                       [33, 28, 31, 25, 26, 35, 27, 34, 32, 29, 30]   \n",
       "Employment Type      [Private Sector/Self Employed, Government Sector]   \n",
       "GraduateOrNot                                                [Yes, No]   \n",
       "AnnualIncome         [550000, 800000, 1250000, 300000, 1350000, 400...   \n",
       "FamilyMembers                                 [6, 7, 4, 3, 5, 2, 8, 9]   \n",
       "ChronicDiseases                                                 [0, 1]   \n",
       "FrequentFlyer                                                [No, Yes]   \n",
       "EverTravelledAbroad                                          [No, Yes]   \n",
       "TravelInsurance                                                 [1, 0]   \n",
       "\n",
       "                     No. of Levels  No. of Missing Values  \n",
       "Customer                      1490                      0  \n",
       "Age                             11                      0  \n",
       "Employment Type                  2                      0  \n",
       "GraduateOrNot                    2                      0  \n",
       "AnnualIncome                    30                      0  \n",
       "FamilyMembers                    8                      0  \n",
       "ChronicDiseases                  2                      0  \n",
       "FrequentFlyer                    2                      0  \n",
       "EverTravelledAbroad              2                      0  \n",
       "TravelInsurance                  2                      0  "
      ]
     },
     "execution_count": 86,
     "metadata": {},
     "output_type": "execute_result"
    }
   ],
   "source": [
    "lib.summarize_categoricals(train_df, show_levels=True)"
   ]
  },
  {
   "cell_type": "code",
   "execution_count": 87,
   "metadata": {},
   "outputs": [
    {
     "data": {
      "text/html": [
       "<div>\n",
       "<style scoped>\n",
       "    .dataframe tbody tr th:only-of-type {\n",
       "        vertical-align: middle;\n",
       "    }\n",
       "\n",
       "    .dataframe tbody tr th {\n",
       "        vertical-align: top;\n",
       "    }\n",
       "\n",
       "    .dataframe thead th {\n",
       "        text-align: right;\n",
       "    }\n",
       "</style>\n",
       "<table border=\"1\" class=\"dataframe\">\n",
       "  <thead>\n",
       "    <tr style=\"text-align: right;\">\n",
       "      <th></th>\n",
       "      <th>count</th>\n",
       "      <th>mean</th>\n",
       "      <th>std</th>\n",
       "      <th>min</th>\n",
       "      <th>25%</th>\n",
       "      <th>50%</th>\n",
       "      <th>75%</th>\n",
       "      <th>max</th>\n",
       "    </tr>\n",
       "  </thead>\n",
       "  <tbody>\n",
       "    <tr>\n",
       "      <th>Customer</th>\n",
       "      <td>1490.0</td>\n",
       "      <td>745.500000</td>\n",
       "      <td>430.270264</td>\n",
       "      <td>1.0</td>\n",
       "      <td>373.25</td>\n",
       "      <td>745.5</td>\n",
       "      <td>1117.75</td>\n",
       "      <td>1490.0</td>\n",
       "    </tr>\n",
       "    <tr>\n",
       "      <th>Age</th>\n",
       "      <td>1490.0</td>\n",
       "      <td>29.667114</td>\n",
       "      <td>2.880994</td>\n",
       "      <td>25.0</td>\n",
       "      <td>28.00</td>\n",
       "      <td>29.0</td>\n",
       "      <td>32.00</td>\n",
       "      <td>35.0</td>\n",
       "    </tr>\n",
       "    <tr>\n",
       "      <th>AnnualIncome</th>\n",
       "      <td>1490.0</td>\n",
       "      <td>927818.791946</td>\n",
       "      <td>381171.545186</td>\n",
       "      <td>300000.0</td>\n",
       "      <td>600000.00</td>\n",
       "      <td>900000.0</td>\n",
       "      <td>1250000.00</td>\n",
       "      <td>1800000.0</td>\n",
       "    </tr>\n",
       "    <tr>\n",
       "      <th>FamilyMembers</th>\n",
       "      <td>1490.0</td>\n",
       "      <td>4.777181</td>\n",
       "      <td>1.640248</td>\n",
       "      <td>2.0</td>\n",
       "      <td>4.00</td>\n",
       "      <td>5.0</td>\n",
       "      <td>6.00</td>\n",
       "      <td>9.0</td>\n",
       "    </tr>\n",
       "    <tr>\n",
       "      <th>ChronicDiseases</th>\n",
       "      <td>1490.0</td>\n",
       "      <td>0.275839</td>\n",
       "      <td>0.447086</td>\n",
       "      <td>0.0</td>\n",
       "      <td>0.00</td>\n",
       "      <td>0.0</td>\n",
       "      <td>1.00</td>\n",
       "      <td>1.0</td>\n",
       "    </tr>\n",
       "    <tr>\n",
       "      <th>TravelInsurance</th>\n",
       "      <td>1490.0</td>\n",
       "      <td>0.357047</td>\n",
       "      <td>0.479290</td>\n",
       "      <td>0.0</td>\n",
       "      <td>0.00</td>\n",
       "      <td>0.0</td>\n",
       "      <td>1.00</td>\n",
       "      <td>1.0</td>\n",
       "    </tr>\n",
       "  </tbody>\n",
       "</table>\n",
       "</div>"
      ],
      "text/plain": [
       "                  count           mean            std       min        25%  \\\n",
       "Customer         1490.0     745.500000     430.270264       1.0     373.25   \n",
       "Age              1490.0      29.667114       2.880994      25.0      28.00   \n",
       "AnnualIncome     1490.0  927818.791946  381171.545186  300000.0  600000.00   \n",
       "FamilyMembers    1490.0       4.777181       1.640248       2.0       4.00   \n",
       "ChronicDiseases  1490.0       0.275839       0.447086       0.0       0.00   \n",
       "TravelInsurance  1490.0       0.357047       0.479290       0.0       0.00   \n",
       "\n",
       "                      50%         75%        max  \n",
       "Customer            745.5     1117.75     1490.0  \n",
       "Age                  29.0       32.00       35.0  \n",
       "AnnualIncome     900000.0  1250000.00  1800000.0  \n",
       "FamilyMembers         5.0        6.00        9.0  \n",
       "ChronicDiseases       0.0        1.00        1.0  \n",
       "TravelInsurance       0.0        1.00        1.0  "
      ]
     },
     "execution_count": 87,
     "metadata": {},
     "output_type": "execute_result"
    }
   ],
   "source": [
    "train_df.describe().T"
   ]
  },
  {
   "cell_type": "code",
   "execution_count": 88,
   "metadata": {},
   "outputs": [
    {
     "name": "stdout",
     "output_type": "stream",
     "text": [
      "<class 'pandas.core.frame.DataFrame'>\n",
      "RangeIndex: 1490 entries, 0 to 1489\n",
      "Data columns (total 9 columns):\n",
      " #   Column               Non-Null Count  Dtype   \n",
      "---  ------               --------------  -----   \n",
      " 0   Age                  1490 non-null   int64   \n",
      " 1   Employment Type      1490 non-null   category\n",
      " 2   GraduateOrNot        1490 non-null   category\n",
      " 3   AnnualIncome         1490 non-null   int64   \n",
      " 4   FamilyMembers        1490 non-null   int64   \n",
      " 5   ChronicDiseases      1490 non-null   category\n",
      " 6   FrequentFlyer        1490 non-null   category\n",
      " 7   EverTravelledAbroad  1490 non-null   category\n",
      " 8   TravelInsurance      1490 non-null   category\n",
      "dtypes: category(6), int64(3)\n",
      "memory usage: 44.3 KB\n"
     ]
    }
   ],
   "source": [
    "to_cast = lib.return_categoricals(train_df, threshold=5)\n",
    "train_df_cast = lib.to_categorical(to_cast, train_df)\n",
    "train_df_cast = train_df_cast.drop(columns=[\"Customer\"])\n",
    "\n",
    "train_df_cast.info()"
   ]
  },
  {
   "cell_type": "markdown",
   "metadata": {},
   "source": [
    "## Correlación entre variables cuantitativas"
   ]
  },
  {
   "cell_type": "code",
   "execution_count": 89,
   "metadata": {},
   "outputs": [
    {
     "data": {
      "image/png": "[encoded data removed]",
      "text/plain": [
       "<Figure size 720x576 with 2 Axes>"
      ]
     },
     "metadata": {
      "needs_background": "light"
     },
     "output_type": "display_data"
    }
   ],
   "source": [
    "import seaborn as sns\n",
    "\n",
    "fig, ax = plt.subplots(figsize=(10, 8))\n",
    "sns.heatmap(data=train_df_cast.astype({'TravelInsurance': 'int64'}).corr(),\n",
    "            annot=True, cmap='coolwarm', cbar_kws={'aspect': 50},\n",
    "            square=True, ax=ax)\n",
    "plt.xticks(rotation=30, ha='right');\n",
    "plt.tight_layout()"
   ]
  },
  {
   "cell_type": "markdown",
   "metadata": {},
   "source": [
    "**AnnualIncome** es la variable continua que más correlacionada esta con TraverlInsurance"
   ]
  },
  {
   "cell_type": "markdown",
   "metadata": {},
   "source": [
    "## Correlación entre variables cualitativas"
   ]
  },
  {
   "cell_type": "markdown",
   "metadata": {},
   "source": [
    "Funciones para armar matriz de correlación de variables caulitativas"
   ]
  },
  {
   "cell_type": "code",
   "execution_count": 90,
   "metadata": {},
   "outputs": [
    {
     "data": {
      "image/png": "[encoded data removed]",
      "text/plain": [
       "<Figure size 720x360 with 2 Axes>"
      ]
     },
     "metadata": {
      "needs_background": "light"
     },
     "output_type": "display_data"
    }
   ],
   "source": [
    "from scipy.stats import chi2_contingency\n",
    "\n",
    "fig, ax = plt.subplots(figsize=(10, 5))\n",
    "sns.heatmap(lib.categorical_corr_matrix(train_df_cast), annot=True, cmap='coolwarm', \n",
    "            cbar_kws={'aspect': 50}, square=True, ax=ax)\n",
    "plt.xticks(rotation=30, ha='right');\n",
    "plt.tight_layout()"
   ]
  },
  {
   "cell_type": "markdown",
   "metadata": {},
   "source": [
    "**EverTravelledAbroad, FrequentFlyer y Employment Type** son las variables categóricas más correlacionadas con TraverlInsurance"
   ]
  },
  {
   "cell_type": "markdown",
   "metadata": {},
   "source": [
    "## Distribución de frecuencia de variables categóricas"
   ]
  },
  {
   "cell_type": "code",
   "execution_count": 91,
   "metadata": {},
   "outputs": [
    {
     "data": {
      "image/png": "[encoded data removed]",
      "text/plain": [
       "<Figure size 720x360 with 6 Axes>"
      ]
     },
     "metadata": {
      "needs_background": "light"
     },
     "output_type": "display_data"
    }
   ],
   "source": [
    "import pandas as pd\n",
    "\n",
    "fig, axs = plt.subplots(nrows=2, ncols=3, figsize=(10, 5))\n",
    "titles = list(train_df_cast.select_dtypes(include='category'))\n",
    "\n",
    "ax_title_pairs = zip(axs.flat, titles)\n",
    "\n",
    "for ax, title in ax_title_pairs:\n",
    "    sns.countplot(x=title, data=train_df_cast, palette='Pastel2', ax=ax)\n",
    "    ax.set_title(title)\n",
    "    ax.set_xlabel('')\n",
    "\n",
    "plt.tight_layout()"
   ]
  },
  {
   "cell_type": "markdown",
   "metadata": {},
   "source": [
    "## Distribución de frecuencia de variables continuas"
   ]
  },
  {
   "cell_type": "code",
   "execution_count": 92,
   "metadata": {},
   "outputs": [
    {
     "name": "stdout",
     "output_type": "stream",
     "text": [
      "['Age', 'AnnualIncome', 'FamilyMembers']\n"
     ]
    },
    {
     "name": "stderr",
     "output_type": "stream",
     "text": [
      "/Users/coviedo/opt/anaconda3/envs/diplodatos-ayvd/lib/python3.6/site-packages/seaborn/distributions.py:2551: FutureWarning: `distplot` is a deprecated function and will be removed in a future version. Please adapt your code to use either `displot` (a figure-level function with similar flexibility) or `histplot` (an axes-level function for histograms).\n",
      "  warnings.warn(msg, FutureWarning)\n",
      "/Users/coviedo/opt/anaconda3/envs/diplodatos-ayvd/lib/python3.6/site-packages/seaborn/distributions.py:2551: FutureWarning: `distplot` is a deprecated function and will be removed in a future version. Please adapt your code to use either `displot` (a figure-level function with similar flexibility) or `histplot` (an axes-level function for histograms).\n",
      "  warnings.warn(msg, FutureWarning)\n",
      "/Users/coviedo/opt/anaconda3/envs/diplodatos-ayvd/lib/python3.6/site-packages/seaborn/distributions.py:2551: FutureWarning: `distplot` is a deprecated function and will be removed in a future version. Please adapt your code to use either `displot` (a figure-level function with similar flexibility) or `histplot` (an axes-level function for histograms).\n",
      "  warnings.warn(msg, FutureWarning)\n",
      "/Users/coviedo/opt/anaconda3/envs/diplodatos-ayvd/lib/python3.6/site-packages/seaborn/distributions.py:2551: FutureWarning: `distplot` is a deprecated function and will be removed in a future version. Please adapt your code to use either `displot` (a figure-level function with similar flexibility) or `histplot` (an axes-level function for histograms).\n",
      "  warnings.warn(msg, FutureWarning)\n",
      "/Users/coviedo/opt/anaconda3/envs/diplodatos-ayvd/lib/python3.6/site-packages/seaborn/distributions.py:2551: FutureWarning: `distplot` is a deprecated function and will be removed in a future version. Please adapt your code to use either `displot` (a figure-level function with similar flexibility) or `histplot` (an axes-level function for histograms).\n",
      "  warnings.warn(msg, FutureWarning)\n",
      "/Users/coviedo/opt/anaconda3/envs/diplodatos-ayvd/lib/python3.6/site-packages/seaborn/distributions.py:2551: FutureWarning: `distplot` is a deprecated function and will be removed in a future version. Please adapt your code to use either `displot` (a figure-level function with similar flexibility) or `histplot` (an axes-level function for histograms).\n",
      "  warnings.warn(msg, FutureWarning)\n"
     ]
    },
    {
     "data": {
      "image/png": "[encoded data removed]",
      "text/plain": [
       "<Figure size 1080x576 with 4 Axes>"
      ]
     },
     "metadata": {
      "needs_background": "light"
     },
     "output_type": "display_data"
    }
   ],
   "source": [
    "df_grouped = train_df_cast.groupby(by='TravelInsurance')\n",
    "fig, axs = plt.subplots(nrows=2, ncols=3, figsize=(15, 8))\n",
    "titles = list(train_df_cast.select_dtypes(exclude='category'))\n",
    "\n",
    "print (titles)\n",
    "\n",
    "ax_title_pairs = zip(axs.flat, titles)\n",
    "\n",
    "for ax, title in ax_title_pairs:\n",
    "\n",
    "    sns.distplot(df_grouped.get_group(0)[title], bins=10, ax=ax, label='No')\n",
    "    sns.distplot(df_grouped.get_group(1)[title], bins=10, ax=ax, label='Yes')\n",
    "    ax.legend(title='TravelInsurance')\n",
    "\n",
    "axs.flat[-1].remove()\n",
    "axs.flat[-2].remove()\n",
    "fig.tight_layout()"
   ]
  },
  {
   "cell_type": "code",
   "execution_count": 93,
   "metadata": {},
   "outputs": [
    {
     "name": "stderr",
     "output_type": "stream",
     "text": [
      "/Users/coviedo/opt/anaconda3/envs/diplodatos-ayvd/lib/python3.6/site-packages/seaborn/_decorators.py:43: FutureWarning: Pass the following variable as a keyword arg: x. From version 0.12, the only valid positional argument will be `data`, and passing other arguments without an explicit keyword will result in an error or misinterpretation.\n",
      "  FutureWarning\n"
     ]
    },
    {
     "data": {
      "image/png": "[encoded data removed]",
      "text/plain": [
       "<Figure size 432x288 with 1 Axes>"
      ]
     },
     "metadata": {
      "needs_background": "light"
     },
     "output_type": "display_data"
    }
   ],
   "source": [
    "sns.countplot('Age',hue='TravelInsurance',data=train_df_cast)\n",
    "plt.show()"
   ]
  },
  {
   "cell_type": "code",
   "execution_count": 94,
   "metadata": {},
   "outputs": [
    {
     "name": "stderr",
     "output_type": "stream",
     "text": [
      "/Users/coviedo/opt/anaconda3/envs/diplodatos-ayvd/lib/python3.6/site-packages/seaborn/_decorators.py:43: FutureWarning: Pass the following variable as a keyword arg: x. From version 0.12, the only valid positional argument will be `data`, and passing other arguments without an explicit keyword will result in an error or misinterpretation.\n",
      "  FutureWarning\n"
     ]
    },
    {
     "data": {
      "image/png": "[encoded data removed]",
      "text/plain": [
       "<Figure size 2880x720 with 1 Axes>"
      ]
     },
     "metadata": {
      "needs_background": "light"
     },
     "output_type": "display_data"
    }
   ],
   "source": [
    "plt.figure(figsize=(40,10))\n",
    "sns.countplot('AnnualIncome',hue='TravelInsurance',data=train_df_cast)\n",
    "plt.show()"
   ]
  },
  {
   "cell_type": "markdown",
   "metadata": {},
   "source": [
    "Se puede ver que cuando la persona gana 135 o más, contrata un seguro. "
   ]
  },
  {
   "cell_type": "markdown",
   "metadata": {},
   "source": [
    "## Observaciones \n",
    "\n",
    "- A mayor anual income, mayor grado de compra de seguros\n",
    "- A mayor edad, mayor grado de compra de seguros"
   ]
  },
  {
   "cell_type": "markdown",
   "metadata": {},
   "source": [
    "Conteo de TravelInsurance  en base a  EverTravelledAbroad, FrequentFlyer y Employment Type"
   ]
  },
  {
   "cell_type": "markdown",
   "metadata": {},
   "source": [
    "Funciones para armar countpltot"
   ]
  },
  {
   "cell_type": "code",
   "execution_count": 95,
   "metadata": {},
   "outputs": [
    {
     "data": {
      "image/png": "[encoded data removed]",
      "text/plain": [
       "<Figure size 518.75x432 with 4 Axes>"
      ]
     },
     "metadata": {
      "needs_background": "light"
     },
     "output_type": "display_data"
    }
   ],
   "source": [
    "facet = sns.FacetGrid(train_df_cast, row='EverTravelledAbroad', col='Employment Type', sharex=False,\n",
    "                      sharey=False, margin_titles=True)\n",
    "facet.map(lib.modified_countplot, x='FrequentFlyer', hue='TravelInsurance',\n",
    "          palette='Pastel2', facet_generator=facet.facet_data())\n",
    "facet.set_xlabels('FrequentFlyer')\n",
    "facet.set_ylabels('Count')\n",
    "facet.add_legend(title='TravelInsurance');"
   ]
  },
  {
   "cell_type": "markdown",
   "metadata": {},
   "source": [
    "## Observaciones: \n",
    "\n",
    "- EverTraveledAbroad y FrecuentTravelledAbroad = True, tienen gran peso a la hora de indicar si el viajero contrata seguro"
   ]
  },
  {
   "cell_type": "code",
   "execution_count": 96,
   "metadata": {},
   "outputs": [],
   "source": [
    "#selected_numerical_columns = ['AnnualIncome' , 'Age']\n",
    "\n",
    "selected_numerical_columns = ['AnnualIncome' , 'Age' , 'FamilyMembers' ]\n",
    "\n"
   ]
  },
  {
   "cell_type": "code",
   "execution_count": 97,
   "metadata": {},
   "outputs": [],
   "source": [
    "#selected_categorical_columns = ['EverTravelledAbroad', 'FrequentFlyer']\n",
    "\n",
    "selected_categorical_columns = ['EverTravelledAbroad', 'FrequentFlyer' , 'ChronicDiseases' , 'Employment Type' , 'GraduateOrNot']\n"
   ]
  },
  {
   "cell_type": "markdown",
   "metadata": {},
   "source": [
    "## Seteo seed_val\n",
    "\n",
    "Hacemos el seteo de la variable seed_val para que los experimentos puedan ser repetidos sin que los valore aleatorios cambien entre corrida y corrida\n"
   ]
  },
  {
   "cell_type": "code",
   "execution_count": 98,
   "metadata": {},
   "outputs": [],
   "source": [
    "seed_val = 42"
   ]
  },
  {
   "cell_type": "markdown",
   "metadata": {},
   "source": [
    "## Particionamos el Data Set en train y test. \n",
    "Recordemos que el test que tenemos, no tiene los valores y puesto que justmente estos valores tiene que ser calculados y subidos a kaggle para ver como performa nuestro modelo"
   ]
  },
  {
   "cell_type": "code",
   "execution_count": 99,
   "metadata": {},
   "outputs": [],
   "source": [
    "from sklearn.model_selection import train_test_split\n",
    "\n",
    "x_train_df_split, x_test_df_split, y_train_split, y_test_split = train_test_split(train_df_cast.drop(columns = ['TravelInsurance']), train_df_cast['TravelInsurance'], test_size=0.25, random_state=seed_val,\n",
    "                               shuffle=True, stratify=train_df_cast['TravelInsurance'])"
   ]
  },
  {
   "cell_type": "markdown",
   "metadata": {},
   "source": [
    "## Transformers"
   ]
  },
  {
   "cell_type": "code",
   "execution_count": 100,
   "metadata": {},
   "outputs": [],
   "source": [
    "transformer = make_column_transformer(\n",
    "    (KBinsDiscretizer(n_bins=5, encode=\"ordinal\", strategy=\"quantile\"), ['AnnualIncome' , 'Age']),\n",
    "    (OneHotEncoder(categories=\"auto\", dtype=\"int\", handle_unknown=\"ignore\"),\n",
    "      [\"Employment Type\", \"GraduateOrNot\", \"FamilyMembers\", \"FrequentFlyer\", \"EverTravelledAbroad\"]),\n",
    "    remainder=\"passthrough\")"
   ]
  },
  {
   "cell_type": "code",
   "execution_count": 101,
   "metadata": {},
   "outputs": [],
   "source": [
    "transformer_feature_engeneeirng = make_column_transformer(\n",
    "    #(KBinsDiscretizer(n_bins=5, encode=\"ordinal\", strategy=\"quantile\"), ['Age']),\n",
    "    (OneHotEncoder(categories=\"auto\", dtype=\"int\", handle_unknown=\"ignore\"),\n",
    "      [\"Employment Type\", \"GraduateOrNot\", \"FamilyMembers\", \"FrequentFlyer\", \"EverTravelledAbroad\"]),\n",
    "    remainder=\"passthrough\")"
   ]
  },
  {
   "cell_type": "code",
   "execution_count": 102,
   "metadata": {},
   "outputs": [],
   "source": [
    "# Scalers"
   ]
  },
  {
   "cell_type": "code",
   "execution_count": 103,
   "metadata": {},
   "outputs": [],
   "source": [
    "from sklearn.preprocessing import StandardScaler\n",
    "sc = StandardScaler()"
   ]
  },
  {
   "cell_type": "code",
   "execution_count": 104,
   "metadata": {},
   "outputs": [],
   "source": [
    "selected_transformer = transformer_feature_engeneeirng"
   ]
  },
  {
   "cell_type": "code",
   "execution_count": 105,
   "metadata": {},
   "outputs": [
    {
     "data": {
      "text/html": [
       "<div>\n",
       "<style scoped>\n",
       "    .dataframe tbody tr th:only-of-type {\n",
       "        vertical-align: middle;\n",
       "    }\n",
       "\n",
       "    .dataframe tbody tr th {\n",
       "        vertical-align: top;\n",
       "    }\n",
       "\n",
       "    .dataframe thead th {\n",
       "        text-align: right;\n",
       "    }\n",
       "</style>\n",
       "<table border=\"1\" class=\"dataframe\">\n",
       "  <thead>\n",
       "    <tr style=\"text-align: right;\">\n",
       "      <th></th>\n",
       "      <th>Age</th>\n",
       "      <th>Employment Type</th>\n",
       "      <th>GraduateOrNot</th>\n",
       "      <th>AnnualIncome</th>\n",
       "      <th>FamilyMembers</th>\n",
       "      <th>ChronicDiseases</th>\n",
       "      <th>FrequentFlyer</th>\n",
       "      <th>EverTravelledAbroad</th>\n",
       "    </tr>\n",
       "  </thead>\n",
       "  <tbody>\n",
       "    <tr>\n",
       "      <th>598</th>\n",
       "      <td>33</td>\n",
       "      <td>Government Sector</td>\n",
       "      <td>Yes</td>\n",
       "      <td>400000</td>\n",
       "      <td>3</td>\n",
       "      <td>0</td>\n",
       "      <td>No</td>\n",
       "      <td>No</td>\n",
       "    </tr>\n",
       "    <tr>\n",
       "      <th>1466</th>\n",
       "      <td>33</td>\n",
       "      <td>Government Sector</td>\n",
       "      <td>Yes</td>\n",
       "      <td>600000</td>\n",
       "      <td>7</td>\n",
       "      <td>0</td>\n",
       "      <td>No</td>\n",
       "      <td>No</td>\n",
       "    </tr>\n",
       "    <tr>\n",
       "      <th>1365</th>\n",
       "      <td>33</td>\n",
       "      <td>Government Sector</td>\n",
       "      <td>Yes</td>\n",
       "      <td>650000</td>\n",
       "      <td>6</td>\n",
       "      <td>1</td>\n",
       "      <td>No</td>\n",
       "      <td>No</td>\n",
       "    </tr>\n",
       "    <tr>\n",
       "      <th>1158</th>\n",
       "      <td>28</td>\n",
       "      <td>Private Sector/Self Employed</td>\n",
       "      <td>Yes</td>\n",
       "      <td>600000</td>\n",
       "      <td>3</td>\n",
       "      <td>0</td>\n",
       "      <td>No</td>\n",
       "      <td>No</td>\n",
       "    </tr>\n",
       "    <tr>\n",
       "      <th>786</th>\n",
       "      <td>32</td>\n",
       "      <td>Government Sector</td>\n",
       "      <td>Yes</td>\n",
       "      <td>350000</td>\n",
       "      <td>6</td>\n",
       "      <td>0</td>\n",
       "      <td>No</td>\n",
       "      <td>No</td>\n",
       "    </tr>\n",
       "    <tr>\n",
       "      <th>...</th>\n",
       "      <td>...</td>\n",
       "      <td>...</td>\n",
       "      <td>...</td>\n",
       "      <td>...</td>\n",
       "      <td>...</td>\n",
       "      <td>...</td>\n",
       "      <td>...</td>\n",
       "      <td>...</td>\n",
       "    </tr>\n",
       "    <tr>\n",
       "      <th>191</th>\n",
       "      <td>28</td>\n",
       "      <td>Private Sector/Self Employed</td>\n",
       "      <td>Yes</td>\n",
       "      <td>1100000</td>\n",
       "      <td>7</td>\n",
       "      <td>0</td>\n",
       "      <td>Yes</td>\n",
       "      <td>No</td>\n",
       "    </tr>\n",
       "    <tr>\n",
       "      <th>1078</th>\n",
       "      <td>28</td>\n",
       "      <td>Private Sector/Self Employed</td>\n",
       "      <td>Yes</td>\n",
       "      <td>750000</td>\n",
       "      <td>4</td>\n",
       "      <td>0</td>\n",
       "      <td>No</td>\n",
       "      <td>No</td>\n",
       "    </tr>\n",
       "    <tr>\n",
       "      <th>531</th>\n",
       "      <td>28</td>\n",
       "      <td>Government Sector</td>\n",
       "      <td>Yes</td>\n",
       "      <td>300000</td>\n",
       "      <td>3</td>\n",
       "      <td>0</td>\n",
       "      <td>No</td>\n",
       "      <td>No</td>\n",
       "    </tr>\n",
       "    <tr>\n",
       "      <th>291</th>\n",
       "      <td>28</td>\n",
       "      <td>Private Sector/Self Employed</td>\n",
       "      <td>Yes</td>\n",
       "      <td>900000</td>\n",
       "      <td>4</td>\n",
       "      <td>0</td>\n",
       "      <td>Yes</td>\n",
       "      <td>No</td>\n",
       "    </tr>\n",
       "    <tr>\n",
       "      <th>288</th>\n",
       "      <td>32</td>\n",
       "      <td>Government Sector</td>\n",
       "      <td>Yes</td>\n",
       "      <td>350000</td>\n",
       "      <td>3</td>\n",
       "      <td>0</td>\n",
       "      <td>No</td>\n",
       "      <td>No</td>\n",
       "    </tr>\n",
       "  </tbody>\n",
       "</table>\n",
       "<p>1117 rows × 8 columns</p>\n",
       "</div>"
      ],
      "text/plain": [
       "      Age               Employment Type GraduateOrNot  AnnualIncome  \\\n",
       "598    33             Government Sector           Yes        400000   \n",
       "1466   33             Government Sector           Yes        600000   \n",
       "1365   33             Government Sector           Yes        650000   \n",
       "1158   28  Private Sector/Self Employed           Yes        600000   \n",
       "786    32             Government Sector           Yes        350000   \n",
       "...   ...                           ...           ...           ...   \n",
       "191    28  Private Sector/Self Employed           Yes       1100000   \n",
       "1078   28  Private Sector/Self Employed           Yes        750000   \n",
       "531    28             Government Sector           Yes        300000   \n",
       "291    28  Private Sector/Self Employed           Yes        900000   \n",
       "288    32             Government Sector           Yes        350000   \n",
       "\n",
       "      FamilyMembers ChronicDiseases FrequentFlyer EverTravelledAbroad  \n",
       "598               3               0            No                  No  \n",
       "1466              7               0            No                  No  \n",
       "1365              6               1            No                  No  \n",
       "1158              3               0            No                  No  \n",
       "786               6               0            No                  No  \n",
       "...             ...             ...           ...                 ...  \n",
       "191               7               0           Yes                  No  \n",
       "1078              4               0            No                  No  \n",
       "531               3               0            No                  No  \n",
       "291               4               0           Yes                  No  \n",
       "288               3               0            No                  No  \n",
       "\n",
       "[1117 rows x 8 columns]"
      ]
     },
     "execution_count": 105,
     "metadata": {},
     "output_type": "execute_result"
    }
   ],
   "source": [
    "x_train_df_split"
   ]
  },
  {
   "cell_type": "markdown",
   "metadata": {},
   "source": [
    "Si se hace feature engeering, ejecutar el codigo siguiente"
   ]
  },
  {
   "cell_type": "code",
   "execution_count": 106,
   "metadata": {},
   "outputs": [],
   "source": [
    "feature_engeenring = True"
   ]
  },
  {
   "cell_type": "code",
   "execution_count": 107,
   "metadata": {},
   "outputs": [],
   "source": [
    "if feature_engeenring:\n",
    "    \n",
    "    train_df = pd.read_csv(\"../data/travel_insurance_prediction_train.csv\")\n",
    "    \n",
    "    x_train_df_split['Annual_Income_135'] = x_train_df_split['AnnualIncome'] >= 1350000\n",
    "    x_test_df_split['Annual_Income_135'] = x_test_df_split['AnnualIncome'] >= 1350000\n",
    "    \n",
    "    train_df['Annual_Income_135'] = train_df['AnnualIncome'] >= 1350000\n",
    "  \n",
    "    \n",
    "    x_train_df_split['Age_32'] = x_train_df_split['Age'] >= 32\n",
    "    x_test_df_split['Age_32'] = x_test_df_split['Age'] >= 32\n",
    "    \n",
    "    train_df['Age_32'] = train_df['Age'] >= 32\n",
    "    \n",
    "    \n",
    "    x_train_df_split.drop(columns=[\"AnnualIncome\" ,\"Age\"] , inplace = True)\n",
    "    x_test_df_split.drop(columns=[\"AnnualIncome\", \"Age\"] , inplace = True)\n",
    "    train_df.drop(columns=[\"AnnualIncome\" , \"Age\"] , inplace = True)\n",
    "    \n",
    "    \n",
    "    selected_numerical_columns = [ 'FamilyMembers' ]\n",
    "    selected_categorical_columns = ['EverTravelledAbroad', 'FrequentFlyer' , 'ChronicDiseases' , 'Employment Type' , 'GraduateOrNot' , 'Annual_Income_135' , 'Age_32']\n",
    "\n",
    "    X_train = selected_transformer.fit_transform(train_df.drop(columns=[\"Customer\", \"TravelInsurance\"]))\n",
    "    "
   ]
  },
  {
   "cell_type": "code",
   "execution_count": 108,
   "metadata": {},
   "outputs": [],
   "source": [
    "\n",
    "\n",
    "x_train_df_split_transformed = selected_transformer.fit_transform(x_train_df_split[selected_numerical_columns +  selected_categorical_columns])\n",
    "\n",
    "x_test_df_cast_split_transformed = selected_transformer.transform(x_test_df_split[selected_numerical_columns +  selected_categorical_columns])\n",
    "\n",
    "x_train_df_split_transformed_scaled = sc.fit_transform(x_train_df_split_transformed)\n",
    "\n",
    "x_test_df_cast_split_transformed_scaled = sc.transform(x_test_df_cast_split_transformed)\n",
    "\n",
    "\n",
    "\n",
    "X_train_scaled = sc.fit_transform(X_train)\n"
   ]
  },
  {
   "cell_type": "markdown",
   "metadata": {},
   "source": [
    "# Entrenamientos"
   ]
  },
  {
   "cell_type": "markdown",
   "metadata": {},
   "source": [
    "Metrica para validar la eficiencia / eficacia de los modelos"
   ]
  },
  {
   "cell_type": "code",
   "execution_count": 109,
   "metadata": {},
   "outputs": [],
   "source": [
    "from sklearn import metrics\n",
    "\n",
    "primary_eval_metric = metrics.f1_score"
   ]
  },
  {
   "cell_type": "code",
   "execution_count": 110,
   "metadata": {},
   "outputs": [],
   "source": [
    "feature_names = selected_numerical_columns +  selected_categorical_columns"
   ]
  },
  {
   "cell_type": "markdown",
   "metadata": {},
   "source": [
    "Nombre de los lables Y"
   ]
  },
  {
   "cell_type": "code",
   "execution_count": 111,
   "metadata": {},
   "outputs": [],
   "source": [
    "confusion_lbs = ['No TravelInsurance', 'TravelInsurance']"
   ]
  },
  {
   "cell_type": "markdown",
   "metadata": {},
   "source": [
    "## Logistic Regression"
   ]
  },
  {
   "cell_type": "code",
   "execution_count": 112,
   "metadata": {},
   "outputs": [
    {
     "data": {
      "text/plain": [
       "GridSearchCV(cv=5, estimator=LogisticRegression(), n_jobs=-1,\n",
       "             param_grid={'class_weight': ['balanced'], 'penalty': ['l2'],\n",
       "                         'solver': ['liblinear', 'newton-cg', 'lbfgs', 'sag'],\n",
       "                         'tol': [0.0001, 0.001, 0.0001, 0.1]},\n",
       "             scoring='f1')"
      ]
     },
     "execution_count": 112,
     "metadata": {},
     "output_type": "execute_result"
    }
   ],
   "source": [
    "from sklearn.linear_model import LogisticRegression\n",
    "\n",
    "search_params1 = {\n",
    "    'tol': [ 0.01 , 0.001 , 0.0001 , 0.1],\n",
    "    'penalty': ['l2' , 'l1'],\n",
    "    'solver': ['liblinear' , 'saga' ],\n",
    "    'class_weight' : ['balanced']\n",
    "}\n",
    "\n",
    "\n",
    "search_params = {\n",
    "    'tol': [ 0.0001 , 0.001 , 0.0001 , 0.1],\n",
    "    'penalty': ['l2'],\n",
    "    'solver': ['liblinear' , 'newton-cg', 'lbfgs', 'sag' ],\n",
    "    'class_weight' : ['balanced']\n",
    "}\n",
    "\n",
    "\n",
    "\n",
    "lgr = LogisticRegression()\n",
    "\n",
    "lgr_cv = GridSearchCV(estimator =  LogisticRegression(), param_grid = search_params, cv=5, scoring='f1', n_jobs=-1 , verbose = 0 , refit = True  )\n",
    "\n",
    "lgr_cv.fit(x_train_df_split_transformed, y_train_split)"
   ]
  },
  {
   "cell_type": "code",
   "execution_count": 113,
   "metadata": {},
   "outputs": [
    {
     "data": {
      "text/plain": [
       "LogisticRegression(class_weight='balanced', solver='liblinear', tol=0.1)"
      ]
     },
     "execution_count": 113,
     "metadata": {},
     "output_type": "execute_result"
    }
   ],
   "source": [
    "lgr_cv.best_estimator_"
   ]
  },
  {
   "cell_type": "code",
   "execution_count": 114,
   "metadata": {},
   "outputs": [
    {
     "name": "stdout",
     "output_type": "stream",
     "text": [
      "LogisticRegressionCV(class_weight='balanced', cv=5, max_iter=500, n_jobs=-1,\n",
      "                     random_state=42, scoring='f1', solver='liblinear',\n",
      "                     tol=0.1)\n",
      "\n",
      "=============================> TRAIN-TEST DETAILS <======================================\n",
      "Train Size: 1117 samples\n",
      " Test Size: 373 samples\n",
      "---------------------------------------------\n",
      "Training Time: 0.068 seconds\n",
      " Testing Time: 0.001 seconds\n",
      "---------------------------------------------\n",
      "Train Accuracy:  0.7967770814682185\n",
      " Test Accuracy:  0.7533512064343163\n",
      "---------------------------------------------\n",
      "Train F1 Score:  0.687757909215956\n",
      " Test F1 Score:  0.6260162601626016\n",
      "\n",
      "---------------------------------------------\n",
      " Area Under ROC (test):  0.7507205513784462\n",
      "---------------------------------------------\n",
      "Model Memory Size: 10.02 kB\n",
      "\n",
      "=============================> CLASSIFICATION REPORT <===================================\n",
      "                    precision    recall  f1-score   support\n",
      "\n",
      "No TravelInsurance       0.78      0.85      0.82       240\n",
      "   TravelInsurance       0.68      0.58      0.63       133\n",
      "\n",
      "          accuracy                           0.75       373\n",
      "         macro avg       0.73      0.71      0.72       373\n",
      "      weighted avg       0.75      0.75      0.75       373\n",
      "\n",
      "\n",
      "================================> CONFUSION MATRIX <=====================================\n"
     ]
    },
    {
     "data": {
      "image/png": "[encoded data removed]",
      "text/plain": [
       "<Figure size 432x288 with 2 Axes>"
      ]
     },
     "metadata": {},
     "output_type": "display_data"
    }
   ],
   "source": [
    "from sklearn.linear_model import LogisticRegressionCV\n",
    "\n",
    "logit_cv = LogisticRegressionCV(class_weight='balanced', cv=5,\n",
    "                                max_iter=500, penalty='l2',\n",
    "                                scoring='f1', solver='liblinear',\n",
    "                                n_jobs=-1, random_state=seed_val,\n",
    "                                refit=True, tol=0.1, verbose=0)\n",
    "\n",
    "\n",
    "\n",
    "\n",
    "logit_cv, logit_report = lib.report(logit_cv, x_train_df_split_transformed, y_train_split,\n",
    "                                x_test_df_cast_split_transformed, y_test_split,\n",
    "                                display_scores=[primary_eval_metric],\n",
    "                                importance_plot=True,\n",
    "                                feature_labels=feature_names,\n",
    "                                confusion_labels=confusion_lbs)"
   ]
  },
  {
   "cell_type": "code",
   "execution_count": 115,
   "metadata": {},
   "outputs": [],
   "source": [
    "#logit_cv = LogisticRegression(class_weight='balanced',\n",
    "#                                max_iter=500, penalty='l2',\n",
    "#                                solver='liblinear',\n",
    "#                                n_jobs=-1, random_state=seed_val,\n",
    "#                                tol=0.1, verbose=0)\n",
    "\n",
    "logit_cv = LogisticRegression(class_weight='balanced', solver='liblinear', tol=0.1)"
   ]
  },
  {
   "cell_type": "code",
   "execution_count": 116,
   "metadata": {},
   "outputs": [
    {
     "name": "stdout",
     "output_type": "stream",
     "text": [
      "              precision    recall  f1-score   support\n",
      "\n",
      "           0       0.81      0.90      0.85       958\n",
      "           1       0.78      0.61      0.68       532\n",
      "\n",
      "    accuracy                           0.80      1490\n",
      "   macro avg       0.79      0.76      0.77      1490\n",
      "weighted avg       0.80      0.80      0.79      1490\n",
      "\n"
     ]
    }
   ],
   "source": [
    "logit_cv.fit(X_train, y_train)\n",
    "print(classification_report(y_train, logit_cv.predict(X_train)))"
   ]
  },
  {
   "cell_type": "markdown",
   "metadata": {},
   "source": [
    "## Decission Tree"
   ]
  },
  {
   "cell_type": "code",
   "execution_count": 117,
   "metadata": {},
   "outputs": [],
   "source": [
    "search_params = {\n",
    "    'criterion': ['gini', 'entropy'],\n",
    "    'min_samples_leaf': [1, 2, 5],\n",
    "    'max_depth': [6, 3, 10]\n",
    "}"
   ]
  },
  {
   "cell_type": "code",
   "execution_count": 118,
   "metadata": {},
   "outputs": [
    {
     "data": {
      "text/plain": [
       "DecisionTreeClassifier(criterion='entropy', max_depth=6, min_samples_leaf=2,\n",
       "                       random_state=42)"
      ]
     },
     "execution_count": 118,
     "metadata": {},
     "output_type": "execute_result"
    }
   ],
   "source": [
    "tree_cv = GridSearchCV(estimator =  DecisionTreeClassifier(random_state=seed_val), param_grid = search_params, cv=5, scoring='f1', n_jobs=-1 , verbose = 0 , refit = True  )\n",
    "\n",
    "tree_cv.fit(x_train_df_split_transformed, y_train_split)\n",
    "\n",
    "\n",
    "tree_cv.best_estimator_"
   ]
  },
  {
   "cell_type": "code",
   "execution_count": 119,
   "metadata": {},
   "outputs": [
    {
     "name": "stdout",
     "output_type": "stream",
     "text": [
      "DecisionTreeClassifier(max_depth=10, min_samples_leaf=5, random_state=42)\n",
      "\n",
      "=============================> TRAIN-TEST DETAILS <======================================\n",
      "Train Size: 1117 samples\n",
      " Test Size: 373 samples\n",
      "---------------------------------------------\n",
      "Training Time: 0.003 seconds\n",
      " Testing Time: 0.0 seconds\n",
      "---------------------------------------------\n",
      "Train Accuracy:  0.8442256042972247\n",
      " Test Accuracy:  0.7989276139410187\n",
      "---------------------------------------------\n",
      "Train F1 Score:  0.7433628318584071\n",
      " Test F1 Score:  0.6606334841628959\n",
      "\n",
      "---------------------------------------------\n",
      " Area Under ROC (test):  0.7414317042606517\n",
      "---------------------------------------------\n",
      "Model Memory Size: 10.95 kB\n",
      "\n",
      "=============================> CLASSIFICATION REPORT <===================================\n",
      "                    precision    recall  f1-score   support\n",
      "\n",
      "No TravelInsurance       0.79      0.94      0.86       240\n",
      "   TravelInsurance       0.83      0.55      0.66       133\n",
      "\n",
      "          accuracy                           0.80       373\n",
      "         macro avg       0.81      0.74      0.76       373\n",
      "      weighted avg       0.80      0.80      0.79       373\n",
      "\n",
      "\n",
      "================================> CONFUSION MATRIX <=====================================\n"
     ]
    },
    {
     "data": {
      "image/png": "[encoded data removed]",
      "text/plain": [
       "<Figure size 432x288 with 2 Axes>"
      ]
     },
     "metadata": {},
     "output_type": "display_data"
    }
   ],
   "source": [
    "decision_tree = DecisionTreeClassifier(max_depth=10,\n",
    "                                       random_state=seed_val, min_samples_leaf=5)\n",
    "\n",
    "decision_tree, decision_tree_report = lib.report(decision_tree,x_train_df_split_transformed, y_train_split,\n",
    "                                        x_test_df_cast_split_transformed, y_test_split,\n",
    "                                        display_scores=[primary_eval_metric],\n",
    "                                        importance_plot=True,\n",
    "                                        feature_labels=feature_names,\n",
    "                                        confusion_labels=confusion_lbs)\n",
    "\n"
   ]
  },
  {
   "cell_type": "code",
   "execution_count": 120,
   "metadata": {},
   "outputs": [],
   "source": [
    "# decision_tree = DecisionTreeClassifier(max_depth=10,random_state=seed_val, min_samples_leaf=5)\n",
    "\n",
    "decision_tree = DecisionTreeClassifier(criterion='entropy', max_depth=6, min_samples_leaf=2, random_state=42)"
   ]
  },
  {
   "cell_type": "code",
   "execution_count": 121,
   "metadata": {},
   "outputs": [
    {
     "name": "stdout",
     "output_type": "stream",
     "text": [
      "              precision    recall  f1-score   support\n",
      "\n",
      "           0       0.81      0.96      0.88       958\n",
      "           1       0.89      0.61      0.72       532\n",
      "\n",
      "    accuracy                           0.83      1490\n",
      "   macro avg       0.85      0.78      0.80      1490\n",
      "weighted avg       0.84      0.83      0.82      1490\n",
      "\n"
     ]
    }
   ],
   "source": [
    "decision_tree.fit(X_train, y_train)\n",
    "print(classification_report(y_train, decision_tree.predict(X_train)))"
   ]
  },
  {
   "cell_type": "markdown",
   "metadata": {},
   "source": [
    "# Decision Trees with Bagging"
   ]
  },
  {
   "cell_type": "code",
   "execution_count": 122,
   "metadata": {},
   "outputs": [],
   "source": [
    "from sklearn.ensemble import BaggingClassifier\n"
   ]
  },
  {
   "cell_type": "code",
   "execution_count": 123,
   "metadata": {},
   "outputs": [],
   "source": [
    "bagging_dtree = DecisionTreeClassifier(max_depth=10,\n",
    "                                       random_state=seed_val, min_samples_leaf=5)"
   ]
  },
  {
   "cell_type": "code",
   "execution_count": 124,
   "metadata": {},
   "outputs": [],
   "source": [
    "bagging_clf = BaggingClassifier(base_estimator=bagging_dtree,\n",
    "                                max_samples=0.745, n_estimators=100,\n",
    "                                max_features=0.37,\n",
    "                                n_jobs=-1, random_state=seed_val)"
   ]
  },
  {
   "cell_type": "code",
   "execution_count": 125,
   "metadata": {},
   "outputs": [
    {
     "name": "stdout",
     "output_type": "stream",
     "text": [
      "BaggingClassifier(base_estimator=DecisionTreeClassifier(max_depth=10,\n",
      "                                                        min_samples_leaf=5,\n",
      "                                                        random_state=42),\n",
      "                  max_features=0.37, max_samples=0.745, n_estimators=100,\n",
      "                  n_jobs=-1, random_state=42)\n",
      "\n",
      "=============================> TRAIN-TEST DETAILS <======================================\n",
      "Train Size: 1117 samples\n",
      " Test Size: 373 samples\n",
      "---------------------------------------------\n",
      "Training Time: 0.11 seconds\n",
      " Testing Time: 0.059 seconds\n",
      "---------------------------------------------\n",
      "Train Accuracy:  0.8048343777976723\n",
      " Test Accuracy:  0.7694369973190348\n",
      "---------------------------------------------\n",
      "Train F1 Score:  0.6426229508196721\n",
      " Test F1 Score:  0.5784313725490197\n",
      "\n",
      "---------------------------------------------\n",
      " Area Under ROC (test):  0.7599310776942356\n",
      "---------------------------------------------\n",
      "Model Memory Size: 358.89 kB\n",
      "\n",
      "=============================> CLASSIFICATION REPORT <===================================\n",
      "                    precision    recall  f1-score   support\n",
      "\n",
      "No TravelInsurance       0.75      0.95      0.84       240\n",
      "   TravelInsurance       0.83      0.44      0.58       133\n",
      "\n",
      "          accuracy                           0.77       373\n",
      "         macro avg       0.79      0.70      0.71       373\n",
      "      weighted avg       0.78      0.77      0.75       373\n",
      "\n",
      "\n",
      "================================> CONFUSION MATRIX <=====================================\n"
     ]
    },
    {
     "data": {
      "image/png": "[encoded data removed]",
      "text/plain": [
       "<Figure size 432x288 with 2 Axes>"
      ]
     },
     "metadata": {},
     "output_type": "display_data"
    }
   ],
   "source": [
    "bagging_clf, bagging_clf_report = lib.report(bagging_clf,x_train_df_split_transformed, y_train_split,\n",
    "                                        x_test_df_cast_split_transformed, y_test_split,\n",
    "                                        display_scores=[primary_eval_metric],\n",
    "                                        importance_plot=True,\n",
    "                                        feature_labels=feature_names,\n",
    "                                        confusion_labels=confusion_lbs)"
   ]
  },
  {
   "cell_type": "markdown",
   "metadata": {},
   "source": [
    "## RandomForest"
   ]
  },
  {
   "cell_type": "code",
   "execution_count": 126,
   "metadata": {},
   "outputs": [
    {
     "data": {
      "text/plain": [
       "[{1: 1.0, 0: 1},\n",
       " {1: 1.5, 0: 1},\n",
       " {1: 2.0, 0: 1},\n",
       " {1: 2.5, 0: 1},\n",
       " {1: 3.0, 0: 1},\n",
       " {1: 3.5, 0: 1},\n",
       " {1: 4.0, 0: 1},\n",
       " {1: 4.5, 0: 1}]"
      ]
     },
     "execution_count": 126,
     "metadata": {},
     "output_type": "execute_result"
    }
   ],
   "source": [
    "[{1:neg_weight, 0:1} for neg_weight in np.arange(1.0, 5.0, 0.5)]"
   ]
  },
  {
   "cell_type": "code",
   "execution_count": 127,
   "metadata": {},
   "outputs": [
    {
     "data": {
      "text/plain": [
       "RandomForestClassifier(class_weight='balanced', max_depth=8, random_state=42)"
      ]
     },
     "execution_count": 127,
     "metadata": {},
     "output_type": "execute_result"
    }
   ],
   "source": [
    "from sklearn.ensemble import RandomForestClassifier\n",
    "\n",
    "search_params_rf = {\n",
    "    'class_weight': ['balanced'],\n",
    "    #'class_weight':[{0:neg_weight, 1:1} for neg_weight in np.arange(1.0, 5.0, 0.5)],\n",
    "    #'class_weight': [{1:neg_weight, 0:1} for neg_weight in np.arange(1.0, 10.0, 0.5)],\n",
    "    'max_depth' : [8,9],\n",
    "    'criterion' : ['gini', 'entropy'],\n",
    "    'n_estimators' : [100, 150, 200]\n",
    "}\n",
    "\n",
    "\n",
    "\n",
    "rf_cv = GridSearchCV(estimator =  RandomForestClassifier(random_state=seed_val), param_grid = search_params_rf, cv=5, scoring='f1', n_jobs=-1 , verbose = 0 , refit = True  )\n",
    "\n",
    "rf_cv.fit(x_train_df_split_transformed, y_train_split)\n",
    "\n",
    "rf_cv.best_estimator_"
   ]
  },
  {
   "cell_type": "code",
   "execution_count": 128,
   "metadata": {},
   "outputs": [
    {
     "name": "stdout",
     "output_type": "stream",
     "text": [
      "RandomForestClassifier(class_weight={0: 1, 1: 1.5}, criterion='entropy',\n",
      "                       max_depth=8, n_estimators=200, random_state=42)\n",
      "\n",
      "=============================> TRAIN-TEST DETAILS <======================================\n",
      "Train Size: 1117 samples\n",
      " Test Size: 373 samples\n",
      "---------------------------------------------\n",
      "Training Time: 0.44 seconds\n",
      " Testing Time: 0.046 seconds\n",
      "---------------------------------------------\n",
      "Train Accuracy:  0.8531781557743957\n",
      " Test Accuracy:  0.7882037533512064\n",
      "---------------------------------------------\n",
      "Train F1 Score:  0.7588235294117648\n",
      " Test F1 Score:  0.6519823788546256\n",
      "\n",
      "---------------------------------------------\n",
      " Area Under ROC (test):  0.7543233082706766\n",
      "---------------------------------------------\n",
      "Model Memory Size: 2209.01 kB\n",
      "\n",
      "=============================> CLASSIFICATION REPORT <===================================\n",
      "                    precision    recall  f1-score   support\n",
      "\n",
      "No TravelInsurance       0.79      0.92      0.85       240\n",
      "   TravelInsurance       0.79      0.56      0.65       133\n",
      "\n",
      "          accuracy                           0.79       373\n",
      "         macro avg       0.79      0.74      0.75       373\n",
      "      weighted avg       0.79      0.79      0.78       373\n",
      "\n",
      "\n",
      "================================> CONFUSION MATRIX <=====================================\n"
     ]
    },
    {
     "data": {
      "image/png": "[encoded data removed]",
      "text/plain": [
       "<Figure size 432x288 with 2 Axes>"
      ]
     },
     "metadata": {},
     "output_type": "display_data"
    }
   ],
   "source": [
    "#rf = RandomForestClassifier(class_weight='balanced', max_depth=8, criterion='gini', random_state=seed_val)\n",
    "\n",
    "rf = RandomForestClassifier(class_weight={0: 1, 1: 1.5}, criterion='entropy',max_depth=8, n_estimators=200, random_state=seed_val)\n",
    "\n",
    "\n",
    "\n",
    "\n",
    "rf, rf_report = lib.report(rf,x_train_df_split_transformed, y_train_split,\n",
    "                                        x_test_df_cast_split_transformed, y_test_split,\n",
    "                                        display_scores=[primary_eval_metric],\n",
    "                                        importance_plot=True,\n",
    "                                        feature_labels=feature_names,\n",
    "                                        confusion_labels=confusion_lbs)"
   ]
  },
  {
   "cell_type": "code",
   "execution_count": 129,
   "metadata": {},
   "outputs": [],
   "source": [
    "rfc = RandomForestClassifier(class_weight='balanced', max_depth=8, random_state=42)\n",
    "#rfc = RandomForestClassifier(class_weight='balanced_subsample', max_depth=7, n_estimators=200, random_state=42)\n",
    "\n",
    "\n",
    "\n",
    "#rfc = RandomForestClassifier(class_weight={0: 1, 1: 1.5}, criterion='entropy', max_depth=8, n_estimators=200, random_state=42)\n"
   ]
  },
  {
   "cell_type": "code",
   "execution_count": 130,
   "metadata": {},
   "outputs": [
    {
     "name": "stdout",
     "output_type": "stream",
     "text": [
      "              precision    recall  f1-score   support\n",
      "\n",
      "           0       0.82      0.96      0.89       958\n",
      "           1       0.90      0.63      0.74       532\n",
      "\n",
      "    accuracy                           0.84      1490\n",
      "   macro avg       0.86      0.79      0.81      1490\n",
      "weighted avg       0.85      0.84      0.83      1490\n",
      "\n"
     ]
    }
   ],
   "source": [
    "rfc.fit(X_train, y_train)\n",
    "print(classification_report(y_train, rfc.predict(X_train)))"
   ]
  },
  {
   "cell_type": "markdown",
   "metadata": {},
   "source": [
    "## SVM"
   ]
  },
  {
   "cell_type": "code",
   "execution_count": 131,
   "metadata": {},
   "outputs": [
    {
     "data": {
      "text/plain": [
       "SVC(C=1, class_weight='balanced', probability=True, random_state=42)"
      ]
     },
     "execution_count": 131,
     "metadata": {},
     "output_type": "execute_result"
    }
   ],
   "source": [
    "from sklearn.svm import SVC\n",
    "\n",
    "search_params_svc = {\n",
    "    'C': [1,1.1,1.2],\n",
    "    'kernel': ['linear', 'poly', 'rbf', 'sigmoid'],\n",
    "    'degree' : [3,4,5],\n",
    "    'class_weight' : [None,'balanced']\n",
    "    \n",
    "    \n",
    "   }\n",
    "\n",
    "\n",
    "svm_cv = GridSearchCV(estimator =  SVC(random_state = seed_val , probability = True), param_grid = search_params_svc, cv=5, scoring='f1', n_jobs=-1 , verbose = 0 , refit = True  )\n",
    "\n",
    "svm_cv.fit(x_train_df_split_transformed, y_train_split)\n",
    "\n",
    "svm_cv.best_estimator_"
   ]
  },
  {
   "cell_type": "code",
   "execution_count": 132,
   "metadata": {},
   "outputs": [
    {
     "name": "stdout",
     "output_type": "stream",
     "text": [
      "SVC(C=1, class_weight='balanced', degree=5, kernel='poly', probability=True,\n",
      "    random_state=42)\n",
      "\n",
      "=============================> TRAIN-TEST DETAILS <======================================\n",
      "Train Size: 1117 samples\n",
      " Test Size: 373 samples\n",
      "---------------------------------------------\n",
      "Training Time: 0.319 seconds\n",
      " Testing Time: 0.021 seconds\n",
      "---------------------------------------------\n",
      "Train Accuracy:  0.8513876454789615\n",
      " Test Accuracy:  0.7587131367292225\n",
      "---------------------------------------------\n",
      "Train F1 Score:  0.7726027397260273\n",
      " Test F1 Score:  0.6311475409836066\n",
      "\n",
      "---------------------------------------------\n",
      " Area Under ROC (test):  0.7381265664160401\n",
      "---------------------------------------------\n",
      "Model Memory Size: 100.05 kB\n",
      "\n",
      "=============================> CLASSIFICATION REPORT <===================================\n",
      "                    precision    recall  f1-score   support\n",
      "\n",
      "No TravelInsurance       0.79      0.86      0.82       240\n",
      "   TravelInsurance       0.69      0.58      0.63       133\n",
      "\n",
      "          accuracy                           0.76       373\n",
      "         macro avg       0.74      0.72      0.73       373\n",
      "      weighted avg       0.75      0.76      0.75       373\n",
      "\n",
      "\n",
      "================================> CONFUSION MATRIX <=====================================\n"
     ]
    },
    {
     "data": {
      "image/png": "[encoded data removed]",
      "text/plain": [
       "<Figure size 432x288 with 2 Axes>"
      ]
     },
     "metadata": {},
     "output_type": "display_data"
    }
   ],
   "source": [
    "svc = SVC(C=1, degree=5, kernel='poly' ,class_weight='balanced' , random_state=seed_val , probability = True)\n",
    "\n",
    "svc, svc_report = lib.report(svc,x_train_df_split_transformed, y_train_split,\n",
    "                                        x_test_df_cast_split_transformed, y_test_split,\n",
    "                                        display_scores=[primary_eval_metric],\n",
    "                                        importance_plot=True,\n",
    "                                        feature_labels=feature_names,\n",
    "                                        confusion_labels=confusion_lbs)"
   ]
  },
  {
   "cell_type": "code",
   "execution_count": 133,
   "metadata": {},
   "outputs": [],
   "source": [
    "svc = SVC(C=1.1, degree=4, kernel='poly' , random_state=seed_val , probability = True)\n",
    "#svc = SVC(C=1, class_weight='balanced', degree=5, kernel='poly', probability=True,random_state=seed_val)\n"
   ]
  },
  {
   "cell_type": "code",
   "execution_count": 134,
   "metadata": {},
   "outputs": [
    {
     "name": "stdout",
     "output_type": "stream",
     "text": [
      "              precision    recall  f1-score   support\n",
      "\n",
      "           0       0.82      0.96      0.89       958\n",
      "           1       0.90      0.63      0.74       532\n",
      "\n",
      "    accuracy                           0.84      1490\n",
      "   macro avg       0.86      0.79      0.81      1490\n",
      "weighted avg       0.85      0.84      0.83      1490\n",
      "\n"
     ]
    }
   ],
   "source": [
    "rfc.fit(X_train, y_train)\n",
    "print(classification_report(y_train, rfc.predict(X_train)))"
   ]
  },
  {
   "cell_type": "markdown",
   "metadata": {},
   "source": [
    "## XGBoost"
   ]
  },
  {
   "cell_type": "code",
   "execution_count": null,
   "metadata": {},
   "outputs": [],
   "source": [
    "# !conda install -y xgboost"
   ]
  },
  {
   "cell_type": "markdown",
   "metadata": {},
   "source": [
    "https://github.com/fmfn/BayesianOptimization"
   ]
  },
  {
   "cell_type": "code",
   "execution_count": 135,
   "metadata": {},
   "outputs": [
    {
     "name": "stderr",
     "output_type": "stream",
     "text": [
      "/Users/coviedo/opt/anaconda3/envs/diplodatos-ayvd/lib/python3.6/site-packages/xgboost/sklearn.py:888: UserWarning: The use of label encoder in XGBClassifier is deprecated and will be removed in a future release. To remove this warning, do the following: 1) Pass option use_label_encoder=False when constructing XGBClassifier object; and 2) Encode your labels (y) as integers starting with 0, i.e. 0, 1, 2, ..., [num_class - 1].\n",
      "  warnings.warn(label_encoder_deprecation_msg, UserWarning)\n"
     ]
    },
    {
     "name": "stdout",
     "output_type": "stream",
     "text": [
      "[19:31:44] WARNING: /opt/concourse/worker/volumes/live/7a2b9f41-3287-451b-6691-43e9a6c0910f/volume/xgboost-split_1619728204606/work/src/learner.cc:1061: Starting in XGBoost 1.3.0, the default evaluation metric used with the objective 'binary:logistic' was changed from 'error' to 'logloss'. Explicitly set eval_metric if you'd like to restore the old behavior.\n"
     ]
    },
    {
     "data": {
      "text/plain": [
       "XGBClassifier(base_score=0.5, booster='gbtree', colsample_bylevel=1,\n",
       "              colsample_bynode=1, colsample_bytree=1, gamma=0, gpu_id=-1,\n",
       "              importance_type='gain', interaction_constraints='',\n",
       "              learning_rate=0.02, max_delta_step=0, max_depth=5,\n",
       "              min_child_weight=1, missing=nan, monotone_constraints='()',\n",
       "              n_estimators=600, n_jobs=8, num_parallel_tree=1, random_state=0,\n",
       "              reg_alpha=0, reg_lambda=1, scale_pos_weight=1, subsample=1,\n",
       "              tree_method='exact', validate_parameters=1, verbosity=None)"
      ]
     },
     "execution_count": 135,
     "metadata": {},
     "output_type": "execute_result"
    }
   ],
   "source": [
    "from xgboost import XGBClassifier\n",
    "from sklearn.utils import class_weight\n",
    "\n",
    "\n",
    "\n",
    "search_params_xgbc = {\n",
    "        'min_child_weight': [1, 5, 10],\n",
    "        #'gamma': [0.5, 1, 1.5, 2, 5],\n",
    "        #'subsample': [0.6, 0.8, 1.0],\n",
    "        #'colsample_bytree': [0.6, 0.8, 1.0],\n",
    "        'max_depth': [3, 4, 5],\n",
    "        'learning_rate' :[0.02], \n",
    "        'n_estimators' : [600], \n",
    "        'objective' : ['binary:logistic']\n",
    "    \n",
    "         }\n",
    "\n",
    "\n",
    "xgbc_cv = GridSearchCV(estimator =  XGBClassifier(), param_grid = search_params_xgbc, cv=5, scoring='f1', n_jobs=-1 , verbose = 0 , refit = True  )\n",
    "\n",
    "xgbc_cv.fit(x_train_df_split_transformed, y_train_split)\n",
    "\n",
    "xgbc_cv.best_estimator_"
   ]
  },
  {
   "cell_type": "code",
   "execution_count": 136,
   "metadata": {},
   "outputs": [
    {
     "data": {
      "text/plain": [
       "1.800751879699248"
      ]
     },
     "execution_count": 136,
     "metadata": {},
     "output_type": "execute_result"
    }
   ],
   "source": [
    "cls_weight = (y_train.shape[0] - np.sum(y_train)) / np.sum(y_train)\n",
    "cls_weight"
   ]
  },
  {
   "cell_type": "code",
   "execution_count": 137,
   "metadata": {},
   "outputs": [
    {
     "name": "stdout",
     "output_type": "stream",
     "text": [
      "[19:31:46] WARNING: /opt/concourse/worker/volumes/live/7a2b9f41-3287-451b-6691-43e9a6c0910f/volume/xgboost-split_1619728204606/work/src/learner.cc:1061: Starting in XGBoost 1.3.0, the default evaluation metric used with the objective 'binary:logistic' was changed from 'error' to 'logloss'. Explicitly set eval_metric if you'd like to restore the old behavior.\n",
      "              precision    recall  f1-score   support\n",
      "\n",
      "           0       0.84      0.92      0.88       958\n",
      "           1       0.82      0.69      0.75       532\n",
      "\n",
      "    accuracy                           0.84      1490\n",
      "   macro avg       0.83      0.80      0.81      1490\n",
      "weighted avg       0.83      0.84      0.83      1490\n",
      "\n"
     ]
    }
   ],
   "source": [
    "xgb_clf = XGBClassifier(random_state=seed_val, n_jobs=-1 , scale_pos_weight=cls_weight )\n",
    "\n",
    "#xgb_clf  =XGBClassifier(base_score=0.5, booster='gbtree', colsample_bylevel=1,\n",
    "#              colsample_bynode=1, colsample_bytree=1.0, gamma=1, gpu_id=-1,\n",
    "#              importance_type='gain', interaction_constraints='',\n",
    "#              learning_rate=0.300000012, max_delta_step=0, max_depth=5,\n",
    "#              min_child_weight=1, monotone_constraints='()',\n",
    "#              n_estimators=100, n_jobs=8, num_parallel_tree=1, random_state=0,\n",
    "#              reg_alpha=0, reg_lambda=1, scale_pos_weight=1, subsample=1.0,\n",
    "#              tree_method='exact', validate_parameters=1, verbosity=None)\n",
    "\n",
    "\n",
    "xgb_clf.fit(X_train, y_train)\n",
    "\n",
    "print(classification_report(y_train, xgb_clf.predict(X_train)))"
   ]
  },
  {
   "cell_type": "markdown",
   "metadata": {},
   "source": [
    "## KNN"
   ]
  },
  {
   "cell_type": "code",
   "execution_count": 138,
   "metadata": {},
   "outputs": [
    {
     "data": {
      "text/plain": [
       "KNeighborsClassifier(weights='distance')"
      ]
     },
     "execution_count": 138,
     "metadata": {},
     "output_type": "execute_result"
    }
   ],
   "source": [
    "from sklearn.neighbors import KNeighborsClassifier\n",
    "\n",
    "search_params_knn = {\n",
    "    'n_neighbors': [3,4,5],\n",
    "    'p': [ 2, 3, 4],\n",
    "    'weights': ['distance']\n",
    "}\n",
    "\n",
    "\n",
    "\n",
    "knn_cv = GridSearchCV(estimator =  KNeighborsClassifier(), param_grid = search_params_knn, cv=5, scoring='f1', n_jobs=-1 , verbose = 0 , refit = True  )\n",
    "\n",
    "knn_cv.fit(x_train_df_split_transformed, y_train_split)\n",
    "\n",
    "knn_cv.best_estimator_"
   ]
  },
  {
   "cell_type": "code",
   "execution_count": 139,
   "metadata": {},
   "outputs": [
    {
     "name": "stdout",
     "output_type": "stream",
     "text": [
      "KNeighborsClassifier(weights='distance')\n",
      "\n",
      "=============================> TRAIN-TEST DETAILS <======================================\n",
      "Train Size: 1117 samples\n",
      " Test Size: 373 samples\n",
      "---------------------------------------------\n",
      "Training Time: 0.002 seconds\n",
      " Testing Time: 0.012 seconds\n",
      "---------------------------------------------\n",
      "Train Accuracy:  0.855863921217547\n",
      " Test Accuracy:  0.7506702412868632\n",
      "---------------------------------------------\n",
      "Train F1 Score:  0.7656477438136826\n",
      " Test F1 Score:  0.5938864628820961\n",
      "\n",
      "---------------------------------------------\n",
      " Area Under ROC (test):  0.7230576441102756\n",
      "---------------------------------------------\n",
      "Model Memory Size: 175.34 kB\n",
      "\n",
      "=============================> CLASSIFICATION REPORT <===================================\n",
      "                    precision    recall  f1-score   support\n",
      "\n",
      "No TravelInsurance       0.77      0.88      0.82       240\n",
      "   TravelInsurance       0.71      0.51      0.59       133\n",
      "\n",
      "          accuracy                           0.75       373\n",
      "         macro avg       0.74      0.70      0.71       373\n",
      "      weighted avg       0.75      0.75      0.74       373\n",
      "\n",
      "\n",
      "================================> CONFUSION MATRIX <=====================================\n"
     ]
    },
    {
     "data": {
      "image/png": "[encoded data removed]",
      "text/plain": [
       "<Figure size 432x288 with 2 Axes>"
      ]
     },
     "metadata": {},
     "output_type": "display_data"
    }
   ],
   "source": [
    "knn = KNeighborsClassifier(weights='distance')\n",
    "\n",
    "\n",
    "nn, knn_report = lib.report(knn,x_train_df_split_transformed, y_train_split,\n",
    "                                        x_test_df_cast_split_transformed, y_test_split,\n",
    "                                        display_scores=[primary_eval_metric],\n",
    "                                        importance_plot=True,\n",
    "                                        feature_labels=feature_names,\n",
    "                                        confusion_labels=confusion_lbs)"
   ]
  },
  {
   "cell_type": "code",
   "execution_count": 140,
   "metadata": {},
   "outputs": [],
   "source": [
    "knn = KNeighborsClassifier(weights='distance')"
   ]
  },
  {
   "cell_type": "code",
   "execution_count": 141,
   "metadata": {},
   "outputs": [
    {
     "name": "stdout",
     "output_type": "stream",
     "text": [
      "              precision    recall  f1-score   support\n",
      "\n",
      "           0       0.83      0.89      0.86       958\n",
      "           1       0.77      0.66      0.71       532\n",
      "\n",
      "    accuracy                           0.81      1490\n",
      "   macro avg       0.80      0.78      0.79      1490\n",
      "weighted avg       0.81      0.81      0.81      1490\n",
      "\n"
     ]
    }
   ],
   "source": [
    "knn.fit(X_train, y_train)\n",
    "print(classification_report(y_train, knn.predict(X_train)))"
   ]
  },
  {
   "cell_type": "markdown",
   "metadata": {},
   "source": [
    "## Escalando"
   ]
  },
  {
   "cell_type": "code",
   "execution_count": 142,
   "metadata": {},
   "outputs": [
    {
     "data": {
      "text/plain": [
       "KNeighborsClassifier(n_neighbors=4, weights='distance')"
      ]
     },
     "execution_count": 142,
     "metadata": {},
     "output_type": "execute_result"
    }
   ],
   "source": [
    "knn_cv = GridSearchCV(estimator =  KNeighborsClassifier(), param_grid = search_params_knn, cv=5, scoring='f1', n_jobs=-1 , verbose = 0 , refit = True  )\n",
    "\n",
    "knn_cv.fit(x_train_df_split_transformed_scaled, y_train_split)\n",
    "\n",
    "knn_cv.best_estimator_"
   ]
  },
  {
   "cell_type": "code",
   "execution_count": 143,
   "metadata": {},
   "outputs": [
    {
     "name": "stdout",
     "output_type": "stream",
     "text": [
      "KNeighborsClassifier(n_neighbors=4, p=3, weights='distance')\n",
      "\n",
      "=============================> TRAIN-TEST DETAILS <======================================\n",
      "Train Size: 1117 samples\n",
      " Test Size: 373 samples\n",
      "---------------------------------------------\n",
      "Training Time: 0.001 seconds\n",
      " Testing Time: 0.112 seconds\n",
      "---------------------------------------------\n",
      "Train Accuracy:  0.8495971351835273\n",
      " Test Accuracy:  0.7426273458445041\n",
      "---------------------------------------------\n",
      "Train F1 Score:  0.7627118644067796\n",
      " Test F1 Score:  0.5932203389830508\n",
      "\n",
      "---------------------------------------------\n",
      " Area Under ROC (test):  0.7148182957393484\n",
      "---------------------------------------------\n",
      "Model Memory Size: 175.33 kB\n",
      "\n",
      "=============================> CLASSIFICATION REPORT <===================================\n",
      "                    precision    recall  f1-score   support\n",
      "\n",
      "No TravelInsurance       0.77      0.86      0.81       240\n",
      "   TravelInsurance       0.68      0.53      0.59       133\n",
      "\n",
      "          accuracy                           0.74       373\n",
      "         macro avg       0.72      0.69      0.70       373\n",
      "      weighted avg       0.74      0.74      0.73       373\n",
      "\n",
      "\n",
      "================================> CONFUSION MATRIX <=====================================\n"
     ]
    },
    {
     "data": {
      "image/png": "[encoded data removed]",
      "text/plain": [
       "<Figure size 432x288 with 2 Axes>"
      ]
     },
     "metadata": {},
     "output_type": "display_data"
    }
   ],
   "source": [
    "knn = KNeighborsClassifier(n_neighbors=4, p=3, weights='distance')\n",
    "\n",
    "nn, knn_report = lib.report(knn,x_train_df_split_transformed_scaled, y_train_split,\n",
    "                                        x_test_df_cast_split_transformed_scaled, y_test_split,\n",
    "                                        display_scores=[primary_eval_metric],\n",
    "                                        importance_plot=True,\n",
    "                                        feature_labels=feature_names,\n",
    "                                        confusion_labels=confusion_lbs)"
   ]
  },
  {
   "cell_type": "code",
   "execution_count": 144,
   "metadata": {},
   "outputs": [],
   "source": [
    "knn = KNeighborsClassifier(n_neighbors=4, p=3, weights='distance')"
   ]
  },
  {
   "cell_type": "code",
   "execution_count": 145,
   "metadata": {},
   "outputs": [
    {
     "name": "stdout",
     "output_type": "stream",
     "text": [
      "              precision    recall  f1-score   support\n",
      "\n",
      "           0       0.82      0.97      0.89       958\n",
      "           1       0.93      0.61      0.74       532\n",
      "\n",
      "    accuracy                           0.84      1490\n",
      "   macro avg       0.87      0.79      0.81      1490\n",
      "weighted avg       0.86      0.84      0.84      1490\n",
      "\n"
     ]
    }
   ],
   "source": [
    "knn.fit(X_train_scaled, y_train)\n",
    "print(classification_report(y_train, knn.predict(X_train_scaled)))"
   ]
  },
  {
   "cell_type": "code",
   "execution_count": 146,
   "metadata": {},
   "outputs": [],
   "source": [
    "## Usando PCA"
   ]
  },
  {
   "cell_type": "code",
   "execution_count": 147,
   "metadata": {},
   "outputs": [],
   "source": [
    "search_params_knn = {\n",
    "    'n_neighbors': [3,4,5,6,8,10],\n",
    "    'p': [ 2, 3, 4],\n",
    "    'weights': ['distance']\n",
    "}\n",
    "\n",
    "\n"
   ]
  },
  {
   "cell_type": "code",
   "execution_count": 148,
   "metadata": {},
   "outputs": [],
   "source": [
    "from sklearn.decomposition import PCA\n",
    "pca = PCA(n_components = 3)\n",
    "x_train_df_split_transformed_scaled_pca = pca.fit_transform(x_train_df_split_transformed_scaled)\n",
    "x_test_df_cast_split_transformed_scaled_pca = pca.transform(x_test_df_cast_split_transformed_scaled)\n",
    "\n",
    "\n",
    "X_train_scaled_pca = pca.transform(X_train_scaled)\n",
    "# X_test_pca = pca.transform(X_test_scaled)"
   ]
  },
  {
   "cell_type": "code",
   "execution_count": 149,
   "metadata": {},
   "outputs": [
    {
     "data": {
      "text/plain": [
       "KNeighborsClassifier(n_neighbors=6, weights='distance')"
      ]
     },
     "execution_count": 149,
     "metadata": {},
     "output_type": "execute_result"
    }
   ],
   "source": [
    "knn_cv = GridSearchCV(estimator =  KNeighborsClassifier(), param_grid = search_params_knn, cv=5, scoring='f1', n_jobs=-1 , verbose = 0 , refit = True  )\n",
    "\n",
    "knn_cv.fit(x_train_df_split_transformed_scaled_pca, y_train_split)\n",
    "\n",
    "knn_cv.best_estimator_"
   ]
  },
  {
   "cell_type": "code",
   "execution_count": 150,
   "metadata": {},
   "outputs": [
    {
     "ename": "NameError",
     "evalue": "name 'X_train_pca' is not defined",
     "output_type": "error",
     "traceback": [
      "\u001b[0;31m---------------------------------------------------------------------------\u001b[0m",
      "\u001b[0;31mNameError\u001b[0m                                 Traceback (most recent call last)",
      "\u001b[0;32m<ipython-input-150-1684b49581ff>\u001b[0m in \u001b[0;36m<module>\u001b[0;34m\u001b[0m\n\u001b[0;32m----> 1\u001b[0;31m \u001b[0mX_train_pca\u001b[0m\u001b[0;34m.\u001b[0m\u001b[0mshape\u001b[0m\u001b[0;34m\u001b[0m\u001b[0;34m\u001b[0m\u001b[0m\n\u001b[0m",
      "\u001b[0;31mNameError\u001b[0m: name 'X_train_pca' is not defined"
     ]
    }
   ],
   "source": [
    "X_train_pca.shape"
   ]
  },
  {
   "cell_type": "code",
   "execution_count": 151,
   "metadata": {},
   "outputs": [
    {
     "name": "stdout",
     "output_type": "stream",
     "text": [
      "KNeighborsClassifier(n_neighbors=4, p=4, weights='distance')\n",
      "\n",
      "=============================> TRAIN-TEST DETAILS <======================================\n",
      "Train Size: 1117 samples\n",
      " Test Size: 373 samples\n",
      "---------------------------------------------\n",
      "Training Time: 0.001 seconds\n",
      " Testing Time: 0.004 seconds\n",
      "---------------------------------------------\n",
      "Train Accuracy:  0.8379588182632051\n",
      " Test Accuracy:  0.7694369973190348\n",
      "---------------------------------------------\n",
      "Train F1 Score:  0.7489597780859916\n",
      " Test F1 Score:  0.6228070175438597\n",
      "\n",
      "---------------------------------------------\n",
      " Area Under ROC (test):  0.7326597744360903\n",
      "---------------------------------------------\n",
      "Model Memory Size: 76.18 kB\n",
      "\n",
      "=============================> CLASSIFICATION REPORT <===================================\n",
      "                    precision    recall  f1-score   support\n",
      "\n",
      "No TravelInsurance       0.78      0.90      0.83       240\n",
      "   TravelInsurance       0.75      0.53      0.62       133\n",
      "\n",
      "          accuracy                           0.77       373\n",
      "         macro avg       0.76      0.72      0.73       373\n",
      "      weighted avg       0.77      0.77      0.76       373\n",
      "\n",
      "\n",
      "================================> CONFUSION MATRIX <=====================================\n"
     ]
    },
    {
     "data": {
      "image/png": "[encoded data removed]",
      "text/plain": [
       "<Figure size 432x288 with 2 Axes>"
      ]
     },
     "metadata": {},
     "output_type": "display_data"
    }
   ],
   "source": [
    "knn = KNeighborsClassifier(n_neighbors=4, weights='distance' , p = 4)\n",
    "\n",
    "nn, knn_report = lib.report(knn,x_train_df_split_transformed_scaled_pca, y_train_split,\n",
    "                                        x_test_df_cast_split_transformed_scaled_pca, y_test_split,\n",
    "                                        display_scores=[primary_eval_metric],\n",
    "                                        importance_plot=True,\n",
    "                                        feature_labels=feature_names,\n",
    "                                        confusion_labels=confusion_lbs)"
   ]
  },
  {
   "cell_type": "code",
   "execution_count": null,
   "metadata": {},
   "outputs": [],
   "source": [
    "knn = KNeighborsClassifier(n_neighbors=4, weights='distance' , p = 4)"
   ]
  },
  {
   "cell_type": "code",
   "execution_count": null,
   "metadata": {},
   "outputs": [],
   "source": [
    "knn.fit(X_train_scaled_pca, y_train)\n",
    "print(classification_report(y_train, knn.predict(X_train_scaled_pca)))"
   ]
  }
 ],
 "metadata": {
  "kernelspec": {
   "display_name": "Python 3",
   "language": "python",
   "name": "python3"
  },
  "language_info": {
   "codemirror_mode": {
    "name": "ipython",
    "version": 3
   },
   "file_extension": ".py",
   "mimetype": "text/x-python",
   "name": "python",
   "nbconvert_exporter": "python",
   "pygments_lexer": "ipython3",
   "version": "3.6.13"
  }
 },
 "nbformat": 4,
 "nbformat_minor": 4
}
