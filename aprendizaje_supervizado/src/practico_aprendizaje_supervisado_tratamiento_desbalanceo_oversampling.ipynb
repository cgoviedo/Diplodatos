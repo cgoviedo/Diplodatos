{
 "cells": [
  {
   "cell_type": "markdown",
   "metadata": {},
   "source": [
    "# Diplodatos Kaggle Competition"
   ]
  },
  {
   "cell_type": "markdown",
   "metadata": {},
   "source": [
    "We present this peace of code to create the baseline for the competition, and as an example of how to deal with these kind of problems. The main goals are that you:\n",
    "\n",
    "1. Explore the data and learn from it\n",
    "1. Try different models and see which one fits the best the given data\n",
    "1. Get a higher score than the given one in the current baseline example\n",
    "1. Try to get the highest score in the class :)"
   ]
  },
  {
   "cell_type": "code",
   "execution_count": 1,
   "metadata": {},
   "outputs": [],
   "source": [
    "# Import the required packages\n",
    "import os\n",
    "\n",
    "import numpy as np\n",
    "import pandas as pd\n",
    "import matplotlib.pyplot as plt\n",
    "import lib"
   ]
  },
  {
   "cell_type": "markdown",
   "metadata": {},
   "source": [
    "## Read Data"
   ]
  },
  {
   "cell_type": "code",
   "execution_count": 2,
   "metadata": {},
   "outputs": [],
   "source": [
    "train_df = pd.read_csv(\"../data/travel_insurance_prediction_train.csv\")\n",
    "test_df = pd.read_csv(\"../data/travel_insurance_prediction_test.csv\")\n",
    "\n",
    "\n",
    "y_train = train_df[\"TravelInsurance\"].values\n"
   ]
  },
  {
   "cell_type": "markdown",
   "metadata": {},
   "source": [
    "# Desarrollo"
   ]
  },
  {
   "cell_type": "markdown",
   "metadata": {},
   "source": [
    "## Funciones para descrbir el DF"
   ]
  },
  {
   "cell_type": "markdown",
   "metadata": {},
   "source": [
    "## Descripción de DF de entrenamiento"
   ]
  },
  {
   "cell_type": "code",
   "execution_count": 3,
   "metadata": {},
   "outputs": [
    {
     "data": {
      "text/html": [
       "<div>\n",
       "<style scoped>\n",
       "    .dataframe tbody tr th:only-of-type {\n",
       "        vertical-align: middle;\n",
       "    }\n",
       "\n",
       "    .dataframe tbody tr th {\n",
       "        vertical-align: top;\n",
       "    }\n",
       "\n",
       "    .dataframe thead th {\n",
       "        text-align: right;\n",
       "    }\n",
       "</style>\n",
       "<table border=\"1\" class=\"dataframe\">\n",
       "  <thead>\n",
       "    <tr style=\"text-align: right;\">\n",
       "      <th></th>\n",
       "      <th>Levels</th>\n",
       "      <th>No. of Levels</th>\n",
       "      <th>No. of Missing Values</th>\n",
       "    </tr>\n",
       "  </thead>\n",
       "  <tbody>\n",
       "    <tr>\n",
       "      <th>Customer</th>\n",
       "      <td>[1, 2, 3, 4, 5, 6, 7, 8, 9, 10, 11, 12, 13, 14...</td>\n",
       "      <td>1490</td>\n",
       "      <td>0</td>\n",
       "    </tr>\n",
       "    <tr>\n",
       "      <th>Age</th>\n",
       "      <td>[33, 28, 31, 25, 26, 35, 27, 34, 32, 29, 30]</td>\n",
       "      <td>11</td>\n",
       "      <td>0</td>\n",
       "    </tr>\n",
       "    <tr>\n",
       "      <th>Employment Type</th>\n",
       "      <td>[Private Sector/Self Employed, Government Sector]</td>\n",
       "      <td>2</td>\n",
       "      <td>0</td>\n",
       "    </tr>\n",
       "    <tr>\n",
       "      <th>GraduateOrNot</th>\n",
       "      <td>[Yes, No]</td>\n",
       "      <td>2</td>\n",
       "      <td>0</td>\n",
       "    </tr>\n",
       "    <tr>\n",
       "      <th>AnnualIncome</th>\n",
       "      <td>[550000, 800000, 1250000, 300000, 1350000, 400...</td>\n",
       "      <td>30</td>\n",
       "      <td>0</td>\n",
       "    </tr>\n",
       "    <tr>\n",
       "      <th>FamilyMembers</th>\n",
       "      <td>[6, 7, 4, 3, 5, 2, 8, 9]</td>\n",
       "      <td>8</td>\n",
       "      <td>0</td>\n",
       "    </tr>\n",
       "    <tr>\n",
       "      <th>ChronicDiseases</th>\n",
       "      <td>[0, 1]</td>\n",
       "      <td>2</td>\n",
       "      <td>0</td>\n",
       "    </tr>\n",
       "    <tr>\n",
       "      <th>FrequentFlyer</th>\n",
       "      <td>[No, Yes]</td>\n",
       "      <td>2</td>\n",
       "      <td>0</td>\n",
       "    </tr>\n",
       "    <tr>\n",
       "      <th>EverTravelledAbroad</th>\n",
       "      <td>[No, Yes]</td>\n",
       "      <td>2</td>\n",
       "      <td>0</td>\n",
       "    </tr>\n",
       "    <tr>\n",
       "      <th>TravelInsurance</th>\n",
       "      <td>[1, 0]</td>\n",
       "      <td>2</td>\n",
       "      <td>0</td>\n",
       "    </tr>\n",
       "  </tbody>\n",
       "</table>\n",
       "</div>"
      ],
      "text/plain": [
       "                                                                Levels  \\\n",
       "Customer             [1, 2, 3, 4, 5, 6, 7, 8, 9, 10, 11, 12, 13, 14...   \n",
       "Age                       [33, 28, 31, 25, 26, 35, 27, 34, 32, 29, 30]   \n",
       "Employment Type      [Private Sector/Self Employed, Government Sector]   \n",
       "GraduateOrNot                                                [Yes, No]   \n",
       "AnnualIncome         [550000, 800000, 1250000, 300000, 1350000, 400...   \n",
       "FamilyMembers                                 [6, 7, 4, 3, 5, 2, 8, 9]   \n",
       "ChronicDiseases                                                 [0, 1]   \n",
       "FrequentFlyer                                                [No, Yes]   \n",
       "EverTravelledAbroad                                          [No, Yes]   \n",
       "TravelInsurance                                                 [1, 0]   \n",
       "\n",
       "                     No. of Levels  No. of Missing Values  \n",
       "Customer                      1490                      0  \n",
       "Age                             11                      0  \n",
       "Employment Type                  2                      0  \n",
       "GraduateOrNot                    2                      0  \n",
       "AnnualIncome                    30                      0  \n",
       "FamilyMembers                    8                      0  \n",
       "ChronicDiseases                  2                      0  \n",
       "FrequentFlyer                    2                      0  \n",
       "EverTravelledAbroad              2                      0  \n",
       "TravelInsurance                  2                      0  "
      ]
     },
     "execution_count": 3,
     "metadata": {},
     "output_type": "execute_result"
    }
   ],
   "source": [
    "lib.summarize_categoricals(train_df, show_levels=True)"
   ]
  },
  {
   "cell_type": "code",
   "execution_count": 4,
   "metadata": {},
   "outputs": [
    {
     "data": {
      "text/html": [
       "<div>\n",
       "<style scoped>\n",
       "    .dataframe tbody tr th:only-of-type {\n",
       "        vertical-align: middle;\n",
       "    }\n",
       "\n",
       "    .dataframe tbody tr th {\n",
       "        vertical-align: top;\n",
       "    }\n",
       "\n",
       "    .dataframe thead th {\n",
       "        text-align: right;\n",
       "    }\n",
       "</style>\n",
       "<table border=\"1\" class=\"dataframe\">\n",
       "  <thead>\n",
       "    <tr style=\"text-align: right;\">\n",
       "      <th></th>\n",
       "      <th>count</th>\n",
       "      <th>mean</th>\n",
       "      <th>std</th>\n",
       "      <th>min</th>\n",
       "      <th>25%</th>\n",
       "      <th>50%</th>\n",
       "      <th>75%</th>\n",
       "      <th>max</th>\n",
       "    </tr>\n",
       "  </thead>\n",
       "  <tbody>\n",
       "    <tr>\n",
       "      <th>Customer</th>\n",
       "      <td>1490.0</td>\n",
       "      <td>745.500000</td>\n",
       "      <td>430.270264</td>\n",
       "      <td>1.0</td>\n",
       "      <td>373.25</td>\n",
       "      <td>745.5</td>\n",
       "      <td>1117.75</td>\n",
       "      <td>1490.0</td>\n",
       "    </tr>\n",
       "    <tr>\n",
       "      <th>Age</th>\n",
       "      <td>1490.0</td>\n",
       "      <td>29.667114</td>\n",
       "      <td>2.880994</td>\n",
       "      <td>25.0</td>\n",
       "      <td>28.00</td>\n",
       "      <td>29.0</td>\n",
       "      <td>32.00</td>\n",
       "      <td>35.0</td>\n",
       "    </tr>\n",
       "    <tr>\n",
       "      <th>AnnualIncome</th>\n",
       "      <td>1490.0</td>\n",
       "      <td>927818.791946</td>\n",
       "      <td>381171.545186</td>\n",
       "      <td>300000.0</td>\n",
       "      <td>600000.00</td>\n",
       "      <td>900000.0</td>\n",
       "      <td>1250000.00</td>\n",
       "      <td>1800000.0</td>\n",
       "    </tr>\n",
       "    <tr>\n",
       "      <th>FamilyMembers</th>\n",
       "      <td>1490.0</td>\n",
       "      <td>4.777181</td>\n",
       "      <td>1.640248</td>\n",
       "      <td>2.0</td>\n",
       "      <td>4.00</td>\n",
       "      <td>5.0</td>\n",
       "      <td>6.00</td>\n",
       "      <td>9.0</td>\n",
       "    </tr>\n",
       "    <tr>\n",
       "      <th>ChronicDiseases</th>\n",
       "      <td>1490.0</td>\n",
       "      <td>0.275839</td>\n",
       "      <td>0.447086</td>\n",
       "      <td>0.0</td>\n",
       "      <td>0.00</td>\n",
       "      <td>0.0</td>\n",
       "      <td>1.00</td>\n",
       "      <td>1.0</td>\n",
       "    </tr>\n",
       "    <tr>\n",
       "      <th>TravelInsurance</th>\n",
       "      <td>1490.0</td>\n",
       "      <td>0.357047</td>\n",
       "      <td>0.479290</td>\n",
       "      <td>0.0</td>\n",
       "      <td>0.00</td>\n",
       "      <td>0.0</td>\n",
       "      <td>1.00</td>\n",
       "      <td>1.0</td>\n",
       "    </tr>\n",
       "  </tbody>\n",
       "</table>\n",
       "</div>"
      ],
      "text/plain": [
       "                  count           mean            std       min        25%  \\\n",
       "Customer         1490.0     745.500000     430.270264       1.0     373.25   \n",
       "Age              1490.0      29.667114       2.880994      25.0      28.00   \n",
       "AnnualIncome     1490.0  927818.791946  381171.545186  300000.0  600000.00   \n",
       "FamilyMembers    1490.0       4.777181       1.640248       2.0       4.00   \n",
       "ChronicDiseases  1490.0       0.275839       0.447086       0.0       0.00   \n",
       "TravelInsurance  1490.0       0.357047       0.479290       0.0       0.00   \n",
       "\n",
       "                      50%         75%        max  \n",
       "Customer            745.5     1117.75     1490.0  \n",
       "Age                  29.0       32.00       35.0  \n",
       "AnnualIncome     900000.0  1250000.00  1800000.0  \n",
       "FamilyMembers         5.0        6.00        9.0  \n",
       "ChronicDiseases       0.0        1.00        1.0  \n",
       "TravelInsurance       0.0        1.00        1.0  "
      ]
     },
     "execution_count": 4,
     "metadata": {},
     "output_type": "execute_result"
    }
   ],
   "source": [
    "train_df.describe().T"
   ]
  },
  {
   "cell_type": "code",
   "execution_count": 5,
   "metadata": {},
   "outputs": [
    {
     "name": "stdout",
     "output_type": "stream",
     "text": [
      "<class 'pandas.core.frame.DataFrame'>\n",
      "RangeIndex: 1490 entries, 0 to 1489\n",
      "Data columns (total 9 columns):\n",
      " #   Column               Non-Null Count  Dtype   \n",
      "---  ------               --------------  -----   \n",
      " 0   Age                  1490 non-null   int64   \n",
      " 1   Employment Type      1490 non-null   category\n",
      " 2   GraduateOrNot        1490 non-null   category\n",
      " 3   AnnualIncome         1490 non-null   int64   \n",
      " 4   FamilyMembers        1490 non-null   int64   \n",
      " 5   ChronicDiseases      1490 non-null   category\n",
      " 6   FrequentFlyer        1490 non-null   category\n",
      " 7   EverTravelledAbroad  1490 non-null   category\n",
      " 8   TravelInsurance      1490 non-null   category\n",
      "dtypes: category(6), int64(3)\n",
      "memory usage: 44.3 KB\n"
     ]
    }
   ],
   "source": [
    "to_cast = lib.return_categoricals(train_df, threshold=5)\n",
    "train_df_cast = lib.to_categorical(to_cast, train_df)\n",
    "train_df_cast = train_df_cast.drop(columns=[\"Customer\"])\n",
    "\n",
    "train_df_cast.info()"
   ]
  },
  {
   "cell_type": "markdown",
   "metadata": {},
   "source": [
    "## Correlación entre variables cuantitativas"
   ]
  },
  {
   "cell_type": "code",
   "execution_count": 6,
   "metadata": {},
   "outputs": [
    {
     "data": {
      "image/png": "[encoded data removed]",
      "text/plain": [
       "<Figure size 720x576 with 2 Axes>"
      ]
     },
     "metadata": {
      "needs_background": "light"
     },
     "output_type": "display_data"
    }
   ],
   "source": [
    "import seaborn as sns\n",
    "\n",
    "fig, ax = plt.subplots(figsize=(10, 8))\n",
    "sns.heatmap(data=train_df_cast.astype({'TravelInsurance': 'int64'}).corr(),\n",
    "            annot=True, cmap='coolwarm', cbar_kws={'aspect': 50},\n",
    "            square=True, ax=ax)\n",
    "plt.xticks(rotation=30, ha='right');\n",
    "plt.tight_layout()"
   ]
  },
  {
   "cell_type": "markdown",
   "metadata": {},
   "source": [
    "**AnnualIncome** es la variable continua que más correlacionada esta con TraverlInsurance"
   ]
  },
  {
   "cell_type": "markdown",
   "metadata": {},
   "source": [
    "## Correlación entre variables cualitativas"
   ]
  },
  {
   "cell_type": "markdown",
   "metadata": {},
   "source": [
    "Funciones para armar matriz de correlación de variables caulitativas"
   ]
  },
  {
   "cell_type": "code",
   "execution_count": 7,
   "metadata": {},
   "outputs": [
    {
     "data": {
      "image/png": "[encoded data removed]",
      "text/plain": [
       "<Figure size 720x360 with 2 Axes>"
      ]
     },
     "metadata": {
      "needs_background": "light"
     },
     "output_type": "display_data"
    }
   ],
   "source": [
    "from scipy.stats import chi2_contingency\n",
    "\n",
    "fig, ax = plt.subplots(figsize=(10, 5))\n",
    "sns.heatmap(lib.categorical_corr_matrix(train_df_cast), annot=True, cmap='coolwarm', \n",
    "            cbar_kws={'aspect': 50}, square=True, ax=ax)\n",
    "plt.xticks(rotation=30, ha='right');\n",
    "plt.tight_layout()"
   ]
  },
  {
   "cell_type": "markdown",
   "metadata": {},
   "source": [
    "**EverTravelledAbroad, FrequentFlyer y Employment Type** son las variables categóricas más correlacionadas con TraverlInsurance"
   ]
  },
  {
   "cell_type": "markdown",
   "metadata": {},
   "source": [
    "## Distribución de frecuencia de variables categóricas"
   ]
  },
  {
   "cell_type": "code",
   "execution_count": 8,
   "metadata": {},
   "outputs": [
    {
     "data": {
      "image/png": "[encoded data removed]",
      "text/plain": [
       "<Figure size 720x360 with 6 Axes>"
      ]
     },
     "metadata": {
      "needs_background": "light"
     },
     "output_type": "display_data"
    }
   ],
   "source": [
    "import pandas as pd\n",
    "\n",
    "fig, axs = plt.subplots(nrows=2, ncols=3, figsize=(10, 5))\n",
    "titles = list(train_df_cast.select_dtypes(include='category'))\n",
    "\n",
    "ax_title_pairs = zip(axs.flat, titles)\n",
    "\n",
    "for ax, title in ax_title_pairs:\n",
    "    sns.countplot(x=title, data=train_df_cast, palette='Pastel2', ax=ax)\n",
    "    ax.set_title(title)\n",
    "    ax.set_xlabel('')\n",
    "\n",
    "plt.tight_layout()"
   ]
  },
  {
   "cell_type": "markdown",
   "metadata": {},
   "source": [
    "## Distribución de frecuencia de variables continuas"
   ]
  },
  {
   "cell_type": "code",
   "execution_count": 9,
   "metadata": {},
   "outputs": [
    {
     "name": "stdout",
     "output_type": "stream",
     "text": [
      "['Age', 'AnnualIncome', 'FamilyMembers']\n"
     ]
    },
    {
     "name": "stderr",
     "output_type": "stream",
     "text": [
      "/Users/coviedo/opt/anaconda3/envs/diplodatos-ayvd/lib/python3.6/site-packages/seaborn/distributions.py:2551: FutureWarning: `distplot` is a deprecated function and will be removed in a future version. Please adapt your code to use either `displot` (a figure-level function with similar flexibility) or `histplot` (an axes-level function for histograms).\n",
      "  warnings.warn(msg, FutureWarning)\n",
      "/Users/coviedo/opt/anaconda3/envs/diplodatos-ayvd/lib/python3.6/site-packages/seaborn/distributions.py:2551: FutureWarning: `distplot` is a deprecated function and will be removed in a future version. Please adapt your code to use either `displot` (a figure-level function with similar flexibility) or `histplot` (an axes-level function for histograms).\n",
      "  warnings.warn(msg, FutureWarning)\n",
      "/Users/coviedo/opt/anaconda3/envs/diplodatos-ayvd/lib/python3.6/site-packages/seaborn/distributions.py:2551: FutureWarning: `distplot` is a deprecated function and will be removed in a future version. Please adapt your code to use either `displot` (a figure-level function with similar flexibility) or `histplot` (an axes-level function for histograms).\n",
      "  warnings.warn(msg, FutureWarning)\n",
      "/Users/coviedo/opt/anaconda3/envs/diplodatos-ayvd/lib/python3.6/site-packages/seaborn/distributions.py:2551: FutureWarning: `distplot` is a deprecated function and will be removed in a future version. Please adapt your code to use either `displot` (a figure-level function with similar flexibility) or `histplot` (an axes-level function for histograms).\n",
      "  warnings.warn(msg, FutureWarning)\n",
      "/Users/coviedo/opt/anaconda3/envs/diplodatos-ayvd/lib/python3.6/site-packages/seaborn/distributions.py:2551: FutureWarning: `distplot` is a deprecated function and will be removed in a future version. Please adapt your code to use either `displot` (a figure-level function with similar flexibility) or `histplot` (an axes-level function for histograms).\n",
      "  warnings.warn(msg, FutureWarning)\n",
      "/Users/coviedo/opt/anaconda3/envs/diplodatos-ayvd/lib/python3.6/site-packages/seaborn/distributions.py:2551: FutureWarning: `distplot` is a deprecated function and will be removed in a future version. Please adapt your code to use either `displot` (a figure-level function with similar flexibility) or `histplot` (an axes-level function for histograms).\n",
      "  warnings.warn(msg, FutureWarning)\n"
     ]
    },
    {
     "data": {
      "image/png": "[encoded data removed]",
      "text/plain": [
       "<Figure size 1080x576 with 4 Axes>"
      ]
     },
     "metadata": {
      "needs_background": "light"
     },
     "output_type": "display_data"
    }
   ],
   "source": [
    "df_grouped = train_df_cast.groupby(by='TravelInsurance')\n",
    "fig, axs = plt.subplots(nrows=2, ncols=3, figsize=(15, 8))\n",
    "titles = list(train_df_cast.select_dtypes(exclude='category'))\n",
    "\n",
    "print (titles)\n",
    "\n",
    "ax_title_pairs = zip(axs.flat, titles)\n",
    "\n",
    "for ax, title in ax_title_pairs:\n",
    "\n",
    "    sns.distplot(df_grouped.get_group(0)[title], bins=10, ax=ax, label='No')\n",
    "    sns.distplot(df_grouped.get_group(1)[title], bins=10, ax=ax, label='Yes')\n",
    "    ax.legend(title='TravelInsurance')\n",
    "\n",
    "axs.flat[-1].remove()\n",
    "axs.flat[-2].remove()\n",
    "fig.tight_layout()"
   ]
  },
  {
   "cell_type": "code",
   "execution_count": 10,
   "metadata": {},
   "outputs": [
    {
     "name": "stderr",
     "output_type": "stream",
     "text": [
      "/Users/coviedo/opt/anaconda3/envs/diplodatos-ayvd/lib/python3.6/site-packages/seaborn/_decorators.py:43: FutureWarning: Pass the following variable as a keyword arg: x. From version 0.12, the only valid positional argument will be `data`, and passing other arguments without an explicit keyword will result in an error or misinterpretation.\n",
      "  FutureWarning\n"
     ]
    },
    {
     "data": {
      "image/png": "[encoded data removed]",
      "text/plain": [
       "<Figure size 432x288 with 1 Axes>"
      ]
     },
     "metadata": {
      "needs_background": "light"
     },
     "output_type": "display_data"
    }
   ],
   "source": [
    "sns.countplot('Age',hue='TravelInsurance',data=train_df_cast)\n",
    "plt.show()"
   ]
  },
  {
   "cell_type": "code",
   "execution_count": 11,
   "metadata": {},
   "outputs": [
    {
     "name": "stderr",
     "output_type": "stream",
     "text": [
      "/Users/coviedo/opt/anaconda3/envs/diplodatos-ayvd/lib/python3.6/site-packages/seaborn/_decorators.py:43: FutureWarning: Pass the following variable as a keyword arg: x. From version 0.12, the only valid positional argument will be `data`, and passing other arguments without an explicit keyword will result in an error or misinterpretation.\n",
      "  FutureWarning\n"
     ]
    },
    {
     "data": {
      "image/png": "[encoded data removed]",
      "text/plain": [
       "<Figure size 2880x720 with 1 Axes>"
      ]
     },
     "metadata": {
      "needs_background": "light"
     },
     "output_type": "display_data"
    }
   ],
   "source": [
    "plt.figure(figsize=(40,10))\n",
    "sns.countplot('AnnualIncome',hue='TravelInsurance',data=train_df_cast)\n",
    "plt.show()"
   ]
  },
  {
   "cell_type": "markdown",
   "metadata": {},
   "source": [
    "Se puede ver que cuando la persona gana 135 o más, contrata un seguro. "
   ]
  },
  {
   "cell_type": "markdown",
   "metadata": {},
   "source": [
    "## Observaciones \n",
    "\n",
    "- A mayor anual income, mayor grado de compra de seguros\n",
    "- A mayor edad, mayor grado de compra de seguros"
   ]
  },
  {
   "cell_type": "markdown",
   "metadata": {},
   "source": [
    "Conteo de TravelInsurance  en base a  EverTravelledAbroad, FrequentFlyer y Employment Type"
   ]
  },
  {
   "cell_type": "markdown",
   "metadata": {},
   "source": [
    "Funciones para armar countpltot"
   ]
  },
  {
   "cell_type": "code",
   "execution_count": 12,
   "metadata": {},
   "outputs": [
    {
     "data": {
      "image/png": "[encoded data removed]",
      "text/plain": [
       "<Figure size 518.75x432 with 4 Axes>"
      ]
     },
     "metadata": {
      "needs_background": "light"
     },
     "output_type": "display_data"
    }
   ],
   "source": [
    "facet = sns.FacetGrid(train_df_cast, row='EverTravelledAbroad', col='Employment Type', sharex=False,\n",
    "                      sharey=False, margin_titles=True)\n",
    "facet.map(lib.modified_countplot, x='FrequentFlyer', hue='TravelInsurance',\n",
    "          palette='Pastel2', facet_generator=facet.facet_data())\n",
    "facet.set_xlabels('FrequentFlyer')\n",
    "facet.set_ylabels('Count')\n",
    "facet.add_legend(title='TravelInsurance');"
   ]
  },
  {
   "cell_type": "markdown",
   "metadata": {},
   "source": [
    "## Observaciones: \n",
    "\n",
    "- EverTraveledAbroad y FrecuentTravelledAbroad = True, tienen gran peso a la hora de indicar si el viajero contrata seguro"
   ]
  },
  {
   "cell_type": "code",
   "execution_count": 13,
   "metadata": {},
   "outputs": [],
   "source": [
    "#selected_numerical_columns = ['AnnualIncome' , 'Age']\n",
    "\n",
    "selected_numerical_columns = ['AnnualIncome' , 'Age' , 'FamilyMembers' ]\n",
    "\n"
   ]
  },
  {
   "cell_type": "code",
   "execution_count": 14,
   "metadata": {},
   "outputs": [],
   "source": [
    "#selected_categorical_columns = ['EverTravelledAbroad', 'FrequentFlyer']\n",
    "\n",
    "selected_categorical_columns = ['EverTravelledAbroad', 'FrequentFlyer' , 'ChronicDiseases' , 'Employment Type' , 'GraduateOrNot']\n"
   ]
  },
  {
   "cell_type": "markdown",
   "metadata": {},
   "source": [
    "## Seteo seed_val\n",
    "\n",
    "Hacemos el seteo de la variable seed_val para que los experimentos puedan ser repetidos sin que los valore aleatorios cambien entre corrida y corrida\n"
   ]
  },
  {
   "cell_type": "code",
   "execution_count": 15,
   "metadata": {},
   "outputs": [],
   "source": [
    "seed_val = 42"
   ]
  },
  {
   "cell_type": "markdown",
   "metadata": {},
   "source": [
    "# Tecnicas de sampling"
   ]
  },
  {
   "cell_type": "markdown",
   "metadata": {},
   "source": [
    "https://www.kaggle.com/rafjaa/resampling-strategies-for-imbalanced-datasets\n",
    "\n",
    "https://machinelearningmastery.com/random-oversampling-and-undersampling-for-imbalanced-classification/\n",
    "\n",
    "\n",
    "https://www.kaggle.com/rafjaa/resampling-strategies-for-imbalanced-datasets?scriptVersionId=1731010\n",
    "\n",
    "\n"
   ]
  },
  {
   "cell_type": "code",
   "execution_count": 16,
   "metadata": {},
   "outputs": [
    {
     "name": "stdout",
     "output_type": "stream",
     "text": [
      "No: 958\n",
      "Yes: 532\n",
      "Proportion: 1.8 : 1\n"
     ]
    },
    {
     "data": {
      "image/png": "[encoded data removed]",
      "text/plain": [
       "<Figure size 432x288 with 1 Axes>"
      ]
     },
     "metadata": {
      "needs_background": "light"
     },
     "output_type": "display_data"
    }
   ],
   "source": [
    "def plot_balance(train_df_cast):\n",
    "    target_count = train_df_cast['TravelInsurance'].value_counts()\n",
    "    print('No:', target_count[0])\n",
    "    print('Yes:', target_count[1])\n",
    "    print('Proportion:', round(target_count[0] / target_count[1], 2), ': 1')\n",
    "    \n",
    "    target_count.plot(kind='bar', title='Count (target)');\n",
    "\n",
    "\n",
    "plot_balance(train_df_cast)    \n"
   ]
  },
  {
   "cell_type": "markdown",
   "metadata": {},
   "source": [
    "# Hacemos el oversampling"
   ]
  },
  {
   "cell_type": "markdown",
   "metadata": {},
   "source": [
    "Instalamos SMOTE"
   ]
  },
  {
   "cell_type": "code",
   "execution_count": 17,
   "metadata": {},
   "outputs": [],
   "source": [
    "#!conda install -y -c glemaitre imbalanced-learn\n",
    "#!conda install -y six"
   ]
  },
  {
   "cell_type": "markdown",
   "metadata": {},
   "source": [
    "## Particionamos el Data Set en train y test. \n",
    "Recordemos que el test que tenemos, no tiene los valores y puesto que justmente estos valores tiene que ser calculados y subidos a kaggle para ver como performa nuestro modelo"
   ]
  },
  {
   "cell_type": "code",
   "execution_count": 18,
   "metadata": {},
   "outputs": [],
   "source": [
    "from sklearn.compose import make_column_transformer\n",
    "from sklearn.metrics import classification_report\n",
    "from sklearn.model_selection import GridSearchCV\n",
    "from sklearn.preprocessing import KBinsDiscretizer, OneHotEncoder\n",
    "from sklearn.tree import DecisionTreeClassifier\n",
    "\n",
    "from sklearn.model_selection import train_test_split\n",
    "\n",
    "x_train_df_split, x_test_df_split, y_train_split, y_test_split = train_test_split(train_df_cast.drop(columns = ['TravelInsurance']), train_df_cast['TravelInsurance'], test_size=0.25, random_state=seed_val,\n",
    "                               shuffle=True, stratify=train_df_cast['TravelInsurance'])"
   ]
  },
  {
   "cell_type": "markdown",
   "metadata": {},
   "source": [
    "## Transformers"
   ]
  },
  {
   "cell_type": "code",
   "execution_count": 19,
   "metadata": {},
   "outputs": [],
   "source": [
    "transformer = make_column_transformer(\n",
    "    (KBinsDiscretizer(n_bins=5, encode=\"ordinal\", strategy=\"quantile\"), ['AnnualIncome' , 'Age']),\n",
    "    (OneHotEncoder(categories=\"auto\", dtype=\"int\", handle_unknown=\"ignore\"),\n",
    "      [\"Employment Type\", \"GraduateOrNot\", \"FamilyMembers\", \"FrequentFlyer\", \"EverTravelledAbroad\"]),\n",
    "    remainder=\"passthrough\")"
   ]
  },
  {
   "cell_type": "code",
   "execution_count": 20,
   "metadata": {},
   "outputs": [],
   "source": [
    "transformer_feature_engeneeirng = make_column_transformer(\n",
    "    #(KBinsDiscretizer(n_bins=5, encode=\"ordinal\", strategy=\"quantile\"), ['Age']),\n",
    "    (OneHotEncoder(categories=\"auto\", dtype=\"int\", handle_unknown=\"ignore\"),\n",
    "      [\"Employment Type\", \"GraduateOrNot\", \"FamilyMembers\", \"FrequentFlyer\", \"EverTravelledAbroad\"]),\n",
    "    remainder=\"passthrough\")"
   ]
  },
  {
   "cell_type": "code",
   "execution_count": 21,
   "metadata": {},
   "outputs": [],
   "source": [
    "# Scalers"
   ]
  },
  {
   "cell_type": "code",
   "execution_count": 22,
   "metadata": {},
   "outputs": [],
   "source": [
    "from sklearn.preprocessing import StandardScaler\n",
    "sc = StandardScaler()"
   ]
  },
  {
   "cell_type": "code",
   "execution_count": 23,
   "metadata": {},
   "outputs": [],
   "source": [
    "selected_transformer = transformer_feature_engeneeirng"
   ]
  },
  {
   "cell_type": "code",
   "execution_count": 24,
   "metadata": {},
   "outputs": [
    {
     "data": {
      "text/html": [
       "<div>\n",
       "<style scoped>\n",
       "    .dataframe tbody tr th:only-of-type {\n",
       "        vertical-align: middle;\n",
       "    }\n",
       "\n",
       "    .dataframe tbody tr th {\n",
       "        vertical-align: top;\n",
       "    }\n",
       "\n",
       "    .dataframe thead th {\n",
       "        text-align: right;\n",
       "    }\n",
       "</style>\n",
       "<table border=\"1\" class=\"dataframe\">\n",
       "  <thead>\n",
       "    <tr style=\"text-align: right;\">\n",
       "      <th></th>\n",
       "      <th>Age</th>\n",
       "      <th>Employment Type</th>\n",
       "      <th>GraduateOrNot</th>\n",
       "      <th>AnnualIncome</th>\n",
       "      <th>FamilyMembers</th>\n",
       "      <th>ChronicDiseases</th>\n",
       "      <th>FrequentFlyer</th>\n",
       "      <th>EverTravelledAbroad</th>\n",
       "    </tr>\n",
       "  </thead>\n",
       "  <tbody>\n",
       "    <tr>\n",
       "      <th>598</th>\n",
       "      <td>33</td>\n",
       "      <td>Government Sector</td>\n",
       "      <td>Yes</td>\n",
       "      <td>400000</td>\n",
       "      <td>3</td>\n",
       "      <td>0</td>\n",
       "      <td>No</td>\n",
       "      <td>No</td>\n",
       "    </tr>\n",
       "    <tr>\n",
       "      <th>1466</th>\n",
       "      <td>33</td>\n",
       "      <td>Government Sector</td>\n",
       "      <td>Yes</td>\n",
       "      <td>600000</td>\n",
       "      <td>7</td>\n",
       "      <td>0</td>\n",
       "      <td>No</td>\n",
       "      <td>No</td>\n",
       "    </tr>\n",
       "    <tr>\n",
       "      <th>1365</th>\n",
       "      <td>33</td>\n",
       "      <td>Government Sector</td>\n",
       "      <td>Yes</td>\n",
       "      <td>650000</td>\n",
       "      <td>6</td>\n",
       "      <td>1</td>\n",
       "      <td>No</td>\n",
       "      <td>No</td>\n",
       "    </tr>\n",
       "    <tr>\n",
       "      <th>1158</th>\n",
       "      <td>28</td>\n",
       "      <td>Private Sector/Self Employed</td>\n",
       "      <td>Yes</td>\n",
       "      <td>600000</td>\n",
       "      <td>3</td>\n",
       "      <td>0</td>\n",
       "      <td>No</td>\n",
       "      <td>No</td>\n",
       "    </tr>\n",
       "    <tr>\n",
       "      <th>786</th>\n",
       "      <td>32</td>\n",
       "      <td>Government Sector</td>\n",
       "      <td>Yes</td>\n",
       "      <td>350000</td>\n",
       "      <td>6</td>\n",
       "      <td>0</td>\n",
       "      <td>No</td>\n",
       "      <td>No</td>\n",
       "    </tr>\n",
       "    <tr>\n",
       "      <th>...</th>\n",
       "      <td>...</td>\n",
       "      <td>...</td>\n",
       "      <td>...</td>\n",
       "      <td>...</td>\n",
       "      <td>...</td>\n",
       "      <td>...</td>\n",
       "      <td>...</td>\n",
       "      <td>...</td>\n",
       "    </tr>\n",
       "    <tr>\n",
       "      <th>191</th>\n",
       "      <td>28</td>\n",
       "      <td>Private Sector/Self Employed</td>\n",
       "      <td>Yes</td>\n",
       "      <td>1100000</td>\n",
       "      <td>7</td>\n",
       "      <td>0</td>\n",
       "      <td>Yes</td>\n",
       "      <td>No</td>\n",
       "    </tr>\n",
       "    <tr>\n",
       "      <th>1078</th>\n",
       "      <td>28</td>\n",
       "      <td>Private Sector/Self Employed</td>\n",
       "      <td>Yes</td>\n",
       "      <td>750000</td>\n",
       "      <td>4</td>\n",
       "      <td>0</td>\n",
       "      <td>No</td>\n",
       "      <td>No</td>\n",
       "    </tr>\n",
       "    <tr>\n",
       "      <th>531</th>\n",
       "      <td>28</td>\n",
       "      <td>Government Sector</td>\n",
       "      <td>Yes</td>\n",
       "      <td>300000</td>\n",
       "      <td>3</td>\n",
       "      <td>0</td>\n",
       "      <td>No</td>\n",
       "      <td>No</td>\n",
       "    </tr>\n",
       "    <tr>\n",
       "      <th>291</th>\n",
       "      <td>28</td>\n",
       "      <td>Private Sector/Self Employed</td>\n",
       "      <td>Yes</td>\n",
       "      <td>900000</td>\n",
       "      <td>4</td>\n",
       "      <td>0</td>\n",
       "      <td>Yes</td>\n",
       "      <td>No</td>\n",
       "    </tr>\n",
       "    <tr>\n",
       "      <th>288</th>\n",
       "      <td>32</td>\n",
       "      <td>Government Sector</td>\n",
       "      <td>Yes</td>\n",
       "      <td>350000</td>\n",
       "      <td>3</td>\n",
       "      <td>0</td>\n",
       "      <td>No</td>\n",
       "      <td>No</td>\n",
       "    </tr>\n",
       "  </tbody>\n",
       "</table>\n",
       "<p>1117 rows × 8 columns</p>\n",
       "</div>"
      ],
      "text/plain": [
       "      Age               Employment Type GraduateOrNot  AnnualIncome  \\\n",
       "598    33             Government Sector           Yes        400000   \n",
       "1466   33             Government Sector           Yes        600000   \n",
       "1365   33             Government Sector           Yes        650000   \n",
       "1158   28  Private Sector/Self Employed           Yes        600000   \n",
       "786    32             Government Sector           Yes        350000   \n",
       "...   ...                           ...           ...           ...   \n",
       "191    28  Private Sector/Self Employed           Yes       1100000   \n",
       "1078   28  Private Sector/Self Employed           Yes        750000   \n",
       "531    28             Government Sector           Yes        300000   \n",
       "291    28  Private Sector/Self Employed           Yes        900000   \n",
       "288    32             Government Sector           Yes        350000   \n",
       "\n",
       "      FamilyMembers ChronicDiseases FrequentFlyer EverTravelledAbroad  \n",
       "598               3               0            No                  No  \n",
       "1466              7               0            No                  No  \n",
       "1365              6               1            No                  No  \n",
       "1158              3               0            No                  No  \n",
       "786               6               0            No                  No  \n",
       "...             ...             ...           ...                 ...  \n",
       "191               7               0           Yes                  No  \n",
       "1078              4               0            No                  No  \n",
       "531               3               0            No                  No  \n",
       "291               4               0           Yes                  No  \n",
       "288               3               0            No                  No  \n",
       "\n",
       "[1117 rows x 8 columns]"
      ]
     },
     "execution_count": 24,
     "metadata": {},
     "output_type": "execute_result"
    }
   ],
   "source": [
    "x_train_df_split"
   ]
  },
  {
   "cell_type": "markdown",
   "metadata": {},
   "source": [
    "Si se hace feature engeering, ejecutar el codigo siguiente"
   ]
  },
  {
   "cell_type": "code",
   "execution_count": 25,
   "metadata": {},
   "outputs": [],
   "source": [
    "\n",
    "\n",
    "\n",
    "selected_numerical_columns = [ 'FamilyMembers' , 'Age' , 'AnnualIncome']\n",
    "selected_categorical_columns = ['EverTravelledAbroad', 'FrequentFlyer' , 'ChronicDiseases' , 'Employment Type' , 'GraduateOrNot' ]\n",
    "\n",
    "\n",
    "    \n",
    "\n",
    "feature_engeenring = False"
   ]
  },
  {
   "cell_type": "code",
   "execution_count": 26,
   "metadata": {},
   "outputs": [],
   "source": [
    "\n",
    "\n",
    "if feature_engeenring:\n",
    "    \n",
    "    selected_numerical_columns = [ 'FamilyMembers' ]\n",
    "    selected_categorical_columns = ['EverTravelledAbroad', 'FrequentFlyer' , 'ChronicDiseases' , 'Employment Type' , 'GraduateOrNot' , 'Annual_Income_135' , 'Age_32']\n",
    "\n",
    "\n",
    "    \n",
    "    \n",
    "    x_train_df_split['Annual_Income_135'] = x_train_df_split['AnnualIncome'] >= 1350000\n",
    "    x_test_df_split['Annual_Income_135'] = x_test_df_split['AnnualIncome'] >= 1350000\n",
    "    \n",
    "    train_df['Annual_Income_135'] = train_df['AnnualIncome'] >= 1350000\n",
    "  \n",
    "    \n",
    "    x_train_df_split['Age_32'] = x_train_df_split['Age'] >= 32\n",
    "    x_test_df_split['Age_32'] = x_test_df_split['Age'] >= 32\n",
    "    \n",
    "    train_df['Age_32'] = train_df['Age'] >= 32\n",
    "    \n",
    "    \n",
    "    x_train_df_split.drop(columns=[\"AnnualIncome\" ,\"Age\"] , inplace = True)\n",
    "    x_test_df_split.drop(columns=[\"AnnualIncome\", \"Age\"] , inplace = True)\n",
    "    train_df.drop(columns=[\"AnnualIncome\" , \"Age\"] , inplace = True)\n",
    "    \n",
    "    \n",
    "    "
   ]
  },
  {
   "cell_type": "code",
   "execution_count": 27,
   "metadata": {},
   "outputs": [],
   "source": [
    "\n",
    "\n",
    "\n",
    "x_train_df_split_transformed = selected_transformer.fit_transform(x_train_df_split[selected_numerical_columns +  selected_categorical_columns])\n",
    "\n",
    "x_test_df_cast_split_transformed = selected_transformer.transform(x_test_df_split[selected_numerical_columns +  selected_categorical_columns])\n",
    "\n",
    "X_train_transformed = selected_transformer.transform(train_df[selected_numerical_columns +  selected_categorical_columns])\n",
    "\n",
    "\n",
    "#x_train_df_split_transformed_scaled = sc.fit_transform(x_train_df_split_transformed)\n",
    "\n",
    "#x_test_df_cast_split_transformed_scaled = sc.transform(x_test_df_cast_split_transformed)\n",
    "\n",
    "#X_train_scaled = sc.fit_transform(X_train_transformed)\n",
    "\n",
    "\n",
    "\n",
    "x_train_df_split_transformed_scaled = x_train_df_split_transformed\n",
    "\n",
    "x_test_df_cast_split_transformed_scaled = x_test_df_cast_split_transformed\n",
    "\n",
    "X_train_scaled = X_train_transformed\n",
    "\n",
    "\n",
    "\n",
    "\n",
    "\n",
    "X_train = X_train_scaled"
   ]
  },
  {
   "cell_type": "markdown",
   "metadata": {},
   "source": [
    "# Hacemos el over sampling"
   ]
  },
  {
   "cell_type": "code",
   "execution_count": 28,
   "metadata": {},
   "outputs": [],
   "source": [
    "import six\n",
    "import sys\n",
    "sys.modules['sklearn.externals.six'] = six\n",
    "\n",
    "import sklearn.neighbors._base\n",
    "sys.modules['sklearn.neighbors.base'] = sklearn.neighbors._base\n",
    "from imblearn.over_sampling import SMOTE\n",
    "\n",
    "oversample = SMOTE()\n",
    "\n",
    "\n",
    "X_sm, y_sm = oversample.fit_sample(X_train_scaled, y_train)\n",
    "\n",
    "X_train = X_sm\n",
    "y_train = y_sm\n",
    "\n",
    "\n",
    "\n",
    "X_sm, y_sm = oversample.fit_sample(x_train_df_split_transformed, y_train_split)\n",
    "\n",
    "x_train_df_split_transformed = X_sm\n",
    "y_train_split = y_sm\n",
    "\n"
   ]
  },
  {
   "cell_type": "code",
   "execution_count": 29,
   "metadata": {},
   "outputs": [
    {
     "data": {
      "text/plain": [
       "(1436,)"
      ]
     },
     "execution_count": 29,
     "metadata": {},
     "output_type": "execute_result"
    }
   ],
   "source": [
    "y_train_split.shape"
   ]
  },
  {
   "cell_type": "code",
   "execution_count": 30,
   "metadata": {},
   "outputs": [
    {
     "data": {
      "text/plain": [
       "718"
      ]
     },
     "execution_count": 30,
     "metadata": {},
     "output_type": "execute_result"
    }
   ],
   "source": [
    "sum(y_train_split)"
   ]
  },
  {
   "cell_type": "markdown",
   "metadata": {},
   "source": [
    "# Entrenamientos"
   ]
  },
  {
   "cell_type": "markdown",
   "metadata": {},
   "source": [
    "Metrica para validar la eficiencia / eficacia de los modelos"
   ]
  },
  {
   "cell_type": "code",
   "execution_count": 31,
   "metadata": {},
   "outputs": [],
   "source": [
    "from sklearn import metrics\n",
    "\n",
    "primary_eval_metric = metrics.f1_score\n",
    "feature_names = selected_numerical_columns +  selected_categorical_columns"
   ]
  },
  {
   "cell_type": "markdown",
   "metadata": {},
   "source": [
    "Nombre de los lables Y"
   ]
  },
  {
   "cell_type": "code",
   "execution_count": 32,
   "metadata": {},
   "outputs": [],
   "source": [
    "confusion_lbs = ['No TravelInsurance', 'TravelInsurance']"
   ]
  },
  {
   "cell_type": "markdown",
   "metadata": {},
   "source": [
    "## Logistic Regression"
   ]
  },
  {
   "cell_type": "code",
   "execution_count": 33,
   "metadata": {},
   "outputs": [
    {
     "name": "stderr",
     "output_type": "stream",
     "text": [
      "/Users/coviedo/opt/anaconda3/envs/diplodatos-ayvd/lib/python3.6/site-packages/scipy/optimize/linesearch.py:477: LineSearchWarning: The line search algorithm did not converge\n",
      "  warn('The line search algorithm did not converge', LineSearchWarning)\n",
      "/Users/coviedo/opt/anaconda3/envs/diplodatos-ayvd/lib/python3.6/site-packages/scipy/optimize/linesearch.py:327: LineSearchWarning: The line search algorithm did not converge\n",
      "  warn('The line search algorithm did not converge', LineSearchWarning)\n",
      "/Users/coviedo/opt/anaconda3/envs/diplodatos-ayvd/lib/python3.6/site-packages/scipy/optimize/linesearch.py:477: LineSearchWarning: The line search algorithm did not converge\n",
      "  warn('The line search algorithm did not converge', LineSearchWarning)\n",
      "/Users/coviedo/opt/anaconda3/envs/diplodatos-ayvd/lib/python3.6/site-packages/scipy/optimize/linesearch.py:327: LineSearchWarning: The line search algorithm did not converge\n",
      "  warn('The line search algorithm did not converge', LineSearchWarning)\n",
      "/Users/coviedo/opt/anaconda3/envs/diplodatos-ayvd/lib/python3.6/site-packages/scipy/optimize/linesearch.py:477: LineSearchWarning: The line search algorithm did not converge\n",
      "  warn('The line search algorithm did not converge', LineSearchWarning)\n",
      "/Users/coviedo/opt/anaconda3/envs/diplodatos-ayvd/lib/python3.6/site-packages/scipy/optimize/linesearch.py:327: LineSearchWarning: The line search algorithm did not converge\n",
      "  warn('The line search algorithm did not converge', LineSearchWarning)\n",
      "/Users/coviedo/opt/anaconda3/envs/diplodatos-ayvd/lib/python3.6/site-packages/scipy/optimize/linesearch.py:477: LineSearchWarning: The line search algorithm did not converge\n",
      "  warn('The line search algorithm did not converge', LineSearchWarning)\n",
      "/Users/coviedo/opt/anaconda3/envs/diplodatos-ayvd/lib/python3.6/site-packages/scipy/optimize/linesearch.py:327: LineSearchWarning: The line search algorithm did not converge\n",
      "  warn('The line search algorithm did not converge', LineSearchWarning)\n",
      "/Users/coviedo/opt/anaconda3/envs/diplodatos-ayvd/lib/python3.6/site-packages/scipy/optimize/linesearch.py:477: LineSearchWarning: The line search algorithm did not converge\n",
      "  warn('The line search algorithm did not converge', LineSearchWarning)\n",
      "/Users/coviedo/opt/anaconda3/envs/diplodatos-ayvd/lib/python3.6/site-packages/scipy/optimize/linesearch.py:327: LineSearchWarning: The line search algorithm did not converge\n",
      "  warn('The line search algorithm did not converge', LineSearchWarning)\n",
      "/Users/coviedo/opt/anaconda3/envs/diplodatos-ayvd/lib/python3.6/site-packages/scipy/optimize/linesearch.py:477: LineSearchWarning: The line search algorithm did not converge\n",
      "  warn('The line search algorithm did not converge', LineSearchWarning)\n",
      "/Users/coviedo/opt/anaconda3/envs/diplodatos-ayvd/lib/python3.6/site-packages/scipy/optimize/linesearch.py:327: LineSearchWarning: The line search algorithm did not converge\n",
      "  warn('The line search algorithm did not converge', LineSearchWarning)\n",
      "/Users/coviedo/opt/anaconda3/envs/diplodatos-ayvd/lib/python3.6/site-packages/scipy/optimize/linesearch.py:477: LineSearchWarning: The line search algorithm did not converge\n",
      "  warn('The line search algorithm did not converge', LineSearchWarning)\n",
      "/Users/coviedo/opt/anaconda3/envs/diplodatos-ayvd/lib/python3.6/site-packages/scipy/optimize/linesearch.py:327: LineSearchWarning: The line search algorithm did not converge\n",
      "  warn('The line search algorithm did not converge', LineSearchWarning)\n",
      "/Users/coviedo/opt/anaconda3/envs/diplodatos-ayvd/lib/python3.6/site-packages/scipy/optimize/linesearch.py:477: LineSearchWarning: The line search algorithm did not converge\n",
      "  warn('The line search algorithm did not converge', LineSearchWarning)\n",
      "/Users/coviedo/opt/anaconda3/envs/diplodatos-ayvd/lib/python3.6/site-packages/scipy/optimize/linesearch.py:327: LineSearchWarning: The line search algorithm did not converge\n",
      "  warn('The line search algorithm did not converge', LineSearchWarning)\n",
      "/Users/coviedo/opt/anaconda3/envs/diplodatos-ayvd/lib/python3.6/site-packages/scipy/optimize/linesearch.py:477: LineSearchWarning: The line search algorithm did not converge\n",
      "  warn('The line search algorithm did not converge', LineSearchWarning)\n",
      "/Users/coviedo/opt/anaconda3/envs/diplodatos-ayvd/lib/python3.6/site-packages/scipy/optimize/linesearch.py:327: LineSearchWarning: The line search algorithm did not converge\n",
      "  warn('The line search algorithm did not converge', LineSearchWarning)\n",
      "/Users/coviedo/opt/anaconda3/envs/diplodatos-ayvd/lib/python3.6/site-packages/scipy/optimize/linesearch.py:477: LineSearchWarning: The line search algorithm did not converge\n",
      "  warn('The line search algorithm did not converge', LineSearchWarning)\n",
      "/Users/coviedo/opt/anaconda3/envs/diplodatos-ayvd/lib/python3.6/site-packages/scipy/optimize/linesearch.py:327: LineSearchWarning: The line search algorithm did not converge\n",
      "  warn('The line search algorithm did not converge', LineSearchWarning)\n",
      "/Users/coviedo/opt/anaconda3/envs/diplodatos-ayvd/lib/python3.6/site-packages/scipy/optimize/linesearch.py:477: LineSearchWarning: The line search algorithm did not converge\n",
      "  warn('The line search algorithm did not converge', LineSearchWarning)\n",
      "/Users/coviedo/opt/anaconda3/envs/diplodatos-ayvd/lib/python3.6/site-packages/scipy/optimize/linesearch.py:327: LineSearchWarning: The line search algorithm did not converge\n",
      "  warn('The line search algorithm did not converge', LineSearchWarning)\n",
      "/Users/coviedo/opt/anaconda3/envs/diplodatos-ayvd/lib/python3.6/site-packages/scipy/optimize/linesearch.py:477: LineSearchWarning: The line search algorithm did not converge\n",
      "  warn('The line search algorithm did not converge', LineSearchWarning)\n",
      "/Users/coviedo/opt/anaconda3/envs/diplodatos-ayvd/lib/python3.6/site-packages/scipy/optimize/linesearch.py:327: LineSearchWarning: The line search algorithm did not converge\n",
      "  warn('The line search algorithm did not converge', LineSearchWarning)\n",
      "/Users/coviedo/opt/anaconda3/envs/diplodatos-ayvd/lib/python3.6/site-packages/scipy/optimize/linesearch.py:477: LineSearchWarning: The line search algorithm did not converge\n",
      "  warn('The line search algorithm did not converge', LineSearchWarning)\n",
      "/Users/coviedo/opt/anaconda3/envs/diplodatos-ayvd/lib/python3.6/site-packages/scipy/optimize/linesearch.py:327: LineSearchWarning: The line search algorithm did not converge\n",
      "  warn('The line search algorithm did not converge', LineSearchWarning)\n",
      "/Users/coviedo/opt/anaconda3/envs/diplodatos-ayvd/lib/python3.6/site-packages/scipy/optimize/linesearch.py:477: LineSearchWarning: The line search algorithm did not converge\n",
      "  warn('The line search algorithm did not converge', LineSearchWarning)\n",
      "/Users/coviedo/opt/anaconda3/envs/diplodatos-ayvd/lib/python3.6/site-packages/scipy/optimize/linesearch.py:327: LineSearchWarning: The line search algorithm did not converge\n",
      "  warn('The line search algorithm did not converge', LineSearchWarning)\n",
      "/Users/coviedo/opt/anaconda3/envs/diplodatos-ayvd/lib/python3.6/site-packages/scipy/optimize/linesearch.py:477: LineSearchWarning: The line search algorithm did not converge\n",
      "  warn('The line search algorithm did not converge', LineSearchWarning)\n",
      "/Users/coviedo/opt/anaconda3/envs/diplodatos-ayvd/lib/python3.6/site-packages/scipy/optimize/linesearch.py:327: LineSearchWarning: The line search algorithm did not converge\n",
      "  warn('The line search algorithm did not converge', LineSearchWarning)\n",
      "/Users/coviedo/opt/anaconda3/envs/diplodatos-ayvd/lib/python3.6/site-packages/scipy/optimize/linesearch.py:477: LineSearchWarning: The line search algorithm did not converge\n",
      "  warn('The line search algorithm did not converge', LineSearchWarning)\n",
      "/Users/coviedo/opt/anaconda3/envs/diplodatos-ayvd/lib/python3.6/site-packages/scipy/optimize/linesearch.py:327: LineSearchWarning: The line search algorithm did not converge\n",
      "  warn('The line search algorithm did not converge', LineSearchWarning)\n",
      "/Users/coviedo/opt/anaconda3/envs/diplodatos-ayvd/lib/python3.6/site-packages/sklearn/utils/optimize.py:203: ConvergenceWarning: newton-cg failed to converge. Increase the number of iterations.\n",
      "  \"number of iterations.\", ConvergenceWarning)\n"
     ]
    },
    {
     "data": {
      "text/plain": [
       "GridSearchCV(cv=5, estimator=LogisticRegression(), n_jobs=-1,\n",
       "             param_grid={'class_weight': ['balanced'], 'penalty': ['l2'],\n",
       "                         'solver': ['liblinear', 'newton-cg', 'lbfgs', 'sag'],\n",
       "                         'tol': [0.0001, 0.001, 0.0001, 0.1]},\n",
       "             scoring='f1')"
      ]
     },
     "execution_count": 33,
     "metadata": {},
     "output_type": "execute_result"
    }
   ],
   "source": [
    "from sklearn.linear_model import LogisticRegression\n",
    "\n",
    "search_params1 = {\n",
    "    'tol': [ 0.01 , 0.001 , 0.0001 , 0.1],\n",
    "    'penalty': ['l2' , 'l1'],\n",
    "    'solver': ['liblinear' , 'saga' ],\n",
    "    'class_weight' : ['balanced']\n",
    "}\n",
    "\n",
    "\n",
    "search_params = {\n",
    "    'tol': [ 0.0001 , 0.001 , 0.0001 , 0.1],\n",
    "    'penalty': ['l2'],\n",
    "    'solver': ['liblinear' , 'newton-cg', 'lbfgs', 'sag' ],\n",
    "    'class_weight' : ['balanced']\n",
    "}\n",
    "\n",
    "\n",
    "\n",
    "lgr = LogisticRegression()\n",
    "\n",
    "lgr_cv = GridSearchCV(estimator =  LogisticRegression(), param_grid = search_params, cv=5, scoring='f1', n_jobs=-1 , verbose = 0 , refit = True  )\n",
    "\n",
    "lgr_cv.fit(x_train_df_split_transformed, y_train_split)"
   ]
  },
  {
   "cell_type": "code",
   "execution_count": 34,
   "metadata": {},
   "outputs": [
    {
     "data": {
      "text/plain": [
       "LogisticRegression(class_weight='balanced', solver='newton-cg')"
      ]
     },
     "execution_count": 34,
     "metadata": {},
     "output_type": "execute_result"
    }
   ],
   "source": [
    "lgr_cv.best_estimator_"
   ]
  },
  {
   "cell_type": "code",
   "execution_count": 35,
   "metadata": {},
   "outputs": [
    {
     "name": "stderr",
     "output_type": "stream",
     "text": [
      "/Users/coviedo/opt/anaconda3/envs/diplodatos-ayvd/lib/python3.6/site-packages/sklearn/metrics/_classification.py:1248: UndefinedMetricWarning: Precision and F-score are ill-defined and being set to 0.0 in labels with no predicted samples. Use `zero_division` parameter to control this behavior.\n",
      "  _warn_prf(average, modifier, msg_start, len(result))\n",
      "/Users/coviedo/opt/anaconda3/envs/diplodatos-ayvd/lib/python3.6/site-packages/sklearn/metrics/_classification.py:1248: UndefinedMetricWarning: Precision and F-score are ill-defined and being set to 0.0 in labels with no predicted samples. Use `zero_division` parameter to control this behavior.\n",
      "  _warn_prf(average, modifier, msg_start, len(result))\n",
      "/Users/coviedo/opt/anaconda3/envs/diplodatos-ayvd/lib/python3.6/site-packages/sklearn/metrics/_classification.py:1248: UndefinedMetricWarning: Precision and F-score are ill-defined and being set to 0.0 in labels with no predicted samples. Use `zero_division` parameter to control this behavior.\n",
      "  _warn_prf(average, modifier, msg_start, len(result))\n",
      "/Users/coviedo/opt/anaconda3/envs/diplodatos-ayvd/lib/python3.6/site-packages/sklearn/metrics/_classification.py:1248: UndefinedMetricWarning: Precision and F-score are ill-defined and being set to 0.0 in labels with no predicted samples. Use `zero_division` parameter to control this behavior.\n",
      "  _warn_prf(average, modifier, msg_start, len(result))\n",
      "/Users/coviedo/opt/anaconda3/envs/diplodatos-ayvd/lib/python3.6/site-packages/sklearn/metrics/_classification.py:1248: UndefinedMetricWarning: Precision and F-score are ill-defined and being set to 0.0 in labels with no predicted samples. Use `zero_division` parameter to control this behavior.\n",
      "  _warn_prf(average, modifier, msg_start, len(result))\n"
     ]
    },
    {
     "name": "stdout",
     "output_type": "stream",
     "text": [
      "LogisticRegressionCV(class_weight='balanced', cv=5, max_iter=500, n_jobs=-1,\n",
      "                     random_state=42, scoring='f1', solver='liblinear',\n",
      "                     tol=0.1)\n",
      "\n",
      "=============================> TRAIN-TEST DETAILS <======================================\n",
      "Train Size: 1436 samples\n",
      " Test Size: 373 samples\n",
      "---------------------------------------------\n",
      "Training Time: 0.102 seconds\n",
      " Testing Time: 0.0 seconds\n",
      "---------------------------------------------\n",
      "Train Accuracy:  0.5\n",
      " Test Accuracy:  0.35656836461126007\n",
      "---------------------------------------------\n",
      "Train F1 Score:  0.6666666666666666\n",
      " Test F1 Score:  0.525691699604743\n",
      "\n",
      "---------------------------------------------\n",
      " Area Under ROC (test):  0.7327067669172932\n",
      "---------------------------------------------\n",
      "Model Memory Size: 10.02 kB\n",
      "\n",
      "=============================> CLASSIFICATION REPORT <===================================\n",
      "                    precision    recall  f1-score   support\n",
      "\n",
      "No TravelInsurance       0.00      0.00      0.00       240\n",
      "   TravelInsurance       0.36      1.00      0.53       133\n",
      "\n",
      "          accuracy                           0.36       373\n",
      "         macro avg       0.18      0.50      0.26       373\n",
      "      weighted avg       0.13      0.36      0.19       373\n",
      "\n",
      "\n",
      "================================> CONFUSION MATRIX <=====================================\n"
     ]
    },
    {
     "name": "stderr",
     "output_type": "stream",
     "text": [
      "/Users/coviedo/opt/anaconda3/envs/diplodatos-ayvd/lib/python3.6/site-packages/sklearn/metrics/_classification.py:1248: UndefinedMetricWarning: Precision and F-score are ill-defined and being set to 0.0 in labels with no predicted samples. Use `zero_division` parameter to control this behavior.\n",
      "  _warn_prf(average, modifier, msg_start, len(result))\n"
     ]
    },
    {
     "data": {
      "image/png": "[encoded data removed]",
      "text/plain": [
       "<Figure size 432x288 with 2 Axes>"
      ]
     },
     "metadata": {},
     "output_type": "display_data"
    }
   ],
   "source": [
    "from sklearn.linear_model import LogisticRegressionCV\n",
    "\n",
    "logit_cv = LogisticRegressionCV(class_weight='balanced', cv=5,\n",
    "                                max_iter=500, penalty='l2',\n",
    "                                scoring='f1', solver='liblinear',\n",
    "                                n_jobs=-1, random_state=seed_val,\n",
    "                                refit=True, tol=0.1, verbose=0)\n",
    "\n",
    "\n",
    "\n",
    "\n",
    "logit_cv, logit_report = lib.report(logit_cv, x_train_df_split_transformed, y_train_split,\n",
    "                                x_test_df_cast_split_transformed, y_test_split,\n",
    "                                display_scores=[primary_eval_metric],\n",
    "                                importance_plot=True,\n",
    "                                feature_labels=feature_names,\n",
    "                                confusion_labels=confusion_lbs)"
   ]
  },
  {
   "cell_type": "code",
   "execution_count": 36,
   "metadata": {},
   "outputs": [],
   "source": [
    "#logit_cv = LogisticRegression(class_weight='balanced',\n",
    "#                                max_iter=500, penalty='l2',\n",
    "#                                solver='liblinear',\n",
    "#                                n_jobs=-1, random_state=seed_val,\n",
    "#                                tol=0.1, verbose=0)\n",
    "\n",
    "logit_cv = LogisticRegression(class_weight='balanced', solver='liblinear', tol=0.1)"
   ]
  },
  {
   "cell_type": "code",
   "execution_count": 37,
   "metadata": {},
   "outputs": [
    {
     "name": "stdout",
     "output_type": "stream",
     "text": [
      "              precision    recall  f1-score   support\n",
      "\n",
      "           0       0.00      0.00      0.00       958\n",
      "           1       0.50      1.00      0.67       958\n",
      "\n",
      "    accuracy                           0.50      1916\n",
      "   macro avg       0.25      0.50      0.33      1916\n",
      "weighted avg       0.25      0.50      0.33      1916\n",
      "\n"
     ]
    },
    {
     "name": "stderr",
     "output_type": "stream",
     "text": [
      "/Users/coviedo/opt/anaconda3/envs/diplodatos-ayvd/lib/python3.6/site-packages/sklearn/metrics/_classification.py:1248: UndefinedMetricWarning: Precision and F-score are ill-defined and being set to 0.0 in labels with no predicted samples. Use `zero_division` parameter to control this behavior.\n",
      "  _warn_prf(average, modifier, msg_start, len(result))\n",
      "/Users/coviedo/opt/anaconda3/envs/diplodatos-ayvd/lib/python3.6/site-packages/sklearn/metrics/_classification.py:1248: UndefinedMetricWarning: Precision and F-score are ill-defined and being set to 0.0 in labels with no predicted samples. Use `zero_division` parameter to control this behavior.\n",
      "  _warn_prf(average, modifier, msg_start, len(result))\n",
      "/Users/coviedo/opt/anaconda3/envs/diplodatos-ayvd/lib/python3.6/site-packages/sklearn/metrics/_classification.py:1248: UndefinedMetricWarning: Precision and F-score are ill-defined and being set to 0.0 in labels with no predicted samples. Use `zero_division` parameter to control this behavior.\n",
      "  _warn_prf(average, modifier, msg_start, len(result))\n"
     ]
    }
   ],
   "source": [
    "logit_cv.fit(X_train, y_train)\n",
    "print(classification_report(y_train, logit_cv.predict(X_train)))"
   ]
  },
  {
   "cell_type": "markdown",
   "metadata": {},
   "source": [
    "## Decission Tree"
   ]
  },
  {
   "cell_type": "code",
   "execution_count": 38,
   "metadata": {},
   "outputs": [],
   "source": [
    "search_params = {\n",
    "    'criterion': ['gini', 'entropy'],\n",
    "    'min_samples_leaf': [1, 2, 5],\n",
    "    'max_depth': [6, 3, 10]\n",
    "}"
   ]
  },
  {
   "cell_type": "code",
   "execution_count": 39,
   "metadata": {},
   "outputs": [
    {
     "data": {
      "text/plain": [
       "DecisionTreeClassifier(criterion='entropy', max_depth=10, min_samples_leaf=5,\n",
       "                       random_state=42)"
      ]
     },
     "execution_count": 39,
     "metadata": {},
     "output_type": "execute_result"
    }
   ],
   "source": [
    "tree_cv = GridSearchCV(estimator =  DecisionTreeClassifier(random_state=seed_val), param_grid = search_params, cv=5, scoring='f1', n_jobs=-1 , verbose = 0 , refit = True  )\n",
    "\n",
    "tree_cv.fit(x_train_df_split_transformed, y_train_split)\n",
    "\n",
    "\n",
    "tree_cv.best_estimator_"
   ]
  },
  {
   "cell_type": "code",
   "execution_count": 40,
   "metadata": {},
   "outputs": [
    {
     "name": "stdout",
     "output_type": "stream",
     "text": [
      "DecisionTreeClassifier(max_depth=10, min_samples_leaf=5, random_state=42)\n",
      "\n",
      "=============================> TRAIN-TEST DETAILS <======================================\n",
      "Train Size: 1436 samples\n",
      " Test Size: 373 samples\n",
      "---------------------------------------------\n",
      "Training Time: 0.007 seconds\n",
      " Testing Time: 0.0 seconds\n",
      "---------------------------------------------\n",
      "Train Accuracy:  0.878133704735376\n",
      " Test Accuracy:  0.7479892761394102\n",
      "---------------------------------------------\n",
      "Train F1 Score:  0.8685199098422239\n",
      " Test F1 Score:  0.624\n",
      "\n",
      "---------------------------------------------\n",
      " Area Under ROC (test):  0.7748746867167919\n",
      "---------------------------------------------\n",
      "Model Memory Size: 13.91 kB\n",
      "\n",
      "=============================> CLASSIFICATION REPORT <===================================\n",
      "                    precision    recall  f1-score   support\n",
      "\n",
      "No TravelInsurance       0.79      0.84      0.81       240\n",
      "   TravelInsurance       0.67      0.59      0.62       133\n",
      "\n",
      "          accuracy                           0.75       373\n",
      "         macro avg       0.73      0.71      0.72       373\n",
      "      weighted avg       0.74      0.75      0.74       373\n",
      "\n",
      "\n",
      "================================> CONFUSION MATRIX <=====================================\n"
     ]
    },
    {
     "data": {
      "image/png": "[encoded data removed]",
      "text/plain": [
       "<Figure size 432x288 with 2 Axes>"
      ]
     },
     "metadata": {},
     "output_type": "display_data"
    }
   ],
   "source": [
    "decision_tree = DecisionTreeClassifier(max_depth=10,\n",
    "                                       random_state=seed_val, min_samples_leaf=5)\n",
    "\n",
    "decision_tree, decision_tree_report = lib.report(decision_tree,x_train_df_split_transformed, y_train_split,\n",
    "                                        x_test_df_cast_split_transformed, y_test_split,\n",
    "                                        display_scores=[primary_eval_metric],\n",
    "                                        importance_plot=True,\n",
    "                                        feature_labels=feature_names,\n",
    "                                        confusion_labels=confusion_lbs)\n",
    "\n"
   ]
  },
  {
   "cell_type": "code",
   "execution_count": 41,
   "metadata": {},
   "outputs": [],
   "source": [
    "decision_tree = DecisionTreeClassifier(max_depth=10,random_state=seed_val)\n",
    "\n",
    "#decision_tree = DecisionTreeClassifier(criterion='entropy', max_depth=6, min_samples_leaf=2, random_state=42)"
   ]
  },
  {
   "cell_type": "code",
   "execution_count": 42,
   "metadata": {},
   "outputs": [
    {
     "name": "stdout",
     "output_type": "stream",
     "text": [
      "              precision    recall  f1-score   support\n",
      "\n",
      "           0       0.81      0.98      0.89       958\n",
      "           1       0.97      0.78      0.86       958\n",
      "\n",
      "    accuracy                           0.88      1916\n",
      "   macro avg       0.89      0.88      0.87      1916\n",
      "weighted avg       0.89      0.88      0.87      1916\n",
      "\n"
     ]
    }
   ],
   "source": [
    "decision_tree.fit(X_train, y_train)\n",
    "print(classification_report(y_train, decision_tree.predict(X_train)))"
   ]
  },
  {
   "cell_type": "markdown",
   "metadata": {},
   "source": [
    "# Decision Trees with Bagging"
   ]
  },
  {
   "cell_type": "code",
   "execution_count": 43,
   "metadata": {},
   "outputs": [],
   "source": [
    "from sklearn.ensemble import BaggingClassifier\n"
   ]
  },
  {
   "cell_type": "code",
   "execution_count": 44,
   "metadata": {},
   "outputs": [],
   "source": [
    "bagging_dtree = DecisionTreeClassifier(max_depth=10,\n",
    "                                       random_state=seed_val, min_samples_leaf=5)"
   ]
  },
  {
   "cell_type": "code",
   "execution_count": 45,
   "metadata": {},
   "outputs": [],
   "source": [
    "bagging_clf = BaggingClassifier(base_estimator=bagging_dtree,\n",
    "                                max_samples=0.745, n_estimators=100,\n",
    "                                max_features=0.37,\n",
    "                                n_jobs=-1, random_state=seed_val)"
   ]
  },
  {
   "cell_type": "code",
   "execution_count": 46,
   "metadata": {},
   "outputs": [
    {
     "name": "stdout",
     "output_type": "stream",
     "text": [
      "BaggingClassifier(base_estimator=DecisionTreeClassifier(max_depth=10,\n",
      "                                                        min_samples_leaf=5,\n",
      "                                                        random_state=42),\n",
      "                  max_features=0.37, max_samples=0.745, n_estimators=100,\n",
      "                  n_jobs=-1, random_state=42)\n",
      "\n",
      "=============================> TRAIN-TEST DETAILS <======================================\n",
      "Train Size: 1436 samples\n",
      " Test Size: 373 samples\n",
      "---------------------------------------------\n",
      "Training Time: 0.165 seconds\n",
      " Testing Time: 0.09 seconds\n",
      "---------------------------------------------\n",
      "Train Accuracy:  0.8488857938718662\n",
      " Test Accuracy:  0.7694369973190348\n",
      "---------------------------------------------\n",
      "Train F1 Score:  0.8308651597817616\n",
      " Test F1 Score:  0.6090909090909091\n",
      "\n",
      "---------------------------------------------\n",
      " Area Under ROC (test):  0.7758771929824562\n",
      "---------------------------------------------\n",
      "Model Memory Size: 657.74 kB\n",
      "\n",
      "=============================> CLASSIFICATION REPORT <===================================\n",
      "                    precision    recall  f1-score   support\n",
      "\n",
      "No TravelInsurance       0.77      0.92      0.84       240\n",
      "   TravelInsurance       0.77      0.50      0.61       133\n",
      "\n",
      "          accuracy                           0.77       373\n",
      "         macro avg       0.77      0.71      0.72       373\n",
      "      weighted avg       0.77      0.77      0.76       373\n",
      "\n",
      "\n",
      "================================> CONFUSION MATRIX <=====================================\n"
     ]
    },
    {
     "data": {
      "image/png": "[encoded data removed]",
      "text/plain": [
       "<Figure size 432x288 with 2 Axes>"
      ]
     },
     "metadata": {},
     "output_type": "display_data"
    }
   ],
   "source": [
    "bagging_clf, bagging_clf_report = lib.report(bagging_clf,x_train_df_split_transformed, y_train_split,\n",
    "                                        x_test_df_cast_split_transformed, y_test_split,\n",
    "                                        display_scores=[primary_eval_metric],\n",
    "                                        importance_plot=True,\n",
    "                                        feature_labels=feature_names,\n",
    "                                        confusion_labels=confusion_lbs)"
   ]
  },
  {
   "cell_type": "markdown",
   "metadata": {},
   "source": [
    "## RandomForest"
   ]
  },
  {
   "cell_type": "code",
   "execution_count": 47,
   "metadata": {},
   "outputs": [
    {
     "data": {
      "text/plain": [
       "[{1: 1.0, 0: 1},\n",
       " {1: 1.5, 0: 1},\n",
       " {1: 2.0, 0: 1},\n",
       " {1: 2.5, 0: 1},\n",
       " {1: 3.0, 0: 1},\n",
       " {1: 3.5, 0: 1},\n",
       " {1: 4.0, 0: 1},\n",
       " {1: 4.5, 0: 1}]"
      ]
     },
     "execution_count": 47,
     "metadata": {},
     "output_type": "execute_result"
    }
   ],
   "source": [
    "[{1:neg_weight, 0:1} for neg_weight in np.arange(1.0, 5.0, 0.5)]"
   ]
  },
  {
   "cell_type": "code",
   "execution_count": 48,
   "metadata": {},
   "outputs": [
    {
     "data": {
      "text/plain": [
       "RandomForestClassifier(class_weight='balanced', criterion='entropy',\n",
       "                       max_depth=9, random_state=42)"
      ]
     },
     "execution_count": 48,
     "metadata": {},
     "output_type": "execute_result"
    }
   ],
   "source": [
    "from sklearn.ensemble import RandomForestClassifier\n",
    "\n",
    "search_params_rf = {\n",
    "    'class_weight': ['balanced'],\n",
    "    #'class_weight':[{0:neg_weight, 1:1} for neg_weight in np.arange(1.0, 5.0, 0.5)],\n",
    "    #'class_weight': [{1:neg_weight, 0:1} for neg_weight in np.arange(1.0, 10.0, 0.5)],\n",
    "    'max_depth' : [8,9],\n",
    "    'criterion' : ['gini', 'entropy'],\n",
    "    'n_estimators' : [100, 150, 200]\n",
    "}\n",
    "\n",
    "\n",
    "\n",
    "rf_cv = GridSearchCV(estimator =  RandomForestClassifier(random_state=seed_val), param_grid = search_params_rf, cv=5, scoring='f1', n_jobs=-1 , verbose = 0 , refit = True  )\n",
    "\n",
    "rf_cv.fit(x_train_df_split_transformed, y_train_split)\n",
    "\n",
    "rf_cv.best_estimator_"
   ]
  },
  {
   "cell_type": "code",
   "execution_count": 49,
   "metadata": {},
   "outputs": [
    {
     "name": "stdout",
     "output_type": "stream",
     "text": [
      "RandomForestClassifier(class_weight={0: 1, 1: 1.5}, criterion='entropy',\n",
      "                       max_depth=8, n_estimators=200, random_state=42)\n",
      "\n",
      "=============================> TRAIN-TEST DETAILS <======================================\n",
      "Train Size: 1436 samples\n",
      " Test Size: 373 samples\n",
      "---------------------------------------------\n",
      "Training Time: 0.699 seconds\n",
      " Testing Time: 0.054 seconds\n",
      "---------------------------------------------\n",
      "Train Accuracy:  0.8934540389972145\n",
      " Test Accuracy:  0.7694369973190348\n",
      "---------------------------------------------\n",
      "Train F1 Score:  0.8845283018867924\n",
      " Test F1 Score:  0.6416666666666667\n",
      "\n",
      "---------------------------------------------\n",
      " Area Under ROC (test):  0.787875939849624\n",
      "---------------------------------------------\n",
      "Model Memory Size: 2101.86 kB\n",
      "\n",
      "=============================> CLASSIFICATION REPORT <===================================\n",
      "                    precision    recall  f1-score   support\n",
      "\n",
      "No TravelInsurance       0.79      0.88      0.83       240\n",
      "   TravelInsurance       0.72      0.58      0.64       133\n",
      "\n",
      "          accuracy                           0.77       373\n",
      "         macro avg       0.75      0.73      0.74       373\n",
      "      weighted avg       0.76      0.77      0.76       373\n",
      "\n",
      "\n",
      "================================> CONFUSION MATRIX <=====================================\n"
     ]
    },
    {
     "data": {
      "image/png": "[encoded data removed]",
      "text/plain": [
       "<Figure size 432x288 with 2 Axes>"
      ]
     },
     "metadata": {},
     "output_type": "display_data"
    }
   ],
   "source": [
    "#rf = RandomForestClassifier(class_weight='balanced', max_depth=8, criterion='gini', random_state=seed_val)\n",
    "\n",
    "rf = RandomForestClassifier(class_weight={0: 1, 1: 1.5}, criterion='entropy',max_depth=8, n_estimators=200, random_state=seed_val)\n",
    "\n",
    "\n",
    "\n",
    "\n",
    "rf, rf_report = lib.report(rf,x_train_df_split_transformed, y_train_split,\n",
    "                                        x_test_df_cast_split_transformed, y_test_split,\n",
    "                                        display_scores=[primary_eval_metric],\n",
    "                                        importance_plot=True,\n",
    "                                        feature_labels=feature_names,\n",
    "                                        confusion_labels=confusion_lbs)"
   ]
  },
  {
   "cell_type": "code",
   "execution_count": 50,
   "metadata": {},
   "outputs": [],
   "source": [
    "# rfc = RandomForestClassifier(class_weight='balanced', max_depth=8, random_state=42)\n",
    "#rfc = RandomForestClassifier(class_weight='balanced_subsample', max_depth=7, n_estimators=200, random_state=42)\n",
    "\n",
    "rfc = RandomForestClassifier(class_weight='balanced', criterion='entropy',\n",
    "                       max_depth=9, n_estimators=150, random_state=42)\n",
    "\n",
    "#rfc = RandomForestClassifier(class_weight={0: 1, 1: 1.5}, criterion='entropy', max_depth=8, n_estimators=200, random_state=42)\n"
   ]
  },
  {
   "cell_type": "code",
   "execution_count": 51,
   "metadata": {},
   "outputs": [
    {
     "name": "stdout",
     "output_type": "stream",
     "text": [
      "              precision    recall  f1-score   support\n",
      "\n",
      "           0       0.82      0.98      0.89       958\n",
      "           1       0.97      0.78      0.87       958\n",
      "\n",
      "    accuracy                           0.88      1916\n",
      "   macro avg       0.89      0.88      0.88      1916\n",
      "weighted avg       0.89      0.88      0.88      1916\n",
      "\n"
     ]
    }
   ],
   "source": [
    "rfc.fit(X_train, y_train)\n",
    "print(classification_report(y_train, rfc.predict(X_train)))"
   ]
  },
  {
   "cell_type": "markdown",
   "metadata": {},
   "source": [
    "## SVM"
   ]
  },
  {
   "cell_type": "code",
   "execution_count": 52,
   "metadata": {},
   "outputs": [
    {
     "data": {
      "text/plain": [
       "SVC(C=1, probability=True, random_state=42)"
      ]
     },
     "execution_count": 52,
     "metadata": {},
     "output_type": "execute_result"
    }
   ],
   "source": [
    "from sklearn.svm import SVC\n",
    "\n",
    "search_params_svc = {\n",
    "    #'C': [1,1.1,1.2],\n",
    "    'C': [1,1.1],\n",
    "    #'kernel': ['linear', 'poly', 'rbf', 'sigmoid'],\n",
    "    'kernel': ['poly', 'rbf'],\n",
    "    'degree' : [3,4,5],\n",
    "    'class_weight' : [None,'balanced']\n",
    "    \n",
    "    \n",
    "   }\n",
    "\n",
    "\n",
    "svm_cv = GridSearchCV(estimator =  SVC(random_state = seed_val , probability = True), param_grid = search_params_svc, cv=5, scoring='f1', n_jobs=-1 , verbose = 0 , refit = True  )\n",
    "\n",
    "svm_cv.fit(x_train_df_split_transformed, y_train_split)\n",
    "\n",
    "svm_cv.best_estimator_"
   ]
  },
  {
   "cell_type": "code",
   "execution_count": 53,
   "metadata": {},
   "outputs": [
    {
     "name": "stdout",
     "output_type": "stream",
     "text": [
      "SVC(C=1, class_weight='balanced', probability=True, random_state=42)\n",
      "\n",
      "=============================> TRAIN-TEST DETAILS <======================================\n",
      "Train Size: 1436 samples\n",
      " Test Size: 373 samples\n",
      "---------------------------------------------\n",
      "Training Time: 1.209 seconds\n",
      " Testing Time: 0.126 seconds\n",
      "---------------------------------------------\n",
      "Train Accuracy:  0.6991643454038997\n",
      " Test Accuracy:  0.7506702412868632\n",
      "---------------------------------------------\n",
      "Train F1 Score:  0.6332767402376911\n",
      " Test F1 Score:  0.5753424657534246\n",
      "\n",
      "---------------------------------------------\n",
      " Area Under ROC (test):  0.7089285714285714\n",
      "---------------------------------------------\n",
      "Model Memory Size: 165.39 kB\n",
      "\n",
      "=============================> CLASSIFICATION REPORT <===================================\n",
      "                    precision    recall  f1-score   support\n",
      "\n",
      "No TravelInsurance       0.76      0.90      0.82       240\n",
      "   TravelInsurance       0.73      0.47      0.58       133\n",
      "\n",
      "          accuracy                           0.75       373\n",
      "         macro avg       0.74      0.69      0.70       373\n",
      "      weighted avg       0.75      0.75      0.74       373\n",
      "\n",
      "\n",
      "================================> CONFUSION MATRIX <=====================================\n"
     ]
    },
    {
     "data": {
      "image/png": "[encoded data removed]",
      "text/plain": [
       "<Figure size 432x288 with 2 Axes>"
      ]
     },
     "metadata": {},
     "output_type": "display_data"
    }
   ],
   "source": [
    "#svc = SVC(C=1, degree=5, kernel='poly' ,class_weight='balanced' , random_state=seed_val , probability = True)\n",
    "\n",
    "svc = SVC(C=1,  kernel='rbf' ,class_weight='balanced' , random_state=seed_val , probability = True)\n",
    "\n",
    "\n",
    "\n",
    "svc, svc_report = lib.report(svc,x_train_df_split_transformed, y_train_split,\n",
    "                                        x_test_df_cast_split_transformed, y_test_split,\n",
    "                                        display_scores=[primary_eval_metric],\n",
    "                                        importance_plot=True,\n",
    "                                        feature_labels=feature_names,\n",
    "                                        confusion_labels=confusion_lbs)"
   ]
  },
  {
   "cell_type": "code",
   "execution_count": 54,
   "metadata": {},
   "outputs": [],
   "source": [
    "svc = SVC(C=1.1, degree=4, kernel='poly' , random_state=seed_val , probability = True)\n",
    "#svc = SVC(C=1, class_weight='balanced', degree=5, kernel='poly', probability=True,random_state=seed_val)\n"
   ]
  },
  {
   "cell_type": "code",
   "execution_count": 55,
   "metadata": {},
   "outputs": [
    {
     "name": "stdout",
     "output_type": "stream",
     "text": [
      "              precision    recall  f1-score   support\n",
      "\n",
      "           0       0.82      0.98      0.89       958\n",
      "           1       0.97      0.78      0.87       958\n",
      "\n",
      "    accuracy                           0.88      1916\n",
      "   macro avg       0.89      0.88      0.88      1916\n",
      "weighted avg       0.89      0.88      0.88      1916\n",
      "\n"
     ]
    }
   ],
   "source": [
    "rfc.fit(X_train, y_train)\n",
    "print(classification_report(y_train, rfc.predict(X_train)))"
   ]
  },
  {
   "cell_type": "markdown",
   "metadata": {},
   "source": [
    "## XGBoost"
   ]
  },
  {
   "cell_type": "code",
   "execution_count": 56,
   "metadata": {},
   "outputs": [],
   "source": [
    "# !conda install -y xgboost"
   ]
  },
  {
   "cell_type": "markdown",
   "metadata": {},
   "source": [
    "https://github.com/fmfn/BayesianOptimization"
   ]
  },
  {
   "cell_type": "code",
   "execution_count": 57,
   "metadata": {},
   "outputs": [
    {
     "name": "stderr",
     "output_type": "stream",
     "text": [
      "/Users/coviedo/opt/anaconda3/envs/diplodatos-ayvd/lib/python3.6/site-packages/xgboost/sklearn.py:888: UserWarning: The use of label encoder in XGBClassifier is deprecated and will be removed in a future release. To remove this warning, do the following: 1) Pass option use_label_encoder=False when constructing XGBClassifier object; and 2) Encode your labels (y) as integers starting with 0, i.e. 0, 1, 2, ..., [num_class - 1].\n",
      "  warnings.warn(label_encoder_deprecation_msg, UserWarning)\n"
     ]
    },
    {
     "name": "stdout",
     "output_type": "stream",
     "text": [
      "[17:38:27] WARNING: /opt/concourse/worker/volumes/live/7a2b9f41-3287-451b-6691-43e9a6c0910f/volume/xgboost-split_1619728204606/work/src/learner.cc:1061: Starting in XGBoost 1.3.0, the default evaluation metric used with the objective 'binary:logistic' was changed from 'error' to 'logloss'. Explicitly set eval_metric if you'd like to restore the old behavior.\n"
     ]
    },
    {
     "data": {
      "text/plain": [
       "XGBClassifier(base_score=0.5, booster='gbtree', colsample_bylevel=1,\n",
       "              colsample_bynode=1, colsample_bytree=1, gamma=0, gpu_id=-1,\n",
       "              importance_type='gain', interaction_constraints='',\n",
       "              learning_rate=0.02, max_delta_step=0, max_depth=5,\n",
       "              min_child_weight=1, missing=nan, monotone_constraints='()',\n",
       "              n_estimators=600, n_jobs=8, num_parallel_tree=1, random_state=0,\n",
       "              reg_alpha=0, reg_lambda=1, scale_pos_weight=1, subsample=1,\n",
       "              tree_method='exact', validate_parameters=1, verbosity=None)"
      ]
     },
     "execution_count": 57,
     "metadata": {},
     "output_type": "execute_result"
    }
   ],
   "source": [
    "from xgboost import XGBClassifier\n",
    "from sklearn.utils import class_weight\n",
    "\n",
    "\n",
    "\n",
    "search_params_xgbc = {\n",
    "        'min_child_weight': [1, 5, 10],\n",
    "        #'gamma': [0.5, 1, 1.5, 2, 5],\n",
    "        #'subsample': [0.6, 0.8, 1.0],\n",
    "        #'colsample_bytree': [0.6, 0.8, 1.0],\n",
    "        'max_depth': [3, 4, 5],\n",
    "        'learning_rate' :[0.02], \n",
    "        'n_estimators' : [600], \n",
    "        'objective' : ['binary:logistic']\n",
    "    \n",
    "         }\n",
    "\n",
    "\n",
    "xgbc_cv = GridSearchCV(estimator =  XGBClassifier(), param_grid = search_params_xgbc, cv=5, scoring='f1', n_jobs=-1 , verbose = 0 , refit = True  )\n",
    "\n",
    "xgbc_cv.fit(x_train_df_split_transformed, y_train_split)\n",
    "\n",
    "xgbc_cv.best_estimator_"
   ]
  },
  {
   "cell_type": "code",
   "execution_count": 58,
   "metadata": {},
   "outputs": [
    {
     "data": {
      "text/plain": [
       "1.0"
      ]
     },
     "execution_count": 58,
     "metadata": {},
     "output_type": "execute_result"
    }
   ],
   "source": [
    "cls_weight = (y_train.shape[0] - np.sum(y_train)) / np.sum(y_train)\n",
    "cls_weight"
   ]
  },
  {
   "cell_type": "code",
   "execution_count": 59,
   "metadata": {},
   "outputs": [
    {
     "name": "stdout",
     "output_type": "stream",
     "text": [
      "[17:38:28] WARNING: /opt/concourse/worker/volumes/live/7a2b9f41-3287-451b-6691-43e9a6c0910f/volume/xgboost-split_1619728204606/work/src/learner.cc:1061: Starting in XGBoost 1.3.0, the default evaluation metric used with the objective 'binary:logistic' was changed from 'error' to 'logloss'. Explicitly set eval_metric if you'd like to restore the old behavior.\n",
      "              precision    recall  f1-score   support\n",
      "\n",
      "           0       0.89      0.97      0.93       958\n",
      "           1       0.97      0.88      0.92       958\n",
      "\n",
      "    accuracy                           0.93      1916\n",
      "   macro avg       0.93      0.93      0.93      1916\n",
      "weighted avg       0.93      0.93      0.93      1916\n",
      "\n"
     ]
    }
   ],
   "source": [
    "xgb_clf = XGBClassifier(random_state=seed_val, n_jobs=-1 , scale_pos_weight=cls_weight )\n",
    "\n",
    "#xgb_clf  =XGBClassifier(base_score=0.5, booster='gbtree', colsample_bylevel=1,\n",
    "#              colsample_bynode=1, colsample_bytree=1.0, gamma=1, gpu_id=-1,\n",
    "#              importance_type='gain', interaction_constraints='',\n",
    "#              learning_rate=0.300000012, max_delta_step=0, max_depth=5,\n",
    "#              min_child_weight=1, monotone_constraints='()',\n",
    "#              n_estimators=100, n_jobs=8, num_parallel_tree=1, random_state=0,\n",
    "#              reg_alpha=0, reg_lambda=1, scale_pos_weight=1, subsample=1.0,\n",
    "#              tree_method='exact', validate_parameters=1, verbosity=None)\n",
    "\n",
    "\n",
    "xgb_clf.fit(X_train, y_train)\n",
    "\n",
    "print(classification_report(y_train, xgb_clf.predict(X_train)))"
   ]
  },
  {
   "cell_type": "markdown",
   "metadata": {},
   "source": [
    "## KNN"
   ]
  },
  {
   "cell_type": "code",
   "execution_count": 60,
   "metadata": {},
   "outputs": [
    {
     "data": {
      "text/plain": [
       "KNeighborsClassifier(n_neighbors=4, weights='distance')"
      ]
     },
     "execution_count": 60,
     "metadata": {},
     "output_type": "execute_result"
    }
   ],
   "source": [
    "from sklearn.neighbors import KNeighborsClassifier\n",
    "\n",
    "search_params_knn = {\n",
    "    'n_neighbors': [3,4,5],\n",
    "    'p': [ 2, 3, 4],\n",
    "    'weights': ['distance']\n",
    "}\n",
    "\n",
    "\n",
    "\n",
    "knn_cv = GridSearchCV(estimator =  KNeighborsClassifier(), param_grid = search_params_knn, cv=5, scoring='f1', n_jobs=-1 , verbose = 0 , refit = True  )\n",
    "\n",
    "knn_cv.fit(x_train_df_split_transformed, y_train_split)\n",
    "\n",
    "knn_cv.best_estimator_"
   ]
  },
  {
   "cell_type": "code",
   "execution_count": 61,
   "metadata": {},
   "outputs": [
    {
     "name": "stdout",
     "output_type": "stream",
     "text": [
      "KNeighborsClassifier(weights='distance')\n",
      "\n",
      "=============================> TRAIN-TEST DETAILS <======================================\n",
      "Train Size: 1436 samples\n",
      " Test Size: 373 samples\n",
      "---------------------------------------------\n",
      "Training Time: 0.002 seconds\n",
      " Testing Time: 0.031 seconds\n",
      "---------------------------------------------\n",
      "Train Accuracy:  0.9561281337047354\n",
      " Test Accuracy:  0.7319034852546917\n",
      "---------------------------------------------\n",
      "Train F1 Score:  0.9545126353790613\n",
      " Test F1 Score:  0.6124031007751938\n",
      "\n",
      "---------------------------------------------\n",
      " Area Under ROC (test):  0.7301691729323307\n",
      "---------------------------------------------\n",
      "Model Memory Size: 225.19 kB\n",
      "\n",
      "=============================> CLASSIFICATION REPORT <===================================\n",
      "                    precision    recall  f1-score   support\n",
      "\n",
      "No TravelInsurance       0.78      0.81      0.80       240\n",
      "   TravelInsurance       0.63      0.59      0.61       133\n",
      "\n",
      "          accuracy                           0.73       373\n",
      "         macro avg       0.71      0.70      0.70       373\n",
      "      weighted avg       0.73      0.73      0.73       373\n",
      "\n",
      "\n",
      "================================> CONFUSION MATRIX <=====================================\n"
     ]
    },
    {
     "data": {
      "image/png": "[encoded data removed]",
      "text/plain": [
       "<Figure size 432x288 with 2 Axes>"
      ]
     },
     "metadata": {},
     "output_type": "display_data"
    }
   ],
   "source": [
    "knn = KNeighborsClassifier(weights='distance')\n",
    "\n",
    "\n",
    "nn, knn_report = lib.report(knn,x_train_df_split_transformed, y_train_split,\n",
    "                                        x_test_df_cast_split_transformed, y_test_split,\n",
    "                                        display_scores=[primary_eval_metric],\n",
    "                                        importance_plot=True,\n",
    "                                        feature_labels=feature_names,\n",
    "                                        confusion_labels=confusion_lbs)"
   ]
  },
  {
   "cell_type": "code",
   "execution_count": 62,
   "metadata": {},
   "outputs": [],
   "source": [
    "knn = KNeighborsClassifier(weights='distance')"
   ]
  },
  {
   "cell_type": "code",
   "execution_count": 63,
   "metadata": {},
   "outputs": [
    {
     "name": "stdout",
     "output_type": "stream",
     "text": [
      "              precision    recall  f1-score   support\n",
      "\n",
      "           0       0.91      0.99      0.95       958\n",
      "           1       0.99      0.90      0.94       958\n",
      "\n",
      "    accuracy                           0.95      1916\n",
      "   macro avg       0.95      0.95      0.95      1916\n",
      "weighted avg       0.95      0.95      0.95      1916\n",
      "\n"
     ]
    }
   ],
   "source": [
    "knn.fit(X_train, y_train)\n",
    "print(classification_report(y_train, knn.predict(X_train)))"
   ]
  }
 ],
 "metadata": {
  "kernelspec": {
   "display_name": "Python 3",
   "language": "python",
   "name": "python3"
  },
  "language_info": {
   "codemirror_mode": {
    "name": "ipython",
    "version": 3
   },
   "file_extension": ".py",
   "mimetype": "text/x-python",
   "name": "python",
   "nbconvert_exporter": "python",
   "pygments_lexer": "ipython3",
   "version": "3.6.13"
  }
 },
 "nbformat": 4,
 "nbformat_minor": 4
}
