{
 "cells": [
  {
   "cell_type": "markdown",
   "id": "a49e9927-f016-4660-89df-26c5800aea8b",
   "metadata": {},
   "source": [
    "# Práctico 1"
   ]
  },
  {
   "cell_type": "markdown",
   "id": "5fe2ae9e-6076-4a12-931c-5349ee7eb2d3",
   "metadata": {
    "jp-MarkdownHeadingCollapsed": true,
    "tags": []
   },
   "source": [
    "En este práctico, correspondiente a la primera mitad de la materia, trabajaremos con un dataset extraído de Twitter. La idea es emplear los conceptos de grafos vistos en clase sobre un caso real de actualidad.\n",
    "\n",
    "## Dataset\n",
    "\n",
    "El dataset consiste en un conjunto de hilos de tweets, con un total de ~150000 tweets, extraídos entre Enero y Marzo de 2021. La temática de los mismos está referida a la vacunación contra el covid-19 en Argentina.\n",
    "\n",
    "Pueden descargar el dataset del siguiente [link](https://drive.google.com/file/d/1X_qKsE8muAnom2tDX4sLlmBAO0Ikfe_G/view?usp=sharing).\n",
    "\n",
    "### Campos\n",
    "\n",
    "- **created_at:** Fecha del tweet\n",
    "- **id_str:** ID del tweet\n",
    "- **full_text:** Contenido del tweet\n",
    "- **in_reply_to_status_id:** ID del tweet inmediatamente anterior en el hilo\n",
    "- **in_reply_to_user_id:** Autor del tweet inmediatamente anterior en el hilo\n",
    "- **user.id:** Autor del tweet\n",
    "- **user_retweeters:** Lista de ID de usuarios que retweetearon el tweet\n",
    "- **sentiment:** Etiquetado manual que indica el sentimiento o intención del tweet con respecto al tweet anterior en el hilo"
   ]
  },
  {
   "cell_type": "markdown",
   "id": "8eed8c8b-8c40-4d18-b4ad-c853e1c3b7d1",
   "metadata": {},
   "source": [
    "## Configuración inicial"
   ]
  },
  {
   "cell_type": "code",
   "execution_count": 1,
   "id": "a23c83a7-0c4e-4bff-b8cb-253671e5d1d6",
   "metadata": {},
   "outputs": [],
   "source": [
    "import pandas as pd\n",
    "from pathlib import Path\n",
    "\n",
    "## Descargar el csv con los datos en este directorio\n",
    "DATA_DIR = Path('../data/twitter')\n",
    "INPUT_FILE = DATA_DIR / 'vacunas.csv'\n",
    "\n",
    "## Creamos el directorio en caso de que no exista\n",
    "DATA_DIR.mkdir(parents=True, exist_ok=True)"
   ]
  },
  {
   "cell_type": "markdown",
   "id": "acf6889f-86be-4fc8-b281-a738b8d475c4",
   "metadata": {},
   "source": [
    "### Cargamos el dataset"
   ]
  },
  {
   "cell_type": "code",
   "execution_count": 2,
   "id": "e43cef47-be3b-47ba-9a07-9373013580ec",
   "metadata": {},
   "outputs": [
    {
     "name": "stdout",
     "output_type": "stream",
     "text": [
      "(155123, 8)\n"
     ]
    },
    {
     "data": {
      "text/html": [
       "<div>\n",
       "<style scoped>\n",
       "    .dataframe tbody tr th:only-of-type {\n",
       "        vertical-align: middle;\n",
       "    }\n",
       "\n",
       "    .dataframe tbody tr th {\n",
       "        vertical-align: top;\n",
       "    }\n",
       "\n",
       "    .dataframe thead th {\n",
       "        text-align: right;\n",
       "    }\n",
       "</style>\n",
       "<table border=\"1\" class=\"dataframe\">\n",
       "  <thead>\n",
       "    <tr style=\"text-align: right;\">\n",
       "      <th></th>\n",
       "      <th>created_at</th>\n",
       "      <th>id_str</th>\n",
       "      <th>full_text</th>\n",
       "      <th>in_reply_to_status_id</th>\n",
       "      <th>in_reply_to_user_id</th>\n",
       "      <th>user.id</th>\n",
       "      <th>user_retweeters</th>\n",
       "      <th>sentiment</th>\n",
       "    </tr>\n",
       "  </thead>\n",
       "  <tbody>\n",
       "    <tr>\n",
       "      <th>0</th>\n",
       "      <td>Sat Feb 20 03:09:10 +0000 2021</td>\n",
       "      <td>1362962469749153792</td>\n",
       "      <td>Seguimos esperando el comunicado de @norabar r...</td>\n",
       "      <td>NaN</td>\n",
       "      <td>NaN</td>\n",
       "      <td>2737379453</td>\n",
       "      <td>[2258074658, 159909978, 105301854, 290671142, ...</td>\n",
       "      <td>NaN</td>\n",
       "    </tr>\n",
       "    <tr>\n",
       "      <th>1</th>\n",
       "      <td>Sat Feb 20 03:19:59 +0000 2021</td>\n",
       "      <td>1362965193509265417</td>\n",
       "      <td>@Clon_43 @norabar Nora estaba indignada porque...</td>\n",
       "      <td>1362962469749153792</td>\n",
       "      <td>2737379453</td>\n",
       "      <td>32718111</td>\n",
       "      <td>[]</td>\n",
       "      <td>NaN</td>\n",
       "    </tr>\n",
       "    <tr>\n",
       "      <th>2</th>\n",
       "      <td>Mon Feb 22 23:55:08 +0000 2021</td>\n",
       "      <td>1364000806740111363</td>\n",
       "      <td>Bueno, Alberto dijo Salud o Economía. La salud...</td>\n",
       "      <td>NaN</td>\n",
       "      <td>NaN</td>\n",
       "      <td>252168075</td>\n",
       "      <td>[1238117630696972289, 37232479, 12792246571247...</td>\n",
       "      <td>NaN</td>\n",
       "    </tr>\n",
       "    <tr>\n",
       "      <th>3</th>\n",
       "      <td>Tue Feb 23 00:09:14 +0000 2021</td>\n",
       "      <td>1364004354374696963</td>\n",
       "      <td>@spitta1969 Tuit del mes Spitta</td>\n",
       "      <td>1364000806740111363</td>\n",
       "      <td>252168075</td>\n",
       "      <td>1156346340802224128</td>\n",
       "      <td>[]</td>\n",
       "      <td>NaN</td>\n",
       "    </tr>\n",
       "    <tr>\n",
       "      <th>4</th>\n",
       "      <td>Tue Feb 23 00:00:17 +0000 2021</td>\n",
       "      <td>1364002100364128260</td>\n",
       "      <td>@spitta1969 Estas onfire</td>\n",
       "      <td>1364000806740111363</td>\n",
       "      <td>252168075</td>\n",
       "      <td>153663816</td>\n",
       "      <td>[]</td>\n",
       "      <td>NaN</td>\n",
       "    </tr>\n",
       "  </tbody>\n",
       "</table>\n",
       "</div>"
      ],
      "text/plain": [
       "                       created_at               id_str  \\\n",
       "0  Sat Feb 20 03:09:10 +0000 2021  1362962469749153792   \n",
       "1  Sat Feb 20 03:19:59 +0000 2021  1362965193509265417   \n",
       "2  Mon Feb 22 23:55:08 +0000 2021  1364000806740111363   \n",
       "3  Tue Feb 23 00:09:14 +0000 2021  1364004354374696963   \n",
       "4  Tue Feb 23 00:00:17 +0000 2021  1364002100364128260   \n",
       "\n",
       "                                           full_text in_reply_to_status_id  \\\n",
       "0  Seguimos esperando el comunicado de @norabar r...                   NaN   \n",
       "1  @Clon_43 @norabar Nora estaba indignada porque...   1362962469749153792   \n",
       "2  Bueno, Alberto dijo Salud o Economía. La salud...                   NaN   \n",
       "3                    @spitta1969 Tuit del mes Spitta   1364000806740111363   \n",
       "4                           @spitta1969 Estas onfire   1364000806740111363   \n",
       "\n",
       "  in_reply_to_user_id              user.id  \\\n",
       "0                 NaN           2737379453   \n",
       "1          2737379453             32718111   \n",
       "2                 NaN            252168075   \n",
       "3           252168075  1156346340802224128   \n",
       "4           252168075            153663816   \n",
       "\n",
       "                                     user_retweeters sentiment  \n",
       "0  [2258074658, 159909978, 105301854, 290671142, ...       NaN  \n",
       "1                                                 []       NaN  \n",
       "2  [1238117630696972289, 37232479, 12792246571247...       NaN  \n",
       "3                                                 []       NaN  \n",
       "4                                                 []       NaN  "
      ]
     },
     "execution_count": 2,
     "metadata": {},
     "output_type": "execute_result"
    }
   ],
   "source": [
    "dtypes = {\n",
    "    'id_str': str,\n",
    "    'full_text': str,\n",
    "    'in_reply_to_status_id': str,\n",
    "    'in_reply_to_user_id': str,\n",
    "    'user.id': str\n",
    "}\n",
    "df = pd.read_csv(INPUT_FILE, dtype=dtypes).dropna(subset=['user_retweeters'])\n",
    "df['user_retweeters'] = df['user_retweeters'].apply(lambda x: [str(elem) for elem in eval(x)])\n",
    "print(df.shape)\n",
    "df.head()"
   ]
  },
  {
   "cell_type": "markdown",
   "id": "bd778ff2-c52b-4541-83bb-ab515e233fb3",
   "metadata": {
    "tags": []
   },
   "source": [
    "### Observamos algunos ejemplos"
   ]
  },
  {
   "cell_type": "code",
   "execution_count": 3,
   "id": "626fb5fa-2875-47c0-9e30-cb1a456a1c13",
   "metadata": {},
   "outputs": [
    {
     "name": "stdout",
     "output_type": "stream",
     "text": [
      "Texto: Seguimos esperando el comunicado de @norabar repudiando la situación respecto del gobierno y el tema vacunas. Seamos pacientes que con esto de la pandemia anda con mucho \"laburo\".\n",
      "Retweets: 9\n"
     ]
    }
   ],
   "source": [
    "idx = 0\n",
    "print('Texto:', df.full_text.values[idx])\n",
    "print('Retweets:', len(df.user_retweeters.values[idx]))"
   ]
  },
  {
   "cell_type": "code",
   "execution_count": 4,
   "id": "f6ca9ab4-d966-4613-8d06-b139b30255b8",
   "metadata": {},
   "outputs": [
    {
     "name": "stdout",
     "output_type": "stream",
     "text": [
      "Text: Todo lo que hay que entender sobre la decisión –o no– de poner más vacunas en más brazos (por ejemplo, usar las 1º dosis en muchos y si es necesario retrasar la 2º) está en esta excelente nota de Nora Bär. https://t.co/A0I03DyxgO\n",
      "Retweets: 48\n"
     ]
    }
   ],
   "source": [
    "idx = 376\n",
    "print('Text:', df.full_text.values[idx])\n",
    "print('Retweets:', len(df.user_retweeters.values[idx]))"
   ]
  },
  {
   "cell_type": "markdown",
   "id": "1d3911d7-cc49-4d84-95b6-4f096f5f56c3",
   "metadata": {},
   "source": [
    "### Calculamos la cantidad de hilos"
   ]
  },
  {
   "cell_type": "code",
   "execution_count": 5,
   "id": "59b6c11f-5766-45e4-a264-f3733df8694d",
   "metadata": {},
   "outputs": [
    {
     "data": {
      "text/plain": [
       "(3174, 8)"
      ]
     },
     "execution_count": 5,
     "metadata": {},
     "output_type": "execute_result"
    }
   ],
   "source": [
    "roots = df[df['in_reply_to_user_id'].isna()]\n",
    "roots.shape"
   ]
  },
  {
   "cell_type": "markdown",
   "id": "8d0fa0b4-fe03-444b-9705-f50474a2ae24",
   "metadata": {
    "tags": []
   },
   "source": [
    "## Actividades\n",
    "\n",
    "### **1. Construcción del grafo** \n",
    "\n",
    "Construir el **grafo de retweets**, definido de la siguiente manera:\n",
    "\n",
    "- Tipo de grafo: Dirigido\n",
    "- Nodos: ID de los usuarios\n",
    "- Enlaces: (Usuario A) ---> (Usuario B) si B retweeteó algún tweet de A\n",
    "\n",
    "Con estos datos, el grafo debería tener alrededor de 40000 nodos y 90000 enlaces.\n",
    "\n",
    "Considerar la versión no dirigida del grafo y estudiar su conectividad. Si existe una única \"componente gigante\", realizar el resto de las actividades sobre ella, en lugar de sobre el grafo completo.\n",
    "\n",
    "Calcular las siguientes métricas globales del grafo:\n",
    "\n",
    "- Grado medio\n",
    "- Asortatividad\n",
    "- Transitividad\n",
    "- Coeficiente de clustering de Watts-Strogatz\n",
    "\n",
    "**Opcional:** Comparar las métricas calculadas anteriormente con las de un grafo aleatorio con la misma distribución de grado. Pueden utilizar para ello este [método](https://networkx.org/documentation/stable/reference/generated/networkx.generators.degree_seq.configuration_model.html?highlight=configuration#networkx.generators.degree_seq.configuration_model). Con esto en mente, comentar si los valores obtenidos anteriormente difieren significativamente del caso aleatorio.\n",
    "\n",
    "\n",
    "### **2. Centralidad**\n",
    "\n",
    "Calcular 5 métricas de centralidad de nodos. Graficar la distribución de cada una de ellas ¿Existe alguna correlación entre las distintas centralidades? \n",
    "\n",
    "Hacer un ranking con los 10 nodos más centrales para cada métrica. ¿Hay coincidencia entre los rankings?. ¿Qué características tienen los usuarios más centrales y sus respectivos tweets?\n",
    "\n",
    "**Opcional:** Determinar si existe alguna correlación entre la centralidad de un nodo y su actividad en red social. Es decir, evaluar si los usuarios que más escriben son los más centrales o no.\n",
    "\n",
    "### **3. Comunidades**\n",
    "\n",
    "Utilizar el algoritmo de Louvain con el parámetro \"resolución\" igual a 1. Caracterizar las comunidades halladas (cantidad, distribución de tamaños). Utilizar la modularidad y otras dos métricas a elección para evaluar la calidad de la partición encontrada. \n",
    "\n",
    "Variar el parámetro \"resolución\" y observar cómo cambia la distribución de comunidades encontradas. ¿Existe algún valor para el cual se identifiquen dos grandes comunidades?\n",
    "\n",
    "Elegir otro algoritmo de detección de comunidades y comparar los resultados con los obtenidos anteriormente.\n",
    "\n",
    "**Opcional:** Correr el algoritmo de Louvain con distintas semillas aleatorias. Utilizar alguna métrica de comparación externa entre las particiones obtenidas para determinar en qué medida depende el algoritmo de la condición inicial."
   ]
  },
  {
   "cell_type": "markdown",
   "id": "100da35f",
   "metadata": {},
   "source": []
  },
  {
   "cell_type": "markdown",
   "id": "8214da88",
   "metadata": {},
   "source": [
    "\n",
    "\n",
    "## **1. Construcción del grafo** \n",
    "\n",
    "Construir el **grafo de retweets**, definido de la siguiente manera:\n",
    "\n",
    "- Tipo de grafo: Dirigido\n",
    "- Nodos: ID de los usuarios\n",
    "- Enlaces: (Usuario A) ---> (Usuario B) si B retweeteó algún tweet de A\n",
    "\n",
    "Con estos datos, el grafo debería tener alrededor de 40000 nodos y 90000 enlaces.\n",
    "\n",
    "Considerar la versión no dirigida del grafo y estudiar su conectividad. Si existe una única \"componente gigante\", realizar el resto de las actividades sobre ella, en lugar de sobre el grafo completo.\n",
    "\n"
   ]
  },
  {
   "cell_type": "code",
   "execution_count": 6,
   "id": "498d539d",
   "metadata": {},
   "outputs": [],
   "source": [
    "import networkx as nx\n",
    "import igraph as ig\n",
    "\n",
    "import matplotlib.pyplot as plt\n",
    "import numpy as np\n",
    "from time import time"
   ]
  },
  {
   "cell_type": "code",
   "execution_count": 7,
   "id": "2b2aff75",
   "metadata": {},
   "outputs": [],
   "source": [
    "# Creamos el grafo vacio\n",
    "G = nx.Graph()"
   ]
  },
  {
   "cell_type": "code",
   "execution_count": 8,
   "id": "0ff2c5c2",
   "metadata": {},
   "outputs": [],
   "source": [
    "# Obtenemos los nodos\n",
    "nodes = df['user.id'].tolist()"
   ]
  },
  {
   "cell_type": "code",
   "execution_count": 9,
   "id": "927343fd",
   "metadata": {},
   "outputs": [
    {
     "data": {
      "text/plain": [
       "sentiment                154094\n",
       "in_reply_to_status_id      3289\n",
       "in_reply_to_user_id        3174\n",
       "created_at                    0\n",
       "id_str                        0\n",
       "full_text                     0\n",
       "user.id                       0\n",
       "user_retweeters               0\n",
       "dtype: int64"
      ]
     },
     "execution_count": 9,
     "metadata": {},
     "output_type": "execute_result"
    }
   ],
   "source": [
    "df_isna = df.isna().sum()\n",
    "df_isna.sort_values(ascending=False)"
   ]
  },
  {
   "cell_type": "code",
   "execution_count": 10,
   "id": "363a8c05",
   "metadata": {},
   "outputs": [
    {
     "data": {
      "text/plain": [
       "(155123, 8)"
      ]
     },
     "execution_count": 10,
     "metadata": {},
     "output_type": "execute_result"
    }
   ],
   "source": [
    "df.shape"
   ]
  },
  {
   "cell_type": "code",
   "execution_count": 11,
   "id": "632410b4",
   "metadata": {},
   "outputs": [
    {
     "data": {
      "text/plain": [
       "155123"
      ]
     },
     "execution_count": 11,
     "metadata": {},
     "output_type": "execute_result"
    }
   ],
   "source": [
    "len(nodes)"
   ]
  },
  {
   "cell_type": "code",
   "execution_count": 12,
   "id": "6cbb0ba7",
   "metadata": {},
   "outputs": [],
   "source": [
    "# Generamos los edges según el criterio solicitado en el práctico\n",
    "edges = df.apply( lambda row : [( row['user.id'] , v ) for v in row['user_retweeters']] ,  axis=1 )"
   ]
  },
  {
   "cell_type": "code",
   "execution_count": 13,
   "id": "446103a6",
   "metadata": {},
   "outputs": [
    {
     "data": {
      "text/plain": [
       "0         [(2737379453, 2258074658), (2737379453, 159909...\n",
       "1                                                        []\n",
       "2         [(252168075, 1238117630696972289), (252168075,...\n",
       "3                                                        []\n",
       "4                                                        []\n",
       "                                ...                        \n",
       "163174                                                   []\n",
       "163175                                                   []\n",
       "163176                                                   []\n",
       "163177                                                   []\n",
       "163178                                                   []\n",
       "Length: 155123, dtype: object"
      ]
     },
     "execution_count": 13,
     "metadata": {},
     "output_type": "execute_result"
    }
   ],
   "source": [
    "edges"
   ]
  },
  {
   "cell_type": "code",
   "execution_count": 14,
   "id": "5e08ac11",
   "metadata": {},
   "outputs": [],
   "source": [
    "G.add_nodes_from(nodes)"
   ]
  },
  {
   "cell_type": "code",
   "execution_count": 15,
   "id": "379412a3",
   "metadata": {},
   "outputs": [],
   "source": [
    "for edge in edges:\n",
    "    #if (len(edge) > 0 ):\n",
    "    G.add_edges_from(edge)"
   ]
  },
  {
   "cell_type": "code",
   "execution_count": 16,
   "id": "8c080025",
   "metadata": {},
   "outputs": [
    {
     "name": "stdout",
     "output_type": "stream",
     "text": [
      "Graph with 65934 nodes and 93404 edges\n"
     ]
    }
   ],
   "source": [
    "print(nx.info(G))"
   ]
  },
  {
   "cell_type": "markdown",
   "id": "71558e0e",
   "metadata": {},
   "source": [
    "Los valores obtenidos contemplan nados que no tienen ningun tipo de enlace. Vamos a descartar esos nodos y nos quedamos con los nodos que tienen conecciones a otros nodos. "
   ]
  },
  {
   "cell_type": "code",
   "execution_count": 17,
   "id": "dd60f262",
   "metadata": {},
   "outputs": [],
   "source": [
    "# Creamos el grafo vacio\n",
    "G = nx.Graph()"
   ]
  },
  {
   "cell_type": "code",
   "execution_count": 18,
   "id": "cbaa475c",
   "metadata": {},
   "outputs": [],
   "source": [
    "for edge in edges:\n",
    "    #if (len(edge) > 0 ):\n",
    "    G.add_edges_from(edge)"
   ]
  },
  {
   "cell_type": "code",
   "execution_count": 19,
   "id": "2348782b",
   "metadata": {},
   "outputs": [
    {
     "name": "stdout",
     "output_type": "stream",
     "text": [
      "Graph with 39800 nodes and 93404 edges\n"
     ]
    }
   ],
   "source": [
    "print(nx.info(G))"
   ]
  },
  {
   "cell_type": "markdown",
   "id": "40425909",
   "metadata": {},
   "source": [
    "### Calcular las siguientes métricas globales del grafo:\n",
    "\n",
    "- Grado medio\n",
    "- Asortatividad\n",
    "- Transitividad\n",
    "- Coeficiente de clustering de Watts-Strogatz\n",
    "\n",
    "**Opcional:** Comparar las métricas calculadas anteriormente con las de un grafo aleatorio con la misma distribución de grado. Pueden utilizar para ello este [método](https://networkx.org/documentation/stable/reference/generated/networkx.generators.degree_seq.configuration_model.html?highlight=configuration#networkx.generators.degree_seq.configuration_model). Con esto en mente, comentar si los valores obtenidos anteriormente difieren significativamente del caso aleatorio."
   ]
  },
  {
   "cell_type": "code",
   "execution_count": 20,
   "id": "fb690a6b",
   "metadata": {},
   "outputs": [
    {
     "name": "stdout",
     "output_type": "stream",
     "text": [
      "CPU times: user 21.8 ms, sys: 411 µs, total: 22.2 ms\n",
      "Wall time: 22.1 ms\n"
     ]
    }
   ],
   "source": [
    "\n",
    "%time deg_seq = np.array([k for v, k in G.degree()])\n",
    "# df['degree'] = deg_seq\n",
    "\n",
    "averg = sum(deg_seq) / len(deg_seq)"
   ]
  },
  {
   "cell_type": "code",
   "execution_count": 21,
   "id": "7b422972",
   "metadata": {},
   "outputs": [
    {
     "name": "stdout",
     "output_type": "stream",
     "text": [
      "CPU times: user 992 ms, sys: 77.5 ms, total: 1.07 s\n",
      "Wall time: 1.1 s\n"
     ]
    }
   ],
   "source": [
    "%time assortativity = nx.degree_pearson_correlation_coefficient(G)"
   ]
  },
  {
   "cell_type": "code",
   "execution_count": 22,
   "id": "66cca0d7",
   "metadata": {},
   "outputs": [
    {
     "name": "stdout",
     "output_type": "stream",
     "text": [
      "CPU times: user 15.3 s, sys: 233 ms, total: 15.6 s\n",
      "Wall time: 13 s\n"
     ]
    }
   ],
   "source": [
    "%time transitivity = nx.transitivity(G)"
   ]
  },
  {
   "cell_type": "code",
   "execution_count": 23,
   "id": "f00e7e6e",
   "metadata": {},
   "outputs": [
    {
     "name": "stdout",
     "output_type": "stream",
     "text": [
      "CPU times: user 13 s, sys: 16.9 ms, total: 13 s\n",
      "Wall time: 13 s\n"
     ]
    }
   ],
   "source": [
    "%time avg_clustering = nx.average_clustering(G)\n"
   ]
  },
  {
   "cell_type": "code",
   "execution_count": 24,
   "id": "2f9098fd",
   "metadata": {},
   "outputs": [
    {
     "name": "stdout",
     "output_type": "stream",
     "text": [
      "Grado medio 4.693668341708543\n",
      "Asortatividad -0.22131902542941567\n",
      "Transitividad 0.0016125612488585316\n",
      "Coeficiente clustering 0.09990623904532091\n"
     ]
    }
   ],
   "source": [
    "print (f\"Grado medio {averg}\")\n",
    "print (f\"Asortatividad { assortativity }\")\n",
    "print (f\"Transitividad {transitivity}\")\n",
    "print (f\"Coeficiente clustering {avg_clustering}\")\n"
   ]
  },
  {
   "cell_type": "markdown",
   "id": "e7256122",
   "metadata": {},
   "source": [
    "## **2. Centralidad**\n",
    "\n",
    "Calcular 5 métricas de centralidad de nodos. Graficar la distribución de cada una de ellas ¿Existe alguna correlación entre las distintas centralidades? \n",
    "\n",
    "Hacer un ranking con los 10 nodos más centrales para cada métrica. ¿Hay coincidencia entre los rankings?. ¿Qué características tienen los usuarios más centrales y sus respectivos tweets?\n",
    "\n",
    "**Opcional:** Determinar si existe alguna correlación entre la centralidad de un nodo y su actividad en red social. Es decir, evaluar si los usuarios que más escriben son los más centrales o no."
   ]
  },
  {
   "cell_type": "markdown",
   "id": "6a742b43",
   "metadata": {},
   "source": [
    "### Calcular 5 métricas de centralidad de nodos. Graficar la distribución de cada una de ellas ¿Existe alguna correlación entre las distintas centralidades?"
   ]
  },
  {
   "cell_type": "code",
   "execution_count": 25,
   "id": "2c1dd99f",
   "metadata": {},
   "outputs": [
    {
     "name": "stdout",
     "output_type": "stream",
     "text": [
      "IGRAPH UN-- 39800 93404 -- \n",
      "+ attr: name (v)\n"
     ]
    }
   ],
   "source": [
    "# Netoworkx no performa bien calculando algunas medidas de centralidad, es por ello que se prueba con igraph\n",
    "\n",
    "g_ig = ig.Graph.TupleList(G.edges())\n",
    "print(g_ig.summary())"
   ]
  },
  {
   "cell_type": "code",
   "execution_count": 26,
   "id": "2bb4952a",
   "metadata": {},
   "outputs": [],
   "source": [
    "df_metrics = g_ig.get_vertex_dataframe()"
   ]
  },
  {
   "cell_type": "code",
   "execution_count": 27,
   "id": "c14d5b3e",
   "metadata": {},
   "outputs": [
    {
     "data": {
      "text/html": [
       "<div>\n",
       "<style scoped>\n",
       "    .dataframe tbody tr th:only-of-type {\n",
       "        vertical-align: middle;\n",
       "    }\n",
       "\n",
       "    .dataframe tbody tr th {\n",
       "        vertical-align: top;\n",
       "    }\n",
       "\n",
       "    .dataframe thead th {\n",
       "        text-align: right;\n",
       "    }\n",
       "</style>\n",
       "<table border=\"1\" class=\"dataframe\">\n",
       "  <thead>\n",
       "    <tr style=\"text-align: right;\">\n",
       "      <th></th>\n",
       "      <th>name</th>\n",
       "    </tr>\n",
       "    <tr>\n",
       "      <th>vertex ID</th>\n",
       "      <th></th>\n",
       "    </tr>\n",
       "  </thead>\n",
       "  <tbody>\n",
       "    <tr>\n",
       "      <th>0</th>\n",
       "      <td>2737379453</td>\n",
       "    </tr>\n",
       "    <tr>\n",
       "      <th>1</th>\n",
       "      <td>2258074658</td>\n",
       "    </tr>\n",
       "    <tr>\n",
       "      <th>2</th>\n",
       "      <td>159909978</td>\n",
       "    </tr>\n",
       "    <tr>\n",
       "      <th>3</th>\n",
       "      <td>105301854</td>\n",
       "    </tr>\n",
       "    <tr>\n",
       "      <th>4</th>\n",
       "      <td>290671142</td>\n",
       "    </tr>\n",
       "    <tr>\n",
       "      <th>...</th>\n",
       "      <td>...</td>\n",
       "    </tr>\n",
       "    <tr>\n",
       "      <th>39795</th>\n",
       "      <td>1311418268205428739</td>\n",
       "    </tr>\n",
       "    <tr>\n",
       "      <th>39796</th>\n",
       "      <td>2650545267</td>\n",
       "    </tr>\n",
       "    <tr>\n",
       "      <th>39797</th>\n",
       "      <td>391590171</td>\n",
       "    </tr>\n",
       "    <tr>\n",
       "      <th>39798</th>\n",
       "      <td>2765081259</td>\n",
       "    </tr>\n",
       "    <tr>\n",
       "      <th>39799</th>\n",
       "      <td>346605471</td>\n",
       "    </tr>\n",
       "  </tbody>\n",
       "</table>\n",
       "<p>39800 rows × 1 columns</p>\n",
       "</div>"
      ],
      "text/plain": [
       "                          name\n",
       "vertex ID                     \n",
       "0                   2737379453\n",
       "1                   2258074658\n",
       "2                    159909978\n",
       "3                    105301854\n",
       "4                    290671142\n",
       "...                        ...\n",
       "39795      1311418268205428739\n",
       "39796               2650545267\n",
       "39797                391590171\n",
       "39798               2765081259\n",
       "39799                346605471\n",
       "\n",
       "[39800 rows x 1 columns]"
      ]
     },
     "execution_count": 27,
     "metadata": {},
     "output_type": "execute_result"
    }
   ],
   "source": [
    "df_metrics"
   ]
  },
  {
   "cell_type": "code",
   "execution_count": 28,
   "id": "c04f7be2",
   "metadata": {},
   "outputs": [],
   "source": [
    "# Una alternativa para calcular el betweenness con networkx es reducir la cantidad de nodos a utilizar por cada \n",
    "# estadistico de betweenness de cada nodo. Si bien esto acelera el proceso, el valor obtenido no es tan preciso\n",
    "# como si utilizaramos todos los nodos. Dejamos esto comentado puesto que avanzamos con igraph.\n",
    "\n",
    "# betweenness = nx.betweenness_centrality(G , k = 100 )"
   ]
  },
  {
   "cell_type": "code",
   "execution_count": 29,
   "id": "d9a04aff",
   "metadata": {},
   "outputs": [
    {
     "name": "stdout",
     "output_type": "stream",
     "text": [
      "CPU times: user 1min 17s, sys: 511 ms, total: 1min 17s\n",
      "Wall time: 1min 17s\n"
     ]
    }
   ],
   "source": [
    "%time btw = g_ig.betweenness()"
   ]
  },
  {
   "cell_type": "code",
   "execution_count": 30,
   "id": "8c9a87f2",
   "metadata": {},
   "outputs": [],
   "source": [
    "df_metrics['btw'] = btw"
   ]
  },
  {
   "cell_type": "code",
   "execution_count": 31,
   "id": "6bf59d3c",
   "metadata": {},
   "outputs": [
    {
     "name": "stdout",
     "output_type": "stream",
     "text": [
      "CPU times: user 46.3 s, sys: 307 ms, total: 46.6 s\n",
      "Wall time: 46.3 s\n"
     ]
    }
   ],
   "source": [
    "%time closeness = g_ig.closeness()\n"
   ]
  },
  {
   "cell_type": "code",
   "execution_count": 32,
   "id": "4917fb71",
   "metadata": {},
   "outputs": [],
   "source": [
    "df_metrics['closeness']  = closeness"
   ]
  },
  {
   "cell_type": "code",
   "execution_count": 33,
   "id": "067819f1",
   "metadata": {},
   "outputs": [
    {
     "name": "stdout",
     "output_type": "stream",
     "text": [
      "CPU times: user 249 µs, sys: 4 µs, total: 253 µs\n",
      "Wall time: 256 µs\n"
     ]
    }
   ],
   "source": [
    "%time degree = g_ig.degree()"
   ]
  },
  {
   "cell_type": "code",
   "execution_count": 34,
   "id": "be8d0097",
   "metadata": {},
   "outputs": [],
   "source": [
    "df_metrics['degree'] = degree"
   ]
  },
  {
   "cell_type": "code",
   "execution_count": 35,
   "id": "88017990",
   "metadata": {},
   "outputs": [
    {
     "name": "stdout",
     "output_type": "stream",
     "text": [
      "CPU times: user 96.6 ms, sys: 2.49 ms, total: 99.1 ms\n",
      "Wall time: 98.9 ms\n"
     ]
    }
   ],
   "source": [
    "%time eigenvector_centrality = g_ig.eigenvector_centrality()"
   ]
  },
  {
   "cell_type": "code",
   "execution_count": 36,
   "id": "358b556b",
   "metadata": {},
   "outputs": [],
   "source": [
    "df_metrics['eigenvector_centrality'] = eigenvector_centrality"
   ]
  },
  {
   "cell_type": "code",
   "execution_count": 37,
   "id": "44d8db6c",
   "metadata": {},
   "outputs": [
    {
     "name": "stdout",
     "output_type": "stream",
     "text": [
      "CPU times: user 39.4 ms, sys: 800 µs, total: 40.2 ms\n",
      "Wall time: 40.1 ms\n"
     ]
    }
   ],
   "source": [
    "%time page_rank = g_ig.pagerank()"
   ]
  },
  {
   "cell_type": "code",
   "execution_count": 38,
   "id": "190fe521",
   "metadata": {},
   "outputs": [],
   "source": [
    "df_metrics['page_rank'] = page_rank"
   ]
  },
  {
   "cell_type": "code",
   "execution_count": 39,
   "id": "59255675",
   "metadata": {},
   "outputs": [
    {
     "name": "stdout",
     "output_type": "stream",
     "text": [
      "CPU times: user 45.2 s, sys: 309 ms, total: 45.5 s\n",
      "Wall time: 45.2 s\n"
     ]
    }
   ],
   "source": [
    "%time har_centr = g_ig.harmonic_centrality()"
   ]
  },
  {
   "cell_type": "code",
   "execution_count": 40,
   "id": "826388f8",
   "metadata": {},
   "outputs": [],
   "source": [
    "df_metrics['har_centr'] = har_centr"
   ]
  },
  {
   "cell_type": "code",
   "execution_count": 41,
   "id": "650f46e0",
   "metadata": {},
   "outputs": [
    {
     "data": {
      "text/html": [
       "<div>\n",
       "<style scoped>\n",
       "    .dataframe tbody tr th:only-of-type {\n",
       "        vertical-align: middle;\n",
       "    }\n",
       "\n",
       "    .dataframe tbody tr th {\n",
       "        vertical-align: top;\n",
       "    }\n",
       "\n",
       "    .dataframe thead th {\n",
       "        text-align: right;\n",
       "    }\n",
       "</style>\n",
       "<table border=\"1\" class=\"dataframe\">\n",
       "  <thead>\n",
       "    <tr style=\"text-align: right;\">\n",
       "      <th></th>\n",
       "      <th>name</th>\n",
       "      <th>btw</th>\n",
       "      <th>closeness</th>\n",
       "      <th>degree</th>\n",
       "      <th>eigenvector_centrality</th>\n",
       "      <th>page_rank</th>\n",
       "      <th>har_centr</th>\n",
       "    </tr>\n",
       "    <tr>\n",
       "      <th>vertex ID</th>\n",
       "      <th></th>\n",
       "      <th></th>\n",
       "      <th></th>\n",
       "      <th></th>\n",
       "      <th></th>\n",
       "      <th></th>\n",
       "      <th></th>\n",
       "    </tr>\n",
       "  </thead>\n",
       "  <tbody>\n",
       "    <tr>\n",
       "      <th>0</th>\n",
       "      <td>2737379453</td>\n",
       "      <td>78111.640852</td>\n",
       "      <td>0.244898</td>\n",
       "      <td>9</td>\n",
       "      <td>7.483957e-04</td>\n",
       "      <td>0.000038</td>\n",
       "      <td>0.250772</td>\n",
       "    </tr>\n",
       "    <tr>\n",
       "      <th>1</th>\n",
       "      <td>2258074658</td>\n",
       "      <td>130535.561685</td>\n",
       "      <td>0.286305</td>\n",
       "      <td>19</td>\n",
       "      <td>9.090829e-03</td>\n",
       "      <td>0.000070</td>\n",
       "      <td>0.307703</td>\n",
       "    </tr>\n",
       "    <tr>\n",
       "      <th>2</th>\n",
       "      <td>159909978</td>\n",
       "      <td>0.000000</td>\n",
       "      <td>0.196722</td>\n",
       "      <td>1</td>\n",
       "      <td>7.490374e-06</td>\n",
       "      <td>0.000007</td>\n",
       "      <td>0.198210</td>\n",
       "    </tr>\n",
       "    <tr>\n",
       "      <th>3</th>\n",
       "      <td>105301854</td>\n",
       "      <td>31376.713412</td>\n",
       "      <td>0.304398</td>\n",
       "      <td>10</td>\n",
       "      <td>1.069571e-02</td>\n",
       "      <td>0.000036</td>\n",
       "      <td>0.325685</td>\n",
       "    </tr>\n",
       "    <tr>\n",
       "      <th>4</th>\n",
       "      <td>290671142</td>\n",
       "      <td>291383.100735</td>\n",
       "      <td>0.308014</td>\n",
       "      <td>15</td>\n",
       "      <td>1.193750e-02</td>\n",
       "      <td>0.000056</td>\n",
       "      <td>0.329096</td>\n",
       "    </tr>\n",
       "    <tr>\n",
       "      <th>...</th>\n",
       "      <td>...</td>\n",
       "      <td>...</td>\n",
       "      <td>...</td>\n",
       "      <td>...</td>\n",
       "      <td>...</td>\n",
       "      <td>...</td>\n",
       "      <td>...</td>\n",
       "    </tr>\n",
       "    <tr>\n",
       "      <th>39795</th>\n",
       "      <td>1311418268205428739</td>\n",
       "      <td>0.000000</td>\n",
       "      <td>0.166180</td>\n",
       "      <td>1</td>\n",
       "      <td>6.266713e-08</td>\n",
       "      <td>0.000011</td>\n",
       "      <td>0.165806</td>\n",
       "    </tr>\n",
       "    <tr>\n",
       "      <th>39796</th>\n",
       "      <td>2650545267</td>\n",
       "      <td>0.000000</td>\n",
       "      <td>0.182163</td>\n",
       "      <td>1</td>\n",
       "      <td>1.736447e-06</td>\n",
       "      <td>0.000009</td>\n",
       "      <td>0.184600</td>\n",
       "    </tr>\n",
       "    <tr>\n",
       "      <th>39797</th>\n",
       "      <td>391590171</td>\n",
       "      <td>0.000000</td>\n",
       "      <td>1.000000</td>\n",
       "      <td>1</td>\n",
       "      <td>0.000000e+00</td>\n",
       "      <td>0.000025</td>\n",
       "      <td>0.000025</td>\n",
       "    </tr>\n",
       "    <tr>\n",
       "      <th>39798</th>\n",
       "      <td>2765081259</td>\n",
       "      <td>0.000000</td>\n",
       "      <td>1.000000</td>\n",
       "      <td>1</td>\n",
       "      <td>0.000000e+00</td>\n",
       "      <td>0.000025</td>\n",
       "      <td>0.000025</td>\n",
       "    </tr>\n",
       "    <tr>\n",
       "      <th>39799</th>\n",
       "      <td>346605471</td>\n",
       "      <td>0.000000</td>\n",
       "      <td>0.216851</td>\n",
       "      <td>1</td>\n",
       "      <td>4.767069e-06</td>\n",
       "      <td>0.000008</td>\n",
       "      <td>0.217565</td>\n",
       "    </tr>\n",
       "  </tbody>\n",
       "</table>\n",
       "<p>39800 rows × 7 columns</p>\n",
       "</div>"
      ],
      "text/plain": [
       "                          name            btw  closeness  degree  \\\n",
       "vertex ID                                                          \n",
       "0                   2737379453   78111.640852   0.244898       9   \n",
       "1                   2258074658  130535.561685   0.286305      19   \n",
       "2                    159909978       0.000000   0.196722       1   \n",
       "3                    105301854   31376.713412   0.304398      10   \n",
       "4                    290671142  291383.100735   0.308014      15   \n",
       "...                        ...            ...        ...     ...   \n",
       "39795      1311418268205428739       0.000000   0.166180       1   \n",
       "39796               2650545267       0.000000   0.182163       1   \n",
       "39797                391590171       0.000000   1.000000       1   \n",
       "39798               2765081259       0.000000   1.000000       1   \n",
       "39799                346605471       0.000000   0.216851       1   \n",
       "\n",
       "           eigenvector_centrality  page_rank  har_centr  \n",
       "vertex ID                                                \n",
       "0                    7.483957e-04   0.000038   0.250772  \n",
       "1                    9.090829e-03   0.000070   0.307703  \n",
       "2                    7.490374e-06   0.000007   0.198210  \n",
       "3                    1.069571e-02   0.000036   0.325685  \n",
       "4                    1.193750e-02   0.000056   0.329096  \n",
       "...                           ...        ...        ...  \n",
       "39795                6.266713e-08   0.000011   0.165806  \n",
       "39796                1.736447e-06   0.000009   0.184600  \n",
       "39797                0.000000e+00   0.000025   0.000025  \n",
       "39798                0.000000e+00   0.000025   0.000025  \n",
       "39799                4.767069e-06   0.000008   0.217565  \n",
       "\n",
       "[39800 rows x 7 columns]"
      ]
     },
     "execution_count": 41,
     "metadata": {},
     "output_type": "execute_result"
    }
   ],
   "source": [
    "df_metrics"
   ]
  },
  {
   "cell_type": "code",
   "execution_count": 42,
   "id": "af933138",
   "metadata": {},
   "outputs": [],
   "source": [
    "import seaborn as sns\n",
    "from sklearn import preprocessing"
   ]
  },
  {
   "cell_type": "code",
   "execution_count": 43,
   "id": "576401ba",
   "metadata": {},
   "outputs": [],
   "source": [
    "df_metrics['btw_0_1'] = preprocessing.minmax_scale(df_metrics['btw'], feature_range=(0, 1), axis=0, copy=True)"
   ]
  },
  {
   "cell_type": "code",
   "execution_count": 44,
   "id": "62d04084",
   "metadata": {},
   "outputs": [
    {
     "name": "stderr",
     "output_type": "stream",
     "text": [
      "/usr/local/anaconda3/envs/graphML_37/lib/python3.7/site-packages/seaborn/distributions.py:2619: FutureWarning: `distplot` is a deprecated function and will be removed in a future version. Please adapt your code to use either `displot` (a figure-level function with similar flexibility) or `histplot` (an axes-level function for histograms).\n",
      "  warnings.warn(msg, FutureWarning)\n"
     ]
    },
    {
     "data": {
      "image/png": "[encoded data removed]",
      "text/plain": [
       "<Figure size 576x288 with 1 Axes>"
      ]
     },
     "metadata": {},
     "output_type": "display_data"
    }
   ],
   "source": [
    "sns.set(rc={\"figure.figsize\": (8, 4)}); \n",
    "x = df_metrics['btw_0_1']\n",
    "ax = sns.distplot(x)\n",
    "plt.show()"
   ]
  },
  {
   "cell_type": "code",
   "execution_count": 45,
   "id": "781f04ad",
   "metadata": {},
   "outputs": [
    {
     "name": "stderr",
     "output_type": "stream",
     "text": [
      "/usr/local/anaconda3/envs/graphML_37/lib/python3.7/site-packages/seaborn/distributions.py:2619: FutureWarning: `distplot` is a deprecated function and will be removed in a future version. Please adapt your code to use either `displot` (a figure-level function with similar flexibility) or `histplot` (an axes-level function for histograms).\n",
      "  warnings.warn(msg, FutureWarning)\n"
     ]
    },
    {
     "data": {
      "image/png": "[encoded data removed]",
      "text/plain": [
       "<Figure size 576x288 with 1 Axes>"
      ]
     },
     "metadata": {},
     "output_type": "display_data"
    }
   ],
   "source": [
    "sns.set(rc={\"figure.figsize\": (8, 4)});\n",
    "x = df_metrics['closeness']\n",
    "ax = sns.distplot(x)\n",
    "plt.show()"
   ]
  },
  {
   "cell_type": "code",
   "execution_count": 46,
   "id": "31ee6c34",
   "metadata": {},
   "outputs": [],
   "source": [
    "df_metrics['degree_0_1'] = preprocessing.minmax_scale(df_metrics['degree'], feature_range=(0, 1), axis=0, copy=True)"
   ]
  },
  {
   "cell_type": "code",
   "execution_count": 47,
   "id": "c1afae5d",
   "metadata": {},
   "outputs": [
    {
     "name": "stderr",
     "output_type": "stream",
     "text": [
      "/usr/local/anaconda3/envs/graphML_37/lib/python3.7/site-packages/seaborn/distributions.py:2619: FutureWarning: `distplot` is a deprecated function and will be removed in a future version. Please adapt your code to use either `displot` (a figure-level function with similar flexibility) or `histplot` (an axes-level function for histograms).\n",
      "  warnings.warn(msg, FutureWarning)\n"
     ]
    },
    {
     "data": {
      "image/png": "[encoded data removed]",
      "text/plain": [
       "<Figure size 576x288 with 1 Axes>"
      ]
     },
     "metadata": {},
     "output_type": "display_data"
    }
   ],
   "source": [
    "sns.set(rc={\"figure.figsize\": (8, 4)}); \n",
    "x = df_metrics['degree_0_1']\n",
    "ax = sns.distplot(x)\n",
    "plt.show()"
   ]
  },
  {
   "cell_type": "code",
   "execution_count": 48,
   "id": "ac6263c3",
   "metadata": {},
   "outputs": [
    {
     "name": "stderr",
     "output_type": "stream",
     "text": [
      "/usr/local/anaconda3/envs/graphML_37/lib/python3.7/site-packages/seaborn/distributions.py:2619: FutureWarning: `distplot` is a deprecated function and will be removed in a future version. Please adapt your code to use either `displot` (a figure-level function with similar flexibility) or `histplot` (an axes-level function for histograms).\n",
      "  warnings.warn(msg, FutureWarning)\n"
     ]
    },
    {
     "data": {
      "image/png": "[encoded data removed]",
      "text/plain": [
       "<Figure size 576x288 with 1 Axes>"
      ]
     },
     "metadata": {},
     "output_type": "display_data"
    }
   ],
   "source": [
    "sns.set(rc={\"figure.figsize\": (8, 4)}); \n",
    "x = df_metrics['eigenvector_centrality']\n",
    "ax = sns.distplot(x)\n",
    "plt.show()"
   ]
  },
  {
   "cell_type": "code",
   "execution_count": 49,
   "id": "30837685",
   "metadata": {},
   "outputs": [
    {
     "name": "stderr",
     "output_type": "stream",
     "text": [
      "/usr/local/anaconda3/envs/graphML_37/lib/python3.7/site-packages/seaborn/distributions.py:2619: FutureWarning: `distplot` is a deprecated function and will be removed in a future version. Please adapt your code to use either `displot` (a figure-level function with similar flexibility) or `histplot` (an axes-level function for histograms).\n",
      "  warnings.warn(msg, FutureWarning)\n"
     ]
    },
    {
     "data": {
      "image/png": "[encoded data removed]",
      "text/plain": [
       "<Figure size 576x288 with 1 Axes>"
      ]
     },
     "metadata": {},
     "output_type": "display_data"
    }
   ],
   "source": [
    "sns.set(rc={\"figure.figsize\": (8, 4)});\n",
    "x = df_metrics['page_rank']\n",
    "ax = sns.distplot(x)\n",
    "plt.show()"
   ]
  },
  {
   "cell_type": "code",
   "execution_count": 50,
   "id": "9902e5f6",
   "metadata": {},
   "outputs": [
    {
     "name": "stderr",
     "output_type": "stream",
     "text": [
      "/usr/local/anaconda3/envs/graphML_37/lib/python3.7/site-packages/seaborn/distributions.py:2619: FutureWarning: `distplot` is a deprecated function and will be removed in a future version. Please adapt your code to use either `displot` (a figure-level function with similar flexibility) or `histplot` (an axes-level function for histograms).\n",
      "  warnings.warn(msg, FutureWarning)\n"
     ]
    },
    {
     "data": {
      "image/png": "[encoded data removed]",
      "text/plain": [
       "<Figure size 576x288 with 1 Axes>"
      ]
     },
     "metadata": {},
     "output_type": "display_data"
    }
   ],
   "source": [
    "sns.set(rc={\"figure.figsize\": (8, 4)}); \n",
    "x = df_metrics['har_centr']\n",
    "ax = sns.distplot(x)\n",
    "plt.show()"
   ]
  },
  {
   "cell_type": "markdown",
   "id": "8436ee00",
   "metadata": {},
   "source": [
    "**Se puede obsercar que *betweenness*, *degree* y *eigenvector_centrality* tiene distribuciones similares (en el caso de betweenness y degree las escalamos a valores 0 ,1)**"
   ]
  },
  {
   "cell_type": "markdown",
   "id": "b29f8df3",
   "metadata": {},
   "source": [
    "### Hacer un ranking con los 10 nodos más centrales para cada métrica. ¿Hay coincidencia entre los rankings?. ¿Qué características tienen los usuarios más centrales y sus respectivos tweets?\n"
   ]
  },
  {
   "cell_type": "code",
   "execution_count": 51,
   "id": "9e4ce894",
   "metadata": {},
   "outputs": [],
   "source": [
    "def get_top_usrs_by_metrics(columns, top_n , df ):\n",
    "   \n",
    "    data = {}\n",
    "    for col in columns:\n",
    "        top_families = df.nlargest(top_n, columns=[col])[col].index\n",
    "        data[col] = top_families\n",
    "    return pd.DataFrame(data)"
   ]
  },
  {
   "cell_type": "code",
   "execution_count": 52,
   "id": "b452e63c",
   "metadata": {},
   "outputs": [],
   "source": [
    "columns = ['btw', 'closeness', 'degree', 'eigenvector_centrality', 'page_rank', 'har_centr']\n",
    "\n",
    "df_top_by_metrics = get_top_usrs_by_metrics(columns, 10 , df_metrics)\n"
   ]
  },
  {
   "cell_type": "code",
   "execution_count": 53,
   "id": "855a26c7",
   "metadata": {},
   "outputs": [
    {
     "data": {
      "text/html": [
       "<div>\n",
       "<style scoped>\n",
       "    .dataframe tbody tr th:only-of-type {\n",
       "        vertical-align: middle;\n",
       "    }\n",
       "\n",
       "    .dataframe tbody tr th {\n",
       "        vertical-align: top;\n",
       "    }\n",
       "\n",
       "    .dataframe thead th {\n",
       "        text-align: right;\n",
       "    }\n",
       "</style>\n",
       "<table border=\"1\" class=\"dataframe\">\n",
       "  <thead>\n",
       "    <tr style=\"text-align: right;\">\n",
       "      <th></th>\n",
       "      <th>btw</th>\n",
       "      <th>closeness</th>\n",
       "      <th>degree</th>\n",
       "      <th>eigenvector_centrality</th>\n",
       "      <th>page_rank</th>\n",
       "      <th>har_centr</th>\n",
       "    </tr>\n",
       "  </thead>\n",
       "  <tbody>\n",
       "    <tr>\n",
       "      <th>0</th>\n",
       "      <td>13</td>\n",
       "      <td>29638</td>\n",
       "      <td>13</td>\n",
       "      <td>13736</td>\n",
       "      <td>13</td>\n",
       "      <td>13</td>\n",
       "    </tr>\n",
       "    <tr>\n",
       "      <th>1</th>\n",
       "      <td>13736</td>\n",
       "      <td>29656</td>\n",
       "      <td>13736</td>\n",
       "      <td>8398</td>\n",
       "      <td>13736</td>\n",
       "      <td>13736</td>\n",
       "    </tr>\n",
       "    <tr>\n",
       "      <th>2</th>\n",
       "      <td>8398</td>\n",
       "      <td>29657</td>\n",
       "      <td>8398</td>\n",
       "      <td>13</td>\n",
       "      <td>8398</td>\n",
       "      <td>8398</td>\n",
       "    </tr>\n",
       "    <tr>\n",
       "      <th>3</th>\n",
       "      <td>13740</td>\n",
       "      <td>30425</td>\n",
       "      <td>11454</td>\n",
       "      <td>11454</td>\n",
       "      <td>13740</td>\n",
       "      <td>11454</td>\n",
       "    </tr>\n",
       "    <tr>\n",
       "      <th>4</th>\n",
       "      <td>30</td>\n",
       "      <td>30426</td>\n",
       "      <td>13740</td>\n",
       "      <td>13159</td>\n",
       "      <td>11454</td>\n",
       "      <td>4511</td>\n",
       "    </tr>\n",
       "    <tr>\n",
       "      <th>5</th>\n",
       "      <td>11454</td>\n",
       "      <td>30657</td>\n",
       "      <td>13159</td>\n",
       "      <td>13740</td>\n",
       "      <td>13159</td>\n",
       "      <td>30</td>\n",
       "    </tr>\n",
       "    <tr>\n",
       "      <th>6</th>\n",
       "      <td>13159</td>\n",
       "      <td>30954</td>\n",
       "      <td>30</td>\n",
       "      <td>13739</td>\n",
       "      <td>13734</td>\n",
       "      <td>6910</td>\n",
       "    </tr>\n",
       "    <tr>\n",
       "      <th>7</th>\n",
       "      <td>13734</td>\n",
       "      <td>30955</td>\n",
       "      <td>13734</td>\n",
       "      <td>13734</td>\n",
       "      <td>30</td>\n",
       "      <td>7977</td>\n",
       "    </tr>\n",
       "    <tr>\n",
       "      <th>8</th>\n",
       "      <td>13739</td>\n",
       "      <td>31274</td>\n",
       "      <td>13739</td>\n",
       "      <td>30</td>\n",
       "      <td>13739</td>\n",
       "      <td>2775</td>\n",
       "    </tr>\n",
       "    <tr>\n",
       "      <th>9</th>\n",
       "      <td>59</td>\n",
       "      <td>31275</td>\n",
       "      <td>13738</td>\n",
       "      <td>9068</td>\n",
       "      <td>13738</td>\n",
       "      <td>13159</td>\n",
       "    </tr>\n",
       "  </tbody>\n",
       "</table>\n",
       "</div>"
      ],
      "text/plain": [
       "     btw  closeness  degree  eigenvector_centrality  page_rank  har_centr\n",
       "0     13      29638      13                   13736         13         13\n",
       "1  13736      29656   13736                    8398      13736      13736\n",
       "2   8398      29657    8398                      13       8398       8398\n",
       "3  13740      30425   11454                   11454      13740      11454\n",
       "4     30      30426   13740                   13159      11454       4511\n",
       "5  11454      30657   13159                   13740      13159         30\n",
       "6  13159      30954      30                   13739      13734       6910\n",
       "7  13734      30955   13734                   13734         30       7977\n",
       "8  13739      31274   13739                      30      13739       2775\n",
       "9     59      31275   13738                    9068      13738      13159"
      ]
     },
     "execution_count": 53,
     "metadata": {},
     "output_type": "execute_result"
    }
   ],
   "source": [
    "df_top_by_metrics"
   ]
  },
  {
   "cell_type": "markdown",
   "id": "4b2b1656",
   "metadata": {},
   "source": [
    "**Se nota una fuerte conicidencia entre los top 4 (del 0 - 3)**"
   ]
  },
  {
   "cell_type": "code",
   "execution_count": 54,
   "id": "8b2d5530",
   "metadata": {},
   "outputs": [
    {
     "data": {
      "text/html": [
       "<div>\n",
       "<style scoped>\n",
       "    .dataframe tbody tr th:only-of-type {\n",
       "        vertical-align: middle;\n",
       "    }\n",
       "\n",
       "    .dataframe tbody tr th {\n",
       "        vertical-align: top;\n",
       "    }\n",
       "\n",
       "    .dataframe thead th {\n",
       "        text-align: right;\n",
       "    }\n",
       "</style>\n",
       "<table border=\"1\" class=\"dataframe\">\n",
       "  <thead>\n",
       "    <tr style=\"text-align: right;\">\n",
       "      <th></th>\n",
       "      <th>name</th>\n",
       "      <th>btw</th>\n",
       "      <th>closeness</th>\n",
       "      <th>degree</th>\n",
       "      <th>eigenvector_centrality</th>\n",
       "      <th>page_rank</th>\n",
       "      <th>har_centr</th>\n",
       "      <th>btw_0_1</th>\n",
       "      <th>degree_0_1</th>\n",
       "    </tr>\n",
       "    <tr>\n",
       "      <th>vertex ID</th>\n",
       "      <th></th>\n",
       "      <th></th>\n",
       "      <th></th>\n",
       "      <th></th>\n",
       "      <th></th>\n",
       "      <th></th>\n",
       "      <th></th>\n",
       "      <th></th>\n",
       "      <th></th>\n",
       "    </tr>\n",
       "  </thead>\n",
       "  <tbody>\n",
       "    <tr>\n",
       "      <th>13</th>\n",
       "      <td>252168075</td>\n",
       "      <td>2.703364e+08</td>\n",
       "      <td>0.392229</td>\n",
       "      <td>8207</td>\n",
       "      <td>0.738339</td>\n",
       "      <td>0.040722</td>\n",
       "      <td>0.478310</td>\n",
       "      <td>1.000000</td>\n",
       "      <td>1.000000</td>\n",
       "    </tr>\n",
       "    <tr>\n",
       "      <th>13736</th>\n",
       "      <td>130979339</td>\n",
       "      <td>1.785181e+08</td>\n",
       "      <td>0.398115</td>\n",
       "      <td>5553</td>\n",
       "      <td>1.000000</td>\n",
       "      <td>0.033187</td>\n",
       "      <td>0.457576</td>\n",
       "      <td>0.660355</td>\n",
       "      <td>0.676578</td>\n",
       "    </tr>\n",
       "    <tr>\n",
       "      <th>8398</th>\n",
       "      <td>73102744</td>\n",
       "      <td>1.259533e+08</td>\n",
       "      <td>0.371290</td>\n",
       "      <td>5362</td>\n",
       "      <td>0.972362</td>\n",
       "      <td>0.030866</td>\n",
       "      <td>0.434693</td>\n",
       "      <td>0.465913</td>\n",
       "      <td>0.653302</td>\n",
       "    </tr>\n",
       "    <tr>\n",
       "      <th>11454</th>\n",
       "      <td>367933714</td>\n",
       "      <td>9.179453e+07</td>\n",
       "      <td>0.382177</td>\n",
       "      <td>3849</td>\n",
       "      <td>0.715609</td>\n",
       "      <td>0.021966</td>\n",
       "      <td>0.431454</td>\n",
       "      <td>0.339557</td>\n",
       "      <td>0.468925</td>\n",
       "    </tr>\n",
       "  </tbody>\n",
       "</table>\n",
       "</div>"
      ],
      "text/plain": [
       "                name           btw  closeness  degree  eigenvector_centrality  \\\n",
       "vertex ID                                                                       \n",
       "13         252168075  2.703364e+08   0.392229    8207                0.738339   \n",
       "13736      130979339  1.785181e+08   0.398115    5553                1.000000   \n",
       "8398        73102744  1.259533e+08   0.371290    5362                0.972362   \n",
       "11454      367933714  9.179453e+07   0.382177    3849                0.715609   \n",
       "\n",
       "           page_rank  har_centr   btw_0_1  degree_0_1  \n",
       "vertex ID                                              \n",
       "13          0.040722   0.478310  1.000000    1.000000  \n",
       "13736       0.033187   0.457576  0.660355    0.676578  \n",
       "8398        0.030866   0.434693  0.465913    0.653302  \n",
       "11454       0.021966   0.431454  0.339557    0.468925  "
      ]
     },
     "execution_count": 54,
     "metadata": {},
     "output_type": "execute_result"
    }
   ],
   "source": [
    "df_metrics.iloc[[13,13736,8398 , 11454]]"
   ]
  },
  {
   "cell_type": "code",
   "execution_count": 55,
   "id": "9da30488",
   "metadata": {},
   "outputs": [
    {
     "data": {
      "text/html": [
       "<div>\n",
       "<style scoped>\n",
       "    .dataframe tbody tr th:only-of-type {\n",
       "        vertical-align: middle;\n",
       "    }\n",
       "\n",
       "    .dataframe tbody tr th {\n",
       "        vertical-align: top;\n",
       "    }\n",
       "\n",
       "    .dataframe thead th {\n",
       "        text-align: right;\n",
       "    }\n",
       "</style>\n",
       "<table border=\"1\" class=\"dataframe\">\n",
       "  <thead>\n",
       "    <tr style=\"text-align: right;\">\n",
       "      <th></th>\n",
       "      <th>created_at</th>\n",
       "      <th>id_str</th>\n",
       "      <th>full_text</th>\n",
       "      <th>in_reply_to_status_id</th>\n",
       "      <th>in_reply_to_user_id</th>\n",
       "      <th>user.id</th>\n",
       "      <th>user_retweeters</th>\n",
       "      <th>sentiment</th>\n",
       "    </tr>\n",
       "  </thead>\n",
       "  <tbody>\n",
       "    <tr>\n",
       "      <th>2</th>\n",
       "      <td>Mon Feb 22 23:55:08 +0000 2021</td>\n",
       "      <td>1364000806740111363</td>\n",
       "      <td>Bueno, Alberto dijo Salud o Economía. La salud...</td>\n",
       "      <td>NaN</td>\n",
       "      <td>NaN</td>\n",
       "      <td>252168075</td>\n",
       "      <td>[1238117630696972289, 37232479, 12792246571247...</td>\n",
       "      <td>NaN</td>\n",
       "    </tr>\n",
       "    <tr>\n",
       "      <th>422</th>\n",
       "      <td>Wed Mar 10 18:32:02 +0000 2021</td>\n",
       "      <td>1369717701002866690</td>\n",
       "      <td>No Kichi: no fue una espantosa campaña anti va...</td>\n",
       "      <td>NaN</td>\n",
       "      <td>NaN</td>\n",
       "      <td>252168075</td>\n",
       "      <td>[92138339, 175236893, 1280585875131437067, 111...</td>\n",
       "      <td>NaN</td>\n",
       "    </tr>\n",
       "    <tr>\n",
       "      <th>466</th>\n",
       "      <td>Wed Mar 10 18:32:42 +0000 2021</td>\n",
       "      <td>1369717867957125123</td>\n",
       "      <td>Un economista y una doctora en letras. Por dio...</td>\n",
       "      <td>1369717701002866690</td>\n",
       "      <td>252168075</td>\n",
       "      <td>252168075</td>\n",
       "      <td>[2870052210, 1334687222, 2989938288, 835122943...</td>\n",
       "      <td>NaN</td>\n",
       "    </tr>\n",
       "    <tr>\n",
       "      <th>561</th>\n",
       "      <td>Thu Feb 25 12:17:32 +0000 2021</td>\n",
       "      <td>1364912411778686979</td>\n",
       "      <td>Ah, pero Piñeyra! No como nuestro gobierno de ...</td>\n",
       "      <td>NaN</td>\n",
       "      <td>NaN</td>\n",
       "      <td>252168075</td>\n",
       "      <td>[860360141350334464, 896803531872755713, 67046...</td>\n",
       "      <td>NaN</td>\n",
       "    </tr>\n",
       "    <tr>\n",
       "      <th>726</th>\n",
       "      <td>Sat Feb 20 15:12:08 +0000 2021</td>\n",
       "      <td>1363144411148918790</td>\n",
       "      <td>El colmo de la corrupción es robar vacunas cuy...</td>\n",
       "      <td>NaN</td>\n",
       "      <td>NaN</td>\n",
       "      <td>252168075</td>\n",
       "      <td>[1070459253692030976, 1348710270194102273, 225...</td>\n",
       "      <td>NaN</td>\n",
       "    </tr>\n",
       "    <tr>\n",
       "      <th>...</th>\n",
       "      <td>...</td>\n",
       "      <td>...</td>\n",
       "      <td>...</td>\n",
       "      <td>...</td>\n",
       "      <td>...</td>\n",
       "      <td>...</td>\n",
       "      <td>...</td>\n",
       "      <td>...</td>\n",
       "    </tr>\n",
       "    <tr>\n",
       "      <th>161746</th>\n",
       "      <td>Fri Jan 22 10:28:52 +0000 2021</td>\n",
       "      <td>1352563879067459585</td>\n",
       "      <td>Esto de pelear conta la Inquisición se está po...</td>\n",
       "      <td>NaN</td>\n",
       "      <td>NaN</td>\n",
       "      <td>252168075</td>\n",
       "      <td>[1343316321585475585, 4818806993, 894886118608...</td>\n",
       "      <td>NaN</td>\n",
       "    </tr>\n",
       "    <tr>\n",
       "      <th>161757</th>\n",
       "      <td>Wed Feb 03 23:35:28 +0000 2021</td>\n",
       "      <td>1357110485729034241</td>\n",
       "      <td>Si, claro. Y también piden tu pelopincho. http...</td>\n",
       "      <td>NaN</td>\n",
       "      <td>NaN</td>\n",
       "      <td>252168075</td>\n",
       "      <td>[185616425, 527736823, 1210378599238422528, 86...</td>\n",
       "      <td>NaN</td>\n",
       "    </tr>\n",
       "    <tr>\n",
       "      <th>161886</th>\n",
       "      <td>Tue Jan 12 19:16:45 +0000 2021</td>\n",
       "      <td>1349072844710412288</td>\n",
       "      <td>\"Researchers worry that efforts to free up lim...</td>\n",
       "      <td>NaN</td>\n",
       "      <td>NaN</td>\n",
       "      <td>252168075</td>\n",
       "      <td>[312707665, 1250159023472685064, 73084144, 122...</td>\n",
       "      <td>NaN</td>\n",
       "    </tr>\n",
       "    <tr>\n",
       "      <th>161953</th>\n",
       "      <td>Fri Jan 01 22:51:18 +0000 2021</td>\n",
       "      <td>1345140571699077120</td>\n",
       "      <td>La mina que grita me resulta tan truchex. Mas ...</td>\n",
       "      <td>NaN</td>\n",
       "      <td>NaN</td>\n",
       "      <td>252168075</td>\n",
       "      <td>[1056968725168115714, 1208538869286744065, 101...</td>\n",
       "      <td>NaN</td>\n",
       "    </tr>\n",
       "    <tr>\n",
       "      <th>162380</th>\n",
       "      <td>Sat Mar 06 15:05:42 +0000 2021</td>\n",
       "      <td>1368216222995775491</td>\n",
       "      <td>Hacétee cargo vos de todo lo que decís, payaso...</td>\n",
       "      <td>NaN</td>\n",
       "      <td>NaN</td>\n",
       "      <td>252168075</td>\n",
       "      <td>[2173188342, 1273955396319883264, 217691773, 5...</td>\n",
       "      <td>NaN</td>\n",
       "    </tr>\n",
       "  </tbody>\n",
       "</table>\n",
       "<p>1953 rows × 8 columns</p>\n",
       "</div>"
      ],
      "text/plain": [
       "                            created_at               id_str  \\\n",
       "2       Mon Feb 22 23:55:08 +0000 2021  1364000806740111363   \n",
       "422     Wed Mar 10 18:32:02 +0000 2021  1369717701002866690   \n",
       "466     Wed Mar 10 18:32:42 +0000 2021  1369717867957125123   \n",
       "561     Thu Feb 25 12:17:32 +0000 2021  1364912411778686979   \n",
       "726     Sat Feb 20 15:12:08 +0000 2021  1363144411148918790   \n",
       "...                                ...                  ...   \n",
       "161746  Fri Jan 22 10:28:52 +0000 2021  1352563879067459585   \n",
       "161757  Wed Feb 03 23:35:28 +0000 2021  1357110485729034241   \n",
       "161886  Tue Jan 12 19:16:45 +0000 2021  1349072844710412288   \n",
       "161953  Fri Jan 01 22:51:18 +0000 2021  1345140571699077120   \n",
       "162380  Sat Mar 06 15:05:42 +0000 2021  1368216222995775491   \n",
       "\n",
       "                                                full_text  \\\n",
       "2       Bueno, Alberto dijo Salud o Economía. La salud...   \n",
       "422     No Kichi: no fue una espantosa campaña anti va...   \n",
       "466     Un economista y una doctora en letras. Por dio...   \n",
       "561     Ah, pero Piñeyra! No como nuestro gobierno de ...   \n",
       "726     El colmo de la corrupción es robar vacunas cuy...   \n",
       "...                                                   ...   \n",
       "161746  Esto de pelear conta la Inquisición se está po...   \n",
       "161757  Si, claro. Y también piden tu pelopincho. http...   \n",
       "161886  \"Researchers worry that efforts to free up lim...   \n",
       "161953  La mina que grita me resulta tan truchex. Mas ...   \n",
       "162380  Hacétee cargo vos de todo lo que decís, payaso...   \n",
       "\n",
       "       in_reply_to_status_id in_reply_to_user_id    user.id  \\\n",
       "2                        NaN                 NaN  252168075   \n",
       "422                      NaN                 NaN  252168075   \n",
       "466      1369717701002866690           252168075  252168075   \n",
       "561                      NaN                 NaN  252168075   \n",
       "726                      NaN                 NaN  252168075   \n",
       "...                      ...                 ...        ...   \n",
       "161746                   NaN                 NaN  252168075   \n",
       "161757                   NaN                 NaN  252168075   \n",
       "161886                   NaN                 NaN  252168075   \n",
       "161953                   NaN                 NaN  252168075   \n",
       "162380                   NaN                 NaN  252168075   \n",
       "\n",
       "                                          user_retweeters sentiment  \n",
       "2       [1238117630696972289, 37232479, 12792246571247...       NaN  \n",
       "422     [92138339, 175236893, 1280585875131437067, 111...       NaN  \n",
       "466     [2870052210, 1334687222, 2989938288, 835122943...       NaN  \n",
       "561     [860360141350334464, 896803531872755713, 67046...       NaN  \n",
       "726     [1070459253692030976, 1348710270194102273, 225...       NaN  \n",
       "...                                                   ...       ...  \n",
       "161746  [1343316321585475585, 4818806993, 894886118608...       NaN  \n",
       "161757  [185616425, 527736823, 1210378599238422528, 86...       NaN  \n",
       "161886  [312707665, 1250159023472685064, 73084144, 122...       NaN  \n",
       "161953  [1056968725168115714, 1208538869286744065, 101...       NaN  \n",
       "162380  [2173188342, 1273955396319883264, 217691773, 5...       NaN  \n",
       "\n",
       "[1953 rows x 8 columns]"
      ]
     },
     "execution_count": 55,
     "metadata": {},
     "output_type": "execute_result"
    }
   ],
   "source": [
    "df[df['user.id'] == '252168075' ]"
   ]
  },
  {
   "cell_type": "code",
   "execution_count": 56,
   "id": "359a8180",
   "metadata": {},
   "outputs": [
    {
     "data": {
      "text/html": [
       "<div>\n",
       "<style scoped>\n",
       "    .dataframe tbody tr th:only-of-type {\n",
       "        vertical-align: middle;\n",
       "    }\n",
       "\n",
       "    .dataframe tbody tr th {\n",
       "        vertical-align: top;\n",
       "    }\n",
       "\n",
       "    .dataframe thead th {\n",
       "        text-align: right;\n",
       "    }\n",
       "</style>\n",
       "<table border=\"1\" class=\"dataframe\">\n",
       "  <thead>\n",
       "    <tr style=\"text-align: right;\">\n",
       "      <th></th>\n",
       "      <th>created_at</th>\n",
       "      <th>id_str</th>\n",
       "      <th>full_text</th>\n",
       "      <th>in_reply_to_status_id</th>\n",
       "      <th>in_reply_to_user_id</th>\n",
       "      <th>user.id</th>\n",
       "      <th>user_retweeters</th>\n",
       "      <th>sentiment</th>\n",
       "    </tr>\n",
       "  </thead>\n",
       "  <tbody>\n",
       "    <tr>\n",
       "      <th>405</th>\n",
       "      <td>Mon Jan 04 20:06:41 +0000 2021</td>\n",
       "      <td>1346186309560389633</td>\n",
       "      <td>Situación desesperante en Los Angeles, EEUU, d...</td>\n",
       "      <td>NaN</td>\n",
       "      <td>NaN</td>\n",
       "      <td>130979339</td>\n",
       "      <td>[131329344, 2826122264, 273180114, 226561190, ...</td>\n",
       "      <td>NaN</td>\n",
       "    </tr>\n",
       "    <tr>\n",
       "      <th>852</th>\n",
       "      <td>Sun Feb 28 14:17:37 +0000 2021</td>\n",
       "      <td>1366029795868479488</td>\n",
       "      <td>Descubrieron un árbol petrificado en Lesbos de...</td>\n",
       "      <td>NaN</td>\n",
       "      <td>NaN</td>\n",
       "      <td>130979339</td>\n",
       "      <td>[1210368056020656133, 891804290737737728, 1503...</td>\n",
       "      <td>NaN</td>\n",
       "    </tr>\n",
       "    <tr>\n",
       "      <th>857</th>\n",
       "      <td>Thu Mar 11 17:32:03 +0000 2021</td>\n",
       "      <td>1370064994298126339</td>\n",
       "      <td>Otra variante del coronavirus identificada en ...</td>\n",
       "      <td>NaN</td>\n",
       "      <td>NaN</td>\n",
       "      <td>130979339</td>\n",
       "      <td>[3411303407, 1210368056020656133, 147755622, 7...</td>\n",
       "      <td>NaN</td>\n",
       "    </tr>\n",
       "    <tr>\n",
       "      <th>1017</th>\n",
       "      <td>Mon Mar 01 20:10:52 +0000 2021</td>\n",
       "      <td>1366481082124800004</td>\n",
       "      <td>Los datos de hoy, 1/3/21. Reporte de Covid del...</td>\n",
       "      <td>NaN</td>\n",
       "      <td>NaN</td>\n",
       "      <td>130979339</td>\n",
       "      <td>[201586229, 271730974, 723523358, 994364330, 1...</td>\n",
       "      <td>NaN</td>\n",
       "    </tr>\n",
       "    <tr>\n",
       "      <th>1028</th>\n",
       "      <td>Mon Mar 01 20:12:23 +0000 2021</td>\n",
       "      <td>1366481462799835141</td>\n",
       "      <td>Por provincia (notificados hoy/acumulados) 👇 h...</td>\n",
       "      <td>1366481343169908745</td>\n",
       "      <td>130979339</td>\n",
       "      <td>130979339</td>\n",
       "      <td>[201586229, 271730974, 1183088013871669255, 12...</td>\n",
       "      <td>NaN</td>\n",
       "    </tr>\n",
       "    <tr>\n",
       "      <th>...</th>\n",
       "      <td>...</td>\n",
       "      <td>...</td>\n",
       "      <td>...</td>\n",
       "      <td>...</td>\n",
       "      <td>...</td>\n",
       "      <td>...</td>\n",
       "      <td>...</td>\n",
       "      <td>...</td>\n",
       "    </tr>\n",
       "    <tr>\n",
       "      <th>162688</th>\n",
       "      <td>Mon Mar 15 20:46:04 +0000 2021</td>\n",
       "      <td>1371563369455554563</td>\n",
       "      <td>🏴 Fallecidos hasta hoy: 53.836\\n🏴En las última...</td>\n",
       "      <td>1371563309888122894</td>\n",
       "      <td>130979339</td>\n",
       "      <td>130979339</td>\n",
       "      <td>[1210368056020656133, 189681351, 1241413268062...</td>\n",
       "      <td>NaN</td>\n",
       "    </tr>\n",
       "    <tr>\n",
       "      <th>162691</th>\n",
       "      <td>Mon Mar 15 20:46:30 +0000 2021</td>\n",
       "      <td>1371563480667586562</td>\n",
       "      <td>Por provincia, notificados hoy/acumulados 👇 ht...</td>\n",
       "      <td>1371563369455554563</td>\n",
       "      <td>130979339</td>\n",
       "      <td>130979339</td>\n",
       "      <td>[271730974, 1210368056020656133, 186670739, 18...</td>\n",
       "      <td>NaN</td>\n",
       "    </tr>\n",
       "    <tr>\n",
       "      <th>162710</th>\n",
       "      <td>Tue Jan 12 12:09:50 +0000 2021</td>\n",
       "      <td>1348965408624304128</td>\n",
       "      <td>\"Se vacunará con las dos dosis de la vacuna co...</td>\n",
       "      <td>NaN</td>\n",
       "      <td>NaN</td>\n",
       "      <td>130979339</td>\n",
       "      <td>[1081950707585036291, 753003701892157440, 7561...</td>\n",
       "      <td>NaN</td>\n",
       "    </tr>\n",
       "    <tr>\n",
       "      <th>162947</th>\n",
       "      <td>Tue Jan 12 13:25:56 +0000 2021</td>\n",
       "      <td>1348984558239305731</td>\n",
       "      <td>@MartaHerrera76 No es pública. Hasta ahora, hu...</td>\n",
       "      <td>1348983974538973184</td>\n",
       "      <td>1976434717</td>\n",
       "      <td>130979339</td>\n",
       "      <td>[]</td>\n",
       "      <td>NaN</td>\n",
       "    </tr>\n",
       "    <tr>\n",
       "      <th>162956</th>\n",
       "      <td>Tue Jan 12 13:27:08 +0000 2021</td>\n",
       "      <td>1348984859247706119</td>\n",
       "      <td>@MartaHerrera76 ❤️</td>\n",
       "      <td>1348984784173871104</td>\n",
       "      <td>1976434717</td>\n",
       "      <td>130979339</td>\n",
       "      <td>[]</td>\n",
       "      <td>NaN</td>\n",
       "    </tr>\n",
       "  </tbody>\n",
       "</table>\n",
       "<p>1061 rows × 8 columns</p>\n",
       "</div>"
      ],
      "text/plain": [
       "                            created_at               id_str  \\\n",
       "405     Mon Jan 04 20:06:41 +0000 2021  1346186309560389633   \n",
       "852     Sun Feb 28 14:17:37 +0000 2021  1366029795868479488   \n",
       "857     Thu Mar 11 17:32:03 +0000 2021  1370064994298126339   \n",
       "1017    Mon Mar 01 20:10:52 +0000 2021  1366481082124800004   \n",
       "1028    Mon Mar 01 20:12:23 +0000 2021  1366481462799835141   \n",
       "...                                ...                  ...   \n",
       "162688  Mon Mar 15 20:46:04 +0000 2021  1371563369455554563   \n",
       "162691  Mon Mar 15 20:46:30 +0000 2021  1371563480667586562   \n",
       "162710  Tue Jan 12 12:09:50 +0000 2021  1348965408624304128   \n",
       "162947  Tue Jan 12 13:25:56 +0000 2021  1348984558239305731   \n",
       "162956  Tue Jan 12 13:27:08 +0000 2021  1348984859247706119   \n",
       "\n",
       "                                                full_text  \\\n",
       "405     Situación desesperante en Los Angeles, EEUU, d...   \n",
       "852     Descubrieron un árbol petrificado en Lesbos de...   \n",
       "857     Otra variante del coronavirus identificada en ...   \n",
       "1017    Los datos de hoy, 1/3/21. Reporte de Covid del...   \n",
       "1028    Por provincia (notificados hoy/acumulados) 👇 h...   \n",
       "...                                                   ...   \n",
       "162688  🏴 Fallecidos hasta hoy: 53.836\\n🏴En las última...   \n",
       "162691  Por provincia, notificados hoy/acumulados 👇 ht...   \n",
       "162710  \"Se vacunará con las dos dosis de la vacuna co...   \n",
       "162947  @MartaHerrera76 No es pública. Hasta ahora, hu...   \n",
       "162956                                 @MartaHerrera76 ❤️   \n",
       "\n",
       "       in_reply_to_status_id in_reply_to_user_id    user.id  \\\n",
       "405                      NaN                 NaN  130979339   \n",
       "852                      NaN                 NaN  130979339   \n",
       "857                      NaN                 NaN  130979339   \n",
       "1017                     NaN                 NaN  130979339   \n",
       "1028     1366481343169908745           130979339  130979339   \n",
       "...                      ...                 ...        ...   \n",
       "162688   1371563309888122894           130979339  130979339   \n",
       "162691   1371563369455554563           130979339  130979339   \n",
       "162710                   NaN                 NaN  130979339   \n",
       "162947   1348983974538973184          1976434717  130979339   \n",
       "162956   1348984784173871104          1976434717  130979339   \n",
       "\n",
       "                                          user_retweeters sentiment  \n",
       "405     [131329344, 2826122264, 273180114, 226561190, ...       NaN  \n",
       "852     [1210368056020656133, 891804290737737728, 1503...       NaN  \n",
       "857     [3411303407, 1210368056020656133, 147755622, 7...       NaN  \n",
       "1017    [201586229, 271730974, 723523358, 994364330, 1...       NaN  \n",
       "1028    [201586229, 271730974, 1183088013871669255, 12...       NaN  \n",
       "...                                                   ...       ...  \n",
       "162688  [1210368056020656133, 189681351, 1241413268062...       NaN  \n",
       "162691  [271730974, 1210368056020656133, 186670739, 18...       NaN  \n",
       "162710  [1081950707585036291, 753003701892157440, 7561...       NaN  \n",
       "162947                                                 []       NaN  \n",
       "162956                                                 []       NaN  \n",
       "\n",
       "[1061 rows x 8 columns]"
      ]
     },
     "execution_count": 56,
     "metadata": {},
     "output_type": "execute_result"
    }
   ],
   "source": [
    "df[df['user.id'] == '130979339' ]"
   ]
  },
  {
   "cell_type": "code",
   "execution_count": 57,
   "id": "f7a7f368",
   "metadata": {},
   "outputs": [
    {
     "data": {
      "text/html": [
       "<div>\n",
       "<style scoped>\n",
       "    .dataframe tbody tr th:only-of-type {\n",
       "        vertical-align: middle;\n",
       "    }\n",
       "\n",
       "    .dataframe tbody tr th {\n",
       "        vertical-align: top;\n",
       "    }\n",
       "\n",
       "    .dataframe thead th {\n",
       "        text-align: right;\n",
       "    }\n",
       "</style>\n",
       "<table border=\"1\" class=\"dataframe\">\n",
       "  <thead>\n",
       "    <tr style=\"text-align: right;\">\n",
       "      <th></th>\n",
       "      <th>created_at</th>\n",
       "      <th>id_str</th>\n",
       "      <th>full_text</th>\n",
       "      <th>in_reply_to_status_id</th>\n",
       "      <th>in_reply_to_user_id</th>\n",
       "      <th>user.id</th>\n",
       "      <th>user_retweeters</th>\n",
       "      <th>sentiment</th>\n",
       "    </tr>\n",
       "  </thead>\n",
       "  <tbody>\n",
       "    <tr>\n",
       "      <th>39</th>\n",
       "      <td>Sun Feb 28 23:51:37 +0000 2021</td>\n",
       "      <td>1366174247425556483</td>\n",
       "      <td>Argentina tiene hoy casi 18 muertos por millón...</td>\n",
       "      <td>NaN</td>\n",
       "      <td>NaN</td>\n",
       "      <td>73102744</td>\n",
       "      <td>[178105343, 2644056245, 4196856351, 215547565,...</td>\n",
       "      <td>NaN</td>\n",
       "    </tr>\n",
       "    <tr>\n",
       "      <th>107</th>\n",
       "      <td>Mon Mar 01 05:09:45 +0000 2021</td>\n",
       "      <td>1366254308426207232</td>\n",
       "      <td>@arroadri Inevitable a menos que se aceleren l...</td>\n",
       "      <td>1366218359730241543</td>\n",
       "      <td>171893542</td>\n",
       "      <td>73102744</td>\n",
       "      <td>[1083825689848135680]</td>\n",
       "      <td>NaN</td>\n",
       "    </tr>\n",
       "    <tr>\n",
       "      <th>111</th>\n",
       "      <td>Mon Mar 01 00:53:09 +0000 2021</td>\n",
       "      <td>1366189731235643394</td>\n",
       "      <td>@jadagui un rato, me cayeron los violentos</td>\n",
       "      <td>1366184037543460865</td>\n",
       "      <td>139058257</td>\n",
       "      <td>73102744</td>\n",
       "      <td>[]</td>\n",
       "      <td>NaN</td>\n",
       "    </tr>\n",
       "    <tr>\n",
       "      <th>114</th>\n",
       "      <td>Mon Mar 01 12:17:42 +0000 2021</td>\n",
       "      <td>1366362007063117827</td>\n",
       "      <td>@PTorricos Precisamente y cuidadosamente dije ...</td>\n",
       "      <td>1366357963099750404</td>\n",
       "      <td>1233442742312865792</td>\n",
       "      <td>73102744</td>\n",
       "      <td>[]</td>\n",
       "      <td>NaN</td>\n",
       "    </tr>\n",
       "    <tr>\n",
       "      <th>116</th>\n",
       "      <td>Mon Mar 01 02:43:39 +0000 2021</td>\n",
       "      <td>1366217542889598977</td>\n",
       "      <td>@Horacio86925173 Puse candado para evitar a lo...</td>\n",
       "      <td>1366185744574930944</td>\n",
       "      <td>1351278834147069953</td>\n",
       "      <td>73102744</td>\n",
       "      <td>[]</td>\n",
       "      <td>NaN</td>\n",
       "    </tr>\n",
       "    <tr>\n",
       "      <th>...</th>\n",
       "      <td>...</td>\n",
       "      <td>...</td>\n",
       "      <td>...</td>\n",
       "      <td>...</td>\n",
       "      <td>...</td>\n",
       "      <td>...</td>\n",
       "      <td>...</td>\n",
       "      <td>...</td>\n",
       "    </tr>\n",
       "    <tr>\n",
       "      <th>160772</th>\n",
       "      <td>Wed Feb 03 03:20:14 +0000 2021</td>\n",
       "      <td>1356804663136448517</td>\n",
       "      <td>@inalomazzi ❤️</td>\n",
       "      <td>1356796506225926146</td>\n",
       "      <td>139456874</td>\n",
       "      <td>73102744</td>\n",
       "      <td>[]</td>\n",
       "      <td>NaN</td>\n",
       "    </tr>\n",
       "    <tr>\n",
       "      <th>160774</th>\n",
       "      <td>Wed Feb 03 03:41:48 +0000 2021</td>\n",
       "      <td>1356810090100187136</td>\n",
       "      <td>@lavronsky ❤️</td>\n",
       "      <td>1356776545822597120</td>\n",
       "      <td>117077976</td>\n",
       "      <td>73102744</td>\n",
       "      <td>[]</td>\n",
       "      <td>NaN</td>\n",
       "    </tr>\n",
       "    <tr>\n",
       "      <th>160791</th>\n",
       "      <td>Wed Feb 03 03:38:06 +0000 2021</td>\n",
       "      <td>1356809158100733958</td>\n",
       "      <td>@HumbertoCisale Claro, debe pensar que es como...</td>\n",
       "      <td>1356782804328144896</td>\n",
       "      <td>1207662978205663233</td>\n",
       "      <td>73102744</td>\n",
       "      <td>[158007051, 885810670717079552, 19625528, 3263...</td>\n",
       "      <td>NaN</td>\n",
       "    </tr>\n",
       "    <tr>\n",
       "      <th>160794</th>\n",
       "      <td>Wed Feb 03 03:28:29 +0000 2021</td>\n",
       "      <td>1356806741070143489</td>\n",
       "      <td>@HugoBlancoHB 🥰</td>\n",
       "      <td>1356794901317509128</td>\n",
       "      <td>1954572703</td>\n",
       "      <td>73102744</td>\n",
       "      <td>[]</td>\n",
       "      <td>NaN</td>\n",
       "    </tr>\n",
       "    <tr>\n",
       "      <th>162262</th>\n",
       "      <td>Sat Mar 13 03:52:05 +0000 2021</td>\n",
       "      <td>1370583415322476544</td>\n",
       "      <td>@niqueco @GuilledAnillaco @rquiroga777 @beabus...</td>\n",
       "      <td>1369486933773156353</td>\n",
       "      <td>17049977</td>\n",
       "      <td>73102744</td>\n",
       "      <td>[]</td>\n",
       "      <td>NaN</td>\n",
       "    </tr>\n",
       "  </tbody>\n",
       "</table>\n",
       "<p>2195 rows × 8 columns</p>\n",
       "</div>"
      ],
      "text/plain": [
       "                            created_at               id_str  \\\n",
       "39      Sun Feb 28 23:51:37 +0000 2021  1366174247425556483   \n",
       "107     Mon Mar 01 05:09:45 +0000 2021  1366254308426207232   \n",
       "111     Mon Mar 01 00:53:09 +0000 2021  1366189731235643394   \n",
       "114     Mon Mar 01 12:17:42 +0000 2021  1366362007063117827   \n",
       "116     Mon Mar 01 02:43:39 +0000 2021  1366217542889598977   \n",
       "...                                ...                  ...   \n",
       "160772  Wed Feb 03 03:20:14 +0000 2021  1356804663136448517   \n",
       "160774  Wed Feb 03 03:41:48 +0000 2021  1356810090100187136   \n",
       "160791  Wed Feb 03 03:38:06 +0000 2021  1356809158100733958   \n",
       "160794  Wed Feb 03 03:28:29 +0000 2021  1356806741070143489   \n",
       "162262  Sat Mar 13 03:52:05 +0000 2021  1370583415322476544   \n",
       "\n",
       "                                                full_text  \\\n",
       "39      Argentina tiene hoy casi 18 muertos por millón...   \n",
       "107     @arroadri Inevitable a menos que se aceleren l...   \n",
       "111            @jadagui un rato, me cayeron los violentos   \n",
       "114     @PTorricos Precisamente y cuidadosamente dije ...   \n",
       "116     @Horacio86925173 Puse candado para evitar a lo...   \n",
       "...                                                   ...   \n",
       "160772                                     @inalomazzi ❤️   \n",
       "160774                                      @lavronsky ❤️   \n",
       "160791  @HumbertoCisale Claro, debe pensar que es como...   \n",
       "160794                                    @HugoBlancoHB 🥰   \n",
       "162262  @niqueco @GuilledAnillaco @rquiroga777 @beabus...   \n",
       "\n",
       "       in_reply_to_status_id  in_reply_to_user_id   user.id  \\\n",
       "39                       NaN                  NaN  73102744   \n",
       "107      1366218359730241543            171893542  73102744   \n",
       "111      1366184037543460865            139058257  73102744   \n",
       "114      1366357963099750404  1233442742312865792  73102744   \n",
       "116      1366185744574930944  1351278834147069953  73102744   \n",
       "...                      ...                  ...       ...   \n",
       "160772   1356796506225926146            139456874  73102744   \n",
       "160774   1356776545822597120            117077976  73102744   \n",
       "160791   1356782804328144896  1207662978205663233  73102744   \n",
       "160794   1356794901317509128           1954572703  73102744   \n",
       "162262   1369486933773156353             17049977  73102744   \n",
       "\n",
       "                                          user_retweeters sentiment  \n",
       "39      [178105343, 2644056245, 4196856351, 215547565,...       NaN  \n",
       "107                                 [1083825689848135680]       NaN  \n",
       "111                                                    []       NaN  \n",
       "114                                                    []       NaN  \n",
       "116                                                    []       NaN  \n",
       "...                                                   ...       ...  \n",
       "160772                                                 []       NaN  \n",
       "160774                                                 []       NaN  \n",
       "160791  [158007051, 885810670717079552, 19625528, 3263...       NaN  \n",
       "160794                                                 []       NaN  \n",
       "162262                                                 []       NaN  \n",
       "\n",
       "[2195 rows x 8 columns]"
      ]
     },
     "execution_count": 57,
     "metadata": {},
     "output_type": "execute_result"
    }
   ],
   "source": [
    "df[df['user.id'] == '73102744' ]"
   ]
  },
  {
   "cell_type": "code",
   "execution_count": 58,
   "id": "614f66cb",
   "metadata": {},
   "outputs": [
    {
     "data": {
      "text/html": [
       "<div>\n",
       "<style scoped>\n",
       "    .dataframe tbody tr th:only-of-type {\n",
       "        vertical-align: middle;\n",
       "    }\n",
       "\n",
       "    .dataframe tbody tr th {\n",
       "        vertical-align: top;\n",
       "    }\n",
       "\n",
       "    .dataframe thead th {\n",
       "        text-align: right;\n",
       "    }\n",
       "</style>\n",
       "<table border=\"1\" class=\"dataframe\">\n",
       "  <thead>\n",
       "    <tr style=\"text-align: right;\">\n",
       "      <th></th>\n",
       "      <th>created_at</th>\n",
       "      <th>id_str</th>\n",
       "      <th>full_text</th>\n",
       "      <th>in_reply_to_status_id</th>\n",
       "      <th>in_reply_to_user_id</th>\n",
       "      <th>user.id</th>\n",
       "      <th>user_retweeters</th>\n",
       "      <th>sentiment</th>\n",
       "    </tr>\n",
       "  </thead>\n",
       "  <tbody>\n",
       "    <tr>\n",
       "      <th>341</th>\n",
       "      <td>Mon Mar 01 16:00:32 +0000 2021</td>\n",
       "      <td>1366418082961448963</td>\n",
       "      <td>@pimboleto @ernestorr 7 millones entre &amp;gt;70 ...</td>\n",
       "      <td>1366231625361719298</td>\n",
       "      <td>133115327</td>\n",
       "      <td>367933714</td>\n",
       "      <td>[2601817933, 712039945695862790]</td>\n",
       "      <td>NaN</td>\n",
       "    </tr>\n",
       "    <tr>\n",
       "      <th>344</th>\n",
       "      <td>Mon Mar 01 17:26:45 +0000 2021</td>\n",
       "      <td>1366439780440043525</td>\n",
       "      <td>@pimboleto @ernestorr Yo firmo por 8</td>\n",
       "      <td>1366429656824631299</td>\n",
       "      <td>133115327</td>\n",
       "      <td>367933714</td>\n",
       "      <td>[]</td>\n",
       "      <td>NaN</td>\n",
       "    </tr>\n",
       "    <tr>\n",
       "      <th>515</th>\n",
       "      <td>Tue Mar 16 16:40:27 +0000 2021</td>\n",
       "      <td>1371863948346195973</td>\n",
       "      <td>Adolfo muy seriamente aborda la situación de B...</td>\n",
       "      <td>NaN</td>\n",
       "      <td>NaN</td>\n",
       "      <td>367933714</td>\n",
       "      <td>[1344669664568356865, 2601817933, 836922686852...</td>\n",
       "      <td>NaN</td>\n",
       "    </tr>\n",
       "    <tr>\n",
       "      <th>536</th>\n",
       "      <td>Tue Mar 16 16:47:35 +0000 2021</td>\n",
       "      <td>1371865742644232197</td>\n",
       "      <td>@tomaydale Uno espera infructuosamente cierta ...</td>\n",
       "      <td>1371864977376706561</td>\n",
       "      <td>331232046</td>\n",
       "      <td>367933714</td>\n",
       "      <td>[]</td>\n",
       "      <td>NaN</td>\n",
       "    </tr>\n",
       "    <tr>\n",
       "      <th>541</th>\n",
       "      <td>Tue Mar 16 17:15:26 +0000 2021</td>\n",
       "      <td>1371872748826464260</td>\n",
       "      <td>@riverapomar @tomaydale Hola Rolando, no era s...</td>\n",
       "      <td>1371870371071332356</td>\n",
       "      <td>3378198736</td>\n",
       "      <td>367933714</td>\n",
       "      <td>[]</td>\n",
       "      <td>NaN</td>\n",
       "    </tr>\n",
       "    <tr>\n",
       "      <th>...</th>\n",
       "      <td>...</td>\n",
       "      <td>...</td>\n",
       "      <td>...</td>\n",
       "      <td>...</td>\n",
       "      <td>...</td>\n",
       "      <td>...</td>\n",
       "      <td>...</td>\n",
       "      <td>...</td>\n",
       "    </tr>\n",
       "    <tr>\n",
       "      <th>161943</th>\n",
       "      <td>Tue Jan 12 21:53:03 +0000 2021</td>\n",
       "      <td>1349112177639223298</td>\n",
       "      <td>@hbarugel Por otro lado, cuándo vamos a tener ...</td>\n",
       "      <td>1349112013323173889</td>\n",
       "      <td>367933714</td>\n",
       "      <td>367933714</td>\n",
       "      <td>[]</td>\n",
       "      <td>NaN</td>\n",
       "    </tr>\n",
       "    <tr>\n",
       "      <th>162144</th>\n",
       "      <td>Tue Mar 09 19:46:55 +0000 2021</td>\n",
       "      <td>1369374156966555648</td>\n",
       "      <td>Les pido una firma y un RT por Ernesto.\\n\\n@er...</td>\n",
       "      <td>NaN</td>\n",
       "      <td>NaN</td>\n",
       "      <td>367933714</td>\n",
       "      <td>[1295419630765387777, 895383480053444609, 6413...</td>\n",
       "      <td>NaN</td>\n",
       "    </tr>\n",
       "    <tr>\n",
       "      <th>162261</th>\n",
       "      <td>Tue Mar 09 22:03:46 +0000 2021</td>\n",
       "      <td>1369408598313435142</td>\n",
       "      <td>@GuilledAnillaco @beabusaniche @ernestorr Erne...</td>\n",
       "      <td>1369393118244659203</td>\n",
       "      <td>2460488124</td>\n",
       "      <td>367933714</td>\n",
       "      <td>[]</td>\n",
       "      <td>NaN</td>\n",
       "    </tr>\n",
       "    <tr>\n",
       "      <th>162286</th>\n",
       "      <td>Tue Mar 09 21:32:29 +0000 2021</td>\n",
       "      <td>1369400722706608136</td>\n",
       "      <td>@mellevaelhuayra @ernestorr No me sorprende, l...</td>\n",
       "      <td>1369391726088097793</td>\n",
       "      <td>43167904</td>\n",
       "      <td>367933714</td>\n",
       "      <td>[1228849782187319298, 500269004]</td>\n",
       "      <td>NaN</td>\n",
       "    </tr>\n",
       "    <tr>\n",
       "      <th>162291</th>\n",
       "      <td>Tue Mar 09 19:59:20 +0000 2021</td>\n",
       "      <td>1369377283790802948</td>\n",
       "      <td>Les vuelvo a pedir RT a los que ya dieron al o...</td>\n",
       "      <td>1369374156966555648</td>\n",
       "      <td>367933714</td>\n",
       "      <td>367933714</td>\n",
       "      <td>[301192533, 1289576414757425153, 9182837950186...</td>\n",
       "      <td>NaN</td>\n",
       "    </tr>\n",
       "  </tbody>\n",
       "</table>\n",
       "<p>782 rows × 8 columns</p>\n",
       "</div>"
      ],
      "text/plain": [
       "                            created_at               id_str  \\\n",
       "341     Mon Mar 01 16:00:32 +0000 2021  1366418082961448963   \n",
       "344     Mon Mar 01 17:26:45 +0000 2021  1366439780440043525   \n",
       "515     Tue Mar 16 16:40:27 +0000 2021  1371863948346195973   \n",
       "536     Tue Mar 16 16:47:35 +0000 2021  1371865742644232197   \n",
       "541     Tue Mar 16 17:15:26 +0000 2021  1371872748826464260   \n",
       "...                                ...                  ...   \n",
       "161943  Tue Jan 12 21:53:03 +0000 2021  1349112177639223298   \n",
       "162144  Tue Mar 09 19:46:55 +0000 2021  1369374156966555648   \n",
       "162261  Tue Mar 09 22:03:46 +0000 2021  1369408598313435142   \n",
       "162286  Tue Mar 09 21:32:29 +0000 2021  1369400722706608136   \n",
       "162291  Tue Mar 09 19:59:20 +0000 2021  1369377283790802948   \n",
       "\n",
       "                                                full_text  \\\n",
       "341     @pimboleto @ernestorr 7 millones entre &gt;70 ...   \n",
       "344                  @pimboleto @ernestorr Yo firmo por 8   \n",
       "515     Adolfo muy seriamente aborda la situación de B...   \n",
       "536     @tomaydale Uno espera infructuosamente cierta ...   \n",
       "541     @riverapomar @tomaydale Hola Rolando, no era s...   \n",
       "...                                                   ...   \n",
       "161943  @hbarugel Por otro lado, cuándo vamos a tener ...   \n",
       "162144  Les pido una firma y un RT por Ernesto.\\n\\n@er...   \n",
       "162261  @GuilledAnillaco @beabusaniche @ernestorr Erne...   \n",
       "162286  @mellevaelhuayra @ernestorr No me sorprende, l...   \n",
       "162291  Les vuelvo a pedir RT a los que ya dieron al o...   \n",
       "\n",
       "       in_reply_to_status_id in_reply_to_user_id    user.id  \\\n",
       "341      1366231625361719298           133115327  367933714   \n",
       "344      1366429656824631299           133115327  367933714   \n",
       "515                      NaN                 NaN  367933714   \n",
       "536      1371864977376706561           331232046  367933714   \n",
       "541      1371870371071332356          3378198736  367933714   \n",
       "...                      ...                 ...        ...   \n",
       "161943   1349112013323173889           367933714  367933714   \n",
       "162144                   NaN                 NaN  367933714   \n",
       "162261   1369393118244659203          2460488124  367933714   \n",
       "162286   1369391726088097793            43167904  367933714   \n",
       "162291   1369374156966555648           367933714  367933714   \n",
       "\n",
       "                                          user_retweeters sentiment  \n",
       "341                      [2601817933, 712039945695862790]       NaN  \n",
       "344                                                    []       NaN  \n",
       "515     [1344669664568356865, 2601817933, 836922686852...       NaN  \n",
       "536                                                    []       NaN  \n",
       "541                                                    []       NaN  \n",
       "...                                                   ...       ...  \n",
       "161943                                                 []       NaN  \n",
       "162144  [1295419630765387777, 895383480053444609, 6413...       NaN  \n",
       "162261                                                 []       NaN  \n",
       "162286                   [1228849782187319298, 500269004]       NaN  \n",
       "162291  [301192533, 1289576414757425153, 9182837950186...       NaN  \n",
       "\n",
       "[782 rows x 8 columns]"
      ]
     },
     "execution_count": 58,
     "metadata": {},
     "output_type": "execute_result"
    }
   ],
   "source": [
    "df[df['user.id'] == '367933714' ]"
   ]
  },
  {
   "cell_type": "code",
   "execution_count": 59,
   "id": "bbc300e0",
   "metadata": {},
   "outputs": [],
   "source": [
    "#!conda install -y -c conda-forge tweepy "
   ]
  },
  {
   "cell_type": "code",
   "execution_count": 60,
   "id": "799796dd",
   "metadata": {},
   "outputs": [],
   "source": [
    "import tweepy \n",
    "\n",
    "\n",
    "def init_api(consumer_key, consumer_secret, access_token, access_token_secret):\n",
    "      # authorization of consumer key and consumer secret\n",
    "    auth = tweepy.OAuthHandler(consumer_key, consumer_secret)\n",
    "\n",
    "    # set access to user's access key and access secret \n",
    "    auth.set_access_token(access_token, access_token_secret)\n",
    "\n",
    "    # calling the api \n",
    "    api = tweepy.API(auth)\n",
    "\n",
    "    return api\n",
    "    \n",
    "def get_user_tweets(consumer_key, consumer_secret, access_token, access_token_secret , user_id , tweets_count = 50):\n",
    "    \n",
    "    api = init_api(consumer_key, consumer_secret, access_token, access_token_secret)\n",
    "  \n",
    "\n",
    "    user = api.get_user(user_id = user_id)\n",
    "    \n",
    "\n",
    "    tweets = api.user_timeline(user_id=user_id, \n",
    "                               # 200 is the maximum allowed count\n",
    "                               count=tweets_count,\n",
    "                               include_rts = False,\n",
    "                               # Necessary to keep full_text \n",
    "                               # otherwise only the first 140 words are extracted\n",
    "                               tweet_mode = 'extended'\n",
    "                               )\n",
    "\n",
    "    for info in tweets:\n",
    "        print(\"ID: {}\".format(info.id))\n",
    "        print(info.created_at)\n",
    "        print(info.full_text)\n",
    "        print(\"\\n\")\n",
    "    \n",
    "    \n",
    "def desribe_user(consumer_key, consumer_secret, access_token, access_token_secret , user_id):\n",
    "\n",
    "    api = init_api(consumer_key, consumer_secret, access_token, access_token_secret)\n",
    "    \n",
    "    user = api.get_user(user_id = user_id)\n",
    "\n",
    "    print (f\"User id {user_id} es {user.name}\")\n",
    "    print (f\"Cantidad de folowers {user.followers_count}\")\n",
    "    print (f\"Descripción : {user.description}\")\n",
    "    "
   ]
  },
  {
   "cell_type": "code",
   "execution_count": 61,
   "id": "785a6f8b",
   "metadata": {},
   "outputs": [],
   "source": [
    "# Dejo esto en blanco para no publicar mis secrets. En el caso de querer correr el notebook, se deben crear los keys, \n",
    "# tokens y screts\n",
    "\n",
    "consumer_key = \"\"\n",
    "consumer_secret = \"\"\n",
    "access_token = \"\"\n",
    "access_token_secret = \"\""
   ]
  },
  {
   "cell_type": "code",
   "execution_count": 62,
   "id": "b3ac0804",
   "metadata": {},
   "outputs": [
    {
     "name": "stdout",
     "output_type": "stream",
     "text": [
      "User id 252168075 es Sandra Pitta\n",
      "Cantidad de folowers 94566\n",
      "Descripción : Candidata a Diputada Nacional; Farmacéutica/Biotecnóloga; Una Mafalda actual. #RecuperemosArgentina\n"
     ]
    }
   ],
   "source": [
    "desribe_user(consumer_key, consumer_secret, access_token, access_token_secret, 252168075 )"
   ]
  },
  {
   "cell_type": "markdown",
   "id": "693cb011",
   "metadata": {},
   "source": [
    "**En el caso de Sandra Pitta, obteniendo datos de su usuario usando la API de twitter, se puede apreciar  que forma parte de la oposición al gobierno. Esto se ve claro en la descripción que obtenemos de twitter que dice #RecuperemosArgentina. En los tweets se puede ver que esta a favor de la vacunación.**"
   ]
  },
  {
   "cell_type": "code",
   "execution_count": 63,
   "id": "14079eec",
   "metadata": {
    "scrolled": true
   },
   "outputs": [
    {
     "name": "stdout",
     "output_type": "stream",
     "text": [
      "User id 130979339 es Nora Bär\n",
      "Cantidad de folowers 140139\n",
      "Descripción : Ex editora de Ciencia y Salud en La Nación. Ahora, en @eldestapeweb. \"Rebelión en el Laboratorio\" y \"Diez preguntas que la ciencia (todavía) no puede contestar\"\n"
     ]
    }
   ],
   "source": [
    "desribe_user(consumer_key, consumer_secret, access_token, access_token_secret, 130979339 )"
   ]
  },
  {
   "cell_type": "code",
   "execution_count": 64,
   "id": "552ce5db",
   "metadata": {},
   "outputs": [
    {
     "name": "stdout",
     "output_type": "stream",
     "text": [
      "ID: 1465419138785026048\n",
      "2021-11-29 20:35:23+00:00\n",
      "🚩Por provincia, notificados hoy/acumulados👇 https://t.co/0Yf0VlrQPT\n",
      "\n",
      "\n",
      "ID: 1465419081922891779\n",
      "2021-11-29 20:35:09+00:00\n",
      "🏴Detalle de las muertes reportadas en las últimas 24 hs👇 https://t.co/h6wfOBENJr\n",
      "\n",
      "\n",
      "ID: 1465419009449504768\n",
      "2021-11-29 20:34:52+00:00\n",
      "Llegaron los datos de hoy, 29/11/21. Reporte diario de Covid del @msalnacion 👇\n",
      "🚩1968 notificados; 🖤25 fallecidos\n",
      "🔬TESTS del día: 41.826\n",
      "🛌614 personas en terapia\n",
      "🛌Ocupación UTIs: Nación 35,1%; AMBA 39,5%\n",
      "🏴Fallecidos hasta hoy: 116.554 https://t.co/aJAK36PvRB\n",
      "\n",
      "\n",
      "ID: 1465392016674672640\n",
      "2021-11-29 18:47:37+00:00\n",
      "@JRacinguistaa En principio, no, porque se hacen análisis genómicos y hasta ahora no había sido detectada\n",
      "\n",
      "\n",
      "ID: 1465369271937253383\n",
      "2021-11-29 17:17:14+00:00\n",
      "Acerca del crucero \"Hamburg\" 👇 https://t.co/Mk0BelKTp6\n",
      "\n",
      "\n",
      "ID: 1465331874050588672\n",
      "2021-11-29 14:48:37+00:00\n",
      "\"La emergencia de Omicron debería recordarnos lo peligrosa y precaria que es nuestra situación. Deberíamos estar muy alertas frente a la amenaza de este virus\", dice @DrTedros , director general de la @WHO https://t.co/IcpcUSxS61\n",
      "\n",
      "\n",
      "ID: 1465331221710442496\n",
      "2021-11-29 14:46:02+00:00\n",
      "@juliaquetglas2 ❤️\n",
      "\n",
      "\n",
      "ID: 1465331051371315201\n",
      "2021-11-29 14:45:21+00:00\n",
      "@coreyspowell @Xergiok2 😍 ¡Maravilla! (Wonderful!)\n",
      "\n",
      "\n",
      "ID: 1465324225955340296\n",
      "2021-11-29 14:18:14+00:00\n",
      "😍Todo es cuestión de la lente con que se mira 👇24 hs de rotación de la Tierra con la cámara enfocada en el mismo punto del cielo en lugar de en la superficie terrestre. \"Estamos todos pendiendo de esta roca que gira\", dice @coreyspowell https://t.co/vfOtlnDGFh\n",
      "\n",
      "\n",
      "ID: 1465314748069732358\n",
      "2021-11-29 13:40:34+00:00\n",
      "El Cofesa decidió implementar durante diciembre un pase sanitario para mayores de 13 👇\n",
      "https://t.co/VzfPCyyl2a\n",
      "\n",
      "\n",
      "ID: 1465313009992146948\n",
      "2021-11-29 13:33:40+00:00\n",
      "Irlanda está estudiando 10 casos sospechosos de Omicron 👇\n",
      "https://t.co/sDbb8xWKCg\n",
      "\n",
      "\n",
      "ID: 1465311860518002694\n",
      "2021-11-29 13:29:06+00:00\n",
      "Trabajan en un acuerdo para conservar el #jaguar, que necesita amplios territorios (a veces transfronterizos) para cazar y reproducirse👇Belleza https://t.co/m6SWmUpk3e\n",
      "\n",
      "\n",
      "ID: 1465310928749146120\n",
      "2021-11-29 13:25:24+00:00\n",
      "No se pierdan el podcast de hoy de @ernestorr sobre Omicron en @futurockOk 👇(pueden escucharlo mientras barren, hacen la cama, toman el desayuno...😉)\n",
      "https://t.co/njuPY976HV\n",
      "\n",
      "\n",
      "ID: 1465310401814573067\n",
      "2021-11-29 13:23:18+00:00\n",
      "@nwolovick Pero muy bien! ¡¡Felicitaciones!! 👏👏👏👏\n",
      "\n",
      "\n",
      "ID: 1465306819769864192\n",
      "2021-11-29 13:09:04+00:00\n",
      "👇\n",
      "menor coeficiente intelectual y problemas de atención. (...) La contaminación química tiende a concentrarse en comunidades pobres y marginadas, un ejemplo clásico de injusticia ambiental, y puede magnificar los impactos negativos de las desventajas sociales en la salud mental\"\n",
      "\n",
      "\n",
      "ID: 1465306725653831682\n",
      "2021-11-29 13:08:42+00:00\n",
      "La contaminación y el cerebro en desarrollo 👇en @TheLancet \"Las exposición temprana a contaminantes como plomo, mercurio, bifenilos policlorados, insecticidas organofosforados y microparticulado se asociaron con disminución de la función cognitiva👇\n",
      "https://t.co/eJa8SvSLdk\n",
      "\n",
      "\n",
      "ID: 1465290076477394945\n",
      "2021-11-29 12:02:32+00:00\n",
      "Reporte diario de Covid de @gcba 👇 https://t.co/9atGdwmFgM\n",
      "\n",
      "\n",
      "ID: 1465289670301044736\n",
      "2021-11-29 12:00:55+00:00\n",
      "¡Buen lunes! ☁️☁️☁️26º de máx.\n",
      "Para iniciar la jornada, el análisis de los últimos datos por @jorgeluisaliaga 👇Sigue la lenta suba de confirmados\n",
      "https://t.co/kx4vILJTOG\n",
      "\n",
      "\n",
      "ID: 1465278129337942016\n",
      "2021-11-29 11:15:04+00:00\n",
      "El mapa de Omicron 👇 https://t.co/4FQDFuyEv3\n",
      "\n",
      "\n",
      "ID: 1465277247141597186\n",
      "2021-11-29 11:11:33+00:00\n",
      "13 casos de Omicron en un equipo de fútbol de Portugal 👇\n",
      "https://t.co/6eFd3d28hk\n",
      "\n",
      "\n",
      "ID: 1465060886700298251\n",
      "2021-11-28 20:51:49+00:00\n",
      "@juliaquetglas2 @mmbarrionuevo ❤️\n",
      "\n",
      "\n",
      "ID: 1465059755479736322\n",
      "2021-11-28 20:47:19+00:00\n",
      "Razón de crecimiento cada 14 días 👇Análisis de datos y gráfico de @mmbarrionuevo https://t.co/SW7yctuZid\n",
      "\n",
      "\n",
      "ID: 1465059505700495375\n",
      "2021-11-28 20:46:20+00:00\n",
      "Promedio de casos diarios CABA y Tucumán 👇Análisis de datos y gráficos @mmbarrionuevo https://t.co/woHZ4Y4m8C\n",
      "\n",
      "\n",
      "ID: 1465058961808412682\n",
      "2021-11-28 20:44:10+00:00\n",
      "Promedio de casos diarios👇Análisis de datos y gráfico de @mmbarrionuevo https://t.co/sx5C0VYnrG\n",
      "\n",
      "\n",
      "ID: 1465050477318520837\n",
      "2021-11-28 20:10:27+00:00\n",
      "@maxiritrosi ❤️\n",
      "\n",
      "\n",
      "ID: 1465050313979830278\n",
      "2021-11-28 20:09:48+00:00\n",
      "🚩Por provincia: notificados hoy/acumulados👇 https://t.co/5TRYkQFJva\n",
      "\n",
      "\n",
      "ID: 1465050247302987782\n",
      "2021-11-28 20:09:32+00:00\n",
      "🏴Detalle de las muertes reportadas en las últimas 24 hs👇 https://t.co/p6RMX16jiU\n",
      "\n",
      "\n",
      "ID: 1465050123281567759\n",
      "2021-11-28 20:09:03+00:00\n",
      "Llegaron los datos de hoy, 28/11/21. Reporte diario de Covid del @msalnacion 👇\n",
      "🚩888 notificados; 🖤 12 fallecidos \n",
      "🔬TESTS del día: 20.523\n",
      "🛌600 personas en terapia\n",
      "🛌Ocuación UTs: Nación 34,9%; AMBA 38,9%\n",
      "🏴Fallecidos hasta hoy: 116.529 https://t.co/8Bm4KzcqIE\n",
      "\n",
      "\n",
      "ID: 1465046880413487106\n",
      "2021-11-28 19:56:10+00:00\n",
      "@Monikgb3 ❤️\n",
      "\n",
      "\n",
      "ID: 1465044926522081282\n",
      "2021-11-28 19:48:24+00:00\n",
      "@alconcito 😳 Llegó ayer, todavía ni lo trasplanté...\n",
      "\n",
      "\n",
      "ID: 1465034868426002441\n",
      "2021-11-28 19:08:26+00:00\n",
      "@matias24415 ¿En serio? ¡Gracias por el consejo!❤️\n",
      "\n",
      "\n",
      "ID: 1465034674334490628\n",
      "2021-11-28 19:07:40+00:00\n",
      "@elianainesmarti ❤️\n",
      "\n",
      "\n",
      "ID: 1465034352312602624\n",
      "2021-11-28 19:06:23+00:00\n",
      "👇\n",
      "🔴 Acciones recomendadas por la OMS a individuos: \n",
      "❗️Mantener la distancia\n",
      "❗️Usar barbijo\n",
      "❗️Abrir ventanas\n",
      "❗️Evitar aglomeraciones en espacios cerrados\n",
      "❗️Mantener las manos limpias\n",
      "❗️Toser y estornudar en el pliegue interno del codo\n",
      "❗️VACUNARSE\n",
      "\n",
      "\n",
      "ID: 1465034215267999767\n",
      "2021-11-28 19:05:50+00:00\n",
      "Informe de la @opsoms sobre Omicron 👇\n",
      "🔴 ¿Mayor transmisibilidad? No está clara\n",
      "🔴 ¿Gravedad? No está clara\n",
      "🔴 ¿Efectividad de las vacunas? Se está investigando\n",
      "🔴 ¿De los tests? Se está investigando\n",
      "🔴 ¿De los tratamientos? Se está investigando\n",
      "👇\n",
      "https://t.co/M0LZBCgK9m\n",
      "\n",
      "\n",
      "ID: 1465029965280432131\n",
      "2021-11-28 18:48:57+00:00\n",
      "Cómo llueve 😳 … y en medio del aguacero, floreció un jazmín 😍👇 https://t.co/pdLas1lHqK\n",
      "\n",
      "\n",
      "ID: 1465029150712999937\n",
      "2021-11-28 18:45:43+00:00\n",
      "@juliaquetglas2 ❤️\n",
      "\n",
      "\n",
      "ID: 1465014046944595972\n",
      "2021-11-28 17:45:42+00:00\n",
      "@marbasch @ernestorr @ValeArvejita @DrTedros 😍\n",
      "\n",
      "\n",
      "ID: 1465012679320477701\n",
      "2021-11-28 17:40:16+00:00\n",
      "Dos casos de Omicron en Dinamarca👇 https://t.co/KrItLYpUHS\n",
      "\n",
      "\n",
      "ID: 1465007210010980355\n",
      "2021-11-28 17:18:32+00:00\n",
      "@OvniArgento @RDSarraute @anibalgreco ¿Viste las fotos? Están todas sacadas desde afuera de las salas de UTI y respetando todos los protocolos\n",
      "\n",
      "\n",
      "ID: 1464973414259642377\n",
      "2021-11-28 15:04:14+00:00\n",
      "Murió Roux 🖤👇\n",
      "https://t.co/P80tM3Nyh5\n",
      "\n",
      "\n",
      "ID: 1464964619768848388\n",
      "2021-11-28 14:29:17+00:00\n",
      "Es el típico caso de \"una imagen vale más que mil palabras\". ¡Soberbio trabajo!\n",
      "\n",
      "\n",
      "ID: 1464946266144755720\n",
      "2021-11-28 13:16:21+00:00\n",
      "¡¡Felicitaciones @anibalgreco por el primer premio Adepa a su reportaje periodístico fotográfico: \"Un día en la terapia intensiva del Hospital Posadas. 24 horas entre la vida y la muerte\"!!👏👏👏 ¡Maestro! ❤️😍❤️ \n",
      "https://t.co/J6Bm0CGenu\n",
      "\n",
      "\n",
      "ID: 1464945094545526791\n",
      "2021-11-28 13:11:42+00:00\n",
      "Reporte diario de Covid de @gcba 👇 https://t.co/FJzJr1TedJ\n",
      "\n",
      "\n"
     ]
    }
   ],
   "source": [
    "get_user_tweets(consumer_key, consumer_secret, access_token, access_token_secret , 130979339)"
   ]
  },
  {
   "cell_type": "markdown",
   "id": "7a48f295",
   "metadata": {},
   "source": [
    "**En el caso de Nora Bär, obteniendo datos de su usuario usando la API de twitter, un conociendo un poco de los medios de comunicación, se puede ver que esta a favor del gobierno. Esto se ve claron en la descripción que obtenemos de twitter que dice \"ahora, en @eldestapeweb\". Analizando algunos de sus tweets, se puede ver que esta a favor de la vacunación**"
   ]
  },
  {
   "cell_type": "code",
   "execution_count": 65,
   "id": "18b3401c",
   "metadata": {
    "scrolled": true
   },
   "outputs": [
    {
     "name": "stdout",
     "output_type": "stream",
     "text": [
      "User id 73102744 es Ernesto Resnik\n",
      "Cantidad de folowers 86597\n",
      "Descripción : Científico. Biólogo Molecular/Inmunólogo/Biotecnólogo (Anticuerpos monoclonales). (Personal acct doesn't reflect my employer)\n"
     ]
    }
   ],
   "source": [
    "desribe_user(consumer_key, consumer_secret, access_token, access_token_secret, 73102744 )"
   ]
  },
  {
   "cell_type": "code",
   "execution_count": 66,
   "id": "d8c5f772",
   "metadata": {},
   "outputs": [
    {
     "name": "stdout",
     "output_type": "stream",
     "text": [
      "ID: 1465401729428725770\n",
      "2021-11-29 19:26:12+00:00\n",
      "@NazaMerlo @etupito @jpsorin6 @Tutehumor @virusolari @AndrealebuPJ ❤️\n",
      "\n",
      "\n",
      "ID: 1465388358587269122\n",
      "2021-11-29 18:33:04+00:00\n",
      "@EloinFirenze Que no sea! Y si es, ya ves, un resfrío. 💪🏻 vacunas\n",
      "\n",
      "\n",
      "ID: 1465387433487384595\n",
      "2021-11-29 18:29:24+00:00\n",
      "@prolejsoy No, ya tenemos inmunidad, aún si está variante fuera muy distinta algo de inmunidad igual tenemos\n",
      "\n",
      "\n",
      "ID: 1465387109389324294\n",
      "2021-11-29 18:28:07+00:00\n",
      "@Daniel85285494 Sirven\n",
      "\n",
      "\n",
      "ID: 1465386821957951490\n",
      "2021-11-29 18:26:58+00:00\n",
      "@amilcarBoca Gracias por ilustrar lo que es un zombie. Llamo zombies a los que como vos siguen hablando de fase 3 sin saber lo qué es y sin entender que con lo que sabemos alcanza con otros tipos de estudios. 🧟‍♀️🧟‍♂️\n",
      "\n",
      "\n",
      "ID: 1465386210633949195\n",
      "2021-11-29 18:24:32+00:00\n",
      "@adrian_roitberg Tal cual, esto va a seguir por un tiempo si no logramos vacunar a todos\n",
      "\n",
      "\n",
      "ID: 1465386050851942402\n",
      "2021-11-29 18:23:54+00:00\n",
      "@_L4C_ Claro, cambia la proteína. Omicron tiene 32 cambios\n",
      "\n",
      "\n",
      "ID: 1465385813315932172\n",
      "2021-11-29 18:22:58+00:00\n",
      "@Romisouz Está en episodio de hoy\n",
      "\n",
      "\n",
      "ID: 1465385644184768514\n",
      "2021-11-29 18:22:17+00:00\n",
      "@Glo06830737 La noticia era fake news 🤡\n",
      "\n",
      "\n",
      "ID: 1465353447679660032\n",
      "2021-11-29 16:14:21+00:00\n",
      "@santyfer2000 😀\n",
      "\n",
      "\n",
      "ID: 1465345236394201092\n",
      "2021-11-29 15:41:43+00:00\n",
      "@Pdorato14 😁😁😁\n",
      "\n",
      "\n",
      "ID: 1465338302517723143\n",
      "2021-11-29 15:14:10+00:00\n",
      "@VerbenaJorge @alelarsen @Daniel85285494 ❤️❤️\n",
      "\n",
      "\n",
      "ID: 1465338214688956416\n",
      "2021-11-29 15:13:49+00:00\n",
      "@Facundoag79 No se mucho, vi este tuit pero no me metí a entenderlo.\n",
      "\n",
      "\n",
      "ID: 1465338070484627457\n",
      "2021-11-29 15:13:15+00:00\n",
      "@prolejsoy No en lo regulatorio, sí en cuanto a producción\n",
      "\n",
      "\n",
      "ID: 1465337920668278798\n",
      "2021-11-29 15:12:39+00:00\n",
      "@AlepratoArq 😀🧟‍♂️\n",
      "\n",
      "\n",
      "ID: 1465337796072255497\n",
      "2021-11-29 15:12:09+00:00\n",
      "@FlaviaFrejman Por lo menos preventivamente es natural tomar esas medidas\n",
      "\n",
      "\n",
      "ID: 1465337687125147648\n",
      "2021-11-29 15:11:43+00:00\n",
      "@Ayresdemandalas Los antivirales seguramente seguirán funcionando bien, porque atacan proteínas del virus que no mutan mucho\n",
      "\n",
      "\n",
      "ID: 1465329505799651333\n",
      "2021-11-29 14:39:13+00:00\n",
      "@EloinFirenze Seguro.\n",
      "\n",
      "\n",
      "ID: 1465329026655002630\n",
      "2021-11-29 14:37:19+00:00\n",
      "¿A qué llamo “flexible”? Habrá estudios ‘puente’ rápidos de equivalencia de inmunidad y seguridad, pocos voluntarios. Se aprobará sin estudios clínicos de fase 3, al menos estudios terminados.\n",
      "\n",
      "\n",
      "ID: 1465323074404982786\n",
      "2021-11-29 14:13:39+00:00\n",
      "Si la variante 𝚶 resulta problemática -o cualquier variante nueva por tal caso- tendremos una vacuna modificada rápidamente. El problema será la producción masiva. La parte regulatoria será flexible, estoy seguro, y los zombies de fase 3 correrán a vacunarse igual.\n",
      "\n",
      "\n",
      "ID: 1465320765092470790\n",
      "2021-11-29 14:04:29+00:00\n",
      "@lanegrakasullo ❤️❤️\n",
      "\n",
      "\n",
      "ID: 1465318645593219078\n",
      "2021-11-29 13:56:04+00:00\n",
      "@Tavuelt Sí, seguramente ya sabremos algo\n",
      "\n",
      "\n",
      "ID: 1465296564709203968\n",
      "2021-11-29 12:28:19+00:00\n",
      "Hoy en PCR: Ómicron. El futuro llegó. Ómicron y lo que todavía no sabemos: ¿Contagia más? ¿La enfermedad es peor? ¿Las vacunas todavía sirven? Lo que sabemos y preocupa: tiene muchas mutaciones. https://t.co/VqOSJoIPwf\n",
      "\n",
      "\n",
      "ID: 1465294976892428291\n",
      "2021-11-29 12:22:01+00:00\n",
      "@IngridTulin Está muy bien esa nota\n",
      "\n",
      "\n",
      "ID: 1465294608758419466\n",
      "2021-11-29 12:20:33+00:00\n",
      "@_Mulva jaja, para ese las variantes no hacen nada o son mejores, qué cabeza de termo\n",
      "\n",
      "\n",
      "ID: 1465170734901342210\n",
      "2021-11-29 04:08:19+00:00\n",
      "@rquiroga777 @alesitoide Yo creo que el alerta es apropiado y ojalá resulte exagerado!\n",
      "\n",
      "\n",
      "ID: 1465170376716132363\n",
      "2021-11-29 04:06:54+00:00\n",
      "@FlaviaFrejman Seguramente, 100% seguro de que es así\n",
      "\n",
      "\n",
      "ID: 1465170267119013891\n",
      "2021-11-29 04:06:27+00:00\n",
      "@juliojacobo Qué series!\n",
      "\n",
      "\n",
      "ID: 1465131023491112962\n",
      "2021-11-29 01:30:31+00:00\n",
      "@alesitoide @ZetaSole Es que tenemos la historia reciente y los sentidos hipersensibles…\n",
      "\n",
      "\n",
      "ID: 1465130810932092932\n",
      "2021-11-29 01:29:40+00:00\n",
      "@ZetaSole @alesitoide Pero es verdad que beta fue muy discutida y nunca se diseminó\n",
      "\n",
      "\n",
      "ID: 1465130601292382218\n",
      "2021-11-29 01:28:50+00:00\n",
      "@alesitoide Perdón, Spike no “delta”\n",
      "\n",
      "\n",
      "ID: 1465130361843859458\n",
      "2021-11-29 01:27:53+00:00\n",
      "@alesitoide Sí? Supongo que es posible… igual es medio lógico que con 32 mutaciones en delta nos asuste, pero todavía es tan prematuro…\n",
      "\n",
      "\n",
      "ID: 1465129977410736129\n",
      "2021-11-29 01:26:22+00:00\n",
      "@ClaudiaMdP2 😉\n",
      "\n",
      "\n",
      "ID: 1465116674168868869\n",
      "2021-11-29 00:33:30+00:00\n",
      "@eedugr Eso, sin juicio oral\n",
      "\n",
      "\n",
      "ID: 1465116324099727364\n",
      "2021-11-29 00:32:06+00:00\n",
      "James Burke el de “Connections” creo que me aprobaría.\n",
      "\n",
      "\n",
      "ID: 1465115751203885061\n",
      "2021-11-29 00:29:50+00:00\n",
      "“Presunción de culpabilidad” es el principio básico de todo prejuicio y propaganda política. También es el motivo de preocupación actual con la variante ómicron.\n",
      "\n",
      "\n",
      "ID: 1465100029362900996\n",
      "2021-11-28 23:27:21+00:00\n",
      "@MargaWirkierman Hay vuelos directos a Sudáfrica?\n",
      "\n",
      "\n",
      "ID: 1465057110341865474\n",
      "2021-11-28 20:36:49+00:00\n",
      "@diesoto Nada de esto tiene que ver con encierro, esa es otra decisión. Pero negar la gravedad del virus o variantes y negar la necesidad de vacunas no me parece respetable\n",
      "\n",
      "\n",
      "ID: 1465056743264858125\n",
      "2021-11-28 20:35:21+00:00\n",
      "@DiegolLanus Se supone que porqué Nunca suena ‘nueva’ en inglés y creaba confusión, y Xi porque es nombre común en China\n",
      "\n",
      "\n",
      "ID: 1465051968183934986\n",
      "2021-11-28 20:16:23+00:00\n",
      "@nancyls4 @DemianBellido Yo no sé qué haría si algún amigx de mis hijes no estuviera vacunado, por empezar no entra a mi casa\n",
      "\n",
      "\n",
      "ID: 1465045303682379777\n",
      "2021-11-28 19:49:54+00:00\n",
      "@sietesie @DemianBellido Qué pena que un pediatra diga eso\n",
      "\n",
      "\n",
      "ID: 1465045116205379587\n",
      "2021-11-28 19:49:09+00:00\n",
      "@damato_martin Gracias Martín\n",
      "\n",
      "\n",
      "ID: 1465022089631576072\n",
      "2021-11-28 18:17:39+00:00\n",
      "@jorgenomefui @EGODIGITAL10 @DemianBellido @rquiroga777 @ertenembaum @rialjorge @norabar @jljcolorado @JSchmukler @LeoPiccioli Esencialmente se cree que lo que no aparece en las primeras semanas no aparecerá después. Una vacuna no es como una píldora para enfermedad crónica que se toma por años y cuya acumulación puede producir efectos a largo plazo. La vacuna no dura más que unos días en el cuerpo\n",
      "\n",
      "\n",
      "ID: 1465021201395372039\n",
      "2021-11-28 18:14:07+00:00\n",
      "@Jacki13253805 si es la que pienso, menos mal\n",
      "\n",
      "\n",
      "ID: 1465020558588977164\n",
      "2021-11-28 18:11:34+00:00\n",
      "@Daniel85285494 No,no, es altamente improbable que resulten inútiles, como mucho bajará un poco la eficacia.\n",
      "\n",
      "\n",
      "ID: 1465008719163543554\n",
      "2021-11-28 17:24:31+00:00\n",
      "@silvianietos3 @gilmorebread @xime_caprile contradecime en lo que quieras\n",
      "\n",
      "\n",
      "ID: 1464998043799986182\n",
      "2021-11-28 16:42:06+00:00\n",
      "@chinosinsuper Es imposible decir eso basado en apenas unos pocos casos\n",
      "\n",
      "\n"
     ]
    }
   ],
   "source": [
    "get_user_tweets(consumer_key, consumer_secret, access_token, access_token_secret , 73102744)"
   ]
  },
  {
   "cell_type": "markdown",
   "id": "1a182860",
   "metadata": {},
   "source": [
    "**En el caso de Ernesto Resnik, su posición es a favor de la vacunación \" negar la necesidad de vacunas no me parece respetable\"**"
   ]
  },
  {
   "cell_type": "code",
   "execution_count": 67,
   "id": "5f9f8b2e",
   "metadata": {},
   "outputs": [
    {
     "name": "stdout",
     "output_type": "stream",
     "text": [
      "User id 367933714 es Rodrigo Quiroga\n",
      "Cantidad de folowers 43043\n",
      "Descripción : Bioquímico, Dr. en Cs Químicas, dedicado a la bioinformática. Docente en la FCQ-UNC. Investigador CONICET. Tuiteo sobre política, ciencia y análisis de datos.\n"
     ]
    }
   ],
   "source": [
    "desribe_user(consumer_key, consumer_secret, access_token, access_token_secret, 367933714 )"
   ]
  },
  {
   "cell_type": "code",
   "execution_count": 68,
   "id": "ed9f5137",
   "metadata": {},
   "outputs": [
    {
     "name": "stdout",
     "output_type": "stream",
     "text": [
      "ID: 1465409252940558339\n",
      "2021-11-29 19:56:06+00:00\n",
      "@juli_bg_bs @ENirenberg This effectively seems to be reporting date. Daily fluctuations are very common, with major drops in reported case numbers on weekends and sometimes also fridays. If you check downloadable NICD data, which seems to be by diagnostic date, there is no observable drop in cases.\n",
      "\n",
      "\n",
      "ID: 1465404110723862541\n",
      "2021-11-29 19:35:40+00:00\n",
      "@carlosfacciano No hace falta cerrar Ezeiza, simplemente hacer cumplir el aislamiento obligatorio de 7 días al ingresar al país.\n",
      "\n",
      "\n",
      "ID: 1465402760224980992\n",
      "2021-11-29 19:30:18+00:00\n",
      "@fdarenas @mariofitzm @infobae Pareciera que hablamos idiomas diferentes. No defendí nada, dije q es falso q \"dejaran bajar personas por error porque se confundieron donde queda Cabo Verde\", porque el viernes no existía aún la decisión administrativa que permitiera implementar restricciones para África.\n",
      "\n",
      "\n",
      "ID: 1465400524136755205\n",
      "2021-11-29 19:21:25+00:00\n",
      "@fdarenas @mariofitzm @infobae Simplemente estoy diciendo que lo que dice la nota es falsa. No tengo conocimiento sobre lo que sucedió allí.\n",
      "\n",
      "\n",
      "ID: 1465398677112033284\n",
      "2021-11-29 19:14:05+00:00\n",
      "Esto deja en claro que es absolutamente imposible que la nota sea verídica.\n",
      "\n",
      "Por otro lado, la decisión administrativa es totalmente errada. Deberíamos aplicar estos controles a todas las personas que ingresan al país, al menos por unas semanas hasta que sepamos más sobre Omicron\n",
      "\n",
      "\n",
      "ID: 1465398337897746436\n",
      "2021-11-29 19:12:44+00:00\n",
      "Acá la decisión administrativa de ayer, domingo, que toma las medidas inmigratorias para personas que provienen de África, que era imposible que se conociera y mucho menos se actuara en base a ella el viernes o sábado.\n",
      "\n",
      "https://t.co/LT0zC5QCRV\n",
      "\n",
      "\n",
      "ID: 1465397685159088128\n",
      "2021-11-29 19:10:08+00:00\n",
      "@mariofitzm @infobae Justamente, las restricciones impuestas a pasajeros provenientes de África entraron en vigencia anoche. Cómo podían saber el viernes o sábado que se iban a tomar estas medidas?\n",
      "\n",
      "\n",
      "ID: 1465395413322715143\n",
      "2021-11-29 19:01:06+00:00\n",
      "@mariofitzm @infobae Es imposible que haya habido un error el viernes o sábado, porque la decisión administrativa que impone las restricciones a los viajeros que vengan de África salió anoche.\n",
      "\n",
      "https://t.co/LT0zC5QCRV\n",
      "\n",
      "\n",
      "ID: 1465388515773005831\n",
      "2021-11-29 18:33:42+00:00\n",
      "@ENirenberg @juli_bg_bs Don´t know where this data is from, the official data downloadable here: https://t.co/Jad0O0gplS has right censoring. Perhaps your data is by date of report. This is what this data looks like, removing last two days due to censoring. https://t.co/KJpvHy7FQ7\n",
      "\n",
      "\n",
      "ID: 1465383914344751115\n",
      "2021-11-29 18:15:25+00:00\n",
      "Supuestamente el error fue el viernes, y el sábado \"se dieron cuenta del error\". FALSO. \n",
      "\n",
      "Las restricciones para pasajeros que arriban de África se publicaron anoche, domingo, en el boletín oficial.\n",
      "\n",
      "No salió sólo en Infobae, además. LN es el único que no se subió a la fake news. https://t.co/gT0UIlWdTZ\n",
      "\n",
      "\n",
      "ID: 1465376270729068561\n",
      "2021-11-29 17:45:02+00:00\n",
      "La mala leche de esta nota, encima falsa, es impresionante. https://t.co/ss1rwHwngs\n",
      "\n",
      "\n",
      "ID: 1465305837782532100\n",
      "2021-11-29 13:05:10+00:00\n",
      "@MoreAbad Acá:\n",
      "\n",
      "https://t.co/LT0zC68dJt\n",
      "\n",
      "\n",
      "ID: 1465305243801964550\n",
      "2021-11-29 13:02:48+00:00\n",
      "Ya se está detectando circulación comunitaria en países europeos. Se va a ir ampliando la lista todos los días? Claramente debe ser para todos sin importar donde estuvieron.\n",
      "\n",
      "https://t.co/OEhFfuCP9Z\n",
      "\n",
      "\n",
      "ID: 1465303972609024006\n",
      "2021-11-29 12:57:45+00:00\n",
      "@____fedez____ Circuló muchísimo por WhatsApp.\n",
      "\n",
      "\n",
      "ID: 1465276455248613383\n",
      "2021-11-29 11:08:25+00:00\n",
      "@LucasdeCandia84 Tal cuál!\n",
      "\n",
      "\n",
      "ID: 1465275697056858114\n",
      "2021-11-29 11:05:24+00:00\n",
      "@MaritaG77 @ernestorr @alesitoide Uno estimaría que sí.\n",
      "\n",
      "\n",
      "ID: 1465275209834020864\n",
      "2021-11-29 11:03:28+00:00\n",
      "Aparentemente Omicron ya circula de manera comunitaria en Escocia. Ven por qué no sirve sólo pedir aislamiento obligatorio al ingresar al país a los que estuvieron en África? https://t.co/tA0IITvEod\n",
      "\n",
      "\n",
      "ID: 1465273204784746497\n",
      "2021-11-29 10:55:30+00:00\n",
      "@nwolovick Felicitaciones Nico! Merecidísimo 👏👏👏\n",
      "\n",
      "\n",
      "ID: 1465272979613433857\n",
      "2021-11-29 10:54:36+00:00\n",
      "@dradrianrosa Si, pero también hay que hacer todo lo posible por demorar su ingreso. El tiempo es oro para seguir aplicando refuerzos y posiblemente para gestionar y aplicar un refuerzo Omicron específico si fuera posible y necesario.\n",
      "\n",
      "\n",
      "ID: 1465168212614647808\n",
      "2021-11-29 03:58:18+00:00\n",
      "No es necesario subestimar a la población. Ni pánico ni falsa seguridad. Acción preventiva, rápida y decisiva. Usemos lo que ya aprendimos! \n",
      "\n",
      "Si resulta ser falsa alarma, lo sabremos en unas semanas, no es grave. Si se confirman los temores de algunos, habremos actuado a tiempo!\n",
      "\n",
      "\n",
      "ID: 1465168208617426949\n",
      "2021-11-29 03:58:17+00:00\n",
      "*Seguir vacunando\n",
      "*Cuarentena obligatoria para todos los que regresan al país, vengan de dónde vengan\n",
      "*Continuar cuidados, ventilación y  uso de barbijos en TODO ambiente interior\n",
      "*De ser necesario, se podrían desarrollar dosis refuerzo específicas para esta variante\n",
      "\n",
      "\n",
      "ID: 1465168204364460032\n",
      "2021-11-29 03:58:16+00:00\n",
      "EMHO los que ya están convencidos de que Omicron no será un problema son tan dañinos como los alarmistas más extremos.\n",
      "\n",
      "Ambos empujan al peor curso de acción: no hacer nada. Unos porque no hace falta y los otros porque no hay nada que hacer.\n",
      "\n",
      "SABEMOS cómo enfrentar el problema:\n",
      "\n",
      "\n",
      "ID: 1465156485588074496\n",
      "2021-11-29 03:11:42+00:00\n",
      "@ibanezsoy Dice \"que provenga o haya estado en el continente africano en los últimos 14 días\".\n",
      "\n",
      "Igual es un error para mí, sin dudas debería ser para todos la cuarentena, vengan de dónde sea. https://t.co/IUdgU0Krvx\n",
      "\n",
      "\n",
      "ID: 1465155392833572864\n",
      "2021-11-29 03:07:21+00:00\n",
      "@ernestorr @alesitoide Mi preocupación no surge de las 32 mutaciones, ni del aumento increíble de casos en Sudáfrica, sino de ver ambas cosas en conjunto. Ojalá sea un exagerado.\n",
      "\n",
      "\n",
      "ID: 1465131069859151876\n",
      "2021-11-29 01:30:42+00:00\n",
      "Hay países con mala vigilancia genómica donde seguramente Omicron va a circular ampliamente previo a la primer detección de la misma.\n",
      "\n",
      "\n",
      "ID: 1465130422141009922\n",
      "2021-11-29 01:28:08+00:00\n",
      "Bien: Se vuelve a implementar cuarentena obligatoria al regresar al país.\n",
      "\n",
      "Mal: Sólo aplica a los que estuvieron en África o ciertos países.\n",
      "\n",
      "A esta altura es muy posible que Omicron ya circule en muchos países. La cuarentena debería ser para todos al regresar al país. https://t.co/JokiUS09Pb\n",
      "\n",
      "\n",
      "ID: 1465093350915198980\n",
      "2021-11-28 23:00:49+00:00\n",
      "@FachingtonG Ojalá!\n",
      "\n",
      "\n",
      "ID: 1465093068164632585\n",
      "2021-11-28 22:59:42+00:00\n",
      "@emscolnik @LibertadDoctora @carlavizzotti Más barato que cerrar las fronteras es volver a implementar cuarentena obligatoria al regresar al país con PCR al día 5, sin importar estado de vacunación.\n",
      "\n",
      "\n",
      "ID: 1465092788832382976\n",
      "2021-11-28 22:58:35+00:00\n",
      "Cuando digo que no pretendo meterle miedo a nadie, me refiero a que los datos son preliminares, y que de ninguna manera esto es directamente extrapolable a lo que puede ocurrir en países que han vacunado el triple que Sudáfrica, como nosotros. Simplemente explico la preocupación.\n",
      "\n",
      "\n",
      "ID: 1465092142892728320\n",
      "2021-11-28 22:56:01+00:00\n",
      "@gcangiano Estoy explicando por qué es importante actuar a tiempo, y por qué preocupa esta variante. \n",
      "\n",
      "Si te preocupan los más pobres, deberías dejar de negar la pandemia de una vez por todas. Los más golpeados por este virus de mierda siempre son los más pobres.\n",
      "\n",
      "\n",
      "ID: 1465091277188390916\n",
      "2021-11-28 22:52:35+00:00\n",
      "@mariajulia52 @LibertadDoctora https://t.co/3x55LZi5Hx\n",
      "\n",
      "\n",
      "ID: 1465091181612871697\n",
      "2021-11-28 22:52:12+00:00\n",
      "@LaMalaquita https://t.co/3x55LZi5Hx\n",
      "\n",
      "\n",
      "ID: 1465091077497630721\n",
      "2021-11-28 22:51:47+00:00\n",
      "@analia_alme El punto es que los casos por Delta estaban estables/controlados, y la situación cambió drásticamente con Omicron. Por eso la preocupación en todos lados.\n",
      "\n",
      "\n",
      "ID: 1465090592074047499\n",
      "2021-11-28 22:49:51+00:00\n",
      "@SGBazul Cuando extrapolé? 🤷‍♂️\n",
      "\n",
      "\n",
      "ID: 1465090280793726978\n",
      "2021-11-28 22:48:37+00:00\n",
      "@GAndreev3 Lo tengo muy presente, no estoy diciendo que algo similar vaya a ocurrir en otros lugares. El punto es que los casos por Delta estaban controlados (R&lt;=1) y explotaron con Omicron. Eso indica R de Omicron sería superior al de Delta, y por lo tanto, motivo de preocupación.\n",
      "\n",
      "\n",
      "ID: 1465089843084546051\n",
      "2021-11-28 22:46:53+00:00\n",
      "@SGBazul El primer dato es siempre el de casos. Lo demás sube siempre mucho más tarde (1-2 semanas internaciones y 2-3 semanas los fallecidos). Internaciones triplicaron en últimas dos semanas: https://t.co/8U76qOSF3i\n",
      "\n",
      "\n",
      "ID: 1465089461520371714\n",
      "2021-11-28 22:45:22+00:00\n",
      "@11Saide @MaritaG77 Ojalá sea así, pero ojo, es súper preliminar pretender evaluar letalidad/gravedad a partir de un puñado de pacientes jóvenes.\n",
      "\n",
      "https://t.co/IS9OSo8LhK\n",
      "\n",
      "\n",
      "ID: 1465089306075320326\n",
      "2021-11-28 22:44:45+00:00\n",
      "@marloscaida Ojalá sea así, pero ojo, es súper preliminar pretender evaluar letalidad/gravedad a partir de un puñado de pacientes jóvenes.\n",
      "\n",
      "https://t.co/IS9OSo8LhK\n",
      "\n",
      "\n",
      "ID: 1465073426750656512\n",
      "2021-11-28 21:41:39+00:00\n",
      "@emscolnik @LibertadDoctora Para mí es muy pronto para sacar conclusiones sobre letalidad/gravedad. El dato que hay es que las internaciones parecen haberse triplicado en dos semanas en esa misma provincia. https://t.co/VhS3eLfIrc\n",
      "\n",
      "\n",
      "ID: 1465070371036712971\n",
      "2021-11-28 21:29:30+00:00\n",
      "@ElViejoPapa_ Va a ser lo último de lo que dispongamos. Primero tendremos datos sobre transmisibilidad y evasión inmune, y recién después letalidad/gravedad.\n",
      "\n",
      "\n",
      "ID: 1465064191174365194\n",
      "2021-11-28 21:04:57+00:00\n",
      "Datos de aquí: https://t.co/k8dkIYWs7R\n",
      "\n",
      "\n",
      "ID: 1465064185776197634\n",
      "2021-11-28 21:04:56+00:00\n",
      "No pretendo alarmar ni asustar a nadie, pero para que entendamos por qué hay preocupación genuina sobre Omicron, y por qué es importante actuar, les muestro el número diario de casos en la provincia de Gauteng, Sudáfrica. Pasaron de 150 a 2600 casos diarios en 14 días. https://t.co/JDf6gUas6f\n",
      "\n",
      "\n",
      "ID: 1465028085154078725\n",
      "2021-11-28 18:41:29+00:00\n",
      "@PaloMilstein @cociclo @JSchmukler @Gus_Noriega @FantasmaQuintin No sólo lambda+gamma causaron cientos de miles de muertes en Latinoamérica sino que causaron directamente unas 70000 muertes en Argentina. \n",
      "\n",
      "Por otro lado, que Delta no causó problemas es de lo más ridículo que he leído.🤦‍♂️\n",
      "\n",
      "\n",
      "ID: 1464983780603662339\n",
      "2021-11-28 15:45:26+00:00\n",
      "@FernandaCamino Es increíble, pero cada vez hay menos dudas de que Reino Unido promovió a propósito la infección de niñes. 🤦‍♂️\n",
      "\n",
      "\n",
      "ID: 1464979666599563269\n",
      "2021-11-28 15:29:05+00:00\n",
      "Reino Unido quitó la obligatoriedad de barbijos en Julio. Ayer, como medida preventiva por la variante Omicron vuelve a ser obligatorio en negocios y transporte público.\n",
      "\n",
      "Ahora la Asociación Médica Británica recomienda extender obligatoriedad a toda actividad en interiores. https://t.co/kINgJpiDqg\n",
      "\n",
      "\n",
      "ID: 1464967209982345228\n",
      "2021-11-28 14:39:35+00:00\n",
      "@LedaDra Gracias Leda!\n",
      "\n",
      "\n",
      "ID: 1464961669520633873\n",
      "2021-11-28 14:17:34+00:00\n",
      "@DaniHozbor Coincido, es mucho más importante la reinstitución de la cuarentena obligatoria al regresar al país que la cancelación de vuelos!\n",
      "\n",
      "\n",
      "ID: 1464725880786374657\n",
      "2021-11-27 22:40:37+00:00\n",
      "@3E3__3E3 EMHO, si es temprano para concluir sobre transmisibilidad y evasión inmune, lo es muchísimo más para sacar conclusiones sobre virulencia.\n",
      "\n",
      "\n",
      "ID: 1464723913036865541\n",
      "2021-11-27 22:32:48+00:00\n",
      "@adribaran @Mery00788941 @ernestorr @cingolani_oscar @oscaratienza @Andrea_Gentil @guillerizzo @mariofitzm @JTartaglione @Dianacos @pablooesteban @gonzaeperez @mazzeiandrea @NicoOlsze @jorgeluisaliaga No neguemos la genialidad de Ernesto. 🙂\n",
      "\n",
      "\n"
     ]
    }
   ],
   "source": [
    "get_user_tweets(consumer_key, consumer_secret, access_token, access_token_secret , 367933714)"
   ]
  },
  {
   "cell_type": "markdown",
   "id": "30aefc42",
   "metadata": {},
   "source": [
    "**Rodrigo Quiroga también esta a favor de la vacunación \"*Seguir vacunando\"**"
   ]
  },
  {
   "cell_type": "code",
   "execution_count": 69,
   "id": "e92c243b",
   "metadata": {},
   "outputs": [
    {
     "name": "stderr",
     "output_type": "stream",
     "text": [
      "/usr/local/anaconda3/envs/graphML_37/lib/python3.7/site-packages/pandas/core/generic.py:4150: PerformanceWarning: dropping on a non-lexsorted multi-index without a level parameter may impact performance.\n",
      "  obj = obj._drop_axis(labels, axis, level=level, errors=errors)\n"
     ]
    },
    {
     "data": {
      "text/html": [
       "<div>\n",
       "<style scoped>\n",
       "    .dataframe tbody tr th:only-of-type {\n",
       "        vertical-align: middle;\n",
       "    }\n",
       "\n",
       "    .dataframe tbody tr th {\n",
       "        vertical-align: top;\n",
       "    }\n",
       "\n",
       "    .dataframe thead tr th {\n",
       "        text-align: left;\n",
       "    }\n",
       "</style>\n",
       "<table border=\"1\" class=\"dataframe\">\n",
       "  <thead>\n",
       "    <tr>\n",
       "      <th></th>\n",
       "      <th>user.id</th>\n",
       "      <th>id_str</th>\n",
       "    </tr>\n",
       "    <tr>\n",
       "      <th></th>\n",
       "      <th></th>\n",
       "      <th>count</th>\n",
       "    </tr>\n",
       "  </thead>\n",
       "  <tbody>\n",
       "    <tr>\n",
       "      <th>0</th>\n",
       "      <td>73102744</td>\n",
       "      <td>2195</td>\n",
       "    </tr>\n",
       "    <tr>\n",
       "      <th>1</th>\n",
       "      <td>252168075</td>\n",
       "      <td>1953</td>\n",
       "    </tr>\n",
       "    <tr>\n",
       "      <th>2</th>\n",
       "      <td>130979339</td>\n",
       "      <td>1061</td>\n",
       "    </tr>\n",
       "    <tr>\n",
       "      <th>3</th>\n",
       "      <td>2687724840</td>\n",
       "      <td>893</td>\n",
       "    </tr>\n",
       "    <tr>\n",
       "      <th>4</th>\n",
       "      <td>367933714</td>\n",
       "      <td>782</td>\n",
       "    </tr>\n",
       "    <tr>\n",
       "      <th>...</th>\n",
       "      <td>...</td>\n",
       "      <td>...</td>\n",
       "    </tr>\n",
       "    <tr>\n",
       "      <th>42232</th>\n",
       "      <td>179919209</td>\n",
       "      <td>1</td>\n",
       "    </tr>\n",
       "    <tr>\n",
       "      <th>42233</th>\n",
       "      <td>179915251</td>\n",
       "      <td>1</td>\n",
       "    </tr>\n",
       "    <tr>\n",
       "      <th>42234</th>\n",
       "      <td>179905452</td>\n",
       "      <td>1</td>\n",
       "    </tr>\n",
       "    <tr>\n",
       "      <th>42235</th>\n",
       "      <td>1797991639</td>\n",
       "      <td>1</td>\n",
       "    </tr>\n",
       "    <tr>\n",
       "      <th>42236</th>\n",
       "      <td>999847111343697921</td>\n",
       "      <td>1</td>\n",
       "    </tr>\n",
       "  </tbody>\n",
       "</table>\n",
       "<p>42237 rows × 2 columns</p>\n",
       "</div>"
      ],
      "text/plain": [
       "                  user.id id_str\n",
       "                           count\n",
       "0                73102744   2195\n",
       "1               252168075   1953\n",
       "2               130979339   1061\n",
       "3              2687724840    893\n",
       "4               367933714    782\n",
       "...                   ...    ...\n",
       "42232           179919209      1\n",
       "42233           179915251      1\n",
       "42234           179905452      1\n",
       "42235          1797991639      1\n",
       "42236  999847111343697921      1\n",
       "\n",
       "[42237 rows x 2 columns]"
      ]
     },
     "execution_count": 69,
     "metadata": {},
     "output_type": "execute_result"
    }
   ],
   "source": [
    "#grouped = df.groupby('user.id', sort=False)['user.id'].count()\n",
    "\n",
    "\n",
    "grouped = df.groupby(['user.id'] , as_index=False).agg({'id_str': ['count']})\n",
    "sorted_values = grouped.sort_values(by=[('id_str' , 'count')],ascending = False).reset_index()\n",
    "sorted_values.drop(['index'], axis = 1, inplace = True )\n",
    "sorted_values"
   ]
  },
  {
   "cell_type": "code",
   "execution_count": 70,
   "id": "6598fcd2",
   "metadata": {},
   "outputs": [
    {
     "data": {
      "text/html": [
       "<div>\n",
       "<style scoped>\n",
       "    .dataframe tbody tr th:only-of-type {\n",
       "        vertical-align: middle;\n",
       "    }\n",
       "\n",
       "    .dataframe tbody tr th {\n",
       "        vertical-align: top;\n",
       "    }\n",
       "\n",
       "    .dataframe thead tr th {\n",
       "        text-align: left;\n",
       "    }\n",
       "</style>\n",
       "<table border=\"1\" class=\"dataframe\">\n",
       "  <thead>\n",
       "    <tr>\n",
       "      <th></th>\n",
       "      <th>user.id</th>\n",
       "      <th>id_str</th>\n",
       "    </tr>\n",
       "    <tr>\n",
       "      <th></th>\n",
       "      <th></th>\n",
       "      <th>count</th>\n",
       "    </tr>\n",
       "  </thead>\n",
       "  <tbody>\n",
       "    <tr>\n",
       "      <th>1</th>\n",
       "      <td>252168075</td>\n",
       "      <td>1953</td>\n",
       "    </tr>\n",
       "  </tbody>\n",
       "</table>\n",
       "</div>"
      ],
      "text/plain": [
       "     user.id id_str\n",
       "              count\n",
       "1  252168075   1953"
      ]
     },
     "execution_count": 70,
     "metadata": {},
     "output_type": "execute_result"
    }
   ],
   "source": [
    "sorted_values[sorted_values['user.id'] == '252168075' ]"
   ]
  },
  {
   "cell_type": "code",
   "execution_count": 71,
   "id": "a6227fb0",
   "metadata": {},
   "outputs": [
    {
     "data": {
      "text/html": [
       "<div>\n",
       "<style scoped>\n",
       "    .dataframe tbody tr th:only-of-type {\n",
       "        vertical-align: middle;\n",
       "    }\n",
       "\n",
       "    .dataframe tbody tr th {\n",
       "        vertical-align: top;\n",
       "    }\n",
       "\n",
       "    .dataframe thead tr th {\n",
       "        text-align: left;\n",
       "    }\n",
       "</style>\n",
       "<table border=\"1\" class=\"dataframe\">\n",
       "  <thead>\n",
       "    <tr>\n",
       "      <th></th>\n",
       "      <th>user.id</th>\n",
       "      <th>id_str</th>\n",
       "    </tr>\n",
       "    <tr>\n",
       "      <th></th>\n",
       "      <th></th>\n",
       "      <th>count</th>\n",
       "    </tr>\n",
       "  </thead>\n",
       "  <tbody>\n",
       "    <tr>\n",
       "      <th>2</th>\n",
       "      <td>130979339</td>\n",
       "      <td>1061</td>\n",
       "    </tr>\n",
       "  </tbody>\n",
       "</table>\n",
       "</div>"
      ],
      "text/plain": [
       "     user.id id_str\n",
       "              count\n",
       "2  130979339   1061"
      ]
     },
     "execution_count": 71,
     "metadata": {},
     "output_type": "execute_result"
    }
   ],
   "source": [
    "\n",
    "sorted_values[sorted_values['user.id'] == '130979339' ]"
   ]
  },
  {
   "cell_type": "code",
   "execution_count": 72,
   "id": "d65d9b23",
   "metadata": {},
   "outputs": [
    {
     "data": {
      "text/html": [
       "<div>\n",
       "<style scoped>\n",
       "    .dataframe tbody tr th:only-of-type {\n",
       "        vertical-align: middle;\n",
       "    }\n",
       "\n",
       "    .dataframe tbody tr th {\n",
       "        vertical-align: top;\n",
       "    }\n",
       "\n",
       "    .dataframe thead tr th {\n",
       "        text-align: left;\n",
       "    }\n",
       "</style>\n",
       "<table border=\"1\" class=\"dataframe\">\n",
       "  <thead>\n",
       "    <tr>\n",
       "      <th></th>\n",
       "      <th>user.id</th>\n",
       "      <th>id_str</th>\n",
       "    </tr>\n",
       "    <tr>\n",
       "      <th></th>\n",
       "      <th></th>\n",
       "      <th>count</th>\n",
       "    </tr>\n",
       "  </thead>\n",
       "  <tbody>\n",
       "    <tr>\n",
       "      <th>0</th>\n",
       "      <td>73102744</td>\n",
       "      <td>2195</td>\n",
       "    </tr>\n",
       "  </tbody>\n",
       "</table>\n",
       "</div>"
      ],
      "text/plain": [
       "    user.id id_str\n",
       "             count\n",
       "0  73102744   2195"
      ]
     },
     "execution_count": 72,
     "metadata": {},
     "output_type": "execute_result"
    }
   ],
   "source": [
    "\n",
    "sorted_values[sorted_values['user.id'] == '73102744' ]"
   ]
  },
  {
   "cell_type": "code",
   "execution_count": 73,
   "id": "dabe1178",
   "metadata": {},
   "outputs": [
    {
     "data": {
      "text/html": [
       "<div>\n",
       "<style scoped>\n",
       "    .dataframe tbody tr th:only-of-type {\n",
       "        vertical-align: middle;\n",
       "    }\n",
       "\n",
       "    .dataframe tbody tr th {\n",
       "        vertical-align: top;\n",
       "    }\n",
       "\n",
       "    .dataframe thead tr th {\n",
       "        text-align: left;\n",
       "    }\n",
       "</style>\n",
       "<table border=\"1\" class=\"dataframe\">\n",
       "  <thead>\n",
       "    <tr>\n",
       "      <th></th>\n",
       "      <th>user.id</th>\n",
       "      <th>id_str</th>\n",
       "    </tr>\n",
       "    <tr>\n",
       "      <th></th>\n",
       "      <th></th>\n",
       "      <th>count</th>\n",
       "    </tr>\n",
       "  </thead>\n",
       "  <tbody>\n",
       "    <tr>\n",
       "      <th>14312</th>\n",
       "      <td>105301854</td>\n",
       "      <td>2</td>\n",
       "    </tr>\n",
       "  </tbody>\n",
       "</table>\n",
       "</div>"
      ],
      "text/plain": [
       "         user.id id_str\n",
       "                  count\n",
       "14312  105301854      2"
      ]
     },
     "execution_count": 73,
     "metadata": {},
     "output_type": "execute_result"
    }
   ],
   "source": [
    "sorted_values[sorted_values['user.id'] == '105301854' ]"
   ]
  },
  {
   "cell_type": "code",
   "execution_count": 74,
   "id": "189d5942",
   "metadata": {},
   "outputs": [
    {
     "data": {
      "text/html": [
       "<div>\n",
       "<style scoped>\n",
       "    .dataframe tbody tr th:only-of-type {\n",
       "        vertical-align: middle;\n",
       "    }\n",
       "\n",
       "    .dataframe tbody tr th {\n",
       "        vertical-align: top;\n",
       "    }\n",
       "\n",
       "    .dataframe thead tr th {\n",
       "        text-align: left;\n",
       "    }\n",
       "</style>\n",
       "<table border=\"1\" class=\"dataframe\">\n",
       "  <thead>\n",
       "    <tr>\n",
       "      <th></th>\n",
       "      <th>user.id</th>\n",
       "      <th>id_str</th>\n",
       "    </tr>\n",
       "    <tr>\n",
       "      <th></th>\n",
       "      <th></th>\n",
       "      <th>count</th>\n",
       "    </tr>\n",
       "  </thead>\n",
       "  <tbody>\n",
       "    <tr>\n",
       "      <th>4</th>\n",
       "      <td>367933714</td>\n",
       "      <td>782</td>\n",
       "    </tr>\n",
       "  </tbody>\n",
       "</table>\n",
       "</div>"
      ],
      "text/plain": [
       "     user.id id_str\n",
       "              count\n",
       "4  367933714    782"
      ]
     },
     "execution_count": 74,
     "metadata": {},
     "output_type": "execute_result"
    }
   ],
   "source": [
    "\n",
    "sorted_values[sorted_values['user.id'] == '367933714' ]"
   ]
  },
  {
   "cell_type": "markdown",
   "id": "d310abe3",
   "metadata": {},
   "source": [
    "### Opcional: Determinar si existe alguna correlación entre la centralidad de un nodo y su actividad en red social. Es decir, evaluar si los usuarios que más escriben son los más centrales o no."
   ]
  },
  {
   "cell_type": "markdown",
   "id": "a3d105e2",
   "metadata": {},
   "source": [
    "**En el caso de Ernesto Resnik (73102744) , Nora Bär (130979339) , Sandra Pitta (252168075),   Rodrigo Quiroga (367933714), existe correlación entre la centralidad y su actividad en la red social. Se podria hacer un análisis sobre los siguientes 20 / 30 usuarios como para ver si se sigue cumpliendo esta relación. En mi caso evalué los 5 primeros. El caso que no tiene correlación entre estos 5 primeros es Resiliencia0 (105301854) que tiene buenas métricas de centralidad, pero no se refleja en su actividad en la red. Se nota también que tiene un número menor de followers comparado con el resto de los analisados**"
   ]
  },
  {
   "cell_type": "code",
   "execution_count": 75,
   "id": "4ef6b7e6",
   "metadata": {},
   "outputs": [],
   "source": [
    "#!conda install -y -c conda-forge networkit "
   ]
  },
  {
   "cell_type": "code",
   "execution_count": 76,
   "id": "835500fa",
   "metadata": {},
   "outputs": [],
   "source": [
    "#!conda install -y -c conda-forge tabulate "
   ]
  },
  {
   "cell_type": "code",
   "execution_count": 77,
   "id": "f009a6fc",
   "metadata": {},
   "outputs": [
    {
     "data": {
      "text/html": [
       "\n",
       "\t\t\t<script type=\"text/javascript\">\n",
       "\t\t\t<!--\n",
       "\t\t\t\t\n",
       "\t\t\t{\n",
       "\t\t\t\tvar element = document.getElementById('NetworKit_script');\n",
       "\t\t\t\tif (element) {\n",
       "\t\t\t\t\telement.parentNode.removeChild(element);\n",
       "\t\t\t\t}\n",
       "\t\t\t\telement = document.createElement('script');\n",
       "\t\t\t\telement.type = 'text/javascript';\n",
       "\t\t\t\telement.innerHTML = 'function NetworKit_pageEmbed(id) { var i, j; var elements; elements = document.getElementById(id).getElementsByClassName(\"Plot\"); for (i=0; i<elements.length; i++) { elements[i].id = id + \"_Plot_\" + i; var data = elements[i].getAttribute(\"data-image\").split(\"|\"); elements[i].removeAttribute(\"data-image\"); var content = \"<div class=\\\\\"Image\\\\\" id=\\\\\"\" + elements[i].id + \"_Image\\\\\" />\"; elements[i].innerHTML = content; elements[i].setAttribute(\"data-image-index\", 0); elements[i].setAttribute(\"data-image-length\", data.length); for (j=0; j<data.length; j++) { elements[i].setAttribute(\"data-image-\" + j, data[j]); } NetworKit_plotUpdate(elements[i]); elements[i].onclick = function (e) { NetworKit_overlayShow((e.target) ? e.target : e.srcElement); } } elements = document.getElementById(id).getElementsByClassName(\"HeatCell\"); for (i=0; i<elements.length; i++) { var data = parseFloat(elements[i].getAttribute(\"data-heat\")); var color = \"#00FF00\"; if (data <= 1 && data > 0) { color = \"hsla(0, 100%, 75%, \" + (data) + \")\"; } else if (data <= 0 && data >= -1) { color = \"hsla(240, 100%, 75%, \" + (-data) + \")\"; } elements[i].style.backgroundColor = color; } elements = document.getElementById(id).getElementsByClassName(\"Details\"); for (i=0; i<elements.length; i++) { elements[i].setAttribute(\"data-title\", \"-\"); NetworKit_toggleDetails(elements[i]); elements[i].onclick = function (e) { NetworKit_toggleDetails((e.target) ? e.target : e.srcElement); } } elements = document.getElementById(id).getElementsByClassName(\"MathValue\"); for (i=elements.length-1; i>=0; i--) { value = elements[i].innerHTML.trim(); if (value === \"nan\") { elements[i].parentNode.innerHTML = \"\" } } elements = document.getElementById(id).getElementsByClassName(\"SubCategory\"); for (i=elements.length-1; i>=0; i--) { value = elements[i].innerHTML.trim(); if (value === \"\") { elements[i].parentNode.removeChild(elements[i]) } } elements = document.getElementById(id).getElementsByClassName(\"Category\"); for (i=elements.length-1; i>=0; i--) { value = elements[i].innerHTML.trim(); if (value === \"\") { elements[i].parentNode.removeChild(elements[i]) } } var isFirefox = false; try { isFirefox = typeof InstallTrigger !== \"undefined\"; } catch (e) {} if (!isFirefox) { alert(\"Currently the function\\'s output is only fully supported by Firefox.\"); } } function NetworKit_plotUpdate(source) { var index = source.getAttribute(\"data-image-index\"); var data = source.getAttribute(\"data-image-\" + index); var image = document.getElementById(source.id + \"_Image\"); image.style.backgroundImage = \"url(\" + data + \")\"; } function NetworKit_showElement(id, show) { var element = document.getElementById(id); element.style.display = (show) ? \"block\" : \"none\"; } function NetworKit_overlayShow(source) { NetworKit_overlayUpdate(source); NetworKit_showElement(\"NetworKit_Overlay\", true); } function NetworKit_overlayUpdate(source) { document.getElementById(\"NetworKit_Overlay_Title\").innerHTML = source.title; var index = source.getAttribute(\"data-image-index\"); var data = source.getAttribute(\"data-image-\" + index); var image = document.getElementById(\"NetworKit_Overlay_Image\"); image.setAttribute(\"data-id\", source.id); image.style.backgroundImage = \"url(\" + data + \")\"; var link = document.getElementById(\"NetworKit_Overlay_Toolbar_Bottom_Save\"); link.href = data; link.download = source.title + \".svg\"; } function NetworKit_overlayImageShift(delta) { var image = document.getElementById(\"NetworKit_Overlay_Image\"); var source = document.getElementById(image.getAttribute(\"data-id\")); var index = parseInt(source.getAttribute(\"data-image-index\")); var length = parseInt(source.getAttribute(\"data-image-length\")); var index = (index+delta) % length; if (index < 0) { index = length + index; } source.setAttribute(\"data-image-index\", index); NetworKit_overlayUpdate(source); } function NetworKit_toggleDetails(source) { var childs = source.children; var show = false; if (source.getAttribute(\"data-title\") == \"-\") { source.setAttribute(\"data-title\", \"+\"); show = false; } else { source.setAttribute(\"data-title\", \"-\"); show = true; } for (i=0; i<childs.length; i++) { if (show) { childs[i].style.display = \"block\"; } else { childs[i].style.display = \"none\"; } } }';\n",
       "\t\t\t\telement.setAttribute('id', 'NetworKit_script');\n",
       "\t\t\t\tdocument.head.appendChild(element);\n",
       "\t\t\t}\n",
       "\t\t\n",
       "\t\t\t\t\n",
       "\t\t\t{\n",
       "\t\t\t\tvar element = document.getElementById('NetworKit_style');\n",
       "\t\t\t\tif (element) {\n",
       "\t\t\t\t\telement.parentNode.removeChild(element);\n",
       "\t\t\t\t}\n",
       "\t\t\t\telement = document.createElement('style');\n",
       "\t\t\t\telement.type = 'text/css';\n",
       "\t\t\t\telement.innerHTML = '.NetworKit_Page { font-family: Arial, Helvetica, sans-serif; font-size: 14px; } .NetworKit_Page .Value:before { font-family: Arial, Helvetica, sans-serif; font-size: 1.05em; content: attr(data-title) \":\"; margin-left: -2.5em; padding-right: 0.5em; } .NetworKit_Page .Details .Value:before { display: block; } .NetworKit_Page .Value { font-family: monospace; white-space: pre; padding-left: 2.5em; white-space: -moz-pre-wrap !important; white-space: -pre-wrap; white-space: -o-pre-wrap; white-space: pre-wrap; word-wrap: break-word; tab-size: 4; -moz-tab-size: 4; } .NetworKit_Page .Category { clear: both; padding-left: 1em; margin-bottom: 1.5em; } .NetworKit_Page .Category:before { content: attr(data-title); font-size: 1.75em; display: block; margin-left: -0.8em; margin-bottom: 0.5em; } .NetworKit_Page .SubCategory { margin-bottom: 1.5em; padding-left: 1em; } .NetworKit_Page .SubCategory:before { font-size: 1.6em; display: block; margin-left: -0.8em; margin-bottom: 0.5em; } .NetworKit_Page .SubCategory[data-title]:before { content: attr(data-title); } .NetworKit_Page .Block { display: block; } .NetworKit_Page .Block:after { content: \".\"; visibility: hidden; display: block; height: 0; clear: both; } .NetworKit_Page .Block .Thumbnail_Overview, .NetworKit_Page .Block .Thumbnail_ScatterPlot { width: 260px; float: left; } .NetworKit_Page .Block .Thumbnail_Overview img, .NetworKit_Page .Block .Thumbnail_ScatterPlot img { width: 260px; } .NetworKit_Page .Block .Thumbnail_Overview:before, .NetworKit_Page .Block .Thumbnail_ScatterPlot:before { display: block; text-align: center; font-weight: bold; } .NetworKit_Page .Block .Thumbnail_Overview:before { content: attr(data-title); } .NetworKit_Page .HeatCell { font-family: \"Courier New\", Courier, monospace; cursor: pointer; } .NetworKit_Page .HeatCell, .NetworKit_Page .HeatCellName { display: inline; padding: 0.1em; margin-right: 2px; background-color: #FFFFFF } .NetworKit_Page .HeatCellName { margin-left: 0.25em; } .NetworKit_Page .HeatCell:before { content: attr(data-heat); display: inline-block; color: #000000; width: 4em; text-align: center; } .NetworKit_Page .Measure { clear: both; } .NetworKit_Page .Measure .Details { cursor: pointer; } .NetworKit_Page .Measure .Details:before { content: \"[\" attr(data-title) \"]\"; display: block; } .NetworKit_Page .Measure .Details .Value { border-left: 1px dotted black; margin-left: 0.4em; padding-left: 3.5em; pointer-events: none; } .NetworKit_Page .Measure .Details .Spacer:before { content: \".\"; opacity: 0.0; pointer-events: none; } .NetworKit_Page .Measure .Plot { width: 440px; height: 440px; cursor: pointer; float: left; margin-left: -0.9em; margin-right: 20px; } .NetworKit_Page .Measure .Plot .Image { background-repeat: no-repeat; background-position: center center; background-size: contain; height: 100%; pointer-events: none; } .NetworKit_Page .Measure .Stat { width: 500px; float: left; } .NetworKit_Page .Measure .Stat .Group { padding-left: 1.25em; margin-bottom: 0.75em; } .NetworKit_Page .Measure .Stat .Group .Title { font-size: 1.1em; display: block; margin-bottom: 0.3em; margin-left: -0.75em; border-right-style: dotted; border-right-width: 1px; border-bottom-style: dotted; border-bottom-width: 1px; background-color: #D0D0D0; padding-left: 0.2em; } .NetworKit_Page .Measure .Stat .Group .List { -webkit-column-count: 3; -moz-column-count: 3; column-count: 3; } .NetworKit_Page .Measure .Stat .Group .List .Entry { position: relative; line-height: 1.75em; } .NetworKit_Page .Measure .Stat .Group .List .Entry[data-tooltip]:before { position: absolute; left: 0; top: -40px; background-color: #808080; color: #ffffff; height: 30px; line-height: 30px; border-radius: 5px; padding: 0 15px; content: attr(data-tooltip); white-space: nowrap; display: none; } .NetworKit_Page .Measure .Stat .Group .List .Entry[data-tooltip]:after { position: absolute; left: 15px; top: -10px; border-top: 7px solid #808080; border-left: 7px solid transparent; border-right: 7px solid transparent; content: \"\"; display: none; } .NetworKit_Page .Measure .Stat .Group .List .Entry[data-tooltip]:hover:after, .NetworKit_Page .Measure .Stat .Group .List .Entry[data-tooltip]:hover:before { display: block; } .NetworKit_Page .Measure .Stat .Group .List .Entry .MathValue { font-family: \"Courier New\", Courier, monospace; } .NetworKit_Page .Measure:after { content: \".\"; visibility: hidden; display: block; height: 0; clear: both; } .NetworKit_Page .PartitionPie { clear: both; } .NetworKit_Page .PartitionPie img { width: 600px; } #NetworKit_Overlay { left: 0px; top: 0px; display: none; position: absolute; width: 100%; height: 100%; background-color: rgba(0,0,0,0.6); z-index: 1000; } #NetworKit_Overlay_Title { position: absolute; color: white; transform: rotate(-90deg); width: 32em; height: 32em; padding-right: 0.5em; padding-top: 0.5em; text-align: right; font-size: 40px; } #NetworKit_Overlay .button { background: white; cursor: pointer; } #NetworKit_Overlay .button:before { size: 13px; display: inline-block; text-align: center; margin-top: 0.5em; margin-bottom: 0.5em; width: 1.5em; height: 1.5em; } #NetworKit_Overlay .icon-close:before { content: \"X\"; } #NetworKit_Overlay .icon-previous:before { content: \"P\"; } #NetworKit_Overlay .icon-next:before { content: \"N\"; } #NetworKit_Overlay .icon-save:before { content: \"S\"; } #NetworKit_Overlay_Toolbar_Top, #NetworKit_Overlay_Toolbar_Bottom { position: absolute; width: 40px; right: 13px; text-align: right; z-index: 1100; } #NetworKit_Overlay_Toolbar_Top { top: 0.5em; } #NetworKit_Overlay_Toolbar_Bottom { Bottom: 0.5em; } #NetworKit_Overlay_ImageContainer { position: absolute; top: 5%; left: 5%; height: 90%; width: 90%; background-repeat: no-repeat; background-position: center center; background-size: contain; } #NetworKit_Overlay_Image { height: 100%; width: 100%; background-repeat: no-repeat; background-position: center center; background-size: contain; }';\n",
       "\t\t\t\telement.setAttribute('id', 'NetworKit_style');\n",
       "\t\t\t\tdocument.head.appendChild(element);\n",
       "\t\t\t}\n",
       "\t\t\n",
       "\t\t\t\t\n",
       "\t\t\t{\n",
       "\t\t\t\tvar element = document.getElementById('NetworKit_Overlay');\n",
       "\t\t\t\tif (element) {\n",
       "\t\t\t\t\telement.parentNode.removeChild(element);\n",
       "\t\t\t\t}\n",
       "\t\t\t\telement = document.createElement('div');\n",
       "\t\t\t\telement.innerHTML = '<div id=\"NetworKit_Overlay_Toolbar_Top\"><div class=\"button icon-close\" id=\"NetworKit_Overlay_Close\" /></div><div id=\"NetworKit_Overlay_Title\" /> <div id=\"NetworKit_Overlay_ImageContainer\"> <div id=\"NetworKit_Overlay_Image\" /> </div> <div id=\"NetworKit_Overlay_Toolbar_Bottom\"> <div class=\"button icon-previous\" onclick=\"NetworKit_overlayImageShift(-1)\" /> <div class=\"button icon-next\" onclick=\"NetworKit_overlayImageShift(1)\" /> <a id=\"NetworKit_Overlay_Toolbar_Bottom_Save\"><div class=\"button icon-save\" /></a> </div>';\n",
       "\t\t\t\telement.setAttribute('id', 'NetworKit_Overlay');\n",
       "\t\t\t\tdocument.body.appendChild(element);\n",
       "\t\t\t\tdocument.getElementById('NetworKit_Overlay_Close').onclick = function (e) {\n",
       "\t\t\t\t\tdocument.getElementById('NetworKit_Overlay').style.display = 'none';\n",
       "\t\t\t\t}\n",
       "\t\t\t}\n",
       "\t\t\n",
       "\t\t\t-->\n",
       "\t\t\t</script>\n",
       "\t\t"
      ]
     },
     "metadata": {},
     "output_type": "display_data"
    }
   ],
   "source": [
    "import networkit as nk"
   ]
  },
  {
   "cell_type": "code",
   "execution_count": 78,
   "id": "cb738080",
   "metadata": {},
   "outputs": [
    {
     "name": "stdout",
     "output_type": "stream",
     "text": [
      " Cantidad de nodos 39800\n",
      " Cantidad de links 93404\n"
     ]
    }
   ],
   "source": [
    "g_nk = nk.nxadapter.nx2nk(G)\n",
    "\n",
    "print (f\" Cantidad de nodos {g_nk.numberOfNodes()}\")\n",
    "print (f\" Cantidad de links {g_nk.numberOfEdges()}\")\n"
   ]
  },
  {
   "cell_type": "code",
   "execution_count": 79,
   "id": "97c6c4b7",
   "metadata": {},
   "outputs": [
    {
     "name": "stdout",
     "output_type": "stream",
     "text": [
      "CPU times: user 10 µs, sys: 5 µs, total: 15 µs\n",
      "Wall time: 18.4 µs\n"
     ]
    }
   ],
   "source": [
    "%time btwn = nk.centrality.Betweenness(g_nk)\n"
   ]
  },
  {
   "cell_type": "code",
   "execution_count": 80,
   "id": "2d0a80eb",
   "metadata": {},
   "outputs": [
    {
     "name": "stdout",
     "output_type": "stream",
     "text": [
      "CPU times: user 35min 34s, sys: 3min 5s, total: 38min 40s\n",
      "Wall time: 2min 32s\n"
     ]
    },
    {
     "data": {
      "text/plain": [
       "<networkit.centrality.Betweenness at 0x7f9079537f90>"
      ]
     },
     "execution_count": 80,
     "metadata": {},
     "output_type": "execute_result"
    }
   ],
   "source": [
    "%time btwn.run()"
   ]
  },
  {
   "cell_type": "markdown",
   "id": "0ccb2c4d",
   "metadata": {},
   "source": [
    "**Realice un calculo de betweeneess con Netorkit y si bien, se nota un uso mas intensivo de núcleos de la CPU, la duración total del calculo es casi el doble que usando igraph**"
   ]
  },
  {
   "cell_type": "markdown",
   "id": "2a97eef9",
   "metadata": {},
   "source": [
    "## **3. Comunidades**\n",
    "\n",
    "Utilizar el algoritmo de Louvain con el parámetro \"resolución\" igual a 1. Caracterizar las comunidades halladas (cantidad, distribución de tamaños). Utilizar la modularidad y otras dos métricas a elección para evaluar la calidad de la partición encontrada. \n",
    "\n",
    "Variar el parámetro \"resolución\" y observar cómo cambia la distribución de comunidades encontradas. ¿Existe algún valor para el cual se identifiquen dos grandes comunidades?\n",
    "\n",
    "Elegir otro algoritmo de detección de comunidades y comparar los resultados con los obtenidos anteriormente.\n",
    "\n",
    "**Opcional:** Correr el algoritmo de Louvain con distintas semillas aleatorias. Utilizar alguna métrica de comparación externa entre las particiones obtenidas para determinar en qué medida depende el algoritmo de la condición inicial."
   ]
  },
  {
   "cell_type": "markdown",
   "id": "2f93ad27",
   "metadata": {},
   "source": [
    "**Utilizamos el algoritmo de Louvain (PLM de Networkit)  con diferentes resoluciones\n",
    "Usamos networkit para usar otra libreria y poder hacer experiencia**"
   ]
  },
  {
   "cell_type": "code",
   "execution_count": 81,
   "id": "51ba958a",
   "metadata": {
    "scrolled": true
   },
   "outputs": [
    {
     "name": "stdout",
     "output_type": "stream",
     "text": [
      "Communities detected in 0.08719 [s]\n",
      "solution properties:\n",
      "-------------------  -----------\n",
      "# communities         351\n",
      "min community size      1\n",
      "max community size   7899\n",
      "avg. community size   113.39\n",
      "modularity              0.585291\n",
      "-------------------  -----------\n"
     ]
    }
   ],
   "source": [
    "plmCommunities_1 = nk.community.detectCommunities(g_nk, algo=nk.community.PLM(G = g_nk, refine = True , gamma = 1))"
   ]
  },
  {
   "cell_type": "code",
   "execution_count": 82,
   "id": "c4feb74d",
   "metadata": {},
   "outputs": [],
   "source": [
    "def get_communidades(communities):\n",
    "\n",
    "    \n",
    "    values = []\n",
    "\n",
    "    for index in range(communities.numberOfSubsets()):\n",
    "\n",
    "\n",
    "        values.append([communities.getMembers(index) , len(communities.getMembers(index)) ])\n",
    "        df = pd.DataFrame(values, columns = [ 'miembros' , 'cantidad'])\n",
    "\n",
    "    return df"
   ]
  },
  {
   "cell_type": "code",
   "execution_count": 83,
   "id": "2151f6bd",
   "metadata": {},
   "outputs": [
    {
     "data": {
      "text/html": [
       "<div>\n",
       "<style scoped>\n",
       "    .dataframe tbody tr th:only-of-type {\n",
       "        vertical-align: middle;\n",
       "    }\n",
       "\n",
       "    .dataframe tbody tr th {\n",
       "        vertical-align: top;\n",
       "    }\n",
       "\n",
       "    .dataframe thead th {\n",
       "        text-align: right;\n",
       "    }\n",
       "</style>\n",
       "<table border=\"1\" class=\"dataframe\">\n",
       "  <thead>\n",
       "    <tr style=\"text-align: right;\">\n",
       "      <th></th>\n",
       "      <th>miembros</th>\n",
       "      <th>cantidad</th>\n",
       "    </tr>\n",
       "  </thead>\n",
       "  <tbody>\n",
       "    <tr>\n",
       "      <th>1</th>\n",
       "      <td>{32775, 10, 11, 12, 13, 14, 16, 18, 19, 20, 21...</td>\n",
       "      <td>7899</td>\n",
       "    </tr>\n",
       "    <tr>\n",
       "      <th>0</th>\n",
       "      <td>{0, 1, 2, 3, 4, 5, 6, 7, 8, 9, 32781, 32782, 1...</td>\n",
       "      <td>6552</td>\n",
       "    </tr>\n",
       "    <tr>\n",
       "      <th>4</th>\n",
       "      <td>{32773, 32774, 32793, 92, 104, 105, 32880, 328...</td>\n",
       "      <td>6465</td>\n",
       "    </tr>\n",
       "    <tr>\n",
       "      <th>3</th>\n",
       "      <td>{32786, 32787, 32788, 32789, 32790, 32791, 327...</td>\n",
       "      <td>6316</td>\n",
       "    </tr>\n",
       "    <tr>\n",
       "      <th>5</th>\n",
       "      <td>{8192, 26702, 32777, 24586, 32778, 32779, 3278...</td>\n",
       "      <td>3550</td>\n",
       "    </tr>\n",
       "    <tr>\n",
       "      <th>7</th>\n",
       "      <td>{32768, 32769, 8194, 32770, 32771, 32772, 3277...</td>\n",
       "      <td>3399</td>\n",
       "    </tr>\n",
       "    <tr>\n",
       "      <th>6</th>\n",
       "      <td>{24576, 24577, 24578, 24579, 24580, 24581, 245...</td>\n",
       "      <td>2817</td>\n",
       "    </tr>\n",
       "    <tr>\n",
       "      <th>2</th>\n",
       "      <td>{10240, 10241, 10242, 30720, 30721, 30722, 307...</td>\n",
       "      <td>746</td>\n",
       "    </tr>\n",
       "    <tr>\n",
       "      <th>13</th>\n",
       "      <td>{33793, 29722, 33794, 33795, 33796, 33797, 337...</td>\n",
       "      <td>247</td>\n",
       "    </tr>\n",
       "    <tr>\n",
       "      <th>35</th>\n",
       "      <td>{20190, 27381, 7208, 20191, 20192, 20193, 2019...</td>\n",
       "      <td>213</td>\n",
       "    </tr>\n",
       "  </tbody>\n",
       "</table>\n",
       "</div>"
      ],
      "text/plain": [
       "                                             miembros  cantidad\n",
       "1   {32775, 10, 11, 12, 13, 14, 16, 18, 19, 20, 21...      7899\n",
       "0   {0, 1, 2, 3, 4, 5, 6, 7, 8, 9, 32781, 32782, 1...      6552\n",
       "4   {32773, 32774, 32793, 92, 104, 105, 32880, 328...      6465\n",
       "3   {32786, 32787, 32788, 32789, 32790, 32791, 327...      6316\n",
       "5   {8192, 26702, 32777, 24586, 32778, 32779, 3278...      3550\n",
       "7   {32768, 32769, 8194, 32770, 32771, 32772, 3277...      3399\n",
       "6   {24576, 24577, 24578, 24579, 24580, 24581, 245...      2817\n",
       "2   {10240, 10241, 10242, 30720, 30721, 30722, 307...       746\n",
       "13  {33793, 29722, 33794, 33795, 33796, 33797, 337...       247\n",
       "35  {20190, 27381, 7208, 20191, 20192, 20193, 2019...       213"
      ]
     },
     "execution_count": 83,
     "metadata": {},
     "output_type": "execute_result"
    }
   ],
   "source": [
    "df = get_communidades(plmCommunities_1)\n",
    "sorted_df = df.sort_values(axis=0, by=['cantidad'] , ascending=False)\n",
    "sorted_df[:10]"
   ]
  },
  {
   "cell_type": "code",
   "execution_count": 84,
   "id": "1ac5d307",
   "metadata": {},
   "outputs": [
    {
     "name": "stdout",
     "output_type": "stream",
     "text": [
      "Communities detected in 0.10289 [s]\n",
      "solution properties:\n",
      "-------------------  ------------\n",
      "# communities          334\n",
      "min community size       1\n",
      "max community size   22623\n",
      "avg. community size    119.162\n",
      "modularity               0.504972\n",
      "-------------------  ------------\n"
     ]
    }
   ],
   "source": [
    "plmCommunities_05 = nk.community.detectCommunities(g_nk, algo=nk.community.PLM(G = g_nk, refine = True , gamma = 0.3))"
   ]
  },
  {
   "cell_type": "code",
   "execution_count": 85,
   "id": "0647e19f",
   "metadata": {},
   "outputs": [
    {
     "data": {
      "text/html": [
       "<div>\n",
       "<style scoped>\n",
       "    .dataframe tbody tr th:only-of-type {\n",
       "        vertical-align: middle;\n",
       "    }\n",
       "\n",
       "    .dataframe tbody tr th {\n",
       "        vertical-align: top;\n",
       "    }\n",
       "\n",
       "    .dataframe thead th {\n",
       "        text-align: right;\n",
       "    }\n",
       "</style>\n",
       "<table border=\"1\" class=\"dataframe\">\n",
       "  <thead>\n",
       "    <tr style=\"text-align: right;\">\n",
       "      <th></th>\n",
       "      <th>miembros</th>\n",
       "      <th>cantidad</th>\n",
       "    </tr>\n",
       "  </thead>\n",
       "  <tbody>\n",
       "    <tr>\n",
       "      <th>1</th>\n",
       "      <td>{87, 88, 89, 90, 91, 92, 93, 94, 95, 96, 97, 9...</td>\n",
       "      <td>22623</td>\n",
       "    </tr>\n",
       "    <tr>\n",
       "      <th>0</th>\n",
       "      <td>{0, 1, 2, 3, 4, 5, 6, 7, 8, 9, 10, 11, 12, 13,...</td>\n",
       "      <td>15604</td>\n",
       "    </tr>\n",
       "    <tr>\n",
       "      <th>24</th>\n",
       "      <td>{27381, 7208, 20191, 20192, 20193, 20198, 2019...</td>\n",
       "      <td>189</td>\n",
       "    </tr>\n",
       "    <tr>\n",
       "      <th>4</th>\n",
       "      <td>{15881, 15882, 15883, 15884, 15885, 15886, 158...</td>\n",
       "      <td>166</td>\n",
       "    </tr>\n",
       "    <tr>\n",
       "      <th>34</th>\n",
       "      <td>{9318, 9319, 9320, 9321, 9322, 29978, 29979, 2...</td>\n",
       "      <td>106</td>\n",
       "    </tr>\n",
       "    <tr>\n",
       "      <th>18</th>\n",
       "      <td>{26633, 26634, 26635, 26636, 26637, 26638, 266...</td>\n",
       "      <td>85</td>\n",
       "    </tr>\n",
       "    <tr>\n",
       "      <th>8</th>\n",
       "      <td>{33793, 33794, 33795, 33796, 33797, 33798, 337...</td>\n",
       "      <td>72</td>\n",
       "    </tr>\n",
       "    <tr>\n",
       "      <th>26</th>\n",
       "      <td>{34040, 34048, 34049, 34050, 11268, 34041, 340...</td>\n",
       "      <td>68</td>\n",
       "    </tr>\n",
       "    <tr>\n",
       "      <th>11</th>\n",
       "      <td>{30720, 30721, 30722, 30723, 30728, 30729, 307...</td>\n",
       "      <td>51</td>\n",
       "    </tr>\n",
       "    <tr>\n",
       "      <th>13</th>\n",
       "      <td>{3968, 3969, 3970, 3971, 3972, 3973, 3974, 397...</td>\n",
       "      <td>45</td>\n",
       "    </tr>\n",
       "  </tbody>\n",
       "</table>\n",
       "</div>"
      ],
      "text/plain": [
       "                                             miembros  cantidad\n",
       "1   {87, 88, 89, 90, 91, 92, 93, 94, 95, 96, 97, 9...     22623\n",
       "0   {0, 1, 2, 3, 4, 5, 6, 7, 8, 9, 10, 11, 12, 13,...     15604\n",
       "24  {27381, 7208, 20191, 20192, 20193, 20198, 2019...       189\n",
       "4   {15881, 15882, 15883, 15884, 15885, 15886, 158...       166\n",
       "34  {9318, 9319, 9320, 9321, 9322, 29978, 29979, 2...       106\n",
       "18  {26633, 26634, 26635, 26636, 26637, 26638, 266...        85\n",
       "8   {33793, 33794, 33795, 33796, 33797, 33798, 337...        72\n",
       "26  {34040, 34048, 34049, 34050, 11268, 34041, 340...        68\n",
       "11  {30720, 30721, 30722, 30723, 30728, 30729, 307...        51\n",
       "13  {3968, 3969, 3970, 3971, 3972, 3973, 3974, 397...        45"
      ]
     },
     "execution_count": 85,
     "metadata": {},
     "output_type": "execute_result"
    }
   ],
   "source": [
    "df = get_communidades(plmCommunities_05)\n",
    "sorted_df = df.sort_values(axis=0, by=['cantidad'] , ascending=False)\n",
    "sorted_df[:10]"
   ]
  },
  {
   "cell_type": "markdown",
   "id": "f400e20a",
   "metadata": {},
   "source": [
    "**Entre los valores 0.1 y 0.3 se pueden identificar dos grandes comunidades.**"
   ]
  },
  {
   "cell_type": "markdown",
   "id": "1d87b4c3",
   "metadata": {},
   "source": [
    "### Utilizamos el algoritmo PLP de networkit"
   ]
  },
  {
   "cell_type": "code",
   "execution_count": 86,
   "id": "ce1cd868",
   "metadata": {},
   "outputs": [
    {
     "name": "stdout",
     "output_type": "stream",
     "text": [
      "Communities detected in 0.01032 [s]\n",
      "solution properties:\n",
      "-------------------  ------------\n",
      "# communities          366\n",
      "min community size       1\n",
      "max community size   19754\n",
      "avg. community size    108.743\n",
      "modularity               0.520189\n",
      "-------------------  ------------\n"
     ]
    }
   ],
   "source": [
    "plpCommunities = nk.community.detectCommunities(g_nk, algo=nk.community.PLP(g_nk))"
   ]
  },
  {
   "cell_type": "code",
   "execution_count": 87,
   "id": "c126f111",
   "metadata": {},
   "outputs": [
    {
     "data": {
      "text/html": [
       "<div>\n",
       "<style scoped>\n",
       "    .dataframe tbody tr th:only-of-type {\n",
       "        vertical-align: middle;\n",
       "    }\n",
       "\n",
       "    .dataframe tbody tr th {\n",
       "        vertical-align: top;\n",
       "    }\n",
       "\n",
       "    .dataframe thead th {\n",
       "        text-align: right;\n",
       "    }\n",
       "</style>\n",
       "<table border=\"1\" class=\"dataframe\">\n",
       "  <thead>\n",
       "    <tr style=\"text-align: right;\">\n",
       "      <th></th>\n",
       "      <th>miembros</th>\n",
       "      <th>cantidad</th>\n",
       "    </tr>\n",
       "  </thead>\n",
       "  <tbody>\n",
       "    <tr>\n",
       "      <th>87</th>\n",
       "      <td>{87, 88, 89, 90, 91, 92, 93, 94, 95, 96, 97, 9...</td>\n",
       "      <td>19754</td>\n",
       "    </tr>\n",
       "    <tr>\n",
       "      <th>10</th>\n",
       "      <td>{0, 1, 2, 3, 4, 5, 6, 7, 8, 9, 10, 11, 12, 13,...</td>\n",
       "      <td>16004</td>\n",
       "    </tr>\n",
       "    <tr>\n",
       "      <th>123</th>\n",
       "      <td>{34560, 34561, 34562, 34563, 34564, 34565, 345...</td>\n",
       "      <td>42</td>\n",
       "    </tr>\n",
       "    <tr>\n",
       "      <th>330</th>\n",
       "      <td>{9924, 9926, 9927, 9928, 9929, 9930, 9931, 993...</td>\n",
       "      <td>27</td>\n",
       "    </tr>\n",
       "    <tr>\n",
       "      <th>276</th>\n",
       "      <td>{36740, 34091, 34092, 34093, 29742, 29743, 340...</td>\n",
       "      <td>24</td>\n",
       "    </tr>\n",
       "    <tr>\n",
       "      <th>343</th>\n",
       "      <td>{38951, 38952, 38953, 38954, 20334, 20335, 203...</td>\n",
       "      <td>15</td>\n",
       "    </tr>\n",
       "    <tr>\n",
       "      <th>1</th>\n",
       "      <td>{9920, 9921, 9912, 9913, 9914, 1534}</td>\n",
       "      <td>6</td>\n",
       "    </tr>\n",
       "    <tr>\n",
       "      <th>295</th>\n",
       "      <td>{22512, 8964, 22511}</td>\n",
       "      <td>3</td>\n",
       "    </tr>\n",
       "    <tr>\n",
       "      <th>303</th>\n",
       "      <td>{9050, 9051, 9052}</td>\n",
       "      <td>3</td>\n",
       "    </tr>\n",
       "    <tr>\n",
       "      <th>114</th>\n",
       "      <td>{10648, 10649, 10647}</td>\n",
       "      <td>3</td>\n",
       "    </tr>\n",
       "  </tbody>\n",
       "</table>\n",
       "</div>"
      ],
      "text/plain": [
       "                                              miembros  cantidad\n",
       "87   {87, 88, 89, 90, 91, 92, 93, 94, 95, 96, 97, 9...     19754\n",
       "10   {0, 1, 2, 3, 4, 5, 6, 7, 8, 9, 10, 11, 12, 13,...     16004\n",
       "123  {34560, 34561, 34562, 34563, 34564, 34565, 345...        42\n",
       "330  {9924, 9926, 9927, 9928, 9929, 9930, 9931, 993...        27\n",
       "276  {36740, 34091, 34092, 34093, 29742, 29743, 340...        24\n",
       "343  {38951, 38952, 38953, 38954, 20334, 20335, 203...        15\n",
       "1                 {9920, 9921, 9912, 9913, 9914, 1534}         6\n",
       "295                               {22512, 8964, 22511}         3\n",
       "303                                 {9050, 9051, 9052}         3\n",
       "114                              {10648, 10649, 10647}         3"
      ]
     },
     "execution_count": 87,
     "metadata": {},
     "output_type": "execute_result"
    }
   ],
   "source": [
    "df = get_communidades(plpCommunities)\n",
    "sorted_df = df.sort_values(axis=0, by=['cantidad'] , ascending=False)\n",
    "sorted_df[:10]"
   ]
  },
  {
   "cell_type": "markdown",
   "id": "23f617f6",
   "metadata": {},
   "source": [
    "### Probamos otros algoritmos e implementaciones para detectar comunidades, usamos CDLIB\n",
    "\n",
    "La idea nuevamente es poder hacer experiencia con la libreria"
   ]
  },
  {
   "cell_type": "code",
   "execution_count": 88,
   "id": "7ea65fc7",
   "metadata": {},
   "outputs": [],
   "source": [
    "from cdlib import NodeClustering, evaluation, algorithms"
   ]
  },
  {
   "cell_type": "code",
   "execution_count": 89,
   "id": "1349b1d3",
   "metadata": {},
   "outputs": [
    {
     "name": "stdout",
     "output_type": "stream",
     "text": [
      "CPU times: user 3.13 s, sys: 14.9 ms, total: 3.14 s\n",
      "Wall time: 3.14 s\n"
     ]
    }
   ],
   "source": [
    "%time communidades= algorithms.label_propagation(G)"
   ]
  },
  {
   "cell_type": "code",
   "execution_count": 90,
   "id": "5f28e1c7",
   "metadata": {},
   "outputs": [
    {
     "data": {
      "text/plain": [
       "1039"
      ]
     },
     "execution_count": 90,
     "metadata": {},
     "output_type": "execute_result"
    }
   ],
   "source": [
    "len(communidades.communities)"
   ]
  },
  {
   "cell_type": "code",
   "execution_count": 93,
   "id": "a0321f8f",
   "metadata": {},
   "outputs": [],
   "source": [
    "def get_communidades_cdlib(communidades):\n",
    "\n",
    "    comm = communidades.communities\n",
    "    \n",
    "    values = [] \n",
    "\n",
    "    for value in comm:\n",
    "\n",
    "        values.append([value , len(value) ])\n",
    "        df = pd.DataFrame(values, columns = [ 'miembros' , 'cantidad'])\n",
    "\n",
    "    return df"
   ]
  },
  {
   "cell_type": "code",
   "execution_count": 94,
   "id": "584c5d8f",
   "metadata": {},
   "outputs": [
    {
     "data": {
      "text/html": [
       "<div>\n",
       "<style scoped>\n",
       "    .dataframe tbody tr th:only-of-type {\n",
       "        vertical-align: middle;\n",
       "    }\n",
       "\n",
       "    .dataframe tbody tr th {\n",
       "        vertical-align: top;\n",
       "    }\n",
       "\n",
       "    .dataframe thead th {\n",
       "        text-align: right;\n",
       "    }\n",
       "</style>\n",
       "<table border=\"1\" class=\"dataframe\">\n",
       "  <thead>\n",
       "    <tr style=\"text-align: right;\">\n",
       "      <th></th>\n",
       "      <th>miembros</th>\n",
       "      <th>cantidad</th>\n",
       "    </tr>\n",
       "  </thead>\n",
       "  <tbody>\n",
       "    <tr>\n",
       "      <th>0</th>\n",
       "      <td>[1068139465, 418899788, 1380422640, 403589901,...</td>\n",
       "      <td>14855</td>\n",
       "    </tr>\n",
       "    <tr>\n",
       "      <th>1</th>\n",
       "      <td>[611358469, 968171147648032768, 1544295571, 67...</td>\n",
       "      <td>11994</td>\n",
       "    </tr>\n",
       "    <tr>\n",
       "      <th>2</th>\n",
       "      <td>[148739144, 1287904592571899904, 208555341, 10...</td>\n",
       "      <td>2727</td>\n",
       "    </tr>\n",
       "    <tr>\n",
       "      <th>3</th>\n",
       "      <td>[2975442453, 839918467, 127675505, 10224992317...</td>\n",
       "      <td>2715</td>\n",
       "    </tr>\n",
       "    <tr>\n",
       "      <th>4</th>\n",
       "      <td>[110184114, 371527797, 920620404552724481, 875...</td>\n",
       "      <td>1611</td>\n",
       "    </tr>\n",
       "    <tr>\n",
       "      <th>5</th>\n",
       "      <td>[2670916986, 790365384, 1031655314863661061, 1...</td>\n",
       "      <td>1438</td>\n",
       "    </tr>\n",
       "    <tr>\n",
       "      <th>6</th>\n",
       "      <td>[13516352, 949125359949135872, 11830952, 24305...</td>\n",
       "      <td>308</td>\n",
       "    </tr>\n",
       "    <tr>\n",
       "      <th>7</th>\n",
       "      <td>[1485758070, 201363021, 1458202130, 7581714764...</td>\n",
       "      <td>86</td>\n",
       "    </tr>\n",
       "    <tr>\n",
       "      <th>8</th>\n",
       "      <td>[1660193329, 135344396, 155697526, 109939818, ...</td>\n",
       "      <td>61</td>\n",
       "    </tr>\n",
       "    <tr>\n",
       "      <th>9</th>\n",
       "      <td>[2256004650, 980830951, 1327298682857943040, 1...</td>\n",
       "      <td>59</td>\n",
       "    </tr>\n",
       "  </tbody>\n",
       "</table>\n",
       "</div>"
      ],
      "text/plain": [
       "                                            miembros  cantidad\n",
       "0  [1068139465, 418899788, 1380422640, 403589901,...     14855\n",
       "1  [611358469, 968171147648032768, 1544295571, 67...     11994\n",
       "2  [148739144, 1287904592571899904, 208555341, 10...      2727\n",
       "3  [2975442453, 839918467, 127675505, 10224992317...      2715\n",
       "4  [110184114, 371527797, 920620404552724481, 875...      1611\n",
       "5  [2670916986, 790365384, 1031655314863661061, 1...      1438\n",
       "6  [13516352, 949125359949135872, 11830952, 24305...       308\n",
       "7  [1485758070, 201363021, 1458202130, 7581714764...        86\n",
       "8  [1660193329, 135344396, 155697526, 109939818, ...        61\n",
       "9  [2256004650, 980830951, 1327298682857943040, 1...        59"
      ]
     },
     "execution_count": 94,
     "metadata": {},
     "output_type": "execute_result"
    }
   ],
   "source": [
    "df = get_communidades_cdlib(communidades)\n",
    "sorted_df = df.sort_values(axis=0, by=['cantidad'] , ascending=False)\n",
    "sorted_df[:10]"
   ]
  },
  {
   "cell_type": "code",
   "execution_count": 95,
   "id": "945476cc",
   "metadata": {},
   "outputs": [],
   "source": [
    "# Densisdad interna \n",
    "\n",
    "def getDensidadGrafo(G):\n",
    "\n",
    "    n = G.number_of_edges()\n",
    "    N = G.number_of_nodes()\n",
    "\n",
    "    result = n/((N*(N-1))/2)\n",
    "\n",
    "    return result\n",
    "\n"
   ]
  },
  {
   "cell_type": "code",
   "execution_count": 96,
   "id": "ed520152",
   "metadata": {},
   "outputs": [
    {
     "data": {
      "text/plain": [
       "0.00011793432854364539"
      ]
     },
     "execution_count": 96,
     "metadata": {},
     "output_type": "execute_result"
    }
   ],
   "source": [
    "getDensidadGrafo(G)"
   ]
  },
  {
   "cell_type": "code",
   "execution_count": 97,
   "id": "9303289f",
   "metadata": {},
   "outputs": [
    {
     "data": {
      "text/plain": [
       "FitnessResult(min=0, max=2.0, score=0.746590534598297, std=0.40668003429782795)"
      ]
     },
     "execution_count": 97,
     "metadata": {},
     "output_type": "execute_result"
    }
   ],
   "source": [
    "evaluation.internal_edge_density(G,communidades )"
   ]
  },
  {
   "cell_type": "markdown",
   "id": "74bb66c7",
   "metadata": {},
   "source": [
    "**El score es un valor muy bueno, según este valor a nivel estructura, las comunidades encontradas son buenas**"
   ]
  },
  {
   "cell_type": "code",
   "execution_count": 98,
   "id": "b0572b4e",
   "metadata": {},
   "outputs": [
    {
     "data": {
      "text/plain": [
       "FitnessResult(min=None, max=None, score=0.5401705942744748, std=None)"
      ]
     },
     "execution_count": 98,
     "metadata": {},
     "output_type": "execute_result"
    }
   ],
   "source": [
    "evaluation.newman_girvan_modularity(G,communidades)"
   ]
  },
  {
   "cell_type": "markdown",
   "id": "40828943",
   "metadata": {},
   "source": [
    "**El valor de la modularidad es bueno, esta en los rangos de los valores de los otros algoritmos de detección de comunidades**"
   ]
  }
 ],
 "metadata": {
  "kernelspec": {
   "display_name": "Python 3 (ipykernel)",
   "language": "python",
   "name": "python3"
  },
  "language_info": {
   "codemirror_mode": {
    "name": "ipython",
    "version": 3
   },
   "file_extension": ".py",
   "mimetype": "text/x-python",
   "name": "python",
   "nbconvert_exporter": "python",
   "pygments_lexer": "ipython3",
   "version": "3.7.11"
  }
 },
 "nbformat": 4,
 "nbformat_minor": 5
}
